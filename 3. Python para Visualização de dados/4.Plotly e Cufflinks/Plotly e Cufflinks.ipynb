{
 "cells": [
  {
   "cell_type": "markdown",
   "metadata": {},
   "source": [
    "# Plotly e Cufflinks"
   ]
  },
  {
   "cell_type": "markdown",
   "metadata": {},
   "source": [
    "O Plotly é uma biblioteca que permite criar gráficos interativos que você pode usar em painéis ou sites (você pode salvá-los como arquivos html ou imagens estáticas).\n",
    "\n",
    "## Instalação\n",
    "\n",
    "Para que tudo funcione, você precisará instalar plotly e cufflinks para chamar plots diretamente de um DataFrame pandas. Essas bibliotecas não estão atualmente disponíveis através de ** conda **, mas estão disponíveis através de ** pip **. Instale as bibliotecas em sua linha de comando / terminal usando:\n",
    "\n",
    "    pip install plotly\n",
    "    pip install cufflinks\n",
    "\n",
    "** NOTA: Certifique-se de ter apenas uma instalação do Python no seu computador quando faz isso, caso contrário, a instalação pode não funcionar. **\n",
    "\n",
    "## Importações e Configuração"
   ]
  },
  {
   "cell_type": "code",
   "execution_count": 7,
   "metadata": {},
   "outputs": [],
   "source": [
    "import pandas as pd\n",
    "import numpy as np\n",
    "import matplotlib.pyplot as plt\n",
    "%matplotlib inline"
   ]
  },
  {
   "cell_type": "code",
   "execution_count": 2,
   "metadata": {},
   "outputs": [
    {
     "name": "stdout",
     "output_type": "stream",
     "text": [
      "4.14.3\n"
     ]
    }
   ],
   "source": [
    "from plotly import __version__\n",
    "from plotly.offline import download_plotlyjs, init_notebook_mode, plot, iplot\n",
    "\n",
    "print(__version__)"
   ]
  },
  {
   "cell_type": "code",
   "execution_count": 3,
   "metadata": {},
   "outputs": [],
   "source": [
    "import cufflinks as cf"
   ]
  },
  {
   "cell_type": "code",
   "execution_count": 6,
   "metadata": {},
   "outputs": [
    {
     "data": {
      "text/html": [
       "        <script type=\"text/javascript\">\n",
       "        window.PlotlyConfig = {MathJaxConfig: 'local'};\n",
       "        if (window.MathJax) {MathJax.Hub.Config({SVG: {font: \"STIX-Web\"}});}\n",
       "        if (typeof require !== 'undefined') {\n",
       "        require.undef(\"plotly\");\n",
       "        requirejs.config({\n",
       "            paths: {\n",
       "                'plotly': ['https://cdn.plot.ly/plotly-latest.min']\n",
       "            }\n",
       "        });\n",
       "        require(['plotly'], function(Plotly) {\n",
       "            window._Plotly = Plotly;\n",
       "        });\n",
       "        }\n",
       "        </script>\n",
       "        "
      ]
     },
     "metadata": {},
     "output_type": "display_data"
    }
   ],
   "source": [
    "# Para Notebooks\n",
    "init_notebook_mode(connected=True)"
   ]
  },
  {
   "cell_type": "code",
   "execution_count": 5,
   "metadata": {},
   "outputs": [
    {
     "data": {
      "text/html": [
       "        <script type=\"text/javascript\">\n",
       "        window.PlotlyConfig = {MathJaxConfig: 'local'};\n",
       "        if (window.MathJax) {MathJax.Hub.Config({SVG: {font: \"STIX-Web\"}});}\n",
       "        if (typeof require !== 'undefined') {\n",
       "        require.undef(\"plotly\");\n",
       "        requirejs.config({\n",
       "            paths: {\n",
       "                'plotly': ['https://cdn.plot.ly/plotly-latest.min']\n",
       "            }\n",
       "        });\n",
       "        require(['plotly'], function(Plotly) {\n",
       "            window._Plotly = Plotly;\n",
       "        });\n",
       "        }\n",
       "        </script>\n",
       "        "
      ]
     },
     "metadata": {},
     "output_type": "display_data"
    }
   ],
   "source": [
    "# For offline use\n",
    "cf.go_offline()"
   ]
  },
  {
   "cell_type": "markdown",
   "metadata": {},
   "source": [
    "### Dados forjados"
   ]
  },
  {
   "cell_type": "code",
   "execution_count": 8,
   "metadata": {},
   "outputs": [],
   "source": [
    "df = pd.DataFrame(np.random.randn(100,4),columns='A B C D'.split())"
   ]
  },
  {
   "cell_type": "code",
   "execution_count": 9,
   "metadata": {},
   "outputs": [
    {
     "data": {
      "text/html": [
       "<div>\n",
       "<style scoped>\n",
       "    .dataframe tbody tr th:only-of-type {\n",
       "        vertical-align: middle;\n",
       "    }\n",
       "\n",
       "    .dataframe tbody tr th {\n",
       "        vertical-align: top;\n",
       "    }\n",
       "\n",
       "    .dataframe thead th {\n",
       "        text-align: right;\n",
       "    }\n",
       "</style>\n",
       "<table border=\"1\" class=\"dataframe\">\n",
       "  <thead>\n",
       "    <tr style=\"text-align: right;\">\n",
       "      <th></th>\n",
       "      <th>A</th>\n",
       "      <th>B</th>\n",
       "      <th>C</th>\n",
       "      <th>D</th>\n",
       "    </tr>\n",
       "  </thead>\n",
       "  <tbody>\n",
       "    <tr>\n",
       "      <th>0</th>\n",
       "      <td>-1.845356</td>\n",
       "      <td>-0.918052</td>\n",
       "      <td>-0.277526</td>\n",
       "      <td>-0.202890</td>\n",
       "    </tr>\n",
       "    <tr>\n",
       "      <th>1</th>\n",
       "      <td>-0.200404</td>\n",
       "      <td>-2.705658</td>\n",
       "      <td>1.880638</td>\n",
       "      <td>0.475628</td>\n",
       "    </tr>\n",
       "    <tr>\n",
       "      <th>2</th>\n",
       "      <td>-1.163796</td>\n",
       "      <td>-0.265818</td>\n",
       "      <td>0.537540</td>\n",
       "      <td>1.095465</td>\n",
       "    </tr>\n",
       "    <tr>\n",
       "      <th>3</th>\n",
       "      <td>0.620503</td>\n",
       "      <td>2.778092</td>\n",
       "      <td>-0.233055</td>\n",
       "      <td>0.051423</td>\n",
       "    </tr>\n",
       "    <tr>\n",
       "      <th>4</th>\n",
       "      <td>-0.839057</td>\n",
       "      <td>-0.873428</td>\n",
       "      <td>-1.382190</td>\n",
       "      <td>0.777384</td>\n",
       "    </tr>\n",
       "  </tbody>\n",
       "</table>\n",
       "</div>"
      ],
      "text/plain": [
       "          A         B         C         D\n",
       "0 -1.845356 -0.918052 -0.277526 -0.202890\n",
       "1 -0.200404 -2.705658  1.880638  0.475628\n",
       "2 -1.163796 -0.265818  0.537540  1.095465\n",
       "3  0.620503  2.778092 -0.233055  0.051423\n",
       "4 -0.839057 -0.873428 -1.382190  0.777384"
      ]
     },
     "execution_count": 9,
     "metadata": {},
     "output_type": "execute_result"
    }
   ],
   "source": [
    "df.head()"
   ]
  },
  {
   "cell_type": "code",
   "execution_count": 10,
   "metadata": {},
   "outputs": [],
   "source": [
    "df2 = pd.DataFrame({'Categoria':['A','B','C'],'Valores':[32,43,50]})"
   ]
  },
  {
   "cell_type": "code",
   "execution_count": 11,
   "metadata": {},
   "outputs": [
    {
     "data": {
      "text/html": [
       "<div>\n",
       "<style scoped>\n",
       "    .dataframe tbody tr th:only-of-type {\n",
       "        vertical-align: middle;\n",
       "    }\n",
       "\n",
       "    .dataframe tbody tr th {\n",
       "        vertical-align: top;\n",
       "    }\n",
       "\n",
       "    .dataframe thead th {\n",
       "        text-align: right;\n",
       "    }\n",
       "</style>\n",
       "<table border=\"1\" class=\"dataframe\">\n",
       "  <thead>\n",
       "    <tr style=\"text-align: right;\">\n",
       "      <th></th>\n",
       "      <th>Categoria</th>\n",
       "      <th>Valores</th>\n",
       "    </tr>\n",
       "  </thead>\n",
       "  <tbody>\n",
       "    <tr>\n",
       "      <th>0</th>\n",
       "      <td>A</td>\n",
       "      <td>32</td>\n",
       "    </tr>\n",
       "    <tr>\n",
       "      <th>1</th>\n",
       "      <td>B</td>\n",
       "      <td>43</td>\n",
       "    </tr>\n",
       "    <tr>\n",
       "      <th>2</th>\n",
       "      <td>C</td>\n",
       "      <td>50</td>\n",
       "    </tr>\n",
       "  </tbody>\n",
       "</table>\n",
       "</div>"
      ],
      "text/plain": [
       "  Categoria  Valores\n",
       "0         A       32\n",
       "1         B       43\n",
       "2         C       50"
      ]
     },
     "execution_count": 11,
     "metadata": {},
     "output_type": "execute_result"
    }
   ],
   "source": [
    "df2.head()"
   ]
  },
  {
   "cell_type": "markdown",
   "metadata": {},
   "source": [
    "## Usando Cufflinks e iplot ()\n",
    "\n",
    "* Dispersão\n",
    "* Barras\n",
    "* BoxPlot\n",
    "* Spreads\n",
    "* Proporção\n",
    "* Mapa de calor\n",
    "* Superfícies 3D\n",
    "* Histograma\n",
    "* Bolha"
   ]
  },
  {
   "cell_type": "markdown",
   "metadata": {},
   "source": [
    "## Dispersão"
   ]
  },
  {
   "cell_type": "code",
   "execution_count": 12,
   "metadata": {},
   "outputs": [
    {
     "data": {
      "application/vnd.plotly.v1+json": {
       "config": {
        "linkText": "Export to plot.ly",
        "plotlyServerURL": "https://plot.ly",
        "showLink": true
       },
       "data": [
        {
         "line": {
          "color": "rgba(255, 153, 51, 1.0)",
          "dash": "solid",
          "shape": "linear",
          "width": 1.3
         },
         "marker": {
          "size": 10,
          "symbol": "circle"
         },
         "mode": "markers",
         "name": "B",
         "text": "",
         "type": "scatter",
         "x": [
          -1.8453562462643196,
          -0.20040405303757655,
          -1.1637956456188199,
          0.6205025203423028,
          -0.8390568855527745,
          -1.2174976462691052,
          -0.5640138103328367,
          0.013620573399448279,
          0.40059182767551943,
          -0.5997626758413155,
          0.07726576350156705,
          0.928610877203632,
          0.426972018264773,
          -0.9990060932331011,
          1.078661270762736,
          -0.4513974079092731,
          -1.2643201140490237,
          2.5256077680999685,
          0.41086499908738955,
          -0.04475172187968378,
          0.8233287809051226,
          -0.7271645524645527,
          0.14030657831421076,
          -1.0988235896220555,
          0.7489175266400919,
          0.46582312686492033,
          -0.05288123591202588,
          -1.3670291716449292,
          0.7309050939934914,
          -0.6098667055895841,
          0.5041275128978567,
          2.040048937172921,
          -2.185274683047773,
          1.0196751415031662,
          0.9945470359624125,
          -1.025592479915559,
          -1.267140473022391,
          -0.8689838118146973,
          -0.2236579399824439,
          -1.3097944848343677,
          -0.8414647840651517,
          0.6071895041961782,
          -0.288065793118509,
          -0.0855433340132728,
          1.2362626011306976,
          -0.34103353649966367,
          1.2706087277806368,
          1.5483104445093612,
          0.18539608217150366,
          -0.7546004022350437,
          -0.8326852647100786,
          -1.1021601391805258,
          -1.1929778907431932,
          1.9549439684527512,
          -1.210342094834586,
          0.4060144585650524,
          1.691010701899478,
          -0.8750443198147615,
          1.160394755522703,
          2.275642804498575,
          -0.052481187252204894,
          0.764446349668718,
          0.7748214923293414,
          0.24170402743498778,
          0.28327289936704275,
          0.2467195735483266,
          0.914032725604146,
          -0.08601512694460697,
          0.9489571859474513,
          0.8142978876236726,
          0.7883298154110456,
          -0.32628991344569763,
          0.2301082679624488,
          1.6341593800247989,
          -1.6944753689322416,
          -0.758403852271044,
          0.9422713425820108,
          0.5407768447682212,
          -0.4172833249642221,
          -0.9133540169871017,
          1.2975516807100265,
          0.5348525441513422,
          -0.9491627313232666,
          -0.3285687661985525,
          0.7487839314169843,
          -0.3011044136198415,
          -0.6231469374589843,
          -0.46272480238509744,
          0.751870774961926,
          0.6842338081501783,
          0.1857636597163811,
          0.8977181310333129,
          -0.6380029150186659,
          -0.014892138107339364,
          -1.4264492976702383,
          -1.3625157787787476,
          -0.5037475787792652,
          -0.7209368299148544,
          -0.1853579105123794,
          0.8853425687953029
         ],
         "y": [
          -0.918051978935254,
          -2.7056575029327217,
          -0.26581756141055396,
          2.7780920157639803,
          -0.8734279386889949,
          -0.06334899773831265,
          1.4821560963767562,
          0.3720351753435628,
          2.289468082163019,
          -0.8374384578030118,
          -2.108703088038587,
          0.9788520364174591,
          1.4650258305467085,
          1.2415652263814414,
          1.0310626547555006,
          -0.3122406935164411,
          -0.14735613041299925,
          0.33275767892759495,
          -0.1161274919960927,
          0.281205976719588,
          -0.14951869895483794,
          0.41174605696281846,
          2.354209612658942,
          2.092110024373878,
          -0.844565089723117,
          -1.5305136905849483,
          -0.4080953430172473,
          -0.49831975030647513,
          0.532663605513584,
          0.16759861208915242,
          0.46247832654774845,
          0.38741399084499084,
          -1.8520213138080566,
          -0.019018730510986254,
          -1.0113286481308315,
          -1.0929063112561626,
          -0.7089062318588992,
          -0.49640898092235836,
          -0.9734721463692066,
          0.5801554907558394,
          -0.06540899964125191,
          -0.6111002896985552,
          0.45438818782559776,
          0.4785280675226295,
          1.2923482368164383,
          -0.5748394916445265,
          0.43943437190379214,
          -1.4174040567585227,
          -0.7319800748374122,
          -0.29265216113961545,
          -0.36087379702803224,
          -0.04027675520163823,
          -0.24063564992242378,
          -1.2436397165116935,
          -0.6380650947146708,
          -1.194083286516507,
          0.1779335575301587,
          -0.5384113135074421,
          0.2915091190224508,
          0.466796616138699,
          -0.43114256548016455,
          1.2786748208881396,
          1.4078719927900933,
          0.14674226717423464,
          -0.029148341361593073,
          -1.0673227647170362,
          -0.6376233349993639,
          -0.17509268696626795,
          -0.4170870697877158,
          0.4159894756560567,
          -2.208839366952025,
          1.1269460290850897,
          -0.4095692566448082,
          0.7856726897159855,
          -1.490180580048176,
          -1.617147938156026,
          0.4365288533186661,
          -2.32656190655788,
          0.15681159571219597,
          0.5391784367802614,
          -0.5002333680231703,
          0.6548667984163916,
          0.27970593897368917,
          -0.7844703375909428,
          0.9073102317074612,
          -1.1835772548443797,
          -1.1252365576347547,
          -0.31910636809035,
          -0.7706391044036293,
          1.5932069582471045,
          -1.4300111814134815,
          0.09777836056991747,
          0.21906285684508117,
          -0.025607437932308883,
          -1.0696693509127029,
          0.058516669742657644,
          -0.3377730316094605,
          -0.7808950376846182,
          0.5148406510673026,
          -0.6532931427041353
         ]
        }
       ],
       "layout": {
        "legend": {
         "bgcolor": "#F5F6F9",
         "font": {
          "color": "#4D5663"
         }
        },
        "paper_bgcolor": "#F5F6F9",
        "plot_bgcolor": "#F5F6F9",
        "template": {
         "data": {
          "bar": [
           {
            "error_x": {
             "color": "#2a3f5f"
            },
            "error_y": {
             "color": "#2a3f5f"
            },
            "marker": {
             "line": {
              "color": "#E5ECF6",
              "width": 0.5
             }
            },
            "type": "bar"
           }
          ],
          "barpolar": [
           {
            "marker": {
             "line": {
              "color": "#E5ECF6",
              "width": 0.5
             }
            },
            "type": "barpolar"
           }
          ],
          "carpet": [
           {
            "aaxis": {
             "endlinecolor": "#2a3f5f",
             "gridcolor": "white",
             "linecolor": "white",
             "minorgridcolor": "white",
             "startlinecolor": "#2a3f5f"
            },
            "baxis": {
             "endlinecolor": "#2a3f5f",
             "gridcolor": "white",
             "linecolor": "white",
             "minorgridcolor": "white",
             "startlinecolor": "#2a3f5f"
            },
            "type": "carpet"
           }
          ],
          "choropleth": [
           {
            "colorbar": {
             "outlinewidth": 0,
             "ticks": ""
            },
            "type": "choropleth"
           }
          ],
          "contour": [
           {
            "colorbar": {
             "outlinewidth": 0,
             "ticks": ""
            },
            "colorscale": [
             [
              0,
              "#0d0887"
             ],
             [
              0.1111111111111111,
              "#46039f"
             ],
             [
              0.2222222222222222,
              "#7201a8"
             ],
             [
              0.3333333333333333,
              "#9c179e"
             ],
             [
              0.4444444444444444,
              "#bd3786"
             ],
             [
              0.5555555555555556,
              "#d8576b"
             ],
             [
              0.6666666666666666,
              "#ed7953"
             ],
             [
              0.7777777777777778,
              "#fb9f3a"
             ],
             [
              0.8888888888888888,
              "#fdca26"
             ],
             [
              1,
              "#f0f921"
             ]
            ],
            "type": "contour"
           }
          ],
          "contourcarpet": [
           {
            "colorbar": {
             "outlinewidth": 0,
             "ticks": ""
            },
            "type": "contourcarpet"
           }
          ],
          "heatmap": [
           {
            "colorbar": {
             "outlinewidth": 0,
             "ticks": ""
            },
            "colorscale": [
             [
              0,
              "#0d0887"
             ],
             [
              0.1111111111111111,
              "#46039f"
             ],
             [
              0.2222222222222222,
              "#7201a8"
             ],
             [
              0.3333333333333333,
              "#9c179e"
             ],
             [
              0.4444444444444444,
              "#bd3786"
             ],
             [
              0.5555555555555556,
              "#d8576b"
             ],
             [
              0.6666666666666666,
              "#ed7953"
             ],
             [
              0.7777777777777778,
              "#fb9f3a"
             ],
             [
              0.8888888888888888,
              "#fdca26"
             ],
             [
              1,
              "#f0f921"
             ]
            ],
            "type": "heatmap"
           }
          ],
          "heatmapgl": [
           {
            "colorbar": {
             "outlinewidth": 0,
             "ticks": ""
            },
            "colorscale": [
             [
              0,
              "#0d0887"
             ],
             [
              0.1111111111111111,
              "#46039f"
             ],
             [
              0.2222222222222222,
              "#7201a8"
             ],
             [
              0.3333333333333333,
              "#9c179e"
             ],
             [
              0.4444444444444444,
              "#bd3786"
             ],
             [
              0.5555555555555556,
              "#d8576b"
             ],
             [
              0.6666666666666666,
              "#ed7953"
             ],
             [
              0.7777777777777778,
              "#fb9f3a"
             ],
             [
              0.8888888888888888,
              "#fdca26"
             ],
             [
              1,
              "#f0f921"
             ]
            ],
            "type": "heatmapgl"
           }
          ],
          "histogram": [
           {
            "marker": {
             "colorbar": {
              "outlinewidth": 0,
              "ticks": ""
             }
            },
            "type": "histogram"
           }
          ],
          "histogram2d": [
           {
            "colorbar": {
             "outlinewidth": 0,
             "ticks": ""
            },
            "colorscale": [
             [
              0,
              "#0d0887"
             ],
             [
              0.1111111111111111,
              "#46039f"
             ],
             [
              0.2222222222222222,
              "#7201a8"
             ],
             [
              0.3333333333333333,
              "#9c179e"
             ],
             [
              0.4444444444444444,
              "#bd3786"
             ],
             [
              0.5555555555555556,
              "#d8576b"
             ],
             [
              0.6666666666666666,
              "#ed7953"
             ],
             [
              0.7777777777777778,
              "#fb9f3a"
             ],
             [
              0.8888888888888888,
              "#fdca26"
             ],
             [
              1,
              "#f0f921"
             ]
            ],
            "type": "histogram2d"
           }
          ],
          "histogram2dcontour": [
           {
            "colorbar": {
             "outlinewidth": 0,
             "ticks": ""
            },
            "colorscale": [
             [
              0,
              "#0d0887"
             ],
             [
              0.1111111111111111,
              "#46039f"
             ],
             [
              0.2222222222222222,
              "#7201a8"
             ],
             [
              0.3333333333333333,
              "#9c179e"
             ],
             [
              0.4444444444444444,
              "#bd3786"
             ],
             [
              0.5555555555555556,
              "#d8576b"
             ],
             [
              0.6666666666666666,
              "#ed7953"
             ],
             [
              0.7777777777777778,
              "#fb9f3a"
             ],
             [
              0.8888888888888888,
              "#fdca26"
             ],
             [
              1,
              "#f0f921"
             ]
            ],
            "type": "histogram2dcontour"
           }
          ],
          "mesh3d": [
           {
            "colorbar": {
             "outlinewidth": 0,
             "ticks": ""
            },
            "type": "mesh3d"
           }
          ],
          "parcoords": [
           {
            "line": {
             "colorbar": {
              "outlinewidth": 0,
              "ticks": ""
             }
            },
            "type": "parcoords"
           }
          ],
          "pie": [
           {
            "automargin": true,
            "type": "pie"
           }
          ],
          "scatter": [
           {
            "marker": {
             "colorbar": {
              "outlinewidth": 0,
              "ticks": ""
             }
            },
            "type": "scatter"
           }
          ],
          "scatter3d": [
           {
            "line": {
             "colorbar": {
              "outlinewidth": 0,
              "ticks": ""
             }
            },
            "marker": {
             "colorbar": {
              "outlinewidth": 0,
              "ticks": ""
             }
            },
            "type": "scatter3d"
           }
          ],
          "scattercarpet": [
           {
            "marker": {
             "colorbar": {
              "outlinewidth": 0,
              "ticks": ""
             }
            },
            "type": "scattercarpet"
           }
          ],
          "scattergeo": [
           {
            "marker": {
             "colorbar": {
              "outlinewidth": 0,
              "ticks": ""
             }
            },
            "type": "scattergeo"
           }
          ],
          "scattergl": [
           {
            "marker": {
             "colorbar": {
              "outlinewidth": 0,
              "ticks": ""
             }
            },
            "type": "scattergl"
           }
          ],
          "scattermapbox": [
           {
            "marker": {
             "colorbar": {
              "outlinewidth": 0,
              "ticks": ""
             }
            },
            "type": "scattermapbox"
           }
          ],
          "scatterpolar": [
           {
            "marker": {
             "colorbar": {
              "outlinewidth": 0,
              "ticks": ""
             }
            },
            "type": "scatterpolar"
           }
          ],
          "scatterpolargl": [
           {
            "marker": {
             "colorbar": {
              "outlinewidth": 0,
              "ticks": ""
             }
            },
            "type": "scatterpolargl"
           }
          ],
          "scatterternary": [
           {
            "marker": {
             "colorbar": {
              "outlinewidth": 0,
              "ticks": ""
             }
            },
            "type": "scatterternary"
           }
          ],
          "surface": [
           {
            "colorbar": {
             "outlinewidth": 0,
             "ticks": ""
            },
            "colorscale": [
             [
              0,
              "#0d0887"
             ],
             [
              0.1111111111111111,
              "#46039f"
             ],
             [
              0.2222222222222222,
              "#7201a8"
             ],
             [
              0.3333333333333333,
              "#9c179e"
             ],
             [
              0.4444444444444444,
              "#bd3786"
             ],
             [
              0.5555555555555556,
              "#d8576b"
             ],
             [
              0.6666666666666666,
              "#ed7953"
             ],
             [
              0.7777777777777778,
              "#fb9f3a"
             ],
             [
              0.8888888888888888,
              "#fdca26"
             ],
             [
              1,
              "#f0f921"
             ]
            ],
            "type": "surface"
           }
          ],
          "table": [
           {
            "cells": {
             "fill": {
              "color": "#EBF0F8"
             },
             "line": {
              "color": "white"
             }
            },
            "header": {
             "fill": {
              "color": "#C8D4E3"
             },
             "line": {
              "color": "white"
             }
            },
            "type": "table"
           }
          ]
         },
         "layout": {
          "annotationdefaults": {
           "arrowcolor": "#2a3f5f",
           "arrowhead": 0,
           "arrowwidth": 1
          },
          "autotypenumbers": "strict",
          "coloraxis": {
           "colorbar": {
            "outlinewidth": 0,
            "ticks": ""
           }
          },
          "colorscale": {
           "diverging": [
            [
             0,
             "#8e0152"
            ],
            [
             0.1,
             "#c51b7d"
            ],
            [
             0.2,
             "#de77ae"
            ],
            [
             0.3,
             "#f1b6da"
            ],
            [
             0.4,
             "#fde0ef"
            ],
            [
             0.5,
             "#f7f7f7"
            ],
            [
             0.6,
             "#e6f5d0"
            ],
            [
             0.7,
             "#b8e186"
            ],
            [
             0.8,
             "#7fbc41"
            ],
            [
             0.9,
             "#4d9221"
            ],
            [
             1,
             "#276419"
            ]
           ],
           "sequential": [
            [
             0,
             "#0d0887"
            ],
            [
             0.1111111111111111,
             "#46039f"
            ],
            [
             0.2222222222222222,
             "#7201a8"
            ],
            [
             0.3333333333333333,
             "#9c179e"
            ],
            [
             0.4444444444444444,
             "#bd3786"
            ],
            [
             0.5555555555555556,
             "#d8576b"
            ],
            [
             0.6666666666666666,
             "#ed7953"
            ],
            [
             0.7777777777777778,
             "#fb9f3a"
            ],
            [
             0.8888888888888888,
             "#fdca26"
            ],
            [
             1,
             "#f0f921"
            ]
           ],
           "sequentialminus": [
            [
             0,
             "#0d0887"
            ],
            [
             0.1111111111111111,
             "#46039f"
            ],
            [
             0.2222222222222222,
             "#7201a8"
            ],
            [
             0.3333333333333333,
             "#9c179e"
            ],
            [
             0.4444444444444444,
             "#bd3786"
            ],
            [
             0.5555555555555556,
             "#d8576b"
            ],
            [
             0.6666666666666666,
             "#ed7953"
            ],
            [
             0.7777777777777778,
             "#fb9f3a"
            ],
            [
             0.8888888888888888,
             "#fdca26"
            ],
            [
             1,
             "#f0f921"
            ]
           ]
          },
          "colorway": [
           "#636efa",
           "#EF553B",
           "#00cc96",
           "#ab63fa",
           "#FFA15A",
           "#19d3f3",
           "#FF6692",
           "#B6E880",
           "#FF97FF",
           "#FECB52"
          ],
          "font": {
           "color": "#2a3f5f"
          },
          "geo": {
           "bgcolor": "white",
           "lakecolor": "white",
           "landcolor": "#E5ECF6",
           "showlakes": true,
           "showland": true,
           "subunitcolor": "white"
          },
          "hoverlabel": {
           "align": "left"
          },
          "hovermode": "closest",
          "mapbox": {
           "style": "light"
          },
          "paper_bgcolor": "white",
          "plot_bgcolor": "#E5ECF6",
          "polar": {
           "angularaxis": {
            "gridcolor": "white",
            "linecolor": "white",
            "ticks": ""
           },
           "bgcolor": "#E5ECF6",
           "radialaxis": {
            "gridcolor": "white",
            "linecolor": "white",
            "ticks": ""
           }
          },
          "scene": {
           "xaxis": {
            "backgroundcolor": "#E5ECF6",
            "gridcolor": "white",
            "gridwidth": 2,
            "linecolor": "white",
            "showbackground": true,
            "ticks": "",
            "zerolinecolor": "white"
           },
           "yaxis": {
            "backgroundcolor": "#E5ECF6",
            "gridcolor": "white",
            "gridwidth": 2,
            "linecolor": "white",
            "showbackground": true,
            "ticks": "",
            "zerolinecolor": "white"
           },
           "zaxis": {
            "backgroundcolor": "#E5ECF6",
            "gridcolor": "white",
            "gridwidth": 2,
            "linecolor": "white",
            "showbackground": true,
            "ticks": "",
            "zerolinecolor": "white"
           }
          },
          "shapedefaults": {
           "line": {
            "color": "#2a3f5f"
           }
          },
          "ternary": {
           "aaxis": {
            "gridcolor": "white",
            "linecolor": "white",
            "ticks": ""
           },
           "baxis": {
            "gridcolor": "white",
            "linecolor": "white",
            "ticks": ""
           },
           "bgcolor": "#E5ECF6",
           "caxis": {
            "gridcolor": "white",
            "linecolor": "white",
            "ticks": ""
           }
          },
          "title": {
           "x": 0.05
          },
          "xaxis": {
           "automargin": true,
           "gridcolor": "white",
           "linecolor": "white",
           "ticks": "",
           "title": {
            "standoff": 15
           },
           "zerolinecolor": "white",
           "zerolinewidth": 2
          },
          "yaxis": {
           "automargin": true,
           "gridcolor": "white",
           "linecolor": "white",
           "ticks": "",
           "title": {
            "standoff": 15
           },
           "zerolinecolor": "white",
           "zerolinewidth": 2
          }
         }
        },
        "title": {
         "font": {
          "color": "#4D5663"
         }
        },
        "xaxis": {
         "gridcolor": "#E1E5ED",
         "showgrid": true,
         "tickfont": {
          "color": "#4D5663"
         },
         "title": {
          "font": {
           "color": "#4D5663"
          },
          "text": ""
         },
         "zerolinecolor": "#E1E5ED"
        },
        "yaxis": {
         "gridcolor": "#E1E5ED",
         "showgrid": true,
         "tickfont": {
          "color": "#4D5663"
         },
         "title": {
          "font": {
           "color": "#4D5663"
          },
          "text": ""
         },
         "zerolinecolor": "#E1E5ED"
        }
       }
      },
      "text/html": [
       "<div>                            <div id=\"e2b3cc31-bb08-4bf0-8a40-9dd30c977850\" class=\"plotly-graph-div\" style=\"height:525px; width:100%;\"></div>            <script type=\"text/javascript\">                require([\"plotly\"], function(Plotly) {                    window.PLOTLYENV=window.PLOTLYENV || {};\n",
       "                    window.PLOTLYENV.BASE_URL='https://plot.ly';                                    if (document.getElementById(\"e2b3cc31-bb08-4bf0-8a40-9dd30c977850\")) {                    Plotly.newPlot(                        \"e2b3cc31-bb08-4bf0-8a40-9dd30c977850\",                        [{\"line\": {\"color\": \"rgba(255, 153, 51, 1.0)\", \"dash\": \"solid\", \"shape\": \"linear\", \"width\": 1.3}, \"marker\": {\"size\": 10, \"symbol\": \"circle\"}, \"mode\": \"markers\", \"name\": \"B\", \"text\": \"\", \"type\": \"scatter\", \"x\": [-1.8453562462643196, -0.20040405303757655, -1.1637956456188199, 0.6205025203423028, -0.8390568855527745, -1.2174976462691052, -0.5640138103328367, 0.013620573399448279, 0.40059182767551943, -0.5997626758413155, 0.07726576350156705, 0.928610877203632, 0.426972018264773, -0.9990060932331011, 1.078661270762736, -0.4513974079092731, -1.2643201140490237, 2.5256077680999685, 0.41086499908738955, -0.04475172187968378, 0.8233287809051226, -0.7271645524645527, 0.14030657831421076, -1.0988235896220555, 0.7489175266400919, 0.46582312686492033, -0.05288123591202588, -1.3670291716449292, 0.7309050939934914, -0.6098667055895841, 0.5041275128978567, 2.040048937172921, -2.185274683047773, 1.0196751415031662, 0.9945470359624125, -1.025592479915559, -1.267140473022391, -0.8689838118146973, -0.2236579399824439, -1.3097944848343677, -0.8414647840651517, 0.6071895041961782, -0.288065793118509, -0.0855433340132728, 1.2362626011306976, -0.34103353649966367, 1.2706087277806368, 1.5483104445093612, 0.18539608217150366, -0.7546004022350437, -0.8326852647100786, -1.1021601391805258, -1.1929778907431932, 1.9549439684527512, -1.210342094834586, 0.4060144585650524, 1.691010701899478, -0.8750443198147615, 1.160394755522703, 2.275642804498575, -0.052481187252204894, 0.764446349668718, 0.7748214923293414, 0.24170402743498778, 0.28327289936704275, 0.2467195735483266, 0.914032725604146, -0.08601512694460697, 0.9489571859474513, 0.8142978876236726, 0.7883298154110456, -0.32628991344569763, 0.2301082679624488, 1.6341593800247989, -1.6944753689322416, -0.758403852271044, 0.9422713425820108, 0.5407768447682212, -0.4172833249642221, -0.9133540169871017, 1.2975516807100265, 0.5348525441513422, -0.9491627313232666, -0.3285687661985525, 0.7487839314169843, -0.3011044136198415, -0.6231469374589843, -0.46272480238509744, 0.751870774961926, 0.6842338081501783, 0.1857636597163811, 0.8977181310333129, -0.6380029150186659, -0.014892138107339364, -1.4264492976702383, -1.3625157787787476, -0.5037475787792652, -0.7209368299148544, -0.1853579105123794, 0.8853425687953029], \"y\": [-0.918051978935254, -2.7056575029327217, -0.26581756141055396, 2.7780920157639803, -0.8734279386889949, -0.06334899773831265, 1.4821560963767562, 0.3720351753435628, 2.289468082163019, -0.8374384578030118, -2.108703088038587, 0.9788520364174591, 1.4650258305467085, 1.2415652263814414, 1.0310626547555006, -0.3122406935164411, -0.14735613041299925, 0.33275767892759495, -0.1161274919960927, 0.281205976719588, -0.14951869895483794, 0.41174605696281846, 2.354209612658942, 2.092110024373878, -0.844565089723117, -1.5305136905849483, -0.4080953430172473, -0.49831975030647513, 0.532663605513584, 0.16759861208915242, 0.46247832654774845, 0.38741399084499084, -1.8520213138080566, -0.019018730510986254, -1.0113286481308315, -1.0929063112561626, -0.7089062318588992, -0.49640898092235836, -0.9734721463692066, 0.5801554907558394, -0.06540899964125191, -0.6111002896985552, 0.45438818782559776, 0.4785280675226295, 1.2923482368164383, -0.5748394916445265, 0.43943437190379214, -1.4174040567585227, -0.7319800748374122, -0.29265216113961545, -0.36087379702803224, -0.04027675520163823, -0.24063564992242378, -1.2436397165116935, -0.6380650947146708, -1.194083286516507, 0.1779335575301587, -0.5384113135074421, 0.2915091190224508, 0.466796616138699, -0.43114256548016455, 1.2786748208881396, 1.4078719927900933, 0.14674226717423464, -0.029148341361593073, -1.0673227647170362, -0.6376233349993639, -0.17509268696626795, -0.4170870697877158, 0.4159894756560567, -2.208839366952025, 1.1269460290850897, -0.4095692566448082, 0.7856726897159855, -1.490180580048176, -1.617147938156026, 0.4365288533186661, -2.32656190655788, 0.15681159571219597, 0.5391784367802614, -0.5002333680231703, 0.6548667984163916, 0.27970593897368917, -0.7844703375909428, 0.9073102317074612, -1.1835772548443797, -1.1252365576347547, -0.31910636809035, -0.7706391044036293, 1.5932069582471045, -1.4300111814134815, 0.09777836056991747, 0.21906285684508117, -0.025607437932308883, -1.0696693509127029, 0.058516669742657644, -0.3377730316094605, -0.7808950376846182, 0.5148406510673026, -0.6532931427041353]}],                        {\"legend\": {\"bgcolor\": \"#F5F6F9\", \"font\": {\"color\": \"#4D5663\"}}, \"paper_bgcolor\": \"#F5F6F9\", \"plot_bgcolor\": \"#F5F6F9\", \"template\": {\"data\": {\"bar\": [{\"error_x\": {\"color\": \"#2a3f5f\"}, \"error_y\": {\"color\": \"#2a3f5f\"}, \"marker\": {\"line\": {\"color\": \"#E5ECF6\", \"width\": 0.5}}, \"type\": \"bar\"}], \"barpolar\": [{\"marker\": {\"line\": {\"color\": \"#E5ECF6\", \"width\": 0.5}}, \"type\": \"barpolar\"}], \"carpet\": [{\"aaxis\": {\"endlinecolor\": \"#2a3f5f\", \"gridcolor\": \"white\", \"linecolor\": \"white\", \"minorgridcolor\": \"white\", \"startlinecolor\": \"#2a3f5f\"}, \"baxis\": {\"endlinecolor\": \"#2a3f5f\", \"gridcolor\": \"white\", \"linecolor\": \"white\", \"minorgridcolor\": \"white\", \"startlinecolor\": \"#2a3f5f\"}, \"type\": \"carpet\"}], \"choropleth\": [{\"colorbar\": {\"outlinewidth\": 0, \"ticks\": \"\"}, \"type\": \"choropleth\"}], \"contour\": [{\"colorbar\": {\"outlinewidth\": 0, \"ticks\": \"\"}, \"colorscale\": [[0.0, \"#0d0887\"], [0.1111111111111111, \"#46039f\"], [0.2222222222222222, \"#7201a8\"], [0.3333333333333333, \"#9c179e\"], [0.4444444444444444, \"#bd3786\"], [0.5555555555555556, \"#d8576b\"], [0.6666666666666666, \"#ed7953\"], [0.7777777777777778, \"#fb9f3a\"], [0.8888888888888888, \"#fdca26\"], [1.0, \"#f0f921\"]], \"type\": \"contour\"}], \"contourcarpet\": [{\"colorbar\": {\"outlinewidth\": 0, \"ticks\": \"\"}, \"type\": \"contourcarpet\"}], \"heatmap\": [{\"colorbar\": {\"outlinewidth\": 0, \"ticks\": \"\"}, \"colorscale\": [[0.0, \"#0d0887\"], [0.1111111111111111, \"#46039f\"], [0.2222222222222222, \"#7201a8\"], [0.3333333333333333, \"#9c179e\"], [0.4444444444444444, \"#bd3786\"], [0.5555555555555556, \"#d8576b\"], [0.6666666666666666, \"#ed7953\"], [0.7777777777777778, \"#fb9f3a\"], [0.8888888888888888, \"#fdca26\"], [1.0, \"#f0f921\"]], \"type\": \"heatmap\"}], \"heatmapgl\": [{\"colorbar\": {\"outlinewidth\": 0, \"ticks\": \"\"}, \"colorscale\": [[0.0, \"#0d0887\"], [0.1111111111111111, \"#46039f\"], [0.2222222222222222, \"#7201a8\"], [0.3333333333333333, \"#9c179e\"], [0.4444444444444444, \"#bd3786\"], [0.5555555555555556, \"#d8576b\"], [0.6666666666666666, \"#ed7953\"], [0.7777777777777778, \"#fb9f3a\"], [0.8888888888888888, \"#fdca26\"], [1.0, \"#f0f921\"]], \"type\": \"heatmapgl\"}], \"histogram\": [{\"marker\": {\"colorbar\": {\"outlinewidth\": 0, \"ticks\": \"\"}}, \"type\": \"histogram\"}], \"histogram2d\": [{\"colorbar\": {\"outlinewidth\": 0, \"ticks\": \"\"}, \"colorscale\": [[0.0, \"#0d0887\"], [0.1111111111111111, \"#46039f\"], [0.2222222222222222, \"#7201a8\"], [0.3333333333333333, \"#9c179e\"], [0.4444444444444444, \"#bd3786\"], [0.5555555555555556, \"#d8576b\"], [0.6666666666666666, \"#ed7953\"], [0.7777777777777778, \"#fb9f3a\"], [0.8888888888888888, \"#fdca26\"], [1.0, \"#f0f921\"]], \"type\": \"histogram2d\"}], \"histogram2dcontour\": [{\"colorbar\": {\"outlinewidth\": 0, \"ticks\": \"\"}, \"colorscale\": [[0.0, \"#0d0887\"], [0.1111111111111111, \"#46039f\"], [0.2222222222222222, \"#7201a8\"], [0.3333333333333333, \"#9c179e\"], [0.4444444444444444, \"#bd3786\"], [0.5555555555555556, \"#d8576b\"], [0.6666666666666666, \"#ed7953\"], [0.7777777777777778, \"#fb9f3a\"], [0.8888888888888888, \"#fdca26\"], [1.0, \"#f0f921\"]], \"type\": \"histogram2dcontour\"}], \"mesh3d\": [{\"colorbar\": {\"outlinewidth\": 0, \"ticks\": \"\"}, \"type\": \"mesh3d\"}], \"parcoords\": [{\"line\": {\"colorbar\": {\"outlinewidth\": 0, \"ticks\": \"\"}}, \"type\": \"parcoords\"}], \"pie\": [{\"automargin\": true, \"type\": \"pie\"}], \"scatter\": [{\"marker\": {\"colorbar\": {\"outlinewidth\": 0, \"ticks\": \"\"}}, \"type\": \"scatter\"}], \"scatter3d\": [{\"line\": {\"colorbar\": {\"outlinewidth\": 0, \"ticks\": \"\"}}, \"marker\": {\"colorbar\": {\"outlinewidth\": 0, \"ticks\": \"\"}}, \"type\": \"scatter3d\"}], \"scattercarpet\": [{\"marker\": {\"colorbar\": {\"outlinewidth\": 0, \"ticks\": \"\"}}, \"type\": \"scattercarpet\"}], \"scattergeo\": [{\"marker\": {\"colorbar\": {\"outlinewidth\": 0, \"ticks\": \"\"}}, \"type\": \"scattergeo\"}], \"scattergl\": [{\"marker\": {\"colorbar\": {\"outlinewidth\": 0, \"ticks\": \"\"}}, \"type\": \"scattergl\"}], \"scattermapbox\": [{\"marker\": {\"colorbar\": {\"outlinewidth\": 0, \"ticks\": \"\"}}, \"type\": \"scattermapbox\"}], \"scatterpolar\": [{\"marker\": {\"colorbar\": {\"outlinewidth\": 0, \"ticks\": \"\"}}, \"type\": \"scatterpolar\"}], \"scatterpolargl\": [{\"marker\": {\"colorbar\": {\"outlinewidth\": 0, \"ticks\": \"\"}}, \"type\": \"scatterpolargl\"}], \"scatterternary\": [{\"marker\": {\"colorbar\": {\"outlinewidth\": 0, \"ticks\": \"\"}}, \"type\": \"scatterternary\"}], \"surface\": [{\"colorbar\": {\"outlinewidth\": 0, \"ticks\": \"\"}, \"colorscale\": [[0.0, \"#0d0887\"], [0.1111111111111111, \"#46039f\"], [0.2222222222222222, \"#7201a8\"], [0.3333333333333333, \"#9c179e\"], [0.4444444444444444, \"#bd3786\"], [0.5555555555555556, \"#d8576b\"], [0.6666666666666666, \"#ed7953\"], [0.7777777777777778, \"#fb9f3a\"], [0.8888888888888888, \"#fdca26\"], [1.0, \"#f0f921\"]], \"type\": \"surface\"}], \"table\": [{\"cells\": {\"fill\": {\"color\": \"#EBF0F8\"}, \"line\": {\"color\": \"white\"}}, \"header\": {\"fill\": {\"color\": \"#C8D4E3\"}, \"line\": {\"color\": \"white\"}}, \"type\": \"table\"}]}, \"layout\": {\"annotationdefaults\": {\"arrowcolor\": \"#2a3f5f\", \"arrowhead\": 0, \"arrowwidth\": 1}, \"autotypenumbers\": \"strict\", \"coloraxis\": {\"colorbar\": {\"outlinewidth\": 0, \"ticks\": \"\"}}, \"colorscale\": {\"diverging\": [[0, \"#8e0152\"], [0.1, \"#c51b7d\"], [0.2, \"#de77ae\"], [0.3, \"#f1b6da\"], [0.4, \"#fde0ef\"], [0.5, \"#f7f7f7\"], [0.6, \"#e6f5d0\"], [0.7, \"#b8e186\"], [0.8, \"#7fbc41\"], [0.9, \"#4d9221\"], [1, \"#276419\"]], \"sequential\": [[0.0, \"#0d0887\"], [0.1111111111111111, \"#46039f\"], [0.2222222222222222, \"#7201a8\"], [0.3333333333333333, \"#9c179e\"], [0.4444444444444444, \"#bd3786\"], [0.5555555555555556, \"#d8576b\"], [0.6666666666666666, \"#ed7953\"], [0.7777777777777778, \"#fb9f3a\"], [0.8888888888888888, \"#fdca26\"], [1.0, \"#f0f921\"]], \"sequentialminus\": [[0.0, \"#0d0887\"], [0.1111111111111111, \"#46039f\"], [0.2222222222222222, \"#7201a8\"], [0.3333333333333333, \"#9c179e\"], [0.4444444444444444, \"#bd3786\"], [0.5555555555555556, \"#d8576b\"], [0.6666666666666666, \"#ed7953\"], [0.7777777777777778, \"#fb9f3a\"], [0.8888888888888888, \"#fdca26\"], [1.0, \"#f0f921\"]]}, \"colorway\": [\"#636efa\", \"#EF553B\", \"#00cc96\", \"#ab63fa\", \"#FFA15A\", \"#19d3f3\", \"#FF6692\", \"#B6E880\", \"#FF97FF\", \"#FECB52\"], \"font\": {\"color\": \"#2a3f5f\"}, \"geo\": {\"bgcolor\": \"white\", \"lakecolor\": \"white\", \"landcolor\": \"#E5ECF6\", \"showlakes\": true, \"showland\": true, \"subunitcolor\": \"white\"}, \"hoverlabel\": {\"align\": \"left\"}, \"hovermode\": \"closest\", \"mapbox\": {\"style\": \"light\"}, \"paper_bgcolor\": \"white\", \"plot_bgcolor\": \"#E5ECF6\", \"polar\": {\"angularaxis\": {\"gridcolor\": \"white\", \"linecolor\": \"white\", \"ticks\": \"\"}, \"bgcolor\": \"#E5ECF6\", \"radialaxis\": {\"gridcolor\": \"white\", \"linecolor\": \"white\", \"ticks\": \"\"}}, \"scene\": {\"xaxis\": {\"backgroundcolor\": \"#E5ECF6\", \"gridcolor\": \"white\", \"gridwidth\": 2, \"linecolor\": \"white\", \"showbackground\": true, \"ticks\": \"\", \"zerolinecolor\": \"white\"}, \"yaxis\": {\"backgroundcolor\": \"#E5ECF6\", \"gridcolor\": \"white\", \"gridwidth\": 2, \"linecolor\": \"white\", \"showbackground\": true, \"ticks\": \"\", \"zerolinecolor\": \"white\"}, \"zaxis\": {\"backgroundcolor\": \"#E5ECF6\", \"gridcolor\": \"white\", \"gridwidth\": 2, \"linecolor\": \"white\", \"showbackground\": true, \"ticks\": \"\", \"zerolinecolor\": \"white\"}}, \"shapedefaults\": {\"line\": {\"color\": \"#2a3f5f\"}}, \"ternary\": {\"aaxis\": {\"gridcolor\": \"white\", \"linecolor\": \"white\", \"ticks\": \"\"}, \"baxis\": {\"gridcolor\": \"white\", \"linecolor\": \"white\", \"ticks\": \"\"}, \"bgcolor\": \"#E5ECF6\", \"caxis\": {\"gridcolor\": \"white\", \"linecolor\": \"white\", \"ticks\": \"\"}}, \"title\": {\"x\": 0.05}, \"xaxis\": {\"automargin\": true, \"gridcolor\": \"white\", \"linecolor\": \"white\", \"ticks\": \"\", \"title\": {\"standoff\": 15}, \"zerolinecolor\": \"white\", \"zerolinewidth\": 2}, \"yaxis\": {\"automargin\": true, \"gridcolor\": \"white\", \"linecolor\": \"white\", \"ticks\": \"\", \"title\": {\"standoff\": 15}, \"zerolinecolor\": \"white\", \"zerolinewidth\": 2}}}, \"title\": {\"font\": {\"color\": \"#4D5663\"}}, \"xaxis\": {\"gridcolor\": \"#E1E5ED\", \"showgrid\": true, \"tickfont\": {\"color\": \"#4D5663\"}, \"title\": {\"font\": {\"color\": \"#4D5663\"}, \"text\": \"\"}, \"zerolinecolor\": \"#E1E5ED\"}, \"yaxis\": {\"gridcolor\": \"#E1E5ED\", \"showgrid\": true, \"tickfont\": {\"color\": \"#4D5663\"}, \"title\": {\"font\": {\"color\": \"#4D5663\"}, \"text\": \"\"}, \"zerolinecolor\": \"#E1E5ED\"}},                        {\"showLink\": true, \"linkText\": \"Export to plot.ly\", \"plotlyServerURL\": \"https://plot.ly\", \"responsive\": true}                    ).then(function(){\n",
       "                            \n",
       "var gd = document.getElementById('e2b3cc31-bb08-4bf0-8a40-9dd30c977850');\n",
       "var x = new MutationObserver(function (mutations, observer) {{\n",
       "        var display = window.getComputedStyle(gd).display;\n",
       "        if (!display || display === 'none') {{\n",
       "            console.log([gd, 'removed!']);\n",
       "            Plotly.purge(gd);\n",
       "            observer.disconnect();\n",
       "        }}\n",
       "}});\n",
       "\n",
       "// Listen for the removal of the full notebook cells\n",
       "var notebookContainer = gd.closest('#notebook-container');\n",
       "if (notebookContainer) {{\n",
       "    x.observe(notebookContainer, {childList: true});\n",
       "}}\n",
       "\n",
       "// Listen for the clearing of the current output cell\n",
       "var outputEl = gd.closest('.output');\n",
       "if (outputEl) {{\n",
       "    x.observe(outputEl, {childList: true});\n",
       "}}\n",
       "\n",
       "                        })                };                });            </script>        </div>"
      ]
     },
     "metadata": {},
     "output_type": "display_data"
    }
   ],
   "source": [
    "df.iplot(kind='scatter',x='A',y='B',mode='markers',size=10)"
   ]
  },
  {
   "cell_type": "markdown",
   "metadata": {},
   "source": [
    "## Plots de barra"
   ]
  },
  {
   "cell_type": "code",
   "execution_count": 13,
   "metadata": {},
   "outputs": [
    {
     "data": {
      "application/vnd.plotly.v1+json": {
       "config": {
        "linkText": "Export to plot.ly",
        "plotlyServerURL": "https://plot.ly",
        "showLink": true
       },
       "data": [
        {
         "marker": {
          "color": "rgba(255, 153, 51, 0.6)",
          "line": {
           "color": "rgba(255, 153, 51, 1.0)",
           "width": 1
          }
         },
         "name": "Valores",
         "orientation": "v",
         "text": "",
         "type": "bar",
         "x": [
          "A",
          "B",
          "C"
         ],
         "y": [
          32,
          43,
          50
         ]
        }
       ],
       "layout": {
        "legend": {
         "bgcolor": "#F5F6F9",
         "font": {
          "color": "#4D5663"
         }
        },
        "paper_bgcolor": "#F5F6F9",
        "plot_bgcolor": "#F5F6F9",
        "template": {
         "data": {
          "bar": [
           {
            "error_x": {
             "color": "#2a3f5f"
            },
            "error_y": {
             "color": "#2a3f5f"
            },
            "marker": {
             "line": {
              "color": "#E5ECF6",
              "width": 0.5
             }
            },
            "type": "bar"
           }
          ],
          "barpolar": [
           {
            "marker": {
             "line": {
              "color": "#E5ECF6",
              "width": 0.5
             }
            },
            "type": "barpolar"
           }
          ],
          "carpet": [
           {
            "aaxis": {
             "endlinecolor": "#2a3f5f",
             "gridcolor": "white",
             "linecolor": "white",
             "minorgridcolor": "white",
             "startlinecolor": "#2a3f5f"
            },
            "baxis": {
             "endlinecolor": "#2a3f5f",
             "gridcolor": "white",
             "linecolor": "white",
             "minorgridcolor": "white",
             "startlinecolor": "#2a3f5f"
            },
            "type": "carpet"
           }
          ],
          "choropleth": [
           {
            "colorbar": {
             "outlinewidth": 0,
             "ticks": ""
            },
            "type": "choropleth"
           }
          ],
          "contour": [
           {
            "colorbar": {
             "outlinewidth": 0,
             "ticks": ""
            },
            "colorscale": [
             [
              0,
              "#0d0887"
             ],
             [
              0.1111111111111111,
              "#46039f"
             ],
             [
              0.2222222222222222,
              "#7201a8"
             ],
             [
              0.3333333333333333,
              "#9c179e"
             ],
             [
              0.4444444444444444,
              "#bd3786"
             ],
             [
              0.5555555555555556,
              "#d8576b"
             ],
             [
              0.6666666666666666,
              "#ed7953"
             ],
             [
              0.7777777777777778,
              "#fb9f3a"
             ],
             [
              0.8888888888888888,
              "#fdca26"
             ],
             [
              1,
              "#f0f921"
             ]
            ],
            "type": "contour"
           }
          ],
          "contourcarpet": [
           {
            "colorbar": {
             "outlinewidth": 0,
             "ticks": ""
            },
            "type": "contourcarpet"
           }
          ],
          "heatmap": [
           {
            "colorbar": {
             "outlinewidth": 0,
             "ticks": ""
            },
            "colorscale": [
             [
              0,
              "#0d0887"
             ],
             [
              0.1111111111111111,
              "#46039f"
             ],
             [
              0.2222222222222222,
              "#7201a8"
             ],
             [
              0.3333333333333333,
              "#9c179e"
             ],
             [
              0.4444444444444444,
              "#bd3786"
             ],
             [
              0.5555555555555556,
              "#d8576b"
             ],
             [
              0.6666666666666666,
              "#ed7953"
             ],
             [
              0.7777777777777778,
              "#fb9f3a"
             ],
             [
              0.8888888888888888,
              "#fdca26"
             ],
             [
              1,
              "#f0f921"
             ]
            ],
            "type": "heatmap"
           }
          ],
          "heatmapgl": [
           {
            "colorbar": {
             "outlinewidth": 0,
             "ticks": ""
            },
            "colorscale": [
             [
              0,
              "#0d0887"
             ],
             [
              0.1111111111111111,
              "#46039f"
             ],
             [
              0.2222222222222222,
              "#7201a8"
             ],
             [
              0.3333333333333333,
              "#9c179e"
             ],
             [
              0.4444444444444444,
              "#bd3786"
             ],
             [
              0.5555555555555556,
              "#d8576b"
             ],
             [
              0.6666666666666666,
              "#ed7953"
             ],
             [
              0.7777777777777778,
              "#fb9f3a"
             ],
             [
              0.8888888888888888,
              "#fdca26"
             ],
             [
              1,
              "#f0f921"
             ]
            ],
            "type": "heatmapgl"
           }
          ],
          "histogram": [
           {
            "marker": {
             "colorbar": {
              "outlinewidth": 0,
              "ticks": ""
             }
            },
            "type": "histogram"
           }
          ],
          "histogram2d": [
           {
            "colorbar": {
             "outlinewidth": 0,
             "ticks": ""
            },
            "colorscale": [
             [
              0,
              "#0d0887"
             ],
             [
              0.1111111111111111,
              "#46039f"
             ],
             [
              0.2222222222222222,
              "#7201a8"
             ],
             [
              0.3333333333333333,
              "#9c179e"
             ],
             [
              0.4444444444444444,
              "#bd3786"
             ],
             [
              0.5555555555555556,
              "#d8576b"
             ],
             [
              0.6666666666666666,
              "#ed7953"
             ],
             [
              0.7777777777777778,
              "#fb9f3a"
             ],
             [
              0.8888888888888888,
              "#fdca26"
             ],
             [
              1,
              "#f0f921"
             ]
            ],
            "type": "histogram2d"
           }
          ],
          "histogram2dcontour": [
           {
            "colorbar": {
             "outlinewidth": 0,
             "ticks": ""
            },
            "colorscale": [
             [
              0,
              "#0d0887"
             ],
             [
              0.1111111111111111,
              "#46039f"
             ],
             [
              0.2222222222222222,
              "#7201a8"
             ],
             [
              0.3333333333333333,
              "#9c179e"
             ],
             [
              0.4444444444444444,
              "#bd3786"
             ],
             [
              0.5555555555555556,
              "#d8576b"
             ],
             [
              0.6666666666666666,
              "#ed7953"
             ],
             [
              0.7777777777777778,
              "#fb9f3a"
             ],
             [
              0.8888888888888888,
              "#fdca26"
             ],
             [
              1,
              "#f0f921"
             ]
            ],
            "type": "histogram2dcontour"
           }
          ],
          "mesh3d": [
           {
            "colorbar": {
             "outlinewidth": 0,
             "ticks": ""
            },
            "type": "mesh3d"
           }
          ],
          "parcoords": [
           {
            "line": {
             "colorbar": {
              "outlinewidth": 0,
              "ticks": ""
             }
            },
            "type": "parcoords"
           }
          ],
          "pie": [
           {
            "automargin": true,
            "type": "pie"
           }
          ],
          "scatter": [
           {
            "marker": {
             "colorbar": {
              "outlinewidth": 0,
              "ticks": ""
             }
            },
            "type": "scatter"
           }
          ],
          "scatter3d": [
           {
            "line": {
             "colorbar": {
              "outlinewidth": 0,
              "ticks": ""
             }
            },
            "marker": {
             "colorbar": {
              "outlinewidth": 0,
              "ticks": ""
             }
            },
            "type": "scatter3d"
           }
          ],
          "scattercarpet": [
           {
            "marker": {
             "colorbar": {
              "outlinewidth": 0,
              "ticks": ""
             }
            },
            "type": "scattercarpet"
           }
          ],
          "scattergeo": [
           {
            "marker": {
             "colorbar": {
              "outlinewidth": 0,
              "ticks": ""
             }
            },
            "type": "scattergeo"
           }
          ],
          "scattergl": [
           {
            "marker": {
             "colorbar": {
              "outlinewidth": 0,
              "ticks": ""
             }
            },
            "type": "scattergl"
           }
          ],
          "scattermapbox": [
           {
            "marker": {
             "colorbar": {
              "outlinewidth": 0,
              "ticks": ""
             }
            },
            "type": "scattermapbox"
           }
          ],
          "scatterpolar": [
           {
            "marker": {
             "colorbar": {
              "outlinewidth": 0,
              "ticks": ""
             }
            },
            "type": "scatterpolar"
           }
          ],
          "scatterpolargl": [
           {
            "marker": {
             "colorbar": {
              "outlinewidth": 0,
              "ticks": ""
             }
            },
            "type": "scatterpolargl"
           }
          ],
          "scatterternary": [
           {
            "marker": {
             "colorbar": {
              "outlinewidth": 0,
              "ticks": ""
             }
            },
            "type": "scatterternary"
           }
          ],
          "surface": [
           {
            "colorbar": {
             "outlinewidth": 0,
             "ticks": ""
            },
            "colorscale": [
             [
              0,
              "#0d0887"
             ],
             [
              0.1111111111111111,
              "#46039f"
             ],
             [
              0.2222222222222222,
              "#7201a8"
             ],
             [
              0.3333333333333333,
              "#9c179e"
             ],
             [
              0.4444444444444444,
              "#bd3786"
             ],
             [
              0.5555555555555556,
              "#d8576b"
             ],
             [
              0.6666666666666666,
              "#ed7953"
             ],
             [
              0.7777777777777778,
              "#fb9f3a"
             ],
             [
              0.8888888888888888,
              "#fdca26"
             ],
             [
              1,
              "#f0f921"
             ]
            ],
            "type": "surface"
           }
          ],
          "table": [
           {
            "cells": {
             "fill": {
              "color": "#EBF0F8"
             },
             "line": {
              "color": "white"
             }
            },
            "header": {
             "fill": {
              "color": "#C8D4E3"
             },
             "line": {
              "color": "white"
             }
            },
            "type": "table"
           }
          ]
         },
         "layout": {
          "annotationdefaults": {
           "arrowcolor": "#2a3f5f",
           "arrowhead": 0,
           "arrowwidth": 1
          },
          "autotypenumbers": "strict",
          "coloraxis": {
           "colorbar": {
            "outlinewidth": 0,
            "ticks": ""
           }
          },
          "colorscale": {
           "diverging": [
            [
             0,
             "#8e0152"
            ],
            [
             0.1,
             "#c51b7d"
            ],
            [
             0.2,
             "#de77ae"
            ],
            [
             0.3,
             "#f1b6da"
            ],
            [
             0.4,
             "#fde0ef"
            ],
            [
             0.5,
             "#f7f7f7"
            ],
            [
             0.6,
             "#e6f5d0"
            ],
            [
             0.7,
             "#b8e186"
            ],
            [
             0.8,
             "#7fbc41"
            ],
            [
             0.9,
             "#4d9221"
            ],
            [
             1,
             "#276419"
            ]
           ],
           "sequential": [
            [
             0,
             "#0d0887"
            ],
            [
             0.1111111111111111,
             "#46039f"
            ],
            [
             0.2222222222222222,
             "#7201a8"
            ],
            [
             0.3333333333333333,
             "#9c179e"
            ],
            [
             0.4444444444444444,
             "#bd3786"
            ],
            [
             0.5555555555555556,
             "#d8576b"
            ],
            [
             0.6666666666666666,
             "#ed7953"
            ],
            [
             0.7777777777777778,
             "#fb9f3a"
            ],
            [
             0.8888888888888888,
             "#fdca26"
            ],
            [
             1,
             "#f0f921"
            ]
           ],
           "sequentialminus": [
            [
             0,
             "#0d0887"
            ],
            [
             0.1111111111111111,
             "#46039f"
            ],
            [
             0.2222222222222222,
             "#7201a8"
            ],
            [
             0.3333333333333333,
             "#9c179e"
            ],
            [
             0.4444444444444444,
             "#bd3786"
            ],
            [
             0.5555555555555556,
             "#d8576b"
            ],
            [
             0.6666666666666666,
             "#ed7953"
            ],
            [
             0.7777777777777778,
             "#fb9f3a"
            ],
            [
             0.8888888888888888,
             "#fdca26"
            ],
            [
             1,
             "#f0f921"
            ]
           ]
          },
          "colorway": [
           "#636efa",
           "#EF553B",
           "#00cc96",
           "#ab63fa",
           "#FFA15A",
           "#19d3f3",
           "#FF6692",
           "#B6E880",
           "#FF97FF",
           "#FECB52"
          ],
          "font": {
           "color": "#2a3f5f"
          },
          "geo": {
           "bgcolor": "white",
           "lakecolor": "white",
           "landcolor": "#E5ECF6",
           "showlakes": true,
           "showland": true,
           "subunitcolor": "white"
          },
          "hoverlabel": {
           "align": "left"
          },
          "hovermode": "closest",
          "mapbox": {
           "style": "light"
          },
          "paper_bgcolor": "white",
          "plot_bgcolor": "#E5ECF6",
          "polar": {
           "angularaxis": {
            "gridcolor": "white",
            "linecolor": "white",
            "ticks": ""
           },
           "bgcolor": "#E5ECF6",
           "radialaxis": {
            "gridcolor": "white",
            "linecolor": "white",
            "ticks": ""
           }
          },
          "scene": {
           "xaxis": {
            "backgroundcolor": "#E5ECF6",
            "gridcolor": "white",
            "gridwidth": 2,
            "linecolor": "white",
            "showbackground": true,
            "ticks": "",
            "zerolinecolor": "white"
           },
           "yaxis": {
            "backgroundcolor": "#E5ECF6",
            "gridcolor": "white",
            "gridwidth": 2,
            "linecolor": "white",
            "showbackground": true,
            "ticks": "",
            "zerolinecolor": "white"
           },
           "zaxis": {
            "backgroundcolor": "#E5ECF6",
            "gridcolor": "white",
            "gridwidth": 2,
            "linecolor": "white",
            "showbackground": true,
            "ticks": "",
            "zerolinecolor": "white"
           }
          },
          "shapedefaults": {
           "line": {
            "color": "#2a3f5f"
           }
          },
          "ternary": {
           "aaxis": {
            "gridcolor": "white",
            "linecolor": "white",
            "ticks": ""
           },
           "baxis": {
            "gridcolor": "white",
            "linecolor": "white",
            "ticks": ""
           },
           "bgcolor": "#E5ECF6",
           "caxis": {
            "gridcolor": "white",
            "linecolor": "white",
            "ticks": ""
           }
          },
          "title": {
           "x": 0.05
          },
          "xaxis": {
           "automargin": true,
           "gridcolor": "white",
           "linecolor": "white",
           "ticks": "",
           "title": {
            "standoff": 15
           },
           "zerolinecolor": "white",
           "zerolinewidth": 2
          },
          "yaxis": {
           "automargin": true,
           "gridcolor": "white",
           "linecolor": "white",
           "ticks": "",
           "title": {
            "standoff": 15
           },
           "zerolinecolor": "white",
           "zerolinewidth": 2
          }
         }
        },
        "title": {
         "font": {
          "color": "#4D5663"
         }
        },
        "xaxis": {
         "gridcolor": "#E1E5ED",
         "showgrid": true,
         "tickfont": {
          "color": "#4D5663"
         },
         "title": {
          "font": {
           "color": "#4D5663"
          },
          "text": ""
         },
         "zerolinecolor": "#E1E5ED"
        },
        "yaxis": {
         "gridcolor": "#E1E5ED",
         "showgrid": true,
         "tickfont": {
          "color": "#4D5663"
         },
         "title": {
          "font": {
           "color": "#4D5663"
          },
          "text": ""
         },
         "zerolinecolor": "#E1E5ED"
        }
       }
      },
      "text/html": [
       "<div>                            <div id=\"f0861651-b71b-4478-9d2a-90d9e7ffb5ec\" class=\"plotly-graph-div\" style=\"height:525px; width:100%;\"></div>            <script type=\"text/javascript\">                require([\"plotly\"], function(Plotly) {                    window.PLOTLYENV=window.PLOTLYENV || {};\n",
       "                    window.PLOTLYENV.BASE_URL='https://plot.ly';                                    if (document.getElementById(\"f0861651-b71b-4478-9d2a-90d9e7ffb5ec\")) {                    Plotly.newPlot(                        \"f0861651-b71b-4478-9d2a-90d9e7ffb5ec\",                        [{\"marker\": {\"color\": \"rgba(255, 153, 51, 0.6)\", \"line\": {\"color\": \"rgba(255, 153, 51, 1.0)\", \"width\": 1}}, \"name\": \"Valores\", \"orientation\": \"v\", \"text\": \"\", \"type\": \"bar\", \"x\": [\"A\", \"B\", \"C\"], \"y\": [32, 43, 50]}],                        {\"legend\": {\"bgcolor\": \"#F5F6F9\", \"font\": {\"color\": \"#4D5663\"}}, \"paper_bgcolor\": \"#F5F6F9\", \"plot_bgcolor\": \"#F5F6F9\", \"template\": {\"data\": {\"bar\": [{\"error_x\": {\"color\": \"#2a3f5f\"}, \"error_y\": {\"color\": \"#2a3f5f\"}, \"marker\": {\"line\": {\"color\": \"#E5ECF6\", \"width\": 0.5}}, \"type\": \"bar\"}], \"barpolar\": [{\"marker\": {\"line\": {\"color\": \"#E5ECF6\", \"width\": 0.5}}, \"type\": \"barpolar\"}], \"carpet\": [{\"aaxis\": {\"endlinecolor\": \"#2a3f5f\", \"gridcolor\": \"white\", \"linecolor\": \"white\", \"minorgridcolor\": \"white\", \"startlinecolor\": \"#2a3f5f\"}, \"baxis\": {\"endlinecolor\": \"#2a3f5f\", \"gridcolor\": \"white\", \"linecolor\": \"white\", \"minorgridcolor\": \"white\", \"startlinecolor\": \"#2a3f5f\"}, \"type\": \"carpet\"}], \"choropleth\": [{\"colorbar\": {\"outlinewidth\": 0, \"ticks\": \"\"}, \"type\": \"choropleth\"}], \"contour\": [{\"colorbar\": {\"outlinewidth\": 0, \"ticks\": \"\"}, \"colorscale\": [[0.0, \"#0d0887\"], [0.1111111111111111, \"#46039f\"], [0.2222222222222222, \"#7201a8\"], [0.3333333333333333, \"#9c179e\"], [0.4444444444444444, \"#bd3786\"], [0.5555555555555556, \"#d8576b\"], [0.6666666666666666, \"#ed7953\"], [0.7777777777777778, \"#fb9f3a\"], [0.8888888888888888, \"#fdca26\"], [1.0, \"#f0f921\"]], \"type\": \"contour\"}], \"contourcarpet\": [{\"colorbar\": {\"outlinewidth\": 0, \"ticks\": \"\"}, \"type\": \"contourcarpet\"}], \"heatmap\": [{\"colorbar\": {\"outlinewidth\": 0, \"ticks\": \"\"}, \"colorscale\": [[0.0, \"#0d0887\"], [0.1111111111111111, \"#46039f\"], [0.2222222222222222, \"#7201a8\"], [0.3333333333333333, \"#9c179e\"], [0.4444444444444444, \"#bd3786\"], [0.5555555555555556, \"#d8576b\"], [0.6666666666666666, \"#ed7953\"], [0.7777777777777778, \"#fb9f3a\"], [0.8888888888888888, \"#fdca26\"], [1.0, \"#f0f921\"]], \"type\": \"heatmap\"}], \"heatmapgl\": [{\"colorbar\": {\"outlinewidth\": 0, \"ticks\": \"\"}, \"colorscale\": [[0.0, \"#0d0887\"], [0.1111111111111111, \"#46039f\"], [0.2222222222222222, \"#7201a8\"], [0.3333333333333333, \"#9c179e\"], [0.4444444444444444, \"#bd3786\"], [0.5555555555555556, \"#d8576b\"], [0.6666666666666666, \"#ed7953\"], [0.7777777777777778, \"#fb9f3a\"], [0.8888888888888888, \"#fdca26\"], [1.0, \"#f0f921\"]], \"type\": \"heatmapgl\"}], \"histogram\": [{\"marker\": {\"colorbar\": {\"outlinewidth\": 0, \"ticks\": \"\"}}, \"type\": \"histogram\"}], \"histogram2d\": [{\"colorbar\": {\"outlinewidth\": 0, \"ticks\": \"\"}, \"colorscale\": [[0.0, \"#0d0887\"], [0.1111111111111111, \"#46039f\"], [0.2222222222222222, \"#7201a8\"], [0.3333333333333333, \"#9c179e\"], [0.4444444444444444, \"#bd3786\"], [0.5555555555555556, \"#d8576b\"], [0.6666666666666666, \"#ed7953\"], [0.7777777777777778, \"#fb9f3a\"], [0.8888888888888888, \"#fdca26\"], [1.0, \"#f0f921\"]], \"type\": \"histogram2d\"}], \"histogram2dcontour\": [{\"colorbar\": {\"outlinewidth\": 0, \"ticks\": \"\"}, \"colorscale\": [[0.0, \"#0d0887\"], [0.1111111111111111, \"#46039f\"], [0.2222222222222222, \"#7201a8\"], [0.3333333333333333, \"#9c179e\"], [0.4444444444444444, \"#bd3786\"], [0.5555555555555556, \"#d8576b\"], [0.6666666666666666, \"#ed7953\"], [0.7777777777777778, \"#fb9f3a\"], [0.8888888888888888, \"#fdca26\"], [1.0, \"#f0f921\"]], \"type\": \"histogram2dcontour\"}], \"mesh3d\": [{\"colorbar\": {\"outlinewidth\": 0, \"ticks\": \"\"}, \"type\": \"mesh3d\"}], \"parcoords\": [{\"line\": {\"colorbar\": {\"outlinewidth\": 0, \"ticks\": \"\"}}, \"type\": \"parcoords\"}], \"pie\": [{\"automargin\": true, \"type\": \"pie\"}], \"scatter\": [{\"marker\": {\"colorbar\": {\"outlinewidth\": 0, \"ticks\": \"\"}}, \"type\": \"scatter\"}], \"scatter3d\": [{\"line\": {\"colorbar\": {\"outlinewidth\": 0, \"ticks\": \"\"}}, \"marker\": {\"colorbar\": {\"outlinewidth\": 0, \"ticks\": \"\"}}, \"type\": \"scatter3d\"}], \"scattercarpet\": [{\"marker\": {\"colorbar\": {\"outlinewidth\": 0, \"ticks\": \"\"}}, \"type\": \"scattercarpet\"}], \"scattergeo\": [{\"marker\": {\"colorbar\": {\"outlinewidth\": 0, \"ticks\": \"\"}}, \"type\": \"scattergeo\"}], \"scattergl\": [{\"marker\": {\"colorbar\": {\"outlinewidth\": 0, \"ticks\": \"\"}}, \"type\": \"scattergl\"}], \"scattermapbox\": [{\"marker\": {\"colorbar\": {\"outlinewidth\": 0, \"ticks\": \"\"}}, \"type\": \"scattermapbox\"}], \"scatterpolar\": [{\"marker\": {\"colorbar\": {\"outlinewidth\": 0, \"ticks\": \"\"}}, \"type\": \"scatterpolar\"}], \"scatterpolargl\": [{\"marker\": {\"colorbar\": {\"outlinewidth\": 0, \"ticks\": \"\"}}, \"type\": \"scatterpolargl\"}], \"scatterternary\": [{\"marker\": {\"colorbar\": {\"outlinewidth\": 0, \"ticks\": \"\"}}, \"type\": \"scatterternary\"}], \"surface\": [{\"colorbar\": {\"outlinewidth\": 0, \"ticks\": \"\"}, \"colorscale\": [[0.0, \"#0d0887\"], [0.1111111111111111, \"#46039f\"], [0.2222222222222222, \"#7201a8\"], [0.3333333333333333, \"#9c179e\"], [0.4444444444444444, \"#bd3786\"], [0.5555555555555556, \"#d8576b\"], [0.6666666666666666, \"#ed7953\"], [0.7777777777777778, \"#fb9f3a\"], [0.8888888888888888, \"#fdca26\"], [1.0, \"#f0f921\"]], \"type\": \"surface\"}], \"table\": [{\"cells\": {\"fill\": {\"color\": \"#EBF0F8\"}, \"line\": {\"color\": \"white\"}}, \"header\": {\"fill\": {\"color\": \"#C8D4E3\"}, \"line\": {\"color\": \"white\"}}, \"type\": \"table\"}]}, \"layout\": {\"annotationdefaults\": {\"arrowcolor\": \"#2a3f5f\", \"arrowhead\": 0, \"arrowwidth\": 1}, \"autotypenumbers\": \"strict\", \"coloraxis\": {\"colorbar\": {\"outlinewidth\": 0, \"ticks\": \"\"}}, \"colorscale\": {\"diverging\": [[0, \"#8e0152\"], [0.1, \"#c51b7d\"], [0.2, \"#de77ae\"], [0.3, \"#f1b6da\"], [0.4, \"#fde0ef\"], [0.5, \"#f7f7f7\"], [0.6, \"#e6f5d0\"], [0.7, \"#b8e186\"], [0.8, \"#7fbc41\"], [0.9, \"#4d9221\"], [1, \"#276419\"]], \"sequential\": [[0.0, \"#0d0887\"], [0.1111111111111111, \"#46039f\"], [0.2222222222222222, \"#7201a8\"], [0.3333333333333333, \"#9c179e\"], [0.4444444444444444, \"#bd3786\"], [0.5555555555555556, \"#d8576b\"], [0.6666666666666666, \"#ed7953\"], [0.7777777777777778, \"#fb9f3a\"], [0.8888888888888888, \"#fdca26\"], [1.0, \"#f0f921\"]], \"sequentialminus\": [[0.0, \"#0d0887\"], [0.1111111111111111, \"#46039f\"], [0.2222222222222222, \"#7201a8\"], [0.3333333333333333, \"#9c179e\"], [0.4444444444444444, \"#bd3786\"], [0.5555555555555556, \"#d8576b\"], [0.6666666666666666, \"#ed7953\"], [0.7777777777777778, \"#fb9f3a\"], [0.8888888888888888, \"#fdca26\"], [1.0, \"#f0f921\"]]}, \"colorway\": [\"#636efa\", \"#EF553B\", \"#00cc96\", \"#ab63fa\", \"#FFA15A\", \"#19d3f3\", \"#FF6692\", \"#B6E880\", \"#FF97FF\", \"#FECB52\"], \"font\": {\"color\": \"#2a3f5f\"}, \"geo\": {\"bgcolor\": \"white\", \"lakecolor\": \"white\", \"landcolor\": \"#E5ECF6\", \"showlakes\": true, \"showland\": true, \"subunitcolor\": \"white\"}, \"hoverlabel\": {\"align\": \"left\"}, \"hovermode\": \"closest\", \"mapbox\": {\"style\": \"light\"}, \"paper_bgcolor\": \"white\", \"plot_bgcolor\": \"#E5ECF6\", \"polar\": {\"angularaxis\": {\"gridcolor\": \"white\", \"linecolor\": \"white\", \"ticks\": \"\"}, \"bgcolor\": \"#E5ECF6\", \"radialaxis\": {\"gridcolor\": \"white\", \"linecolor\": \"white\", \"ticks\": \"\"}}, \"scene\": {\"xaxis\": {\"backgroundcolor\": \"#E5ECF6\", \"gridcolor\": \"white\", \"gridwidth\": 2, \"linecolor\": \"white\", \"showbackground\": true, \"ticks\": \"\", \"zerolinecolor\": \"white\"}, \"yaxis\": {\"backgroundcolor\": \"#E5ECF6\", \"gridcolor\": \"white\", \"gridwidth\": 2, \"linecolor\": \"white\", \"showbackground\": true, \"ticks\": \"\", \"zerolinecolor\": \"white\"}, \"zaxis\": {\"backgroundcolor\": \"#E5ECF6\", \"gridcolor\": \"white\", \"gridwidth\": 2, \"linecolor\": \"white\", \"showbackground\": true, \"ticks\": \"\", \"zerolinecolor\": \"white\"}}, \"shapedefaults\": {\"line\": {\"color\": \"#2a3f5f\"}}, \"ternary\": {\"aaxis\": {\"gridcolor\": \"white\", \"linecolor\": \"white\", \"ticks\": \"\"}, \"baxis\": {\"gridcolor\": \"white\", \"linecolor\": \"white\", \"ticks\": \"\"}, \"bgcolor\": \"#E5ECF6\", \"caxis\": {\"gridcolor\": \"white\", \"linecolor\": \"white\", \"ticks\": \"\"}}, \"title\": {\"x\": 0.05}, \"xaxis\": {\"automargin\": true, \"gridcolor\": \"white\", \"linecolor\": \"white\", \"ticks\": \"\", \"title\": {\"standoff\": 15}, \"zerolinecolor\": \"white\", \"zerolinewidth\": 2}, \"yaxis\": {\"automargin\": true, \"gridcolor\": \"white\", \"linecolor\": \"white\", \"ticks\": \"\", \"title\": {\"standoff\": 15}, \"zerolinecolor\": \"white\", \"zerolinewidth\": 2}}}, \"title\": {\"font\": {\"color\": \"#4D5663\"}}, \"xaxis\": {\"gridcolor\": \"#E1E5ED\", \"showgrid\": true, \"tickfont\": {\"color\": \"#4D5663\"}, \"title\": {\"font\": {\"color\": \"#4D5663\"}, \"text\": \"\"}, \"zerolinecolor\": \"#E1E5ED\"}, \"yaxis\": {\"gridcolor\": \"#E1E5ED\", \"showgrid\": true, \"tickfont\": {\"color\": \"#4D5663\"}, \"title\": {\"font\": {\"color\": \"#4D5663\"}, \"text\": \"\"}, \"zerolinecolor\": \"#E1E5ED\"}},                        {\"showLink\": true, \"linkText\": \"Export to plot.ly\", \"plotlyServerURL\": \"https://plot.ly\", \"responsive\": true}                    ).then(function(){\n",
       "                            \n",
       "var gd = document.getElementById('f0861651-b71b-4478-9d2a-90d9e7ffb5ec');\n",
       "var x = new MutationObserver(function (mutations, observer) {{\n",
       "        var display = window.getComputedStyle(gd).display;\n",
       "        if (!display || display === 'none') {{\n",
       "            console.log([gd, 'removed!']);\n",
       "            Plotly.purge(gd);\n",
       "            observer.disconnect();\n",
       "        }}\n",
       "}});\n",
       "\n",
       "// Listen for the removal of the full notebook cells\n",
       "var notebookContainer = gd.closest('#notebook-container');\n",
       "if (notebookContainer) {{\n",
       "    x.observe(notebookContainer, {childList: true});\n",
       "}}\n",
       "\n",
       "// Listen for the clearing of the current output cell\n",
       "var outputEl = gd.closest('.output');\n",
       "if (outputEl) {{\n",
       "    x.observe(outputEl, {childList: true});\n",
       "}}\n",
       "\n",
       "                        })                };                });            </script>        </div>"
      ]
     },
     "metadata": {},
     "output_type": "display_data"
    }
   ],
   "source": [
    "df2.iplot(kind='bar',x='Categoria',y='Valores')"
   ]
  },
  {
   "cell_type": "code",
   "execution_count": 14,
   "metadata": {},
   "outputs": [
    {
     "data": {
      "application/vnd.plotly.v1+json": {
       "config": {
        "linkText": "Export to plot.ly",
        "plotlyServerURL": "https://plot.ly",
        "showLink": true
       },
       "data": [
        {
         "marker": {
          "color": "rgba(255, 153, 51, 0.6)",
          "line": {
           "color": "rgba(255, 153, 51, 1.0)",
           "width": 1
          }
         },
         "name": "None",
         "orientation": "v",
         "text": "",
         "type": "bar",
         "x": [
          "A",
          "B",
          "C",
          "D"
         ],
         "y": [
          100,
          100,
          100,
          100
         ]
        }
       ],
       "layout": {
        "legend": {
         "bgcolor": "#F5F6F9",
         "font": {
          "color": "#4D5663"
         }
        },
        "paper_bgcolor": "#F5F6F9",
        "plot_bgcolor": "#F5F6F9",
        "template": {
         "data": {
          "bar": [
           {
            "error_x": {
             "color": "#2a3f5f"
            },
            "error_y": {
             "color": "#2a3f5f"
            },
            "marker": {
             "line": {
              "color": "#E5ECF6",
              "width": 0.5
             }
            },
            "type": "bar"
           }
          ],
          "barpolar": [
           {
            "marker": {
             "line": {
              "color": "#E5ECF6",
              "width": 0.5
             }
            },
            "type": "barpolar"
           }
          ],
          "carpet": [
           {
            "aaxis": {
             "endlinecolor": "#2a3f5f",
             "gridcolor": "white",
             "linecolor": "white",
             "minorgridcolor": "white",
             "startlinecolor": "#2a3f5f"
            },
            "baxis": {
             "endlinecolor": "#2a3f5f",
             "gridcolor": "white",
             "linecolor": "white",
             "minorgridcolor": "white",
             "startlinecolor": "#2a3f5f"
            },
            "type": "carpet"
           }
          ],
          "choropleth": [
           {
            "colorbar": {
             "outlinewidth": 0,
             "ticks": ""
            },
            "type": "choropleth"
           }
          ],
          "contour": [
           {
            "colorbar": {
             "outlinewidth": 0,
             "ticks": ""
            },
            "colorscale": [
             [
              0,
              "#0d0887"
             ],
             [
              0.1111111111111111,
              "#46039f"
             ],
             [
              0.2222222222222222,
              "#7201a8"
             ],
             [
              0.3333333333333333,
              "#9c179e"
             ],
             [
              0.4444444444444444,
              "#bd3786"
             ],
             [
              0.5555555555555556,
              "#d8576b"
             ],
             [
              0.6666666666666666,
              "#ed7953"
             ],
             [
              0.7777777777777778,
              "#fb9f3a"
             ],
             [
              0.8888888888888888,
              "#fdca26"
             ],
             [
              1,
              "#f0f921"
             ]
            ],
            "type": "contour"
           }
          ],
          "contourcarpet": [
           {
            "colorbar": {
             "outlinewidth": 0,
             "ticks": ""
            },
            "type": "contourcarpet"
           }
          ],
          "heatmap": [
           {
            "colorbar": {
             "outlinewidth": 0,
             "ticks": ""
            },
            "colorscale": [
             [
              0,
              "#0d0887"
             ],
             [
              0.1111111111111111,
              "#46039f"
             ],
             [
              0.2222222222222222,
              "#7201a8"
             ],
             [
              0.3333333333333333,
              "#9c179e"
             ],
             [
              0.4444444444444444,
              "#bd3786"
             ],
             [
              0.5555555555555556,
              "#d8576b"
             ],
             [
              0.6666666666666666,
              "#ed7953"
             ],
             [
              0.7777777777777778,
              "#fb9f3a"
             ],
             [
              0.8888888888888888,
              "#fdca26"
             ],
             [
              1,
              "#f0f921"
             ]
            ],
            "type": "heatmap"
           }
          ],
          "heatmapgl": [
           {
            "colorbar": {
             "outlinewidth": 0,
             "ticks": ""
            },
            "colorscale": [
             [
              0,
              "#0d0887"
             ],
             [
              0.1111111111111111,
              "#46039f"
             ],
             [
              0.2222222222222222,
              "#7201a8"
             ],
             [
              0.3333333333333333,
              "#9c179e"
             ],
             [
              0.4444444444444444,
              "#bd3786"
             ],
             [
              0.5555555555555556,
              "#d8576b"
             ],
             [
              0.6666666666666666,
              "#ed7953"
             ],
             [
              0.7777777777777778,
              "#fb9f3a"
             ],
             [
              0.8888888888888888,
              "#fdca26"
             ],
             [
              1,
              "#f0f921"
             ]
            ],
            "type": "heatmapgl"
           }
          ],
          "histogram": [
           {
            "marker": {
             "colorbar": {
              "outlinewidth": 0,
              "ticks": ""
             }
            },
            "type": "histogram"
           }
          ],
          "histogram2d": [
           {
            "colorbar": {
             "outlinewidth": 0,
             "ticks": ""
            },
            "colorscale": [
             [
              0,
              "#0d0887"
             ],
             [
              0.1111111111111111,
              "#46039f"
             ],
             [
              0.2222222222222222,
              "#7201a8"
             ],
             [
              0.3333333333333333,
              "#9c179e"
             ],
             [
              0.4444444444444444,
              "#bd3786"
             ],
             [
              0.5555555555555556,
              "#d8576b"
             ],
             [
              0.6666666666666666,
              "#ed7953"
             ],
             [
              0.7777777777777778,
              "#fb9f3a"
             ],
             [
              0.8888888888888888,
              "#fdca26"
             ],
             [
              1,
              "#f0f921"
             ]
            ],
            "type": "histogram2d"
           }
          ],
          "histogram2dcontour": [
           {
            "colorbar": {
             "outlinewidth": 0,
             "ticks": ""
            },
            "colorscale": [
             [
              0,
              "#0d0887"
             ],
             [
              0.1111111111111111,
              "#46039f"
             ],
             [
              0.2222222222222222,
              "#7201a8"
             ],
             [
              0.3333333333333333,
              "#9c179e"
             ],
             [
              0.4444444444444444,
              "#bd3786"
             ],
             [
              0.5555555555555556,
              "#d8576b"
             ],
             [
              0.6666666666666666,
              "#ed7953"
             ],
             [
              0.7777777777777778,
              "#fb9f3a"
             ],
             [
              0.8888888888888888,
              "#fdca26"
             ],
             [
              1,
              "#f0f921"
             ]
            ],
            "type": "histogram2dcontour"
           }
          ],
          "mesh3d": [
           {
            "colorbar": {
             "outlinewidth": 0,
             "ticks": ""
            },
            "type": "mesh3d"
           }
          ],
          "parcoords": [
           {
            "line": {
             "colorbar": {
              "outlinewidth": 0,
              "ticks": ""
             }
            },
            "type": "parcoords"
           }
          ],
          "pie": [
           {
            "automargin": true,
            "type": "pie"
           }
          ],
          "scatter": [
           {
            "marker": {
             "colorbar": {
              "outlinewidth": 0,
              "ticks": ""
             }
            },
            "type": "scatter"
           }
          ],
          "scatter3d": [
           {
            "line": {
             "colorbar": {
              "outlinewidth": 0,
              "ticks": ""
             }
            },
            "marker": {
             "colorbar": {
              "outlinewidth": 0,
              "ticks": ""
             }
            },
            "type": "scatter3d"
           }
          ],
          "scattercarpet": [
           {
            "marker": {
             "colorbar": {
              "outlinewidth": 0,
              "ticks": ""
             }
            },
            "type": "scattercarpet"
           }
          ],
          "scattergeo": [
           {
            "marker": {
             "colorbar": {
              "outlinewidth": 0,
              "ticks": ""
             }
            },
            "type": "scattergeo"
           }
          ],
          "scattergl": [
           {
            "marker": {
             "colorbar": {
              "outlinewidth": 0,
              "ticks": ""
             }
            },
            "type": "scattergl"
           }
          ],
          "scattermapbox": [
           {
            "marker": {
             "colorbar": {
              "outlinewidth": 0,
              "ticks": ""
             }
            },
            "type": "scattermapbox"
           }
          ],
          "scatterpolar": [
           {
            "marker": {
             "colorbar": {
              "outlinewidth": 0,
              "ticks": ""
             }
            },
            "type": "scatterpolar"
           }
          ],
          "scatterpolargl": [
           {
            "marker": {
             "colorbar": {
              "outlinewidth": 0,
              "ticks": ""
             }
            },
            "type": "scatterpolargl"
           }
          ],
          "scatterternary": [
           {
            "marker": {
             "colorbar": {
              "outlinewidth": 0,
              "ticks": ""
             }
            },
            "type": "scatterternary"
           }
          ],
          "surface": [
           {
            "colorbar": {
             "outlinewidth": 0,
             "ticks": ""
            },
            "colorscale": [
             [
              0,
              "#0d0887"
             ],
             [
              0.1111111111111111,
              "#46039f"
             ],
             [
              0.2222222222222222,
              "#7201a8"
             ],
             [
              0.3333333333333333,
              "#9c179e"
             ],
             [
              0.4444444444444444,
              "#bd3786"
             ],
             [
              0.5555555555555556,
              "#d8576b"
             ],
             [
              0.6666666666666666,
              "#ed7953"
             ],
             [
              0.7777777777777778,
              "#fb9f3a"
             ],
             [
              0.8888888888888888,
              "#fdca26"
             ],
             [
              1,
              "#f0f921"
             ]
            ],
            "type": "surface"
           }
          ],
          "table": [
           {
            "cells": {
             "fill": {
              "color": "#EBF0F8"
             },
             "line": {
              "color": "white"
             }
            },
            "header": {
             "fill": {
              "color": "#C8D4E3"
             },
             "line": {
              "color": "white"
             }
            },
            "type": "table"
           }
          ]
         },
         "layout": {
          "annotationdefaults": {
           "arrowcolor": "#2a3f5f",
           "arrowhead": 0,
           "arrowwidth": 1
          },
          "autotypenumbers": "strict",
          "coloraxis": {
           "colorbar": {
            "outlinewidth": 0,
            "ticks": ""
           }
          },
          "colorscale": {
           "diverging": [
            [
             0,
             "#8e0152"
            ],
            [
             0.1,
             "#c51b7d"
            ],
            [
             0.2,
             "#de77ae"
            ],
            [
             0.3,
             "#f1b6da"
            ],
            [
             0.4,
             "#fde0ef"
            ],
            [
             0.5,
             "#f7f7f7"
            ],
            [
             0.6,
             "#e6f5d0"
            ],
            [
             0.7,
             "#b8e186"
            ],
            [
             0.8,
             "#7fbc41"
            ],
            [
             0.9,
             "#4d9221"
            ],
            [
             1,
             "#276419"
            ]
           ],
           "sequential": [
            [
             0,
             "#0d0887"
            ],
            [
             0.1111111111111111,
             "#46039f"
            ],
            [
             0.2222222222222222,
             "#7201a8"
            ],
            [
             0.3333333333333333,
             "#9c179e"
            ],
            [
             0.4444444444444444,
             "#bd3786"
            ],
            [
             0.5555555555555556,
             "#d8576b"
            ],
            [
             0.6666666666666666,
             "#ed7953"
            ],
            [
             0.7777777777777778,
             "#fb9f3a"
            ],
            [
             0.8888888888888888,
             "#fdca26"
            ],
            [
             1,
             "#f0f921"
            ]
           ],
           "sequentialminus": [
            [
             0,
             "#0d0887"
            ],
            [
             0.1111111111111111,
             "#46039f"
            ],
            [
             0.2222222222222222,
             "#7201a8"
            ],
            [
             0.3333333333333333,
             "#9c179e"
            ],
            [
             0.4444444444444444,
             "#bd3786"
            ],
            [
             0.5555555555555556,
             "#d8576b"
            ],
            [
             0.6666666666666666,
             "#ed7953"
            ],
            [
             0.7777777777777778,
             "#fb9f3a"
            ],
            [
             0.8888888888888888,
             "#fdca26"
            ],
            [
             1,
             "#f0f921"
            ]
           ]
          },
          "colorway": [
           "#636efa",
           "#EF553B",
           "#00cc96",
           "#ab63fa",
           "#FFA15A",
           "#19d3f3",
           "#FF6692",
           "#B6E880",
           "#FF97FF",
           "#FECB52"
          ],
          "font": {
           "color": "#2a3f5f"
          },
          "geo": {
           "bgcolor": "white",
           "lakecolor": "white",
           "landcolor": "#E5ECF6",
           "showlakes": true,
           "showland": true,
           "subunitcolor": "white"
          },
          "hoverlabel": {
           "align": "left"
          },
          "hovermode": "closest",
          "mapbox": {
           "style": "light"
          },
          "paper_bgcolor": "white",
          "plot_bgcolor": "#E5ECF6",
          "polar": {
           "angularaxis": {
            "gridcolor": "white",
            "linecolor": "white",
            "ticks": ""
           },
           "bgcolor": "#E5ECF6",
           "radialaxis": {
            "gridcolor": "white",
            "linecolor": "white",
            "ticks": ""
           }
          },
          "scene": {
           "xaxis": {
            "backgroundcolor": "#E5ECF6",
            "gridcolor": "white",
            "gridwidth": 2,
            "linecolor": "white",
            "showbackground": true,
            "ticks": "",
            "zerolinecolor": "white"
           },
           "yaxis": {
            "backgroundcolor": "#E5ECF6",
            "gridcolor": "white",
            "gridwidth": 2,
            "linecolor": "white",
            "showbackground": true,
            "ticks": "",
            "zerolinecolor": "white"
           },
           "zaxis": {
            "backgroundcolor": "#E5ECF6",
            "gridcolor": "white",
            "gridwidth": 2,
            "linecolor": "white",
            "showbackground": true,
            "ticks": "",
            "zerolinecolor": "white"
           }
          },
          "shapedefaults": {
           "line": {
            "color": "#2a3f5f"
           }
          },
          "ternary": {
           "aaxis": {
            "gridcolor": "white",
            "linecolor": "white",
            "ticks": ""
           },
           "baxis": {
            "gridcolor": "white",
            "linecolor": "white",
            "ticks": ""
           },
           "bgcolor": "#E5ECF6",
           "caxis": {
            "gridcolor": "white",
            "linecolor": "white",
            "ticks": ""
           }
          },
          "title": {
           "x": 0.05
          },
          "xaxis": {
           "automargin": true,
           "gridcolor": "white",
           "linecolor": "white",
           "ticks": "",
           "title": {
            "standoff": 15
           },
           "zerolinecolor": "white",
           "zerolinewidth": 2
          },
          "yaxis": {
           "automargin": true,
           "gridcolor": "white",
           "linecolor": "white",
           "ticks": "",
           "title": {
            "standoff": 15
           },
           "zerolinecolor": "white",
           "zerolinewidth": 2
          }
         }
        },
        "title": {
         "font": {
          "color": "#4D5663"
         }
        },
        "xaxis": {
         "gridcolor": "#E1E5ED",
         "showgrid": true,
         "tickfont": {
          "color": "#4D5663"
         },
         "title": {
          "font": {
           "color": "#4D5663"
          },
          "text": ""
         },
         "zerolinecolor": "#E1E5ED"
        },
        "yaxis": {
         "gridcolor": "#E1E5ED",
         "showgrid": true,
         "tickfont": {
          "color": "#4D5663"
         },
         "title": {
          "font": {
           "color": "#4D5663"
          },
          "text": ""
         },
         "zerolinecolor": "#E1E5ED"
        }
       }
      },
      "text/html": [
       "<div>                            <div id=\"8c689acc-283b-433a-8b3b-9bdeccb9ffc2\" class=\"plotly-graph-div\" style=\"height:525px; width:100%;\"></div>            <script type=\"text/javascript\">                require([\"plotly\"], function(Plotly) {                    window.PLOTLYENV=window.PLOTLYENV || {};\n",
       "                    window.PLOTLYENV.BASE_URL='https://plot.ly';                                    if (document.getElementById(\"8c689acc-283b-433a-8b3b-9bdeccb9ffc2\")) {                    Plotly.newPlot(                        \"8c689acc-283b-433a-8b3b-9bdeccb9ffc2\",                        [{\"marker\": {\"color\": \"rgba(255, 153, 51, 0.6)\", \"line\": {\"color\": \"rgba(255, 153, 51, 1.0)\", \"width\": 1}}, \"name\": \"None\", \"orientation\": \"v\", \"text\": \"\", \"type\": \"bar\", \"x\": [\"A\", \"B\", \"C\", \"D\"], \"y\": [100, 100, 100, 100]}],                        {\"legend\": {\"bgcolor\": \"#F5F6F9\", \"font\": {\"color\": \"#4D5663\"}}, \"paper_bgcolor\": \"#F5F6F9\", \"plot_bgcolor\": \"#F5F6F9\", \"template\": {\"data\": {\"bar\": [{\"error_x\": {\"color\": \"#2a3f5f\"}, \"error_y\": {\"color\": \"#2a3f5f\"}, \"marker\": {\"line\": {\"color\": \"#E5ECF6\", \"width\": 0.5}}, \"type\": \"bar\"}], \"barpolar\": [{\"marker\": {\"line\": {\"color\": \"#E5ECF6\", \"width\": 0.5}}, \"type\": \"barpolar\"}], \"carpet\": [{\"aaxis\": {\"endlinecolor\": \"#2a3f5f\", \"gridcolor\": \"white\", \"linecolor\": \"white\", \"minorgridcolor\": \"white\", \"startlinecolor\": \"#2a3f5f\"}, \"baxis\": {\"endlinecolor\": \"#2a3f5f\", \"gridcolor\": \"white\", \"linecolor\": \"white\", \"minorgridcolor\": \"white\", \"startlinecolor\": \"#2a3f5f\"}, \"type\": \"carpet\"}], \"choropleth\": [{\"colorbar\": {\"outlinewidth\": 0, \"ticks\": \"\"}, \"type\": \"choropleth\"}], \"contour\": [{\"colorbar\": {\"outlinewidth\": 0, \"ticks\": \"\"}, \"colorscale\": [[0.0, \"#0d0887\"], [0.1111111111111111, \"#46039f\"], [0.2222222222222222, \"#7201a8\"], [0.3333333333333333, \"#9c179e\"], [0.4444444444444444, \"#bd3786\"], [0.5555555555555556, \"#d8576b\"], [0.6666666666666666, \"#ed7953\"], [0.7777777777777778, \"#fb9f3a\"], [0.8888888888888888, \"#fdca26\"], [1.0, \"#f0f921\"]], \"type\": \"contour\"}], \"contourcarpet\": [{\"colorbar\": {\"outlinewidth\": 0, \"ticks\": \"\"}, \"type\": \"contourcarpet\"}], \"heatmap\": [{\"colorbar\": {\"outlinewidth\": 0, \"ticks\": \"\"}, \"colorscale\": [[0.0, \"#0d0887\"], [0.1111111111111111, \"#46039f\"], [0.2222222222222222, \"#7201a8\"], [0.3333333333333333, \"#9c179e\"], [0.4444444444444444, \"#bd3786\"], [0.5555555555555556, \"#d8576b\"], [0.6666666666666666, \"#ed7953\"], [0.7777777777777778, \"#fb9f3a\"], [0.8888888888888888, \"#fdca26\"], [1.0, \"#f0f921\"]], \"type\": \"heatmap\"}], \"heatmapgl\": [{\"colorbar\": {\"outlinewidth\": 0, \"ticks\": \"\"}, \"colorscale\": [[0.0, \"#0d0887\"], [0.1111111111111111, \"#46039f\"], [0.2222222222222222, \"#7201a8\"], [0.3333333333333333, \"#9c179e\"], [0.4444444444444444, \"#bd3786\"], [0.5555555555555556, \"#d8576b\"], [0.6666666666666666, \"#ed7953\"], [0.7777777777777778, \"#fb9f3a\"], [0.8888888888888888, \"#fdca26\"], [1.0, \"#f0f921\"]], \"type\": \"heatmapgl\"}], \"histogram\": [{\"marker\": {\"colorbar\": {\"outlinewidth\": 0, \"ticks\": \"\"}}, \"type\": \"histogram\"}], \"histogram2d\": [{\"colorbar\": {\"outlinewidth\": 0, \"ticks\": \"\"}, \"colorscale\": [[0.0, \"#0d0887\"], [0.1111111111111111, \"#46039f\"], [0.2222222222222222, \"#7201a8\"], [0.3333333333333333, \"#9c179e\"], [0.4444444444444444, \"#bd3786\"], [0.5555555555555556, \"#d8576b\"], [0.6666666666666666, \"#ed7953\"], [0.7777777777777778, \"#fb9f3a\"], [0.8888888888888888, \"#fdca26\"], [1.0, \"#f0f921\"]], \"type\": \"histogram2d\"}], \"histogram2dcontour\": [{\"colorbar\": {\"outlinewidth\": 0, \"ticks\": \"\"}, \"colorscale\": [[0.0, \"#0d0887\"], [0.1111111111111111, \"#46039f\"], [0.2222222222222222, \"#7201a8\"], [0.3333333333333333, \"#9c179e\"], [0.4444444444444444, \"#bd3786\"], [0.5555555555555556, \"#d8576b\"], [0.6666666666666666, \"#ed7953\"], [0.7777777777777778, \"#fb9f3a\"], [0.8888888888888888, \"#fdca26\"], [1.0, \"#f0f921\"]], \"type\": \"histogram2dcontour\"}], \"mesh3d\": [{\"colorbar\": {\"outlinewidth\": 0, \"ticks\": \"\"}, \"type\": \"mesh3d\"}], \"parcoords\": [{\"line\": {\"colorbar\": {\"outlinewidth\": 0, \"ticks\": \"\"}}, \"type\": \"parcoords\"}], \"pie\": [{\"automargin\": true, \"type\": \"pie\"}], \"scatter\": [{\"marker\": {\"colorbar\": {\"outlinewidth\": 0, \"ticks\": \"\"}}, \"type\": \"scatter\"}], \"scatter3d\": [{\"line\": {\"colorbar\": {\"outlinewidth\": 0, \"ticks\": \"\"}}, \"marker\": {\"colorbar\": {\"outlinewidth\": 0, \"ticks\": \"\"}}, \"type\": \"scatter3d\"}], \"scattercarpet\": [{\"marker\": {\"colorbar\": {\"outlinewidth\": 0, \"ticks\": \"\"}}, \"type\": \"scattercarpet\"}], \"scattergeo\": [{\"marker\": {\"colorbar\": {\"outlinewidth\": 0, \"ticks\": \"\"}}, \"type\": \"scattergeo\"}], \"scattergl\": [{\"marker\": {\"colorbar\": {\"outlinewidth\": 0, \"ticks\": \"\"}}, \"type\": \"scattergl\"}], \"scattermapbox\": [{\"marker\": {\"colorbar\": {\"outlinewidth\": 0, \"ticks\": \"\"}}, \"type\": \"scattermapbox\"}], \"scatterpolar\": [{\"marker\": {\"colorbar\": {\"outlinewidth\": 0, \"ticks\": \"\"}}, \"type\": \"scatterpolar\"}], \"scatterpolargl\": [{\"marker\": {\"colorbar\": {\"outlinewidth\": 0, \"ticks\": \"\"}}, \"type\": \"scatterpolargl\"}], \"scatterternary\": [{\"marker\": {\"colorbar\": {\"outlinewidth\": 0, \"ticks\": \"\"}}, \"type\": \"scatterternary\"}], \"surface\": [{\"colorbar\": {\"outlinewidth\": 0, \"ticks\": \"\"}, \"colorscale\": [[0.0, \"#0d0887\"], [0.1111111111111111, \"#46039f\"], [0.2222222222222222, \"#7201a8\"], [0.3333333333333333, \"#9c179e\"], [0.4444444444444444, \"#bd3786\"], [0.5555555555555556, \"#d8576b\"], [0.6666666666666666, \"#ed7953\"], [0.7777777777777778, \"#fb9f3a\"], [0.8888888888888888, \"#fdca26\"], [1.0, \"#f0f921\"]], \"type\": \"surface\"}], \"table\": [{\"cells\": {\"fill\": {\"color\": \"#EBF0F8\"}, \"line\": {\"color\": \"white\"}}, \"header\": {\"fill\": {\"color\": \"#C8D4E3\"}, \"line\": {\"color\": \"white\"}}, \"type\": \"table\"}]}, \"layout\": {\"annotationdefaults\": {\"arrowcolor\": \"#2a3f5f\", \"arrowhead\": 0, \"arrowwidth\": 1}, \"autotypenumbers\": \"strict\", \"coloraxis\": {\"colorbar\": {\"outlinewidth\": 0, \"ticks\": \"\"}}, \"colorscale\": {\"diverging\": [[0, \"#8e0152\"], [0.1, \"#c51b7d\"], [0.2, \"#de77ae\"], [0.3, \"#f1b6da\"], [0.4, \"#fde0ef\"], [0.5, \"#f7f7f7\"], [0.6, \"#e6f5d0\"], [0.7, \"#b8e186\"], [0.8, \"#7fbc41\"], [0.9, \"#4d9221\"], [1, \"#276419\"]], \"sequential\": [[0.0, \"#0d0887\"], [0.1111111111111111, \"#46039f\"], [0.2222222222222222, \"#7201a8\"], [0.3333333333333333, \"#9c179e\"], [0.4444444444444444, \"#bd3786\"], [0.5555555555555556, \"#d8576b\"], [0.6666666666666666, \"#ed7953\"], [0.7777777777777778, \"#fb9f3a\"], [0.8888888888888888, \"#fdca26\"], [1.0, \"#f0f921\"]], \"sequentialminus\": [[0.0, \"#0d0887\"], [0.1111111111111111, \"#46039f\"], [0.2222222222222222, \"#7201a8\"], [0.3333333333333333, \"#9c179e\"], [0.4444444444444444, \"#bd3786\"], [0.5555555555555556, \"#d8576b\"], [0.6666666666666666, \"#ed7953\"], [0.7777777777777778, \"#fb9f3a\"], [0.8888888888888888, \"#fdca26\"], [1.0, \"#f0f921\"]]}, \"colorway\": [\"#636efa\", \"#EF553B\", \"#00cc96\", \"#ab63fa\", \"#FFA15A\", \"#19d3f3\", \"#FF6692\", \"#B6E880\", \"#FF97FF\", \"#FECB52\"], \"font\": {\"color\": \"#2a3f5f\"}, \"geo\": {\"bgcolor\": \"white\", \"lakecolor\": \"white\", \"landcolor\": \"#E5ECF6\", \"showlakes\": true, \"showland\": true, \"subunitcolor\": \"white\"}, \"hoverlabel\": {\"align\": \"left\"}, \"hovermode\": \"closest\", \"mapbox\": {\"style\": \"light\"}, \"paper_bgcolor\": \"white\", \"plot_bgcolor\": \"#E5ECF6\", \"polar\": {\"angularaxis\": {\"gridcolor\": \"white\", \"linecolor\": \"white\", \"ticks\": \"\"}, \"bgcolor\": \"#E5ECF6\", \"radialaxis\": {\"gridcolor\": \"white\", \"linecolor\": \"white\", \"ticks\": \"\"}}, \"scene\": {\"xaxis\": {\"backgroundcolor\": \"#E5ECF6\", \"gridcolor\": \"white\", \"gridwidth\": 2, \"linecolor\": \"white\", \"showbackground\": true, \"ticks\": \"\", \"zerolinecolor\": \"white\"}, \"yaxis\": {\"backgroundcolor\": \"#E5ECF6\", \"gridcolor\": \"white\", \"gridwidth\": 2, \"linecolor\": \"white\", \"showbackground\": true, \"ticks\": \"\", \"zerolinecolor\": \"white\"}, \"zaxis\": {\"backgroundcolor\": \"#E5ECF6\", \"gridcolor\": \"white\", \"gridwidth\": 2, \"linecolor\": \"white\", \"showbackground\": true, \"ticks\": \"\", \"zerolinecolor\": \"white\"}}, \"shapedefaults\": {\"line\": {\"color\": \"#2a3f5f\"}}, \"ternary\": {\"aaxis\": {\"gridcolor\": \"white\", \"linecolor\": \"white\", \"ticks\": \"\"}, \"baxis\": {\"gridcolor\": \"white\", \"linecolor\": \"white\", \"ticks\": \"\"}, \"bgcolor\": \"#E5ECF6\", \"caxis\": {\"gridcolor\": \"white\", \"linecolor\": \"white\", \"ticks\": \"\"}}, \"title\": {\"x\": 0.05}, \"xaxis\": {\"automargin\": true, \"gridcolor\": \"white\", \"linecolor\": \"white\", \"ticks\": \"\", \"title\": {\"standoff\": 15}, \"zerolinecolor\": \"white\", \"zerolinewidth\": 2}, \"yaxis\": {\"automargin\": true, \"gridcolor\": \"white\", \"linecolor\": \"white\", \"ticks\": \"\", \"title\": {\"standoff\": 15}, \"zerolinecolor\": \"white\", \"zerolinewidth\": 2}}}, \"title\": {\"font\": {\"color\": \"#4D5663\"}}, \"xaxis\": {\"gridcolor\": \"#E1E5ED\", \"showgrid\": true, \"tickfont\": {\"color\": \"#4D5663\"}, \"title\": {\"font\": {\"color\": \"#4D5663\"}, \"text\": \"\"}, \"zerolinecolor\": \"#E1E5ED\"}, \"yaxis\": {\"gridcolor\": \"#E1E5ED\", \"showgrid\": true, \"tickfont\": {\"color\": \"#4D5663\"}, \"title\": {\"font\": {\"color\": \"#4D5663\"}, \"text\": \"\"}, \"zerolinecolor\": \"#E1E5ED\"}},                        {\"showLink\": true, \"linkText\": \"Export to plot.ly\", \"plotlyServerURL\": \"https://plot.ly\", \"responsive\": true}                    ).then(function(){\n",
       "                            \n",
       "var gd = document.getElementById('8c689acc-283b-433a-8b3b-9bdeccb9ffc2');\n",
       "var x = new MutationObserver(function (mutations, observer) {{\n",
       "        var display = window.getComputedStyle(gd).display;\n",
       "        if (!display || display === 'none') {{\n",
       "            console.log([gd, 'removed!']);\n",
       "            Plotly.purge(gd);\n",
       "            observer.disconnect();\n",
       "        }}\n",
       "}});\n",
       "\n",
       "// Listen for the removal of the full notebook cells\n",
       "var notebookContainer = gd.closest('#notebook-container');\n",
       "if (notebookContainer) {{\n",
       "    x.observe(notebookContainer, {childList: true});\n",
       "}}\n",
       "\n",
       "// Listen for the clearing of the current output cell\n",
       "var outputEl = gd.closest('.output');\n",
       "if (outputEl) {{\n",
       "    x.observe(outputEl, {childList: true});\n",
       "}}\n",
       "\n",
       "                        })                };                });            </script>        </div>"
      ]
     },
     "metadata": {},
     "output_type": "display_data"
    }
   ],
   "source": [
    "df.count().iplot(kind='bar')"
   ]
  },
  {
   "cell_type": "markdown",
   "metadata": {},
   "source": [
    "## Boxplots"
   ]
  },
  {
   "cell_type": "code",
   "execution_count": 15,
   "metadata": {},
   "outputs": [
    {
     "data": {
      "application/vnd.plotly.v1+json": {
       "config": {
        "linkText": "Export to plot.ly",
        "plotlyServerURL": "https://plot.ly",
        "showLink": true
       },
       "data": [
        {
         "boxpoints": false,
         "line": {
          "width": 1.3
         },
         "marker": {
          "color": "rgba(255, 153, 51, 1.0)"
         },
         "name": "A",
         "orientation": "v",
         "type": "box",
         "y": [
          -1.8453562462643196,
          -0.20040405303757655,
          -1.1637956456188199,
          0.6205025203423028,
          -0.8390568855527745,
          -1.2174976462691052,
          -0.5640138103328367,
          0.013620573399448279,
          0.40059182767551943,
          -0.5997626758413155,
          0.07726576350156705,
          0.928610877203632,
          0.426972018264773,
          -0.9990060932331011,
          1.078661270762736,
          -0.4513974079092731,
          -1.2643201140490237,
          2.5256077680999685,
          0.41086499908738955,
          -0.04475172187968378,
          0.8233287809051226,
          -0.7271645524645527,
          0.14030657831421076,
          -1.0988235896220555,
          0.7489175266400919,
          0.46582312686492033,
          -0.05288123591202588,
          -1.3670291716449292,
          0.7309050939934914,
          -0.6098667055895841,
          0.5041275128978567,
          2.040048937172921,
          -2.185274683047773,
          1.0196751415031662,
          0.9945470359624125,
          -1.025592479915559,
          -1.267140473022391,
          -0.8689838118146973,
          -0.2236579399824439,
          -1.3097944848343677,
          -0.8414647840651517,
          0.6071895041961782,
          -0.288065793118509,
          -0.0855433340132728,
          1.2362626011306976,
          -0.34103353649966367,
          1.2706087277806368,
          1.5483104445093612,
          0.18539608217150366,
          -0.7546004022350437,
          -0.8326852647100786,
          -1.1021601391805258,
          -1.1929778907431932,
          1.9549439684527512,
          -1.210342094834586,
          0.4060144585650524,
          1.691010701899478,
          -0.8750443198147615,
          1.160394755522703,
          2.275642804498575,
          -0.052481187252204894,
          0.764446349668718,
          0.7748214923293414,
          0.24170402743498778,
          0.28327289936704275,
          0.2467195735483266,
          0.914032725604146,
          -0.08601512694460697,
          0.9489571859474513,
          0.8142978876236726,
          0.7883298154110456,
          -0.32628991344569763,
          0.2301082679624488,
          1.6341593800247989,
          -1.6944753689322416,
          -0.758403852271044,
          0.9422713425820108,
          0.5407768447682212,
          -0.4172833249642221,
          -0.9133540169871017,
          1.2975516807100265,
          0.5348525441513422,
          -0.9491627313232666,
          -0.3285687661985525,
          0.7487839314169843,
          -0.3011044136198415,
          -0.6231469374589843,
          -0.46272480238509744,
          0.751870774961926,
          0.6842338081501783,
          0.1857636597163811,
          0.8977181310333129,
          -0.6380029150186659,
          -0.014892138107339364,
          -1.4264492976702383,
          -1.3625157787787476,
          -0.5037475787792652,
          -0.7209368299148544,
          -0.1853579105123794,
          0.8853425687953029
         ]
        },
        {
         "boxpoints": false,
         "line": {
          "width": 1.3
         },
         "marker": {
          "color": "rgba(55, 128, 191, 1.0)"
         },
         "name": "B",
         "orientation": "v",
         "type": "box",
         "y": [
          -0.918051978935254,
          -2.7056575029327217,
          -0.26581756141055396,
          2.7780920157639803,
          -0.8734279386889949,
          -0.06334899773831265,
          1.4821560963767562,
          0.3720351753435628,
          2.289468082163019,
          -0.8374384578030118,
          -2.108703088038587,
          0.9788520364174591,
          1.4650258305467085,
          1.2415652263814414,
          1.0310626547555006,
          -0.3122406935164411,
          -0.14735613041299925,
          0.33275767892759495,
          -0.1161274919960927,
          0.281205976719588,
          -0.14951869895483794,
          0.41174605696281846,
          2.354209612658942,
          2.092110024373878,
          -0.844565089723117,
          -1.5305136905849483,
          -0.4080953430172473,
          -0.49831975030647513,
          0.532663605513584,
          0.16759861208915242,
          0.46247832654774845,
          0.38741399084499084,
          -1.8520213138080566,
          -0.019018730510986254,
          -1.0113286481308315,
          -1.0929063112561626,
          -0.7089062318588992,
          -0.49640898092235836,
          -0.9734721463692066,
          0.5801554907558394,
          -0.06540899964125191,
          -0.6111002896985552,
          0.45438818782559776,
          0.4785280675226295,
          1.2923482368164383,
          -0.5748394916445265,
          0.43943437190379214,
          -1.4174040567585227,
          -0.7319800748374122,
          -0.29265216113961545,
          -0.36087379702803224,
          -0.04027675520163823,
          -0.24063564992242378,
          -1.2436397165116935,
          -0.6380650947146708,
          -1.194083286516507,
          0.1779335575301587,
          -0.5384113135074421,
          0.2915091190224508,
          0.466796616138699,
          -0.43114256548016455,
          1.2786748208881396,
          1.4078719927900933,
          0.14674226717423464,
          -0.029148341361593073,
          -1.0673227647170362,
          -0.6376233349993639,
          -0.17509268696626795,
          -0.4170870697877158,
          0.4159894756560567,
          -2.208839366952025,
          1.1269460290850897,
          -0.4095692566448082,
          0.7856726897159855,
          -1.490180580048176,
          -1.617147938156026,
          0.4365288533186661,
          -2.32656190655788,
          0.15681159571219597,
          0.5391784367802614,
          -0.5002333680231703,
          0.6548667984163916,
          0.27970593897368917,
          -0.7844703375909428,
          0.9073102317074612,
          -1.1835772548443797,
          -1.1252365576347547,
          -0.31910636809035,
          -0.7706391044036293,
          1.5932069582471045,
          -1.4300111814134815,
          0.09777836056991747,
          0.21906285684508117,
          -0.025607437932308883,
          -1.0696693509127029,
          0.058516669742657644,
          -0.3377730316094605,
          -0.7808950376846182,
          0.5148406510673026,
          -0.6532931427041353
         ]
        },
        {
         "boxpoints": false,
         "line": {
          "width": 1.3
         },
         "marker": {
          "color": "rgba(50, 171, 96, 1.0)"
         },
         "name": "C",
         "orientation": "v",
         "type": "box",
         "y": [
          -0.277526268880154,
          1.8806378896944345,
          0.5375396639187595,
          -0.23305474120718497,
          -1.3821896730588017,
          1.025259435993224,
          -0.09718663235788895,
          -0.8354318558470502,
          -0.9554132107877621,
          -0.9980120158071458,
          -0.7288446678912462,
          -0.09800589833805058,
          0.4142448507363215,
          0.8930469136911544,
          -1.3154328314067614,
          -1.0787057467905357,
          -1.4023916791873683,
          -0.5119184069337409,
          -1.1088443091663442,
          -2.0937764404176358,
          0.11965814021413287,
          0.014535947236977095,
          -0.9143356475413426,
          0.19868604209706775,
          0.3579958528661736,
          0.21904242410495528,
          0.31162477836671676,
          -0.8998869556253257,
          1.6066631635219826,
          1.3656132922140805,
          -1.6598489854498533,
          -0.5527174648713857,
          0.6951101679076586,
          0.7516151949165328,
          0.7786933724609784,
          0.4766867477108337,
          -0.17144337973890908,
          0.23451231613527032,
          0.8988743742269301,
          0.2911750095516407,
          0.29810426701672227,
          -0.6594490981096367,
          -0.9656491217788379,
          -0.8500173835479492,
          -0.75432673338305,
          0.0844725891951118,
          -0.14184019787176547,
          0.2660853672997226,
          -0.7610129991979636,
          -0.04117765919514578,
          -0.9985293461976696,
          0.06749302036218557,
          1.2554585501336368,
          1.1185878363246051,
          0.5860708559698183,
          -1.9131282637858404,
          1.2062112575773272,
          0.5387575022359602,
          -1.1381452377237462,
          0.1809719774956799,
          -2.5715021298407965,
          0.059962622748691505,
          0.07732076913620874,
          -0.8651373884301342,
          0.29346528328831206,
          1.5738460269574914,
          0.5710476800970452,
          -0.2281222832467052,
          0.4329254522143724,
          -0.8058356408865905,
          -1.8283622176542802,
          0.012648032752178408,
          1.087145802022887,
          1.2401656494506434,
          1.3606613435368604,
          1.9777769083614607,
          1.1204220324793175,
          2.15724221605289,
          0.12412886668282784,
          -0.912610229607422,
          -0.11798779858281276,
          0.3544154955218318,
          1.1336664687547644,
          -0.34016632606422975,
          0.5417409572516666,
          -1.2090432994150027,
          -0.42541552008403116,
          2.1722996121439175,
          -0.21381167123162242,
          -1.8180496867074007,
          1.6885450083464077,
          -0.5574374806984402,
          0.760069366299482,
          -0.18149211511086832,
          1.1721397473163495,
          0.12434777818730382,
          0.6675931694222231,
          0.922444871131447,
          -0.1631368335189949,
          0.3537426852288049
         ]
        },
        {
         "boxpoints": false,
         "line": {
          "width": 1.3
         },
         "marker": {
          "color": "rgba(128, 0, 128, 1.0)"
         },
         "name": "D",
         "orientation": "v",
         "type": "box",
         "y": [
          -0.20288954987522298,
          0.47562781170015117,
          1.0954645050360055,
          0.05142270605075998,
          0.7773838232433251,
          0.007190802121658992,
          0.9330330366472316,
          0.25278957453202155,
          0.7912842769059294,
          -1.5080542550000453,
          -0.8544406084751497,
          -1.134729595263459,
          0.05825979368071219,
          0.2146463696921684,
          0.04662013326171583,
          0.5540938951604478,
          0.05337064123212655,
          0.4015398892594597,
          -0.537877282571492,
          -0.01356767963942102,
          1.12291981823085,
          -0.16991722703743997,
          -2.1649621368124365,
          0.646625372085061,
          -0.9436215511212397,
          -0.017092998021010358,
          -1.6929617303353777,
          -0.7472908580009684,
          -0.07448294099397612,
          -0.8229027954852032,
          1.8220565241827829,
          -0.4711541363054006,
          -0.3875045445647151,
          -0.6569686142157253,
          0.7332218380745128,
          -0.5570759097518201,
          1.0723471241184808,
          0.33430570074168875,
          -0.9243664465918211,
          0.1505965722469187,
          -1.056428401340786,
          -1.305043252718549,
          0.11578289000731946,
          0.4437189810986824,
          0.22954717368797098,
          0.029304543103711386,
          -0.39513029151026724,
          -0.8235530546317273,
          -1.9523295724970102,
          -1.177665128287269,
          -1.0095064617371476,
          0.7790840607890945,
          0.05894009941627537,
          -0.5433540023291886,
          1.085779479815206,
          0.7826441852428289,
          1.2150677355363977,
          -0.9204910295828099,
          -1.362688844712512,
          0.2770998736837296,
          -0.3225260542372228,
          -1.0748471038034475,
          -0.40758303493437886,
          0.8829258375427694,
          0.06564100695825047,
          -1.0880140266922238,
          0.05593835976329027,
          -1.1429599994130628,
          -1.7083542168907964,
          -0.48180739894069535,
          0.39476090460733554,
          -0.48966789895414564,
          0.7684063158809339,
          -0.5997280018599644,
          -0.29185382061886356,
          1.1365401579715937,
          0.6055377918111082,
          -0.3986381493243074,
          -0.9435626869936969,
          -0.7538986282295188,
          0.009796039565694662,
          -0.574232744454487,
          -0.04360582490458948,
          0.5821706968080934,
          0.3154086450269751,
          -1.2217113360268572,
          0.4656273186652484,
          1.2087959710178389,
          1.5239697315533887,
          -0.9937878298669706,
          0.9487735570869901,
          -0.4087578570843467,
          -0.16658630197250793,
          1.0960447241009474,
          -0.0028087670297548585,
          2.885884320062406,
          -0.45319803048317137,
          0.7145396301239757,
          -0.5574697507340491,
          1.2396881764991705
         ]
        }
       ],
       "layout": {
        "legend": {
         "bgcolor": "#F5F6F9",
         "font": {
          "color": "#4D5663"
         }
        },
        "paper_bgcolor": "#F5F6F9",
        "plot_bgcolor": "#F5F6F9",
        "template": {
         "data": {
          "bar": [
           {
            "error_x": {
             "color": "#2a3f5f"
            },
            "error_y": {
             "color": "#2a3f5f"
            },
            "marker": {
             "line": {
              "color": "#E5ECF6",
              "width": 0.5
             }
            },
            "type": "bar"
           }
          ],
          "barpolar": [
           {
            "marker": {
             "line": {
              "color": "#E5ECF6",
              "width": 0.5
             }
            },
            "type": "barpolar"
           }
          ],
          "carpet": [
           {
            "aaxis": {
             "endlinecolor": "#2a3f5f",
             "gridcolor": "white",
             "linecolor": "white",
             "minorgridcolor": "white",
             "startlinecolor": "#2a3f5f"
            },
            "baxis": {
             "endlinecolor": "#2a3f5f",
             "gridcolor": "white",
             "linecolor": "white",
             "minorgridcolor": "white",
             "startlinecolor": "#2a3f5f"
            },
            "type": "carpet"
           }
          ],
          "choropleth": [
           {
            "colorbar": {
             "outlinewidth": 0,
             "ticks": ""
            },
            "type": "choropleth"
           }
          ],
          "contour": [
           {
            "colorbar": {
             "outlinewidth": 0,
             "ticks": ""
            },
            "colorscale": [
             [
              0,
              "#0d0887"
             ],
             [
              0.1111111111111111,
              "#46039f"
             ],
             [
              0.2222222222222222,
              "#7201a8"
             ],
             [
              0.3333333333333333,
              "#9c179e"
             ],
             [
              0.4444444444444444,
              "#bd3786"
             ],
             [
              0.5555555555555556,
              "#d8576b"
             ],
             [
              0.6666666666666666,
              "#ed7953"
             ],
             [
              0.7777777777777778,
              "#fb9f3a"
             ],
             [
              0.8888888888888888,
              "#fdca26"
             ],
             [
              1,
              "#f0f921"
             ]
            ],
            "type": "contour"
           }
          ],
          "contourcarpet": [
           {
            "colorbar": {
             "outlinewidth": 0,
             "ticks": ""
            },
            "type": "contourcarpet"
           }
          ],
          "heatmap": [
           {
            "colorbar": {
             "outlinewidth": 0,
             "ticks": ""
            },
            "colorscale": [
             [
              0,
              "#0d0887"
             ],
             [
              0.1111111111111111,
              "#46039f"
             ],
             [
              0.2222222222222222,
              "#7201a8"
             ],
             [
              0.3333333333333333,
              "#9c179e"
             ],
             [
              0.4444444444444444,
              "#bd3786"
             ],
             [
              0.5555555555555556,
              "#d8576b"
             ],
             [
              0.6666666666666666,
              "#ed7953"
             ],
             [
              0.7777777777777778,
              "#fb9f3a"
             ],
             [
              0.8888888888888888,
              "#fdca26"
             ],
             [
              1,
              "#f0f921"
             ]
            ],
            "type": "heatmap"
           }
          ],
          "heatmapgl": [
           {
            "colorbar": {
             "outlinewidth": 0,
             "ticks": ""
            },
            "colorscale": [
             [
              0,
              "#0d0887"
             ],
             [
              0.1111111111111111,
              "#46039f"
             ],
             [
              0.2222222222222222,
              "#7201a8"
             ],
             [
              0.3333333333333333,
              "#9c179e"
             ],
             [
              0.4444444444444444,
              "#bd3786"
             ],
             [
              0.5555555555555556,
              "#d8576b"
             ],
             [
              0.6666666666666666,
              "#ed7953"
             ],
             [
              0.7777777777777778,
              "#fb9f3a"
             ],
             [
              0.8888888888888888,
              "#fdca26"
             ],
             [
              1,
              "#f0f921"
             ]
            ],
            "type": "heatmapgl"
           }
          ],
          "histogram": [
           {
            "marker": {
             "colorbar": {
              "outlinewidth": 0,
              "ticks": ""
             }
            },
            "type": "histogram"
           }
          ],
          "histogram2d": [
           {
            "colorbar": {
             "outlinewidth": 0,
             "ticks": ""
            },
            "colorscale": [
             [
              0,
              "#0d0887"
             ],
             [
              0.1111111111111111,
              "#46039f"
             ],
             [
              0.2222222222222222,
              "#7201a8"
             ],
             [
              0.3333333333333333,
              "#9c179e"
             ],
             [
              0.4444444444444444,
              "#bd3786"
             ],
             [
              0.5555555555555556,
              "#d8576b"
             ],
             [
              0.6666666666666666,
              "#ed7953"
             ],
             [
              0.7777777777777778,
              "#fb9f3a"
             ],
             [
              0.8888888888888888,
              "#fdca26"
             ],
             [
              1,
              "#f0f921"
             ]
            ],
            "type": "histogram2d"
           }
          ],
          "histogram2dcontour": [
           {
            "colorbar": {
             "outlinewidth": 0,
             "ticks": ""
            },
            "colorscale": [
             [
              0,
              "#0d0887"
             ],
             [
              0.1111111111111111,
              "#46039f"
             ],
             [
              0.2222222222222222,
              "#7201a8"
             ],
             [
              0.3333333333333333,
              "#9c179e"
             ],
             [
              0.4444444444444444,
              "#bd3786"
             ],
             [
              0.5555555555555556,
              "#d8576b"
             ],
             [
              0.6666666666666666,
              "#ed7953"
             ],
             [
              0.7777777777777778,
              "#fb9f3a"
             ],
             [
              0.8888888888888888,
              "#fdca26"
             ],
             [
              1,
              "#f0f921"
             ]
            ],
            "type": "histogram2dcontour"
           }
          ],
          "mesh3d": [
           {
            "colorbar": {
             "outlinewidth": 0,
             "ticks": ""
            },
            "type": "mesh3d"
           }
          ],
          "parcoords": [
           {
            "line": {
             "colorbar": {
              "outlinewidth": 0,
              "ticks": ""
             }
            },
            "type": "parcoords"
           }
          ],
          "pie": [
           {
            "automargin": true,
            "type": "pie"
           }
          ],
          "scatter": [
           {
            "marker": {
             "colorbar": {
              "outlinewidth": 0,
              "ticks": ""
             }
            },
            "type": "scatter"
           }
          ],
          "scatter3d": [
           {
            "line": {
             "colorbar": {
              "outlinewidth": 0,
              "ticks": ""
             }
            },
            "marker": {
             "colorbar": {
              "outlinewidth": 0,
              "ticks": ""
             }
            },
            "type": "scatter3d"
           }
          ],
          "scattercarpet": [
           {
            "marker": {
             "colorbar": {
              "outlinewidth": 0,
              "ticks": ""
             }
            },
            "type": "scattercarpet"
           }
          ],
          "scattergeo": [
           {
            "marker": {
             "colorbar": {
              "outlinewidth": 0,
              "ticks": ""
             }
            },
            "type": "scattergeo"
           }
          ],
          "scattergl": [
           {
            "marker": {
             "colorbar": {
              "outlinewidth": 0,
              "ticks": ""
             }
            },
            "type": "scattergl"
           }
          ],
          "scattermapbox": [
           {
            "marker": {
             "colorbar": {
              "outlinewidth": 0,
              "ticks": ""
             }
            },
            "type": "scattermapbox"
           }
          ],
          "scatterpolar": [
           {
            "marker": {
             "colorbar": {
              "outlinewidth": 0,
              "ticks": ""
             }
            },
            "type": "scatterpolar"
           }
          ],
          "scatterpolargl": [
           {
            "marker": {
             "colorbar": {
              "outlinewidth": 0,
              "ticks": ""
             }
            },
            "type": "scatterpolargl"
           }
          ],
          "scatterternary": [
           {
            "marker": {
             "colorbar": {
              "outlinewidth": 0,
              "ticks": ""
             }
            },
            "type": "scatterternary"
           }
          ],
          "surface": [
           {
            "colorbar": {
             "outlinewidth": 0,
             "ticks": ""
            },
            "colorscale": [
             [
              0,
              "#0d0887"
             ],
             [
              0.1111111111111111,
              "#46039f"
             ],
             [
              0.2222222222222222,
              "#7201a8"
             ],
             [
              0.3333333333333333,
              "#9c179e"
             ],
             [
              0.4444444444444444,
              "#bd3786"
             ],
             [
              0.5555555555555556,
              "#d8576b"
             ],
             [
              0.6666666666666666,
              "#ed7953"
             ],
             [
              0.7777777777777778,
              "#fb9f3a"
             ],
             [
              0.8888888888888888,
              "#fdca26"
             ],
             [
              1,
              "#f0f921"
             ]
            ],
            "type": "surface"
           }
          ],
          "table": [
           {
            "cells": {
             "fill": {
              "color": "#EBF0F8"
             },
             "line": {
              "color": "white"
             }
            },
            "header": {
             "fill": {
              "color": "#C8D4E3"
             },
             "line": {
              "color": "white"
             }
            },
            "type": "table"
           }
          ]
         },
         "layout": {
          "annotationdefaults": {
           "arrowcolor": "#2a3f5f",
           "arrowhead": 0,
           "arrowwidth": 1
          },
          "autotypenumbers": "strict",
          "coloraxis": {
           "colorbar": {
            "outlinewidth": 0,
            "ticks": ""
           }
          },
          "colorscale": {
           "diverging": [
            [
             0,
             "#8e0152"
            ],
            [
             0.1,
             "#c51b7d"
            ],
            [
             0.2,
             "#de77ae"
            ],
            [
             0.3,
             "#f1b6da"
            ],
            [
             0.4,
             "#fde0ef"
            ],
            [
             0.5,
             "#f7f7f7"
            ],
            [
             0.6,
             "#e6f5d0"
            ],
            [
             0.7,
             "#b8e186"
            ],
            [
             0.8,
             "#7fbc41"
            ],
            [
             0.9,
             "#4d9221"
            ],
            [
             1,
             "#276419"
            ]
           ],
           "sequential": [
            [
             0,
             "#0d0887"
            ],
            [
             0.1111111111111111,
             "#46039f"
            ],
            [
             0.2222222222222222,
             "#7201a8"
            ],
            [
             0.3333333333333333,
             "#9c179e"
            ],
            [
             0.4444444444444444,
             "#bd3786"
            ],
            [
             0.5555555555555556,
             "#d8576b"
            ],
            [
             0.6666666666666666,
             "#ed7953"
            ],
            [
             0.7777777777777778,
             "#fb9f3a"
            ],
            [
             0.8888888888888888,
             "#fdca26"
            ],
            [
             1,
             "#f0f921"
            ]
           ],
           "sequentialminus": [
            [
             0,
             "#0d0887"
            ],
            [
             0.1111111111111111,
             "#46039f"
            ],
            [
             0.2222222222222222,
             "#7201a8"
            ],
            [
             0.3333333333333333,
             "#9c179e"
            ],
            [
             0.4444444444444444,
             "#bd3786"
            ],
            [
             0.5555555555555556,
             "#d8576b"
            ],
            [
             0.6666666666666666,
             "#ed7953"
            ],
            [
             0.7777777777777778,
             "#fb9f3a"
            ],
            [
             0.8888888888888888,
             "#fdca26"
            ],
            [
             1,
             "#f0f921"
            ]
           ]
          },
          "colorway": [
           "#636efa",
           "#EF553B",
           "#00cc96",
           "#ab63fa",
           "#FFA15A",
           "#19d3f3",
           "#FF6692",
           "#B6E880",
           "#FF97FF",
           "#FECB52"
          ],
          "font": {
           "color": "#2a3f5f"
          },
          "geo": {
           "bgcolor": "white",
           "lakecolor": "white",
           "landcolor": "#E5ECF6",
           "showlakes": true,
           "showland": true,
           "subunitcolor": "white"
          },
          "hoverlabel": {
           "align": "left"
          },
          "hovermode": "closest",
          "mapbox": {
           "style": "light"
          },
          "paper_bgcolor": "white",
          "plot_bgcolor": "#E5ECF6",
          "polar": {
           "angularaxis": {
            "gridcolor": "white",
            "linecolor": "white",
            "ticks": ""
           },
           "bgcolor": "#E5ECF6",
           "radialaxis": {
            "gridcolor": "white",
            "linecolor": "white",
            "ticks": ""
           }
          },
          "scene": {
           "xaxis": {
            "backgroundcolor": "#E5ECF6",
            "gridcolor": "white",
            "gridwidth": 2,
            "linecolor": "white",
            "showbackground": true,
            "ticks": "",
            "zerolinecolor": "white"
           },
           "yaxis": {
            "backgroundcolor": "#E5ECF6",
            "gridcolor": "white",
            "gridwidth": 2,
            "linecolor": "white",
            "showbackground": true,
            "ticks": "",
            "zerolinecolor": "white"
           },
           "zaxis": {
            "backgroundcolor": "#E5ECF6",
            "gridcolor": "white",
            "gridwidth": 2,
            "linecolor": "white",
            "showbackground": true,
            "ticks": "",
            "zerolinecolor": "white"
           }
          },
          "shapedefaults": {
           "line": {
            "color": "#2a3f5f"
           }
          },
          "ternary": {
           "aaxis": {
            "gridcolor": "white",
            "linecolor": "white",
            "ticks": ""
           },
           "baxis": {
            "gridcolor": "white",
            "linecolor": "white",
            "ticks": ""
           },
           "bgcolor": "#E5ECF6",
           "caxis": {
            "gridcolor": "white",
            "linecolor": "white",
            "ticks": ""
           }
          },
          "title": {
           "x": 0.05
          },
          "xaxis": {
           "automargin": true,
           "gridcolor": "white",
           "linecolor": "white",
           "ticks": "",
           "title": {
            "standoff": 15
           },
           "zerolinecolor": "white",
           "zerolinewidth": 2
          },
          "yaxis": {
           "automargin": true,
           "gridcolor": "white",
           "linecolor": "white",
           "ticks": "",
           "title": {
            "standoff": 15
           },
           "zerolinecolor": "white",
           "zerolinewidth": 2
          }
         }
        },
        "title": {
         "font": {
          "color": "#4D5663"
         }
        },
        "xaxis": {
         "gridcolor": "#E1E5ED",
         "showgrid": true,
         "tickfont": {
          "color": "#4D5663"
         },
         "title": {
          "font": {
           "color": "#4D5663"
          },
          "text": ""
         },
         "zerolinecolor": "#E1E5ED"
        },
        "yaxis": {
         "gridcolor": "#E1E5ED",
         "showgrid": true,
         "tickfont": {
          "color": "#4D5663"
         },
         "title": {
          "font": {
           "color": "#4D5663"
          },
          "text": ""
         },
         "zerolinecolor": "#E1E5ED"
        }
       }
      },
      "text/html": [
       "<div>                            <div id=\"1c0a2630-6507-4aef-b505-7aca6b779ec9\" class=\"plotly-graph-div\" style=\"height:525px; width:100%;\"></div>            <script type=\"text/javascript\">                require([\"plotly\"], function(Plotly) {                    window.PLOTLYENV=window.PLOTLYENV || {};\n",
       "                    window.PLOTLYENV.BASE_URL='https://plot.ly';                                    if (document.getElementById(\"1c0a2630-6507-4aef-b505-7aca6b779ec9\")) {                    Plotly.newPlot(                        \"1c0a2630-6507-4aef-b505-7aca6b779ec9\",                        [{\"boxpoints\": false, \"line\": {\"width\": 1.3}, \"marker\": {\"color\": \"rgba(255, 153, 51, 1.0)\"}, \"name\": \"A\", \"orientation\": \"v\", \"type\": \"box\", \"y\": [-1.8453562462643196, -0.20040405303757655, -1.1637956456188199, 0.6205025203423028, -0.8390568855527745, -1.2174976462691052, -0.5640138103328367, 0.013620573399448279, 0.40059182767551943, -0.5997626758413155, 0.07726576350156705, 0.928610877203632, 0.426972018264773, -0.9990060932331011, 1.078661270762736, -0.4513974079092731, -1.2643201140490237, 2.5256077680999685, 0.41086499908738955, -0.04475172187968378, 0.8233287809051226, -0.7271645524645527, 0.14030657831421076, -1.0988235896220555, 0.7489175266400919, 0.46582312686492033, -0.05288123591202588, -1.3670291716449292, 0.7309050939934914, -0.6098667055895841, 0.5041275128978567, 2.040048937172921, -2.185274683047773, 1.0196751415031662, 0.9945470359624125, -1.025592479915559, -1.267140473022391, -0.8689838118146973, -0.2236579399824439, -1.3097944848343677, -0.8414647840651517, 0.6071895041961782, -0.288065793118509, -0.0855433340132728, 1.2362626011306976, -0.34103353649966367, 1.2706087277806368, 1.5483104445093612, 0.18539608217150366, -0.7546004022350437, -0.8326852647100786, -1.1021601391805258, -1.1929778907431932, 1.9549439684527512, -1.210342094834586, 0.4060144585650524, 1.691010701899478, -0.8750443198147615, 1.160394755522703, 2.275642804498575, -0.052481187252204894, 0.764446349668718, 0.7748214923293414, 0.24170402743498778, 0.28327289936704275, 0.2467195735483266, 0.914032725604146, -0.08601512694460697, 0.9489571859474513, 0.8142978876236726, 0.7883298154110456, -0.32628991344569763, 0.2301082679624488, 1.6341593800247989, -1.6944753689322416, -0.758403852271044, 0.9422713425820108, 0.5407768447682212, -0.4172833249642221, -0.9133540169871017, 1.2975516807100265, 0.5348525441513422, -0.9491627313232666, -0.3285687661985525, 0.7487839314169843, -0.3011044136198415, -0.6231469374589843, -0.46272480238509744, 0.751870774961926, 0.6842338081501783, 0.1857636597163811, 0.8977181310333129, -0.6380029150186659, -0.014892138107339364, -1.4264492976702383, -1.3625157787787476, -0.5037475787792652, -0.7209368299148544, -0.1853579105123794, 0.8853425687953029]}, {\"boxpoints\": false, \"line\": {\"width\": 1.3}, \"marker\": {\"color\": \"rgba(55, 128, 191, 1.0)\"}, \"name\": \"B\", \"orientation\": \"v\", \"type\": \"box\", \"y\": [-0.918051978935254, -2.7056575029327217, -0.26581756141055396, 2.7780920157639803, -0.8734279386889949, -0.06334899773831265, 1.4821560963767562, 0.3720351753435628, 2.289468082163019, -0.8374384578030118, -2.108703088038587, 0.9788520364174591, 1.4650258305467085, 1.2415652263814414, 1.0310626547555006, -0.3122406935164411, -0.14735613041299925, 0.33275767892759495, -0.1161274919960927, 0.281205976719588, -0.14951869895483794, 0.41174605696281846, 2.354209612658942, 2.092110024373878, -0.844565089723117, -1.5305136905849483, -0.4080953430172473, -0.49831975030647513, 0.532663605513584, 0.16759861208915242, 0.46247832654774845, 0.38741399084499084, -1.8520213138080566, -0.019018730510986254, -1.0113286481308315, -1.0929063112561626, -0.7089062318588992, -0.49640898092235836, -0.9734721463692066, 0.5801554907558394, -0.06540899964125191, -0.6111002896985552, 0.45438818782559776, 0.4785280675226295, 1.2923482368164383, -0.5748394916445265, 0.43943437190379214, -1.4174040567585227, -0.7319800748374122, -0.29265216113961545, -0.36087379702803224, -0.04027675520163823, -0.24063564992242378, -1.2436397165116935, -0.6380650947146708, -1.194083286516507, 0.1779335575301587, -0.5384113135074421, 0.2915091190224508, 0.466796616138699, -0.43114256548016455, 1.2786748208881396, 1.4078719927900933, 0.14674226717423464, -0.029148341361593073, -1.0673227647170362, -0.6376233349993639, -0.17509268696626795, -0.4170870697877158, 0.4159894756560567, -2.208839366952025, 1.1269460290850897, -0.4095692566448082, 0.7856726897159855, -1.490180580048176, -1.617147938156026, 0.4365288533186661, -2.32656190655788, 0.15681159571219597, 0.5391784367802614, -0.5002333680231703, 0.6548667984163916, 0.27970593897368917, -0.7844703375909428, 0.9073102317074612, -1.1835772548443797, -1.1252365576347547, -0.31910636809035, -0.7706391044036293, 1.5932069582471045, -1.4300111814134815, 0.09777836056991747, 0.21906285684508117, -0.025607437932308883, -1.0696693509127029, 0.058516669742657644, -0.3377730316094605, -0.7808950376846182, 0.5148406510673026, -0.6532931427041353]}, {\"boxpoints\": false, \"line\": {\"width\": 1.3}, \"marker\": {\"color\": \"rgba(50, 171, 96, 1.0)\"}, \"name\": \"C\", \"orientation\": \"v\", \"type\": \"box\", \"y\": [-0.277526268880154, 1.8806378896944345, 0.5375396639187595, -0.23305474120718497, -1.3821896730588017, 1.025259435993224, -0.09718663235788895, -0.8354318558470502, -0.9554132107877621, -0.9980120158071458, -0.7288446678912462, -0.09800589833805058, 0.4142448507363215, 0.8930469136911544, -1.3154328314067614, -1.0787057467905357, -1.4023916791873683, -0.5119184069337409, -1.1088443091663442, -2.0937764404176358, 0.11965814021413287, 0.014535947236977095, -0.9143356475413426, 0.19868604209706775, 0.3579958528661736, 0.21904242410495528, 0.31162477836671676, -0.8998869556253257, 1.6066631635219826, 1.3656132922140805, -1.6598489854498533, -0.5527174648713857, 0.6951101679076586, 0.7516151949165328, 0.7786933724609784, 0.4766867477108337, -0.17144337973890908, 0.23451231613527032, 0.8988743742269301, 0.2911750095516407, 0.29810426701672227, -0.6594490981096367, -0.9656491217788379, -0.8500173835479492, -0.75432673338305, 0.0844725891951118, -0.14184019787176547, 0.2660853672997226, -0.7610129991979636, -0.04117765919514578, -0.9985293461976696, 0.06749302036218557, 1.2554585501336368, 1.1185878363246051, 0.5860708559698183, -1.9131282637858404, 1.2062112575773272, 0.5387575022359602, -1.1381452377237462, 0.1809719774956799, -2.5715021298407965, 0.059962622748691505, 0.07732076913620874, -0.8651373884301342, 0.29346528328831206, 1.5738460269574914, 0.5710476800970452, -0.2281222832467052, 0.4329254522143724, -0.8058356408865905, -1.8283622176542802, 0.012648032752178408, 1.087145802022887, 1.2401656494506434, 1.3606613435368604, 1.9777769083614607, 1.1204220324793175, 2.15724221605289, 0.12412886668282784, -0.912610229607422, -0.11798779858281276, 0.3544154955218318, 1.1336664687547644, -0.34016632606422975, 0.5417409572516666, -1.2090432994150027, -0.42541552008403116, 2.1722996121439175, -0.21381167123162242, -1.8180496867074007, 1.6885450083464077, -0.5574374806984402, 0.760069366299482, -0.18149211511086832, 1.1721397473163495, 0.12434777818730382, 0.6675931694222231, 0.922444871131447, -0.1631368335189949, 0.3537426852288049]}, {\"boxpoints\": false, \"line\": {\"width\": 1.3}, \"marker\": {\"color\": \"rgba(128, 0, 128, 1.0)\"}, \"name\": \"D\", \"orientation\": \"v\", \"type\": \"box\", \"y\": [-0.20288954987522298, 0.47562781170015117, 1.0954645050360055, 0.05142270605075998, 0.7773838232433251, 0.007190802121658992, 0.9330330366472316, 0.25278957453202155, 0.7912842769059294, -1.5080542550000453, -0.8544406084751497, -1.134729595263459, 0.05825979368071219, 0.2146463696921684, 0.04662013326171583, 0.5540938951604478, 0.05337064123212655, 0.4015398892594597, -0.537877282571492, -0.01356767963942102, 1.12291981823085, -0.16991722703743997, -2.1649621368124365, 0.646625372085061, -0.9436215511212397, -0.017092998021010358, -1.6929617303353777, -0.7472908580009684, -0.07448294099397612, -0.8229027954852032, 1.8220565241827829, -0.4711541363054006, -0.3875045445647151, -0.6569686142157253, 0.7332218380745128, -0.5570759097518201, 1.0723471241184808, 0.33430570074168875, -0.9243664465918211, 0.1505965722469187, -1.056428401340786, -1.305043252718549, 0.11578289000731946, 0.4437189810986824, 0.22954717368797098, 0.029304543103711386, -0.39513029151026724, -0.8235530546317273, -1.9523295724970102, -1.177665128287269, -1.0095064617371476, 0.7790840607890945, 0.05894009941627537, -0.5433540023291886, 1.085779479815206, 0.7826441852428289, 1.2150677355363977, -0.9204910295828099, -1.362688844712512, 0.2770998736837296, -0.3225260542372228, -1.0748471038034475, -0.40758303493437886, 0.8829258375427694, 0.06564100695825047, -1.0880140266922238, 0.05593835976329027, -1.1429599994130628, -1.7083542168907964, -0.48180739894069535, 0.39476090460733554, -0.48966789895414564, 0.7684063158809339, -0.5997280018599644, -0.29185382061886356, 1.1365401579715937, 0.6055377918111082, -0.3986381493243074, -0.9435626869936969, -0.7538986282295188, 0.009796039565694662, -0.574232744454487, -0.04360582490458948, 0.5821706968080934, 0.3154086450269751, -1.2217113360268572, 0.4656273186652484, 1.2087959710178389, 1.5239697315533887, -0.9937878298669706, 0.9487735570869901, -0.4087578570843467, -0.16658630197250793, 1.0960447241009474, -0.0028087670297548585, 2.885884320062406, -0.45319803048317137, 0.7145396301239757, -0.5574697507340491, 1.2396881764991705]}],                        {\"legend\": {\"bgcolor\": \"#F5F6F9\", \"font\": {\"color\": \"#4D5663\"}}, \"paper_bgcolor\": \"#F5F6F9\", \"plot_bgcolor\": \"#F5F6F9\", \"template\": {\"data\": {\"bar\": [{\"error_x\": {\"color\": \"#2a3f5f\"}, \"error_y\": {\"color\": \"#2a3f5f\"}, \"marker\": {\"line\": {\"color\": \"#E5ECF6\", \"width\": 0.5}}, \"type\": \"bar\"}], \"barpolar\": [{\"marker\": {\"line\": {\"color\": \"#E5ECF6\", \"width\": 0.5}}, \"type\": \"barpolar\"}], \"carpet\": [{\"aaxis\": {\"endlinecolor\": \"#2a3f5f\", \"gridcolor\": \"white\", \"linecolor\": \"white\", \"minorgridcolor\": \"white\", \"startlinecolor\": \"#2a3f5f\"}, \"baxis\": {\"endlinecolor\": \"#2a3f5f\", \"gridcolor\": \"white\", \"linecolor\": \"white\", \"minorgridcolor\": \"white\", \"startlinecolor\": \"#2a3f5f\"}, \"type\": \"carpet\"}], \"choropleth\": [{\"colorbar\": {\"outlinewidth\": 0, \"ticks\": \"\"}, \"type\": \"choropleth\"}], \"contour\": [{\"colorbar\": {\"outlinewidth\": 0, \"ticks\": \"\"}, \"colorscale\": [[0.0, \"#0d0887\"], [0.1111111111111111, \"#46039f\"], [0.2222222222222222, \"#7201a8\"], [0.3333333333333333, \"#9c179e\"], [0.4444444444444444, \"#bd3786\"], [0.5555555555555556, \"#d8576b\"], [0.6666666666666666, \"#ed7953\"], [0.7777777777777778, \"#fb9f3a\"], [0.8888888888888888, \"#fdca26\"], [1.0, \"#f0f921\"]], \"type\": \"contour\"}], \"contourcarpet\": [{\"colorbar\": {\"outlinewidth\": 0, \"ticks\": \"\"}, \"type\": \"contourcarpet\"}], \"heatmap\": [{\"colorbar\": {\"outlinewidth\": 0, \"ticks\": \"\"}, \"colorscale\": [[0.0, \"#0d0887\"], [0.1111111111111111, \"#46039f\"], [0.2222222222222222, \"#7201a8\"], [0.3333333333333333, \"#9c179e\"], [0.4444444444444444, \"#bd3786\"], [0.5555555555555556, \"#d8576b\"], [0.6666666666666666, \"#ed7953\"], [0.7777777777777778, \"#fb9f3a\"], [0.8888888888888888, \"#fdca26\"], [1.0, \"#f0f921\"]], \"type\": \"heatmap\"}], \"heatmapgl\": [{\"colorbar\": {\"outlinewidth\": 0, \"ticks\": \"\"}, \"colorscale\": [[0.0, \"#0d0887\"], [0.1111111111111111, \"#46039f\"], [0.2222222222222222, \"#7201a8\"], [0.3333333333333333, \"#9c179e\"], [0.4444444444444444, \"#bd3786\"], [0.5555555555555556, \"#d8576b\"], [0.6666666666666666, \"#ed7953\"], [0.7777777777777778, \"#fb9f3a\"], [0.8888888888888888, \"#fdca26\"], [1.0, \"#f0f921\"]], \"type\": \"heatmapgl\"}], \"histogram\": [{\"marker\": {\"colorbar\": {\"outlinewidth\": 0, \"ticks\": \"\"}}, \"type\": \"histogram\"}], \"histogram2d\": [{\"colorbar\": {\"outlinewidth\": 0, \"ticks\": \"\"}, \"colorscale\": [[0.0, \"#0d0887\"], [0.1111111111111111, \"#46039f\"], [0.2222222222222222, \"#7201a8\"], [0.3333333333333333, \"#9c179e\"], [0.4444444444444444, \"#bd3786\"], [0.5555555555555556, \"#d8576b\"], [0.6666666666666666, \"#ed7953\"], [0.7777777777777778, \"#fb9f3a\"], [0.8888888888888888, \"#fdca26\"], [1.0, \"#f0f921\"]], \"type\": \"histogram2d\"}], \"histogram2dcontour\": [{\"colorbar\": {\"outlinewidth\": 0, \"ticks\": \"\"}, \"colorscale\": [[0.0, \"#0d0887\"], [0.1111111111111111, \"#46039f\"], [0.2222222222222222, \"#7201a8\"], [0.3333333333333333, \"#9c179e\"], [0.4444444444444444, \"#bd3786\"], [0.5555555555555556, \"#d8576b\"], [0.6666666666666666, \"#ed7953\"], [0.7777777777777778, \"#fb9f3a\"], [0.8888888888888888, \"#fdca26\"], [1.0, \"#f0f921\"]], \"type\": \"histogram2dcontour\"}], \"mesh3d\": [{\"colorbar\": {\"outlinewidth\": 0, \"ticks\": \"\"}, \"type\": \"mesh3d\"}], \"parcoords\": [{\"line\": {\"colorbar\": {\"outlinewidth\": 0, \"ticks\": \"\"}}, \"type\": \"parcoords\"}], \"pie\": [{\"automargin\": true, \"type\": \"pie\"}], \"scatter\": [{\"marker\": {\"colorbar\": {\"outlinewidth\": 0, \"ticks\": \"\"}}, \"type\": \"scatter\"}], \"scatter3d\": [{\"line\": {\"colorbar\": {\"outlinewidth\": 0, \"ticks\": \"\"}}, \"marker\": {\"colorbar\": {\"outlinewidth\": 0, \"ticks\": \"\"}}, \"type\": \"scatter3d\"}], \"scattercarpet\": [{\"marker\": {\"colorbar\": {\"outlinewidth\": 0, \"ticks\": \"\"}}, \"type\": \"scattercarpet\"}], \"scattergeo\": [{\"marker\": {\"colorbar\": {\"outlinewidth\": 0, \"ticks\": \"\"}}, \"type\": \"scattergeo\"}], \"scattergl\": [{\"marker\": {\"colorbar\": {\"outlinewidth\": 0, \"ticks\": \"\"}}, \"type\": \"scattergl\"}], \"scattermapbox\": [{\"marker\": {\"colorbar\": {\"outlinewidth\": 0, \"ticks\": \"\"}}, \"type\": \"scattermapbox\"}], \"scatterpolar\": [{\"marker\": {\"colorbar\": {\"outlinewidth\": 0, \"ticks\": \"\"}}, \"type\": \"scatterpolar\"}], \"scatterpolargl\": [{\"marker\": {\"colorbar\": {\"outlinewidth\": 0, \"ticks\": \"\"}}, \"type\": \"scatterpolargl\"}], \"scatterternary\": [{\"marker\": {\"colorbar\": {\"outlinewidth\": 0, \"ticks\": \"\"}}, \"type\": \"scatterternary\"}], \"surface\": [{\"colorbar\": {\"outlinewidth\": 0, \"ticks\": \"\"}, \"colorscale\": [[0.0, \"#0d0887\"], [0.1111111111111111, \"#46039f\"], [0.2222222222222222, \"#7201a8\"], [0.3333333333333333, \"#9c179e\"], [0.4444444444444444, \"#bd3786\"], [0.5555555555555556, \"#d8576b\"], [0.6666666666666666, \"#ed7953\"], [0.7777777777777778, \"#fb9f3a\"], [0.8888888888888888, \"#fdca26\"], [1.0, \"#f0f921\"]], \"type\": \"surface\"}], \"table\": [{\"cells\": {\"fill\": {\"color\": \"#EBF0F8\"}, \"line\": {\"color\": \"white\"}}, \"header\": {\"fill\": {\"color\": \"#C8D4E3\"}, \"line\": {\"color\": \"white\"}}, \"type\": \"table\"}]}, \"layout\": {\"annotationdefaults\": {\"arrowcolor\": \"#2a3f5f\", \"arrowhead\": 0, \"arrowwidth\": 1}, \"autotypenumbers\": \"strict\", \"coloraxis\": {\"colorbar\": {\"outlinewidth\": 0, \"ticks\": \"\"}}, \"colorscale\": {\"diverging\": [[0, \"#8e0152\"], [0.1, \"#c51b7d\"], [0.2, \"#de77ae\"], [0.3, \"#f1b6da\"], [0.4, \"#fde0ef\"], [0.5, \"#f7f7f7\"], [0.6, \"#e6f5d0\"], [0.7, \"#b8e186\"], [0.8, \"#7fbc41\"], [0.9, \"#4d9221\"], [1, \"#276419\"]], \"sequential\": [[0.0, \"#0d0887\"], [0.1111111111111111, \"#46039f\"], [0.2222222222222222, \"#7201a8\"], [0.3333333333333333, \"#9c179e\"], [0.4444444444444444, \"#bd3786\"], [0.5555555555555556, \"#d8576b\"], [0.6666666666666666, \"#ed7953\"], [0.7777777777777778, \"#fb9f3a\"], [0.8888888888888888, \"#fdca26\"], [1.0, \"#f0f921\"]], \"sequentialminus\": [[0.0, \"#0d0887\"], [0.1111111111111111, \"#46039f\"], [0.2222222222222222, \"#7201a8\"], [0.3333333333333333, \"#9c179e\"], [0.4444444444444444, \"#bd3786\"], [0.5555555555555556, \"#d8576b\"], [0.6666666666666666, \"#ed7953\"], [0.7777777777777778, \"#fb9f3a\"], [0.8888888888888888, \"#fdca26\"], [1.0, \"#f0f921\"]]}, \"colorway\": [\"#636efa\", \"#EF553B\", \"#00cc96\", \"#ab63fa\", \"#FFA15A\", \"#19d3f3\", \"#FF6692\", \"#B6E880\", \"#FF97FF\", \"#FECB52\"], \"font\": {\"color\": \"#2a3f5f\"}, \"geo\": {\"bgcolor\": \"white\", \"lakecolor\": \"white\", \"landcolor\": \"#E5ECF6\", \"showlakes\": true, \"showland\": true, \"subunitcolor\": \"white\"}, \"hoverlabel\": {\"align\": \"left\"}, \"hovermode\": \"closest\", \"mapbox\": {\"style\": \"light\"}, \"paper_bgcolor\": \"white\", \"plot_bgcolor\": \"#E5ECF6\", \"polar\": {\"angularaxis\": {\"gridcolor\": \"white\", \"linecolor\": \"white\", \"ticks\": \"\"}, \"bgcolor\": \"#E5ECF6\", \"radialaxis\": {\"gridcolor\": \"white\", \"linecolor\": \"white\", \"ticks\": \"\"}}, \"scene\": {\"xaxis\": {\"backgroundcolor\": \"#E5ECF6\", \"gridcolor\": \"white\", \"gridwidth\": 2, \"linecolor\": \"white\", \"showbackground\": true, \"ticks\": \"\", \"zerolinecolor\": \"white\"}, \"yaxis\": {\"backgroundcolor\": \"#E5ECF6\", \"gridcolor\": \"white\", \"gridwidth\": 2, \"linecolor\": \"white\", \"showbackground\": true, \"ticks\": \"\", \"zerolinecolor\": \"white\"}, \"zaxis\": {\"backgroundcolor\": \"#E5ECF6\", \"gridcolor\": \"white\", \"gridwidth\": 2, \"linecolor\": \"white\", \"showbackground\": true, \"ticks\": \"\", \"zerolinecolor\": \"white\"}}, \"shapedefaults\": {\"line\": {\"color\": \"#2a3f5f\"}}, \"ternary\": {\"aaxis\": {\"gridcolor\": \"white\", \"linecolor\": \"white\", \"ticks\": \"\"}, \"baxis\": {\"gridcolor\": \"white\", \"linecolor\": \"white\", \"ticks\": \"\"}, \"bgcolor\": \"#E5ECF6\", \"caxis\": {\"gridcolor\": \"white\", \"linecolor\": \"white\", \"ticks\": \"\"}}, \"title\": {\"x\": 0.05}, \"xaxis\": {\"automargin\": true, \"gridcolor\": \"white\", \"linecolor\": \"white\", \"ticks\": \"\", \"title\": {\"standoff\": 15}, \"zerolinecolor\": \"white\", \"zerolinewidth\": 2}, \"yaxis\": {\"automargin\": true, \"gridcolor\": \"white\", \"linecolor\": \"white\", \"ticks\": \"\", \"title\": {\"standoff\": 15}, \"zerolinecolor\": \"white\", \"zerolinewidth\": 2}}}, \"title\": {\"font\": {\"color\": \"#4D5663\"}}, \"xaxis\": {\"gridcolor\": \"#E1E5ED\", \"showgrid\": true, \"tickfont\": {\"color\": \"#4D5663\"}, \"title\": {\"font\": {\"color\": \"#4D5663\"}, \"text\": \"\"}, \"zerolinecolor\": \"#E1E5ED\"}, \"yaxis\": {\"gridcolor\": \"#E1E5ED\", \"showgrid\": true, \"tickfont\": {\"color\": \"#4D5663\"}, \"title\": {\"font\": {\"color\": \"#4D5663\"}, \"text\": \"\"}, \"zerolinecolor\": \"#E1E5ED\"}},                        {\"showLink\": true, \"linkText\": \"Export to plot.ly\", \"plotlyServerURL\": \"https://plot.ly\", \"responsive\": true}                    ).then(function(){\n",
       "                            \n",
       "var gd = document.getElementById('1c0a2630-6507-4aef-b505-7aca6b779ec9');\n",
       "var x = new MutationObserver(function (mutations, observer) {{\n",
       "        var display = window.getComputedStyle(gd).display;\n",
       "        if (!display || display === 'none') {{\n",
       "            console.log([gd, 'removed!']);\n",
       "            Plotly.purge(gd);\n",
       "            observer.disconnect();\n",
       "        }}\n",
       "}});\n",
       "\n",
       "// Listen for the removal of the full notebook cells\n",
       "var notebookContainer = gd.closest('#notebook-container');\n",
       "if (notebookContainer) {{\n",
       "    x.observe(notebookContainer, {childList: true});\n",
       "}}\n",
       "\n",
       "// Listen for the clearing of the current output cell\n",
       "var outputEl = gd.closest('.output');\n",
       "if (outputEl) {{\n",
       "    x.observe(outputEl, {childList: true});\n",
       "}}\n",
       "\n",
       "                        })                };                });            </script>        </div>"
      ]
     },
     "metadata": {},
     "output_type": "display_data"
    }
   ],
   "source": [
    "df.iplot(kind='box')"
   ]
  },
  {
   "cell_type": "markdown",
   "metadata": {},
   "source": [
    "## Superfícies 3D"
   ]
  },
  {
   "cell_type": "code",
   "execution_count": 16,
   "metadata": {},
   "outputs": [
    {
     "data": {
      "application/vnd.plotly.v1+json": {
       "config": {
        "linkText": "Export to plot.ly",
        "plotlyServerURL": "https://plot.ly",
        "showLink": true
       },
       "data": [
        {
         "colorscale": [
          [
           0,
           "rgb(165,0,38)"
          ],
          [
           0.1,
           "rgb(215,48,39)"
          ],
          [
           0.2,
           "rgb(244,109,67)"
          ],
          [
           0.3,
           "rgb(253,174,97)"
          ],
          [
           0.4,
           "rgb(254,224,144)"
          ],
          [
           0.5,
           "rgb(255,255,191)"
          ],
          [
           0.6,
           "rgb(224,243,248)"
          ],
          [
           0.7,
           "rgb(171,217,233)"
          ],
          [
           0.8,
           "rgb(116,173,209)"
          ],
          [
           0.9,
           "rgb(69,117,180)"
          ],
          [
           1,
           "rgb(49,54,149)"
          ]
         ],
         "type": "surface",
         "x": [
          0,
          1,
          2,
          3,
          4
         ],
         "y": [
          "x",
          "y",
          "z"
         ],
         "z": [
          [
           1,
           2,
           3,
           4,
           5
          ],
          [
           10,
           20,
           30,
           20,
           10
          ],
          [
           5,
           4,
           3,
           2,
           1
          ]
         ]
        }
       ],
       "layout": {
        "legend": {
         "bgcolor": "#F5F6F9",
         "font": {
          "color": "#4D5663"
         }
        },
        "paper_bgcolor": "#F5F6F9",
        "plot_bgcolor": "#F5F6F9",
        "template": {
         "data": {
          "bar": [
           {
            "error_x": {
             "color": "#2a3f5f"
            },
            "error_y": {
             "color": "#2a3f5f"
            },
            "marker": {
             "line": {
              "color": "#E5ECF6",
              "width": 0.5
             }
            },
            "type": "bar"
           }
          ],
          "barpolar": [
           {
            "marker": {
             "line": {
              "color": "#E5ECF6",
              "width": 0.5
             }
            },
            "type": "barpolar"
           }
          ],
          "carpet": [
           {
            "aaxis": {
             "endlinecolor": "#2a3f5f",
             "gridcolor": "white",
             "linecolor": "white",
             "minorgridcolor": "white",
             "startlinecolor": "#2a3f5f"
            },
            "baxis": {
             "endlinecolor": "#2a3f5f",
             "gridcolor": "white",
             "linecolor": "white",
             "minorgridcolor": "white",
             "startlinecolor": "#2a3f5f"
            },
            "type": "carpet"
           }
          ],
          "choropleth": [
           {
            "colorbar": {
             "outlinewidth": 0,
             "ticks": ""
            },
            "type": "choropleth"
           }
          ],
          "contour": [
           {
            "colorbar": {
             "outlinewidth": 0,
             "ticks": ""
            },
            "colorscale": [
             [
              0,
              "#0d0887"
             ],
             [
              0.1111111111111111,
              "#46039f"
             ],
             [
              0.2222222222222222,
              "#7201a8"
             ],
             [
              0.3333333333333333,
              "#9c179e"
             ],
             [
              0.4444444444444444,
              "#bd3786"
             ],
             [
              0.5555555555555556,
              "#d8576b"
             ],
             [
              0.6666666666666666,
              "#ed7953"
             ],
             [
              0.7777777777777778,
              "#fb9f3a"
             ],
             [
              0.8888888888888888,
              "#fdca26"
             ],
             [
              1,
              "#f0f921"
             ]
            ],
            "type": "contour"
           }
          ],
          "contourcarpet": [
           {
            "colorbar": {
             "outlinewidth": 0,
             "ticks": ""
            },
            "type": "contourcarpet"
           }
          ],
          "heatmap": [
           {
            "colorbar": {
             "outlinewidth": 0,
             "ticks": ""
            },
            "colorscale": [
             [
              0,
              "#0d0887"
             ],
             [
              0.1111111111111111,
              "#46039f"
             ],
             [
              0.2222222222222222,
              "#7201a8"
             ],
             [
              0.3333333333333333,
              "#9c179e"
             ],
             [
              0.4444444444444444,
              "#bd3786"
             ],
             [
              0.5555555555555556,
              "#d8576b"
             ],
             [
              0.6666666666666666,
              "#ed7953"
             ],
             [
              0.7777777777777778,
              "#fb9f3a"
             ],
             [
              0.8888888888888888,
              "#fdca26"
             ],
             [
              1,
              "#f0f921"
             ]
            ],
            "type": "heatmap"
           }
          ],
          "heatmapgl": [
           {
            "colorbar": {
             "outlinewidth": 0,
             "ticks": ""
            },
            "colorscale": [
             [
              0,
              "#0d0887"
             ],
             [
              0.1111111111111111,
              "#46039f"
             ],
             [
              0.2222222222222222,
              "#7201a8"
             ],
             [
              0.3333333333333333,
              "#9c179e"
             ],
             [
              0.4444444444444444,
              "#bd3786"
             ],
             [
              0.5555555555555556,
              "#d8576b"
             ],
             [
              0.6666666666666666,
              "#ed7953"
             ],
             [
              0.7777777777777778,
              "#fb9f3a"
             ],
             [
              0.8888888888888888,
              "#fdca26"
             ],
             [
              1,
              "#f0f921"
             ]
            ],
            "type": "heatmapgl"
           }
          ],
          "histogram": [
           {
            "marker": {
             "colorbar": {
              "outlinewidth": 0,
              "ticks": ""
             }
            },
            "type": "histogram"
           }
          ],
          "histogram2d": [
           {
            "colorbar": {
             "outlinewidth": 0,
             "ticks": ""
            },
            "colorscale": [
             [
              0,
              "#0d0887"
             ],
             [
              0.1111111111111111,
              "#46039f"
             ],
             [
              0.2222222222222222,
              "#7201a8"
             ],
             [
              0.3333333333333333,
              "#9c179e"
             ],
             [
              0.4444444444444444,
              "#bd3786"
             ],
             [
              0.5555555555555556,
              "#d8576b"
             ],
             [
              0.6666666666666666,
              "#ed7953"
             ],
             [
              0.7777777777777778,
              "#fb9f3a"
             ],
             [
              0.8888888888888888,
              "#fdca26"
             ],
             [
              1,
              "#f0f921"
             ]
            ],
            "type": "histogram2d"
           }
          ],
          "histogram2dcontour": [
           {
            "colorbar": {
             "outlinewidth": 0,
             "ticks": ""
            },
            "colorscale": [
             [
              0,
              "#0d0887"
             ],
             [
              0.1111111111111111,
              "#46039f"
             ],
             [
              0.2222222222222222,
              "#7201a8"
             ],
             [
              0.3333333333333333,
              "#9c179e"
             ],
             [
              0.4444444444444444,
              "#bd3786"
             ],
             [
              0.5555555555555556,
              "#d8576b"
             ],
             [
              0.6666666666666666,
              "#ed7953"
             ],
             [
              0.7777777777777778,
              "#fb9f3a"
             ],
             [
              0.8888888888888888,
              "#fdca26"
             ],
             [
              1,
              "#f0f921"
             ]
            ],
            "type": "histogram2dcontour"
           }
          ],
          "mesh3d": [
           {
            "colorbar": {
             "outlinewidth": 0,
             "ticks": ""
            },
            "type": "mesh3d"
           }
          ],
          "parcoords": [
           {
            "line": {
             "colorbar": {
              "outlinewidth": 0,
              "ticks": ""
             }
            },
            "type": "parcoords"
           }
          ],
          "pie": [
           {
            "automargin": true,
            "type": "pie"
           }
          ],
          "scatter": [
           {
            "marker": {
             "colorbar": {
              "outlinewidth": 0,
              "ticks": ""
             }
            },
            "type": "scatter"
           }
          ],
          "scatter3d": [
           {
            "line": {
             "colorbar": {
              "outlinewidth": 0,
              "ticks": ""
             }
            },
            "marker": {
             "colorbar": {
              "outlinewidth": 0,
              "ticks": ""
             }
            },
            "type": "scatter3d"
           }
          ],
          "scattercarpet": [
           {
            "marker": {
             "colorbar": {
              "outlinewidth": 0,
              "ticks": ""
             }
            },
            "type": "scattercarpet"
           }
          ],
          "scattergeo": [
           {
            "marker": {
             "colorbar": {
              "outlinewidth": 0,
              "ticks": ""
             }
            },
            "type": "scattergeo"
           }
          ],
          "scattergl": [
           {
            "marker": {
             "colorbar": {
              "outlinewidth": 0,
              "ticks": ""
             }
            },
            "type": "scattergl"
           }
          ],
          "scattermapbox": [
           {
            "marker": {
             "colorbar": {
              "outlinewidth": 0,
              "ticks": ""
             }
            },
            "type": "scattermapbox"
           }
          ],
          "scatterpolar": [
           {
            "marker": {
             "colorbar": {
              "outlinewidth": 0,
              "ticks": ""
             }
            },
            "type": "scatterpolar"
           }
          ],
          "scatterpolargl": [
           {
            "marker": {
             "colorbar": {
              "outlinewidth": 0,
              "ticks": ""
             }
            },
            "type": "scatterpolargl"
           }
          ],
          "scatterternary": [
           {
            "marker": {
             "colorbar": {
              "outlinewidth": 0,
              "ticks": ""
             }
            },
            "type": "scatterternary"
           }
          ],
          "surface": [
           {
            "colorbar": {
             "outlinewidth": 0,
             "ticks": ""
            },
            "colorscale": [
             [
              0,
              "#0d0887"
             ],
             [
              0.1111111111111111,
              "#46039f"
             ],
             [
              0.2222222222222222,
              "#7201a8"
             ],
             [
              0.3333333333333333,
              "#9c179e"
             ],
             [
              0.4444444444444444,
              "#bd3786"
             ],
             [
              0.5555555555555556,
              "#d8576b"
             ],
             [
              0.6666666666666666,
              "#ed7953"
             ],
             [
              0.7777777777777778,
              "#fb9f3a"
             ],
             [
              0.8888888888888888,
              "#fdca26"
             ],
             [
              1,
              "#f0f921"
             ]
            ],
            "type": "surface"
           }
          ],
          "table": [
           {
            "cells": {
             "fill": {
              "color": "#EBF0F8"
             },
             "line": {
              "color": "white"
             }
            },
            "header": {
             "fill": {
              "color": "#C8D4E3"
             },
             "line": {
              "color": "white"
             }
            },
            "type": "table"
           }
          ]
         },
         "layout": {
          "annotationdefaults": {
           "arrowcolor": "#2a3f5f",
           "arrowhead": 0,
           "arrowwidth": 1
          },
          "autotypenumbers": "strict",
          "coloraxis": {
           "colorbar": {
            "outlinewidth": 0,
            "ticks": ""
           }
          },
          "colorscale": {
           "diverging": [
            [
             0,
             "#8e0152"
            ],
            [
             0.1,
             "#c51b7d"
            ],
            [
             0.2,
             "#de77ae"
            ],
            [
             0.3,
             "#f1b6da"
            ],
            [
             0.4,
             "#fde0ef"
            ],
            [
             0.5,
             "#f7f7f7"
            ],
            [
             0.6,
             "#e6f5d0"
            ],
            [
             0.7,
             "#b8e186"
            ],
            [
             0.8,
             "#7fbc41"
            ],
            [
             0.9,
             "#4d9221"
            ],
            [
             1,
             "#276419"
            ]
           ],
           "sequential": [
            [
             0,
             "#0d0887"
            ],
            [
             0.1111111111111111,
             "#46039f"
            ],
            [
             0.2222222222222222,
             "#7201a8"
            ],
            [
             0.3333333333333333,
             "#9c179e"
            ],
            [
             0.4444444444444444,
             "#bd3786"
            ],
            [
             0.5555555555555556,
             "#d8576b"
            ],
            [
             0.6666666666666666,
             "#ed7953"
            ],
            [
             0.7777777777777778,
             "#fb9f3a"
            ],
            [
             0.8888888888888888,
             "#fdca26"
            ],
            [
             1,
             "#f0f921"
            ]
           ],
           "sequentialminus": [
            [
             0,
             "#0d0887"
            ],
            [
             0.1111111111111111,
             "#46039f"
            ],
            [
             0.2222222222222222,
             "#7201a8"
            ],
            [
             0.3333333333333333,
             "#9c179e"
            ],
            [
             0.4444444444444444,
             "#bd3786"
            ],
            [
             0.5555555555555556,
             "#d8576b"
            ],
            [
             0.6666666666666666,
             "#ed7953"
            ],
            [
             0.7777777777777778,
             "#fb9f3a"
            ],
            [
             0.8888888888888888,
             "#fdca26"
            ],
            [
             1,
             "#f0f921"
            ]
           ]
          },
          "colorway": [
           "#636efa",
           "#EF553B",
           "#00cc96",
           "#ab63fa",
           "#FFA15A",
           "#19d3f3",
           "#FF6692",
           "#B6E880",
           "#FF97FF",
           "#FECB52"
          ],
          "font": {
           "color": "#2a3f5f"
          },
          "geo": {
           "bgcolor": "white",
           "lakecolor": "white",
           "landcolor": "#E5ECF6",
           "showlakes": true,
           "showland": true,
           "subunitcolor": "white"
          },
          "hoverlabel": {
           "align": "left"
          },
          "hovermode": "closest",
          "mapbox": {
           "style": "light"
          },
          "paper_bgcolor": "white",
          "plot_bgcolor": "#E5ECF6",
          "polar": {
           "angularaxis": {
            "gridcolor": "white",
            "linecolor": "white",
            "ticks": ""
           },
           "bgcolor": "#E5ECF6",
           "radialaxis": {
            "gridcolor": "white",
            "linecolor": "white",
            "ticks": ""
           }
          },
          "scene": {
           "xaxis": {
            "backgroundcolor": "#E5ECF6",
            "gridcolor": "white",
            "gridwidth": 2,
            "linecolor": "white",
            "showbackground": true,
            "ticks": "",
            "zerolinecolor": "white"
           },
           "yaxis": {
            "backgroundcolor": "#E5ECF6",
            "gridcolor": "white",
            "gridwidth": 2,
            "linecolor": "white",
            "showbackground": true,
            "ticks": "",
            "zerolinecolor": "white"
           },
           "zaxis": {
            "backgroundcolor": "#E5ECF6",
            "gridcolor": "white",
            "gridwidth": 2,
            "linecolor": "white",
            "showbackground": true,
            "ticks": "",
            "zerolinecolor": "white"
           }
          },
          "shapedefaults": {
           "line": {
            "color": "#2a3f5f"
           }
          },
          "ternary": {
           "aaxis": {
            "gridcolor": "white",
            "linecolor": "white",
            "ticks": ""
           },
           "baxis": {
            "gridcolor": "white",
            "linecolor": "white",
            "ticks": ""
           },
           "bgcolor": "#E5ECF6",
           "caxis": {
            "gridcolor": "white",
            "linecolor": "white",
            "ticks": ""
           }
          },
          "title": {
           "x": 0.05
          },
          "xaxis": {
           "automargin": true,
           "gridcolor": "white",
           "linecolor": "white",
           "ticks": "",
           "title": {
            "standoff": 15
           },
           "zerolinecolor": "white",
           "zerolinewidth": 2
          },
          "yaxis": {
           "automargin": true,
           "gridcolor": "white",
           "linecolor": "white",
           "ticks": "",
           "title": {
            "standoff": 15
           },
           "zerolinecolor": "white",
           "zerolinewidth": 2
          }
         }
        },
        "title": {
         "font": {
          "color": "#4D5663"
         }
        },
        "xaxis": {
         "gridcolor": "#E1E5ED",
         "showgrid": true,
         "tickfont": {
          "color": "#4D5663"
         },
         "title": {
          "font": {
           "color": "#4D5663"
          },
          "text": ""
         },
         "zerolinecolor": "#E1E5ED"
        },
        "yaxis": {
         "gridcolor": "#E1E5ED",
         "showgrid": true,
         "tickfont": {
          "color": "#4D5663"
         },
         "title": {
          "font": {
           "color": "#4D5663"
          },
          "text": ""
         },
         "zerolinecolor": "#E1E5ED"
        }
       }
      },
      "text/html": [
       "<div>                            <div id=\"87fa04ba-6228-4705-81cd-978da5a82737\" class=\"plotly-graph-div\" style=\"height:525px; width:100%;\"></div>            <script type=\"text/javascript\">                require([\"plotly\"], function(Plotly) {                    window.PLOTLYENV=window.PLOTLYENV || {};\n",
       "                    window.PLOTLYENV.BASE_URL='https://plot.ly';                                    if (document.getElementById(\"87fa04ba-6228-4705-81cd-978da5a82737\")) {                    Plotly.newPlot(                        \"87fa04ba-6228-4705-81cd-978da5a82737\",                        [{\"colorscale\": [[0.0, \"rgb(165,0,38)\"], [0.1, \"rgb(215,48,39)\"], [0.2, \"rgb(244,109,67)\"], [0.3, \"rgb(253,174,97)\"], [0.4, \"rgb(254,224,144)\"], [0.5, \"rgb(255,255,191)\"], [0.6, \"rgb(224,243,248)\"], [0.7, \"rgb(171,217,233)\"], [0.8, \"rgb(116,173,209)\"], [0.9, \"rgb(69,117,180)\"], [1.0, \"rgb(49,54,149)\"]], \"type\": \"surface\", \"x\": [0, 1, 2, 3, 4], \"y\": [\"x\", \"y\", \"z\"], \"z\": [[1, 2, 3, 4, 5], [10, 20, 30, 20, 10], [5, 4, 3, 2, 1]]}],                        {\"legend\": {\"bgcolor\": \"#F5F6F9\", \"font\": {\"color\": \"#4D5663\"}}, \"paper_bgcolor\": \"#F5F6F9\", \"plot_bgcolor\": \"#F5F6F9\", \"template\": {\"data\": {\"bar\": [{\"error_x\": {\"color\": \"#2a3f5f\"}, \"error_y\": {\"color\": \"#2a3f5f\"}, \"marker\": {\"line\": {\"color\": \"#E5ECF6\", \"width\": 0.5}}, \"type\": \"bar\"}], \"barpolar\": [{\"marker\": {\"line\": {\"color\": \"#E5ECF6\", \"width\": 0.5}}, \"type\": \"barpolar\"}], \"carpet\": [{\"aaxis\": {\"endlinecolor\": \"#2a3f5f\", \"gridcolor\": \"white\", \"linecolor\": \"white\", \"minorgridcolor\": \"white\", \"startlinecolor\": \"#2a3f5f\"}, \"baxis\": {\"endlinecolor\": \"#2a3f5f\", \"gridcolor\": \"white\", \"linecolor\": \"white\", \"minorgridcolor\": \"white\", \"startlinecolor\": \"#2a3f5f\"}, \"type\": \"carpet\"}], \"choropleth\": [{\"colorbar\": {\"outlinewidth\": 0, \"ticks\": \"\"}, \"type\": \"choropleth\"}], \"contour\": [{\"colorbar\": {\"outlinewidth\": 0, \"ticks\": \"\"}, \"colorscale\": [[0.0, \"#0d0887\"], [0.1111111111111111, \"#46039f\"], [0.2222222222222222, \"#7201a8\"], [0.3333333333333333, \"#9c179e\"], [0.4444444444444444, \"#bd3786\"], [0.5555555555555556, \"#d8576b\"], [0.6666666666666666, \"#ed7953\"], [0.7777777777777778, \"#fb9f3a\"], [0.8888888888888888, \"#fdca26\"], [1.0, \"#f0f921\"]], \"type\": \"contour\"}], \"contourcarpet\": [{\"colorbar\": {\"outlinewidth\": 0, \"ticks\": \"\"}, \"type\": \"contourcarpet\"}], \"heatmap\": [{\"colorbar\": {\"outlinewidth\": 0, \"ticks\": \"\"}, \"colorscale\": [[0.0, \"#0d0887\"], [0.1111111111111111, \"#46039f\"], [0.2222222222222222, \"#7201a8\"], [0.3333333333333333, \"#9c179e\"], [0.4444444444444444, \"#bd3786\"], [0.5555555555555556, \"#d8576b\"], [0.6666666666666666, \"#ed7953\"], [0.7777777777777778, \"#fb9f3a\"], [0.8888888888888888, \"#fdca26\"], [1.0, \"#f0f921\"]], \"type\": \"heatmap\"}], \"heatmapgl\": [{\"colorbar\": {\"outlinewidth\": 0, \"ticks\": \"\"}, \"colorscale\": [[0.0, \"#0d0887\"], [0.1111111111111111, \"#46039f\"], [0.2222222222222222, \"#7201a8\"], [0.3333333333333333, \"#9c179e\"], [0.4444444444444444, \"#bd3786\"], [0.5555555555555556, \"#d8576b\"], [0.6666666666666666, \"#ed7953\"], [0.7777777777777778, \"#fb9f3a\"], [0.8888888888888888, \"#fdca26\"], [1.0, \"#f0f921\"]], \"type\": \"heatmapgl\"}], \"histogram\": [{\"marker\": {\"colorbar\": {\"outlinewidth\": 0, \"ticks\": \"\"}}, \"type\": \"histogram\"}], \"histogram2d\": [{\"colorbar\": {\"outlinewidth\": 0, \"ticks\": \"\"}, \"colorscale\": [[0.0, \"#0d0887\"], [0.1111111111111111, \"#46039f\"], [0.2222222222222222, \"#7201a8\"], [0.3333333333333333, \"#9c179e\"], [0.4444444444444444, \"#bd3786\"], [0.5555555555555556, \"#d8576b\"], [0.6666666666666666, \"#ed7953\"], [0.7777777777777778, \"#fb9f3a\"], [0.8888888888888888, \"#fdca26\"], [1.0, \"#f0f921\"]], \"type\": \"histogram2d\"}], \"histogram2dcontour\": [{\"colorbar\": {\"outlinewidth\": 0, \"ticks\": \"\"}, \"colorscale\": [[0.0, \"#0d0887\"], [0.1111111111111111, \"#46039f\"], [0.2222222222222222, \"#7201a8\"], [0.3333333333333333, \"#9c179e\"], [0.4444444444444444, \"#bd3786\"], [0.5555555555555556, \"#d8576b\"], [0.6666666666666666, \"#ed7953\"], [0.7777777777777778, \"#fb9f3a\"], [0.8888888888888888, \"#fdca26\"], [1.0, \"#f0f921\"]], \"type\": \"histogram2dcontour\"}], \"mesh3d\": [{\"colorbar\": {\"outlinewidth\": 0, \"ticks\": \"\"}, \"type\": \"mesh3d\"}], \"parcoords\": [{\"line\": {\"colorbar\": {\"outlinewidth\": 0, \"ticks\": \"\"}}, \"type\": \"parcoords\"}], \"pie\": [{\"automargin\": true, \"type\": \"pie\"}], \"scatter\": [{\"marker\": {\"colorbar\": {\"outlinewidth\": 0, \"ticks\": \"\"}}, \"type\": \"scatter\"}], \"scatter3d\": [{\"line\": {\"colorbar\": {\"outlinewidth\": 0, \"ticks\": \"\"}}, \"marker\": {\"colorbar\": {\"outlinewidth\": 0, \"ticks\": \"\"}}, \"type\": \"scatter3d\"}], \"scattercarpet\": [{\"marker\": {\"colorbar\": {\"outlinewidth\": 0, \"ticks\": \"\"}}, \"type\": \"scattercarpet\"}], \"scattergeo\": [{\"marker\": {\"colorbar\": {\"outlinewidth\": 0, \"ticks\": \"\"}}, \"type\": \"scattergeo\"}], \"scattergl\": [{\"marker\": {\"colorbar\": {\"outlinewidth\": 0, \"ticks\": \"\"}}, \"type\": \"scattergl\"}], \"scattermapbox\": [{\"marker\": {\"colorbar\": {\"outlinewidth\": 0, \"ticks\": \"\"}}, \"type\": \"scattermapbox\"}], \"scatterpolar\": [{\"marker\": {\"colorbar\": {\"outlinewidth\": 0, \"ticks\": \"\"}}, \"type\": \"scatterpolar\"}], \"scatterpolargl\": [{\"marker\": {\"colorbar\": {\"outlinewidth\": 0, \"ticks\": \"\"}}, \"type\": \"scatterpolargl\"}], \"scatterternary\": [{\"marker\": {\"colorbar\": {\"outlinewidth\": 0, \"ticks\": \"\"}}, \"type\": \"scatterternary\"}], \"surface\": [{\"colorbar\": {\"outlinewidth\": 0, \"ticks\": \"\"}, \"colorscale\": [[0.0, \"#0d0887\"], [0.1111111111111111, \"#46039f\"], [0.2222222222222222, \"#7201a8\"], [0.3333333333333333, \"#9c179e\"], [0.4444444444444444, \"#bd3786\"], [0.5555555555555556, \"#d8576b\"], [0.6666666666666666, \"#ed7953\"], [0.7777777777777778, \"#fb9f3a\"], [0.8888888888888888, \"#fdca26\"], [1.0, \"#f0f921\"]], \"type\": \"surface\"}], \"table\": [{\"cells\": {\"fill\": {\"color\": \"#EBF0F8\"}, \"line\": {\"color\": \"white\"}}, \"header\": {\"fill\": {\"color\": \"#C8D4E3\"}, \"line\": {\"color\": \"white\"}}, \"type\": \"table\"}]}, \"layout\": {\"annotationdefaults\": {\"arrowcolor\": \"#2a3f5f\", \"arrowhead\": 0, \"arrowwidth\": 1}, \"autotypenumbers\": \"strict\", \"coloraxis\": {\"colorbar\": {\"outlinewidth\": 0, \"ticks\": \"\"}}, \"colorscale\": {\"diverging\": [[0, \"#8e0152\"], [0.1, \"#c51b7d\"], [0.2, \"#de77ae\"], [0.3, \"#f1b6da\"], [0.4, \"#fde0ef\"], [0.5, \"#f7f7f7\"], [0.6, \"#e6f5d0\"], [0.7, \"#b8e186\"], [0.8, \"#7fbc41\"], [0.9, \"#4d9221\"], [1, \"#276419\"]], \"sequential\": [[0.0, \"#0d0887\"], [0.1111111111111111, \"#46039f\"], [0.2222222222222222, \"#7201a8\"], [0.3333333333333333, \"#9c179e\"], [0.4444444444444444, \"#bd3786\"], [0.5555555555555556, \"#d8576b\"], [0.6666666666666666, \"#ed7953\"], [0.7777777777777778, \"#fb9f3a\"], [0.8888888888888888, \"#fdca26\"], [1.0, \"#f0f921\"]], \"sequentialminus\": [[0.0, \"#0d0887\"], [0.1111111111111111, \"#46039f\"], [0.2222222222222222, \"#7201a8\"], [0.3333333333333333, \"#9c179e\"], [0.4444444444444444, \"#bd3786\"], [0.5555555555555556, \"#d8576b\"], [0.6666666666666666, \"#ed7953\"], [0.7777777777777778, \"#fb9f3a\"], [0.8888888888888888, \"#fdca26\"], [1.0, \"#f0f921\"]]}, \"colorway\": [\"#636efa\", \"#EF553B\", \"#00cc96\", \"#ab63fa\", \"#FFA15A\", \"#19d3f3\", \"#FF6692\", \"#B6E880\", \"#FF97FF\", \"#FECB52\"], \"font\": {\"color\": \"#2a3f5f\"}, \"geo\": {\"bgcolor\": \"white\", \"lakecolor\": \"white\", \"landcolor\": \"#E5ECF6\", \"showlakes\": true, \"showland\": true, \"subunitcolor\": \"white\"}, \"hoverlabel\": {\"align\": \"left\"}, \"hovermode\": \"closest\", \"mapbox\": {\"style\": \"light\"}, \"paper_bgcolor\": \"white\", \"plot_bgcolor\": \"#E5ECF6\", \"polar\": {\"angularaxis\": {\"gridcolor\": \"white\", \"linecolor\": \"white\", \"ticks\": \"\"}, \"bgcolor\": \"#E5ECF6\", \"radialaxis\": {\"gridcolor\": \"white\", \"linecolor\": \"white\", \"ticks\": \"\"}}, \"scene\": {\"xaxis\": {\"backgroundcolor\": \"#E5ECF6\", \"gridcolor\": \"white\", \"gridwidth\": 2, \"linecolor\": \"white\", \"showbackground\": true, \"ticks\": \"\", \"zerolinecolor\": \"white\"}, \"yaxis\": {\"backgroundcolor\": \"#E5ECF6\", \"gridcolor\": \"white\", \"gridwidth\": 2, \"linecolor\": \"white\", \"showbackground\": true, \"ticks\": \"\", \"zerolinecolor\": \"white\"}, \"zaxis\": {\"backgroundcolor\": \"#E5ECF6\", \"gridcolor\": \"white\", \"gridwidth\": 2, \"linecolor\": \"white\", \"showbackground\": true, \"ticks\": \"\", \"zerolinecolor\": \"white\"}}, \"shapedefaults\": {\"line\": {\"color\": \"#2a3f5f\"}}, \"ternary\": {\"aaxis\": {\"gridcolor\": \"white\", \"linecolor\": \"white\", \"ticks\": \"\"}, \"baxis\": {\"gridcolor\": \"white\", \"linecolor\": \"white\", \"ticks\": \"\"}, \"bgcolor\": \"#E5ECF6\", \"caxis\": {\"gridcolor\": \"white\", \"linecolor\": \"white\", \"ticks\": \"\"}}, \"title\": {\"x\": 0.05}, \"xaxis\": {\"automargin\": true, \"gridcolor\": \"white\", \"linecolor\": \"white\", \"ticks\": \"\", \"title\": {\"standoff\": 15}, \"zerolinecolor\": \"white\", \"zerolinewidth\": 2}, \"yaxis\": {\"automargin\": true, \"gridcolor\": \"white\", \"linecolor\": \"white\", \"ticks\": \"\", \"title\": {\"standoff\": 15}, \"zerolinecolor\": \"white\", \"zerolinewidth\": 2}}}, \"title\": {\"font\": {\"color\": \"#4D5663\"}}, \"xaxis\": {\"gridcolor\": \"#E1E5ED\", \"showgrid\": true, \"tickfont\": {\"color\": \"#4D5663\"}, \"title\": {\"font\": {\"color\": \"#4D5663\"}, \"text\": \"\"}, \"zerolinecolor\": \"#E1E5ED\"}, \"yaxis\": {\"gridcolor\": \"#E1E5ED\", \"showgrid\": true, \"tickfont\": {\"color\": \"#4D5663\"}, \"title\": {\"font\": {\"color\": \"#4D5663\"}, \"text\": \"\"}, \"zerolinecolor\": \"#E1E5ED\"}},                        {\"showLink\": true, \"linkText\": \"Export to plot.ly\", \"plotlyServerURL\": \"https://plot.ly\", \"responsive\": true}                    ).then(function(){\n",
       "                            \n",
       "var gd = document.getElementById('87fa04ba-6228-4705-81cd-978da5a82737');\n",
       "var x = new MutationObserver(function (mutations, observer) {{\n",
       "        var display = window.getComputedStyle(gd).display;\n",
       "        if (!display || display === 'none') {{\n",
       "            console.log([gd, 'removed!']);\n",
       "            Plotly.purge(gd);\n",
       "            observer.disconnect();\n",
       "        }}\n",
       "}});\n",
       "\n",
       "// Listen for the removal of the full notebook cells\n",
       "var notebookContainer = gd.closest('#notebook-container');\n",
       "if (notebookContainer) {{\n",
       "    x.observe(notebookContainer, {childList: true});\n",
       "}}\n",
       "\n",
       "// Listen for the clearing of the current output cell\n",
       "var outputEl = gd.closest('.output');\n",
       "if (outputEl) {{\n",
       "    x.observe(outputEl, {childList: true});\n",
       "}}\n",
       "\n",
       "                        })                };                });            </script>        </div>"
      ]
     },
     "metadata": {},
     "output_type": "display_data"
    }
   ],
   "source": [
    "df3 = pd.DataFrame({'x':[1,2,3,4,5],'y':[10,20,30,20,10],'z':[5,4,3,2,1]})\n",
    "df3.iplot(kind='surface',colorscale='rdylbu')   #colorscale: muda a escala de cores "
   ]
  },
  {
   "cell_type": "markdown",
   "metadata": {},
   "source": [
    "## Spread"
   ]
  },
  {
   "cell_type": "code",
   "execution_count": 17,
   "metadata": {},
   "outputs": [
    {
     "name": "stderr",
     "output_type": "stream",
     "text": [
      "/home/ana/.local/lib/python3.7/site-packages/cufflinks/plotlytools.py:849: FutureWarning:\n",
      "\n",
      "The pandas.np module is deprecated and will be removed from pandas in a future version. Import numpy directly instead\n",
      "\n",
      "/home/ana/.local/lib/python3.7/site-packages/cufflinks/plotlytools.py:850: FutureWarning:\n",
      "\n",
      "The pandas.np module is deprecated and will be removed from pandas in a future version. Import numpy directly instead\n",
      "\n"
     ]
    },
    {
     "data": {
      "application/vnd.plotly.v1+json": {
       "config": {
        "linkText": "Export to plot.ly",
        "plotlyServerURL": "https://plot.ly",
        "showLink": true
       },
       "data": [
        {
         "line": {
          "color": "rgba(255, 153, 51, 1.0)",
          "dash": "solid",
          "shape": "linear",
          "width": 1.3
         },
         "mode": "lines",
         "name": "A",
         "text": "",
         "type": "scatter",
         "x": [
          0,
          1,
          2,
          3,
          4,
          5,
          6,
          7,
          8,
          9,
          10,
          11,
          12,
          13,
          14,
          15,
          16,
          17,
          18,
          19,
          20,
          21,
          22,
          23,
          24,
          25,
          26,
          27,
          28,
          29,
          30,
          31,
          32,
          33,
          34,
          35,
          36,
          37,
          38,
          39,
          40,
          41,
          42,
          43,
          44,
          45,
          46,
          47,
          48,
          49,
          50,
          51,
          52,
          53,
          54,
          55,
          56,
          57,
          58,
          59,
          60,
          61,
          62,
          63,
          64,
          65,
          66,
          67,
          68,
          69,
          70,
          71,
          72,
          73,
          74,
          75,
          76,
          77,
          78,
          79,
          80,
          81,
          82,
          83,
          84,
          85,
          86,
          87,
          88,
          89,
          90,
          91,
          92,
          93,
          94,
          95,
          96,
          97,
          98,
          99
         ],
         "y": [
          -1.8453562462643196,
          -0.20040405303757655,
          -1.1637956456188199,
          0.6205025203423028,
          -0.8390568855527745,
          -1.2174976462691052,
          -0.5640138103328367,
          0.013620573399448279,
          0.40059182767551943,
          -0.5997626758413155,
          0.07726576350156705,
          0.928610877203632,
          0.426972018264773,
          -0.9990060932331011,
          1.078661270762736,
          -0.4513974079092731,
          -1.2643201140490237,
          2.5256077680999685,
          0.41086499908738955,
          -0.04475172187968378,
          0.8233287809051226,
          -0.7271645524645527,
          0.14030657831421076,
          -1.0988235896220555,
          0.7489175266400919,
          0.46582312686492033,
          -0.05288123591202588,
          -1.3670291716449292,
          0.7309050939934914,
          -0.6098667055895841,
          0.5041275128978567,
          2.040048937172921,
          -2.185274683047773,
          1.0196751415031662,
          0.9945470359624125,
          -1.025592479915559,
          -1.267140473022391,
          -0.8689838118146973,
          -0.2236579399824439,
          -1.3097944848343677,
          -0.8414647840651517,
          0.6071895041961782,
          -0.288065793118509,
          -0.0855433340132728,
          1.2362626011306976,
          -0.34103353649966367,
          1.2706087277806368,
          1.5483104445093612,
          0.18539608217150366,
          -0.7546004022350437,
          -0.8326852647100786,
          -1.1021601391805258,
          -1.1929778907431932,
          1.9549439684527512,
          -1.210342094834586,
          0.4060144585650524,
          1.691010701899478,
          -0.8750443198147615,
          1.160394755522703,
          2.275642804498575,
          -0.052481187252204894,
          0.764446349668718,
          0.7748214923293414,
          0.24170402743498778,
          0.28327289936704275,
          0.2467195735483266,
          0.914032725604146,
          -0.08601512694460697,
          0.9489571859474513,
          0.8142978876236726,
          0.7883298154110456,
          -0.32628991344569763,
          0.2301082679624488,
          1.6341593800247989,
          -1.6944753689322416,
          -0.758403852271044,
          0.9422713425820108,
          0.5407768447682212,
          -0.4172833249642221,
          -0.9133540169871017,
          1.2975516807100265,
          0.5348525441513422,
          -0.9491627313232666,
          -0.3285687661985525,
          0.7487839314169843,
          -0.3011044136198415,
          -0.6231469374589843,
          -0.46272480238509744,
          0.751870774961926,
          0.6842338081501783,
          0.1857636597163811,
          0.8977181310333129,
          -0.6380029150186659,
          -0.014892138107339364,
          -1.4264492976702383,
          -1.3625157787787476,
          -0.5037475787792652,
          -0.7209368299148544,
          -0.1853579105123794,
          0.8853425687953029
         ]
        },
        {
         "line": {
          "color": "rgba(55, 128, 191, 1.0)",
          "dash": "solid",
          "shape": "linear",
          "width": 1.3
         },
         "mode": "lines",
         "name": "B",
         "text": "",
         "type": "scatter",
         "x": [
          0,
          1,
          2,
          3,
          4,
          5,
          6,
          7,
          8,
          9,
          10,
          11,
          12,
          13,
          14,
          15,
          16,
          17,
          18,
          19,
          20,
          21,
          22,
          23,
          24,
          25,
          26,
          27,
          28,
          29,
          30,
          31,
          32,
          33,
          34,
          35,
          36,
          37,
          38,
          39,
          40,
          41,
          42,
          43,
          44,
          45,
          46,
          47,
          48,
          49,
          50,
          51,
          52,
          53,
          54,
          55,
          56,
          57,
          58,
          59,
          60,
          61,
          62,
          63,
          64,
          65,
          66,
          67,
          68,
          69,
          70,
          71,
          72,
          73,
          74,
          75,
          76,
          77,
          78,
          79,
          80,
          81,
          82,
          83,
          84,
          85,
          86,
          87,
          88,
          89,
          90,
          91,
          92,
          93,
          94,
          95,
          96,
          97,
          98,
          99
         ],
         "y": [
          -0.918051978935254,
          -2.7056575029327217,
          -0.26581756141055396,
          2.7780920157639803,
          -0.8734279386889949,
          -0.06334899773831265,
          1.4821560963767562,
          0.3720351753435628,
          2.289468082163019,
          -0.8374384578030118,
          -2.108703088038587,
          0.9788520364174591,
          1.4650258305467085,
          1.2415652263814414,
          1.0310626547555006,
          -0.3122406935164411,
          -0.14735613041299925,
          0.33275767892759495,
          -0.1161274919960927,
          0.281205976719588,
          -0.14951869895483794,
          0.41174605696281846,
          2.354209612658942,
          2.092110024373878,
          -0.844565089723117,
          -1.5305136905849483,
          -0.4080953430172473,
          -0.49831975030647513,
          0.532663605513584,
          0.16759861208915242,
          0.46247832654774845,
          0.38741399084499084,
          -1.8520213138080566,
          -0.019018730510986254,
          -1.0113286481308315,
          -1.0929063112561626,
          -0.7089062318588992,
          -0.49640898092235836,
          -0.9734721463692066,
          0.5801554907558394,
          -0.06540899964125191,
          -0.6111002896985552,
          0.45438818782559776,
          0.4785280675226295,
          1.2923482368164383,
          -0.5748394916445265,
          0.43943437190379214,
          -1.4174040567585227,
          -0.7319800748374122,
          -0.29265216113961545,
          -0.36087379702803224,
          -0.04027675520163823,
          -0.24063564992242378,
          -1.2436397165116935,
          -0.6380650947146708,
          -1.194083286516507,
          0.1779335575301587,
          -0.5384113135074421,
          0.2915091190224508,
          0.466796616138699,
          -0.43114256548016455,
          1.2786748208881396,
          1.4078719927900933,
          0.14674226717423464,
          -0.029148341361593073,
          -1.0673227647170362,
          -0.6376233349993639,
          -0.17509268696626795,
          -0.4170870697877158,
          0.4159894756560567,
          -2.208839366952025,
          1.1269460290850897,
          -0.4095692566448082,
          0.7856726897159855,
          -1.490180580048176,
          -1.617147938156026,
          0.4365288533186661,
          -2.32656190655788,
          0.15681159571219597,
          0.5391784367802614,
          -0.5002333680231703,
          0.6548667984163916,
          0.27970593897368917,
          -0.7844703375909428,
          0.9073102317074612,
          -1.1835772548443797,
          -1.1252365576347547,
          -0.31910636809035,
          -0.7706391044036293,
          1.5932069582471045,
          -1.4300111814134815,
          0.09777836056991747,
          0.21906285684508117,
          -0.025607437932308883,
          -1.0696693509127029,
          0.058516669742657644,
          -0.3377730316094605,
          -0.7808950376846182,
          0.5148406510673026,
          -0.6532931427041353
         ]
        },
        {
         "connectgaps": false,
         "fill": "tozeroy",
         "line": {
          "color": "green",
          "dash": "solid",
          "shape": "linear",
          "width": 0.5
         },
         "mode": "lines",
         "name": "Spread",
         "showlegend": false,
         "type": "scatter",
         "x": [
          0,
          1,
          2,
          3,
          4,
          5,
          6,
          7,
          8,
          9,
          10,
          11,
          12,
          13,
          14,
          15,
          16,
          17,
          18,
          19,
          20,
          21,
          22,
          23,
          24,
          25,
          26,
          27,
          28,
          29,
          30,
          31,
          32,
          33,
          34,
          35,
          36,
          37,
          38,
          39,
          40,
          41,
          42,
          43,
          44,
          45,
          46,
          47,
          48,
          49,
          50,
          51,
          52,
          53,
          54,
          55,
          56,
          57,
          58,
          59,
          60,
          61,
          62,
          63,
          64,
          65,
          66,
          67,
          68,
          69,
          70,
          71,
          72,
          73,
          74,
          75,
          76,
          77,
          78,
          79,
          80,
          81,
          82,
          83,
          84,
          85,
          86,
          87,
          88,
          89,
          90,
          91,
          92,
          93,
          94,
          95,
          96,
          97,
          98,
          99
         ],
         "xaxis": "x2",
         "y": [
          "",
          2.5052534498951453,
          "",
          "",
          0.034371053136220464,
          "",
          "",
          "",
          "",
          0.23767578196169636,
          2.185968851540154,
          "",
          "",
          "",
          0.04759861600723547,
          "",
          "",
          2.1928500891723735,
          0.5269924910834822,
          "",
          0.9728474798599606,
          "",
          "",
          "",
          1.5934826163632088,
          1.9963368174498686,
          0.35521410710522144,
          "",
          0.1982414884799073,
          "",
          0.04164918635010828,
          1.6526349463279302,
          "",
          1.0386938720141525,
          2.005875684093244,
          0.06731383134060365,
          "",
          "",
          0.7498142063867628,
          "",
          "",
          1.2182897938947335,
          "",
          "",
          "",
          0.23380595514486285,
          0.8311743558768447,
          2.965714501267884,
          0.9173761570089158,
          "",
          "",
          "",
          "",
          3.1985836849644445,
          "",
          1.6000977450815594,
          1.5130771443693194,
          "",
          0.8688856365002522,
          1.8088461883598759,
          0.37866137822795964,
          "",
          "",
          0.09496176026075315,
          0.3124212407286358,
          1.3140423382653628,
          1.5516560606035097,
          0.08907756002166098,
          1.366044255735167,
          0.3983084119676159,
          2.997169182363071,
          "",
          0.639677524607257,
          0.8484866903088134,
          "",
          0.8587440858849821,
          0.5057424892633448,
          2.8673387513261015,
          "",
          "",
          1.7977850487331968,
          "",
          "",
          0.45590157139239024,
          "",
          0.8824728412245382,
          0.5020896201757704,
          "",
          1.5225098793655554,
          "",
          1.6157748411298627,
          0.7999397704633954,
          "",
          0.010715299824969519,
          "",
          "",
          "",
          0.059958207769763794,
          "",
          1.5386357114994382
         ],
         "yaxis": "y2"
        },
        {
         "connectgaps": false,
         "fill": "tozeroy",
         "line": {
          "color": "red",
          "dash": "solid",
          "shape": "linear",
          "width": 0.5
         },
         "mode": "lines",
         "name": "Spread",
         "showlegend": false,
         "type": "scatter",
         "x": [
          0,
          1,
          2,
          3,
          4,
          5,
          6,
          7,
          8,
          9,
          10,
          11,
          12,
          13,
          14,
          15,
          16,
          17,
          18,
          19,
          20,
          21,
          22,
          23,
          24,
          25,
          26,
          27,
          28,
          29,
          30,
          31,
          32,
          33,
          34,
          35,
          36,
          37,
          38,
          39,
          40,
          41,
          42,
          43,
          44,
          45,
          46,
          47,
          48,
          49,
          50,
          51,
          52,
          53,
          54,
          55,
          56,
          57,
          58,
          59,
          60,
          61,
          62,
          63,
          64,
          65,
          66,
          67,
          68,
          69,
          70,
          71,
          72,
          73,
          74,
          75,
          76,
          77,
          78,
          79,
          80,
          81,
          82,
          83,
          84,
          85,
          86,
          87,
          88,
          89,
          90,
          91,
          92,
          93,
          94,
          95,
          96,
          97,
          98,
          99
         ],
         "xaxis": "x2",
         "y": [
          -0.9273042673290656,
          "",
          -0.8979780842082659,
          -2.1575894954216777,
          "",
          -1.1541486485307926,
          -2.0461699067095926,
          -0.3584146019441145,
          -1.8888762544874995,
          "",
          "",
          -0.0502411592138271,
          -1.0380538122819356,
          -2.2405713196145425,
          "",
          -0.13915671439283195,
          -1.1169639836360243,
          "",
          "",
          -0.3259576985992718,
          "",
          -1.138910609427371,
          -2.2139030343447312,
          -3.1909336139959334,
          "",
          "",
          "",
          -0.8687094213384541,
          "",
          -0.7774653176787365,
          "",
          "",
          -0.3332533692397166,
          "",
          "",
          "",
          -0.5582342411634917,
          -0.37257483089233895,
          "",
          -1.889949975590207,
          -0.7760557844238998,
          "",
          -0.7424539809441068,
          -0.5640714015359023,
          -0.056085635685740653,
          "",
          "",
          "",
          "",
          -0.4619482410954282,
          -0.4718114676820464,
          -1.0618833839788875,
          -0.9523422408207693,
          "",
          -0.5722770001199152,
          "",
          "",
          -0.3366330063073194,
          "",
          "",
          "",
          -0.5142284712194215,
          -0.633050500460752,
          "",
          "",
          "",
          "",
          "",
          "",
          "",
          "",
          -1.4532359425307873,
          "",
          "",
          -0.2042947888840656,
          "",
          "",
          "",
          -0.5740949206764181,
          -1.4525324537673632,
          "",
          -0.12001425426504941,
          -1.2288686702969558,
          "",
          -0.15852630029047687,
          "",
          "",
          -0.14361843429474747,
          "",
          -0.9089731500969261,
          "",
          "",
          -0.8570657718637471,
          "",
          -0.35677994675753544,
          -1.4210324485214052,
          -0.16597454716980475,
          "",
          -0.700198561579682,
          ""
         ],
         "yaxis": "y2"
        }
       ],
       "layout": {
        "hovermode": "x",
        "legend": {
         "bgcolor": "#F5F6F9",
         "font": {
          "color": "#4D5663"
         }
        },
        "paper_bgcolor": "#F5F6F9",
        "plot_bgcolor": "#F5F6F9",
        "template": {
         "data": {
          "bar": [
           {
            "error_x": {
             "color": "#2a3f5f"
            },
            "error_y": {
             "color": "#2a3f5f"
            },
            "marker": {
             "line": {
              "color": "#E5ECF6",
              "width": 0.5
             }
            },
            "type": "bar"
           }
          ],
          "barpolar": [
           {
            "marker": {
             "line": {
              "color": "#E5ECF6",
              "width": 0.5
             }
            },
            "type": "barpolar"
           }
          ],
          "carpet": [
           {
            "aaxis": {
             "endlinecolor": "#2a3f5f",
             "gridcolor": "white",
             "linecolor": "white",
             "minorgridcolor": "white",
             "startlinecolor": "#2a3f5f"
            },
            "baxis": {
             "endlinecolor": "#2a3f5f",
             "gridcolor": "white",
             "linecolor": "white",
             "minorgridcolor": "white",
             "startlinecolor": "#2a3f5f"
            },
            "type": "carpet"
           }
          ],
          "choropleth": [
           {
            "colorbar": {
             "outlinewidth": 0,
             "ticks": ""
            },
            "type": "choropleth"
           }
          ],
          "contour": [
           {
            "colorbar": {
             "outlinewidth": 0,
             "ticks": ""
            },
            "colorscale": [
             [
              0,
              "#0d0887"
             ],
             [
              0.1111111111111111,
              "#46039f"
             ],
             [
              0.2222222222222222,
              "#7201a8"
             ],
             [
              0.3333333333333333,
              "#9c179e"
             ],
             [
              0.4444444444444444,
              "#bd3786"
             ],
             [
              0.5555555555555556,
              "#d8576b"
             ],
             [
              0.6666666666666666,
              "#ed7953"
             ],
             [
              0.7777777777777778,
              "#fb9f3a"
             ],
             [
              0.8888888888888888,
              "#fdca26"
             ],
             [
              1,
              "#f0f921"
             ]
            ],
            "type": "contour"
           }
          ],
          "contourcarpet": [
           {
            "colorbar": {
             "outlinewidth": 0,
             "ticks": ""
            },
            "type": "contourcarpet"
           }
          ],
          "heatmap": [
           {
            "colorbar": {
             "outlinewidth": 0,
             "ticks": ""
            },
            "colorscale": [
             [
              0,
              "#0d0887"
             ],
             [
              0.1111111111111111,
              "#46039f"
             ],
             [
              0.2222222222222222,
              "#7201a8"
             ],
             [
              0.3333333333333333,
              "#9c179e"
             ],
             [
              0.4444444444444444,
              "#bd3786"
             ],
             [
              0.5555555555555556,
              "#d8576b"
             ],
             [
              0.6666666666666666,
              "#ed7953"
             ],
             [
              0.7777777777777778,
              "#fb9f3a"
             ],
             [
              0.8888888888888888,
              "#fdca26"
             ],
             [
              1,
              "#f0f921"
             ]
            ],
            "type": "heatmap"
           }
          ],
          "heatmapgl": [
           {
            "colorbar": {
             "outlinewidth": 0,
             "ticks": ""
            },
            "colorscale": [
             [
              0,
              "#0d0887"
             ],
             [
              0.1111111111111111,
              "#46039f"
             ],
             [
              0.2222222222222222,
              "#7201a8"
             ],
             [
              0.3333333333333333,
              "#9c179e"
             ],
             [
              0.4444444444444444,
              "#bd3786"
             ],
             [
              0.5555555555555556,
              "#d8576b"
             ],
             [
              0.6666666666666666,
              "#ed7953"
             ],
             [
              0.7777777777777778,
              "#fb9f3a"
             ],
             [
              0.8888888888888888,
              "#fdca26"
             ],
             [
              1,
              "#f0f921"
             ]
            ],
            "type": "heatmapgl"
           }
          ],
          "histogram": [
           {
            "marker": {
             "colorbar": {
              "outlinewidth": 0,
              "ticks": ""
             }
            },
            "type": "histogram"
           }
          ],
          "histogram2d": [
           {
            "colorbar": {
             "outlinewidth": 0,
             "ticks": ""
            },
            "colorscale": [
             [
              0,
              "#0d0887"
             ],
             [
              0.1111111111111111,
              "#46039f"
             ],
             [
              0.2222222222222222,
              "#7201a8"
             ],
             [
              0.3333333333333333,
              "#9c179e"
             ],
             [
              0.4444444444444444,
              "#bd3786"
             ],
             [
              0.5555555555555556,
              "#d8576b"
             ],
             [
              0.6666666666666666,
              "#ed7953"
             ],
             [
              0.7777777777777778,
              "#fb9f3a"
             ],
             [
              0.8888888888888888,
              "#fdca26"
             ],
             [
              1,
              "#f0f921"
             ]
            ],
            "type": "histogram2d"
           }
          ],
          "histogram2dcontour": [
           {
            "colorbar": {
             "outlinewidth": 0,
             "ticks": ""
            },
            "colorscale": [
             [
              0,
              "#0d0887"
             ],
             [
              0.1111111111111111,
              "#46039f"
             ],
             [
              0.2222222222222222,
              "#7201a8"
             ],
             [
              0.3333333333333333,
              "#9c179e"
             ],
             [
              0.4444444444444444,
              "#bd3786"
             ],
             [
              0.5555555555555556,
              "#d8576b"
             ],
             [
              0.6666666666666666,
              "#ed7953"
             ],
             [
              0.7777777777777778,
              "#fb9f3a"
             ],
             [
              0.8888888888888888,
              "#fdca26"
             ],
             [
              1,
              "#f0f921"
             ]
            ],
            "type": "histogram2dcontour"
           }
          ],
          "mesh3d": [
           {
            "colorbar": {
             "outlinewidth": 0,
             "ticks": ""
            },
            "type": "mesh3d"
           }
          ],
          "parcoords": [
           {
            "line": {
             "colorbar": {
              "outlinewidth": 0,
              "ticks": ""
             }
            },
            "type": "parcoords"
           }
          ],
          "pie": [
           {
            "automargin": true,
            "type": "pie"
           }
          ],
          "scatter": [
           {
            "marker": {
             "colorbar": {
              "outlinewidth": 0,
              "ticks": ""
             }
            },
            "type": "scatter"
           }
          ],
          "scatter3d": [
           {
            "line": {
             "colorbar": {
              "outlinewidth": 0,
              "ticks": ""
             }
            },
            "marker": {
             "colorbar": {
              "outlinewidth": 0,
              "ticks": ""
             }
            },
            "type": "scatter3d"
           }
          ],
          "scattercarpet": [
           {
            "marker": {
             "colorbar": {
              "outlinewidth": 0,
              "ticks": ""
             }
            },
            "type": "scattercarpet"
           }
          ],
          "scattergeo": [
           {
            "marker": {
             "colorbar": {
              "outlinewidth": 0,
              "ticks": ""
             }
            },
            "type": "scattergeo"
           }
          ],
          "scattergl": [
           {
            "marker": {
             "colorbar": {
              "outlinewidth": 0,
              "ticks": ""
             }
            },
            "type": "scattergl"
           }
          ],
          "scattermapbox": [
           {
            "marker": {
             "colorbar": {
              "outlinewidth": 0,
              "ticks": ""
             }
            },
            "type": "scattermapbox"
           }
          ],
          "scatterpolar": [
           {
            "marker": {
             "colorbar": {
              "outlinewidth": 0,
              "ticks": ""
             }
            },
            "type": "scatterpolar"
           }
          ],
          "scatterpolargl": [
           {
            "marker": {
             "colorbar": {
              "outlinewidth": 0,
              "ticks": ""
             }
            },
            "type": "scatterpolargl"
           }
          ],
          "scatterternary": [
           {
            "marker": {
             "colorbar": {
              "outlinewidth": 0,
              "ticks": ""
             }
            },
            "type": "scatterternary"
           }
          ],
          "surface": [
           {
            "colorbar": {
             "outlinewidth": 0,
             "ticks": ""
            },
            "colorscale": [
             [
              0,
              "#0d0887"
             ],
             [
              0.1111111111111111,
              "#46039f"
             ],
             [
              0.2222222222222222,
              "#7201a8"
             ],
             [
              0.3333333333333333,
              "#9c179e"
             ],
             [
              0.4444444444444444,
              "#bd3786"
             ],
             [
              0.5555555555555556,
              "#d8576b"
             ],
             [
              0.6666666666666666,
              "#ed7953"
             ],
             [
              0.7777777777777778,
              "#fb9f3a"
             ],
             [
              0.8888888888888888,
              "#fdca26"
             ],
             [
              1,
              "#f0f921"
             ]
            ],
            "type": "surface"
           }
          ],
          "table": [
           {
            "cells": {
             "fill": {
              "color": "#EBF0F8"
             },
             "line": {
              "color": "white"
             }
            },
            "header": {
             "fill": {
              "color": "#C8D4E3"
             },
             "line": {
              "color": "white"
             }
            },
            "type": "table"
           }
          ]
         },
         "layout": {
          "annotationdefaults": {
           "arrowcolor": "#2a3f5f",
           "arrowhead": 0,
           "arrowwidth": 1
          },
          "autotypenumbers": "strict",
          "coloraxis": {
           "colorbar": {
            "outlinewidth": 0,
            "ticks": ""
           }
          },
          "colorscale": {
           "diverging": [
            [
             0,
             "#8e0152"
            ],
            [
             0.1,
             "#c51b7d"
            ],
            [
             0.2,
             "#de77ae"
            ],
            [
             0.3,
             "#f1b6da"
            ],
            [
             0.4,
             "#fde0ef"
            ],
            [
             0.5,
             "#f7f7f7"
            ],
            [
             0.6,
             "#e6f5d0"
            ],
            [
             0.7,
             "#b8e186"
            ],
            [
             0.8,
             "#7fbc41"
            ],
            [
             0.9,
             "#4d9221"
            ],
            [
             1,
             "#276419"
            ]
           ],
           "sequential": [
            [
             0,
             "#0d0887"
            ],
            [
             0.1111111111111111,
             "#46039f"
            ],
            [
             0.2222222222222222,
             "#7201a8"
            ],
            [
             0.3333333333333333,
             "#9c179e"
            ],
            [
             0.4444444444444444,
             "#bd3786"
            ],
            [
             0.5555555555555556,
             "#d8576b"
            ],
            [
             0.6666666666666666,
             "#ed7953"
            ],
            [
             0.7777777777777778,
             "#fb9f3a"
            ],
            [
             0.8888888888888888,
             "#fdca26"
            ],
            [
             1,
             "#f0f921"
            ]
           ],
           "sequentialminus": [
            [
             0,
             "#0d0887"
            ],
            [
             0.1111111111111111,
             "#46039f"
            ],
            [
             0.2222222222222222,
             "#7201a8"
            ],
            [
             0.3333333333333333,
             "#9c179e"
            ],
            [
             0.4444444444444444,
             "#bd3786"
            ],
            [
             0.5555555555555556,
             "#d8576b"
            ],
            [
             0.6666666666666666,
             "#ed7953"
            ],
            [
             0.7777777777777778,
             "#fb9f3a"
            ],
            [
             0.8888888888888888,
             "#fdca26"
            ],
            [
             1,
             "#f0f921"
            ]
           ]
          },
          "colorway": [
           "#636efa",
           "#EF553B",
           "#00cc96",
           "#ab63fa",
           "#FFA15A",
           "#19d3f3",
           "#FF6692",
           "#B6E880",
           "#FF97FF",
           "#FECB52"
          ],
          "font": {
           "color": "#2a3f5f"
          },
          "geo": {
           "bgcolor": "white",
           "lakecolor": "white",
           "landcolor": "#E5ECF6",
           "showlakes": true,
           "showland": true,
           "subunitcolor": "white"
          },
          "hoverlabel": {
           "align": "left"
          },
          "hovermode": "closest",
          "mapbox": {
           "style": "light"
          },
          "paper_bgcolor": "white",
          "plot_bgcolor": "#E5ECF6",
          "polar": {
           "angularaxis": {
            "gridcolor": "white",
            "linecolor": "white",
            "ticks": ""
           },
           "bgcolor": "#E5ECF6",
           "radialaxis": {
            "gridcolor": "white",
            "linecolor": "white",
            "ticks": ""
           }
          },
          "scene": {
           "xaxis": {
            "backgroundcolor": "#E5ECF6",
            "gridcolor": "white",
            "gridwidth": 2,
            "linecolor": "white",
            "showbackground": true,
            "ticks": "",
            "zerolinecolor": "white"
           },
           "yaxis": {
            "backgroundcolor": "#E5ECF6",
            "gridcolor": "white",
            "gridwidth": 2,
            "linecolor": "white",
            "showbackground": true,
            "ticks": "",
            "zerolinecolor": "white"
           },
           "zaxis": {
            "backgroundcolor": "#E5ECF6",
            "gridcolor": "white",
            "gridwidth": 2,
            "linecolor": "white",
            "showbackground": true,
            "ticks": "",
            "zerolinecolor": "white"
           }
          },
          "shapedefaults": {
           "line": {
            "color": "#2a3f5f"
           }
          },
          "ternary": {
           "aaxis": {
            "gridcolor": "white",
            "linecolor": "white",
            "ticks": ""
           },
           "baxis": {
            "gridcolor": "white",
            "linecolor": "white",
            "ticks": ""
           },
           "bgcolor": "#E5ECF6",
           "caxis": {
            "gridcolor": "white",
            "linecolor": "white",
            "ticks": ""
           }
          },
          "title": {
           "x": 0.05
          },
          "xaxis": {
           "automargin": true,
           "gridcolor": "white",
           "linecolor": "white",
           "ticks": "",
           "title": {
            "standoff": 15
           },
           "zerolinecolor": "white",
           "zerolinewidth": 2
          },
          "yaxis": {
           "automargin": true,
           "gridcolor": "white",
           "linecolor": "white",
           "ticks": "",
           "title": {
            "standoff": 15
           },
           "zerolinecolor": "white",
           "zerolinewidth": 2
          }
         }
        },
        "title": {
         "font": {
          "color": "#4D5663"
         }
        },
        "xaxis": {
         "gridcolor": "#E1E5ED",
         "showgrid": true,
         "tickfont": {
          "color": "#4D5663"
         },
         "title": {
          "font": {
           "color": "#4D5663"
          },
          "text": ""
         },
         "zerolinecolor": "#E1E5ED"
        },
        "xaxis2": {
         "anchor": "y2",
         "gridcolor": "#E1E5ED",
         "showgrid": true,
         "showticklabels": false,
         "tickfont": {
          "color": "#4D5663"
         },
         "title": {
          "font": {
           "color": "#4D5663"
          },
          "text": ""
         },
         "zerolinecolor": "#E1E5ED"
        },
        "yaxis": {
         "domain": [
          0.3,
          1
         ],
         "gridcolor": "#E1E5ED",
         "showgrid": true,
         "tickfont": {
          "color": "#4D5663"
         },
         "title": {
          "font": {
           "color": "#4D5663"
          },
          "text": ""
         },
         "zerolinecolor": "#E1E5ED"
        },
        "yaxis2": {
         "domain": [
          0,
          0.25
         ],
         "gridcolor": "#E1E5ED",
         "showgrid": true,
         "tickfont": {
          "color": "#4D5663"
         },
         "title": {
          "font": {
           "color": "#4D5663"
          },
          "text": "Spread"
         },
         "zerolinecolor": "#E1E5ED"
        }
       }
      },
      "text/html": [
       "<div>                            <div id=\"2996849f-8e00-4eb0-9d81-5cd731aec288\" class=\"plotly-graph-div\" style=\"height:525px; width:100%;\"></div>            <script type=\"text/javascript\">                require([\"plotly\"], function(Plotly) {                    window.PLOTLYENV=window.PLOTLYENV || {};\n",
       "                    window.PLOTLYENV.BASE_URL='https://plot.ly';                                    if (document.getElementById(\"2996849f-8e00-4eb0-9d81-5cd731aec288\")) {                    Plotly.newPlot(                        \"2996849f-8e00-4eb0-9d81-5cd731aec288\",                        [{\"line\": {\"color\": \"rgba(255, 153, 51, 1.0)\", \"dash\": \"solid\", \"shape\": \"linear\", \"width\": 1.3}, \"mode\": \"lines\", \"name\": \"A\", \"text\": \"\", \"type\": \"scatter\", \"x\": [0, 1, 2, 3, 4, 5, 6, 7, 8, 9, 10, 11, 12, 13, 14, 15, 16, 17, 18, 19, 20, 21, 22, 23, 24, 25, 26, 27, 28, 29, 30, 31, 32, 33, 34, 35, 36, 37, 38, 39, 40, 41, 42, 43, 44, 45, 46, 47, 48, 49, 50, 51, 52, 53, 54, 55, 56, 57, 58, 59, 60, 61, 62, 63, 64, 65, 66, 67, 68, 69, 70, 71, 72, 73, 74, 75, 76, 77, 78, 79, 80, 81, 82, 83, 84, 85, 86, 87, 88, 89, 90, 91, 92, 93, 94, 95, 96, 97, 98, 99], \"y\": [-1.8453562462643196, -0.20040405303757655, -1.1637956456188199, 0.6205025203423028, -0.8390568855527745, -1.2174976462691052, -0.5640138103328367, 0.013620573399448279, 0.40059182767551943, -0.5997626758413155, 0.07726576350156705, 0.928610877203632, 0.426972018264773, -0.9990060932331011, 1.078661270762736, -0.4513974079092731, -1.2643201140490237, 2.5256077680999685, 0.41086499908738955, -0.04475172187968378, 0.8233287809051226, -0.7271645524645527, 0.14030657831421076, -1.0988235896220555, 0.7489175266400919, 0.46582312686492033, -0.05288123591202588, -1.3670291716449292, 0.7309050939934914, -0.6098667055895841, 0.5041275128978567, 2.040048937172921, -2.185274683047773, 1.0196751415031662, 0.9945470359624125, -1.025592479915559, -1.267140473022391, -0.8689838118146973, -0.2236579399824439, -1.3097944848343677, -0.8414647840651517, 0.6071895041961782, -0.288065793118509, -0.0855433340132728, 1.2362626011306976, -0.34103353649966367, 1.2706087277806368, 1.5483104445093612, 0.18539608217150366, -0.7546004022350437, -0.8326852647100786, -1.1021601391805258, -1.1929778907431932, 1.9549439684527512, -1.210342094834586, 0.4060144585650524, 1.691010701899478, -0.8750443198147615, 1.160394755522703, 2.275642804498575, -0.052481187252204894, 0.764446349668718, 0.7748214923293414, 0.24170402743498778, 0.28327289936704275, 0.2467195735483266, 0.914032725604146, -0.08601512694460697, 0.9489571859474513, 0.8142978876236726, 0.7883298154110456, -0.32628991344569763, 0.2301082679624488, 1.6341593800247989, -1.6944753689322416, -0.758403852271044, 0.9422713425820108, 0.5407768447682212, -0.4172833249642221, -0.9133540169871017, 1.2975516807100265, 0.5348525441513422, -0.9491627313232666, -0.3285687661985525, 0.7487839314169843, -0.3011044136198415, -0.6231469374589843, -0.46272480238509744, 0.751870774961926, 0.6842338081501783, 0.1857636597163811, 0.8977181310333129, -0.6380029150186659, -0.014892138107339364, -1.4264492976702383, -1.3625157787787476, -0.5037475787792652, -0.7209368299148544, -0.1853579105123794, 0.8853425687953029]}, {\"line\": {\"color\": \"rgba(55, 128, 191, 1.0)\", \"dash\": \"solid\", \"shape\": \"linear\", \"width\": 1.3}, \"mode\": \"lines\", \"name\": \"B\", \"text\": \"\", \"type\": \"scatter\", \"x\": [0, 1, 2, 3, 4, 5, 6, 7, 8, 9, 10, 11, 12, 13, 14, 15, 16, 17, 18, 19, 20, 21, 22, 23, 24, 25, 26, 27, 28, 29, 30, 31, 32, 33, 34, 35, 36, 37, 38, 39, 40, 41, 42, 43, 44, 45, 46, 47, 48, 49, 50, 51, 52, 53, 54, 55, 56, 57, 58, 59, 60, 61, 62, 63, 64, 65, 66, 67, 68, 69, 70, 71, 72, 73, 74, 75, 76, 77, 78, 79, 80, 81, 82, 83, 84, 85, 86, 87, 88, 89, 90, 91, 92, 93, 94, 95, 96, 97, 98, 99], \"y\": [-0.918051978935254, -2.7056575029327217, -0.26581756141055396, 2.7780920157639803, -0.8734279386889949, -0.06334899773831265, 1.4821560963767562, 0.3720351753435628, 2.289468082163019, -0.8374384578030118, -2.108703088038587, 0.9788520364174591, 1.4650258305467085, 1.2415652263814414, 1.0310626547555006, -0.3122406935164411, -0.14735613041299925, 0.33275767892759495, -0.1161274919960927, 0.281205976719588, -0.14951869895483794, 0.41174605696281846, 2.354209612658942, 2.092110024373878, -0.844565089723117, -1.5305136905849483, -0.4080953430172473, -0.49831975030647513, 0.532663605513584, 0.16759861208915242, 0.46247832654774845, 0.38741399084499084, -1.8520213138080566, -0.019018730510986254, -1.0113286481308315, -1.0929063112561626, -0.7089062318588992, -0.49640898092235836, -0.9734721463692066, 0.5801554907558394, -0.06540899964125191, -0.6111002896985552, 0.45438818782559776, 0.4785280675226295, 1.2923482368164383, -0.5748394916445265, 0.43943437190379214, -1.4174040567585227, -0.7319800748374122, -0.29265216113961545, -0.36087379702803224, -0.04027675520163823, -0.24063564992242378, -1.2436397165116935, -0.6380650947146708, -1.194083286516507, 0.1779335575301587, -0.5384113135074421, 0.2915091190224508, 0.466796616138699, -0.43114256548016455, 1.2786748208881396, 1.4078719927900933, 0.14674226717423464, -0.029148341361593073, -1.0673227647170362, -0.6376233349993639, -0.17509268696626795, -0.4170870697877158, 0.4159894756560567, -2.208839366952025, 1.1269460290850897, -0.4095692566448082, 0.7856726897159855, -1.490180580048176, -1.617147938156026, 0.4365288533186661, -2.32656190655788, 0.15681159571219597, 0.5391784367802614, -0.5002333680231703, 0.6548667984163916, 0.27970593897368917, -0.7844703375909428, 0.9073102317074612, -1.1835772548443797, -1.1252365576347547, -0.31910636809035, -0.7706391044036293, 1.5932069582471045, -1.4300111814134815, 0.09777836056991747, 0.21906285684508117, -0.025607437932308883, -1.0696693509127029, 0.058516669742657644, -0.3377730316094605, -0.7808950376846182, 0.5148406510673026, -0.6532931427041353]}, {\"connectgaps\": false, \"fill\": \"tozeroy\", \"line\": {\"color\": \"green\", \"dash\": \"solid\", \"shape\": \"linear\", \"width\": 0.5}, \"mode\": \"lines\", \"name\": \"Spread\", \"showlegend\": false, \"type\": \"scatter\", \"x\": [0, 1, 2, 3, 4, 5, 6, 7, 8, 9, 10, 11, 12, 13, 14, 15, 16, 17, 18, 19, 20, 21, 22, 23, 24, 25, 26, 27, 28, 29, 30, 31, 32, 33, 34, 35, 36, 37, 38, 39, 40, 41, 42, 43, 44, 45, 46, 47, 48, 49, 50, 51, 52, 53, 54, 55, 56, 57, 58, 59, 60, 61, 62, 63, 64, 65, 66, 67, 68, 69, 70, 71, 72, 73, 74, 75, 76, 77, 78, 79, 80, 81, 82, 83, 84, 85, 86, 87, 88, 89, 90, 91, 92, 93, 94, 95, 96, 97, 98, 99], \"xaxis\": \"x2\", \"y\": [\"\", 2.5052534498951453, \"\", \"\", 0.034371053136220464, \"\", \"\", \"\", \"\", 0.23767578196169636, 2.185968851540154, \"\", \"\", \"\", 0.04759861600723547, \"\", \"\", 2.1928500891723735, 0.5269924910834822, \"\", 0.9728474798599606, \"\", \"\", \"\", 1.5934826163632088, 1.9963368174498686, 0.35521410710522144, \"\", 0.1982414884799073, \"\", 0.04164918635010828, 1.6526349463279302, \"\", 1.0386938720141525, 2.005875684093244, 0.06731383134060365, \"\", \"\", 0.7498142063867628, \"\", \"\", 1.2182897938947335, \"\", \"\", \"\", 0.23380595514486285, 0.8311743558768447, 2.965714501267884, 0.9173761570089158, \"\", \"\", \"\", \"\", 3.1985836849644445, \"\", 1.6000977450815594, 1.5130771443693194, \"\", 0.8688856365002522, 1.8088461883598759, 0.37866137822795964, \"\", \"\", 0.09496176026075315, 0.3124212407286358, 1.3140423382653628, 1.5516560606035097, 0.08907756002166098, 1.366044255735167, 0.3983084119676159, 2.997169182363071, \"\", 0.639677524607257, 0.8484866903088134, \"\", 0.8587440858849821, 0.5057424892633448, 2.8673387513261015, \"\", \"\", 1.7977850487331968, \"\", \"\", 0.45590157139239024, \"\", 0.8824728412245382, 0.5020896201757704, \"\", 1.5225098793655554, \"\", 1.6157748411298627, 0.7999397704633954, \"\", 0.010715299824969519, \"\", \"\", \"\", 0.059958207769763794, \"\", 1.5386357114994382], \"yaxis\": \"y2\"}, {\"connectgaps\": false, \"fill\": \"tozeroy\", \"line\": {\"color\": \"red\", \"dash\": \"solid\", \"shape\": \"linear\", \"width\": 0.5}, \"mode\": \"lines\", \"name\": \"Spread\", \"showlegend\": false, \"type\": \"scatter\", \"x\": [0, 1, 2, 3, 4, 5, 6, 7, 8, 9, 10, 11, 12, 13, 14, 15, 16, 17, 18, 19, 20, 21, 22, 23, 24, 25, 26, 27, 28, 29, 30, 31, 32, 33, 34, 35, 36, 37, 38, 39, 40, 41, 42, 43, 44, 45, 46, 47, 48, 49, 50, 51, 52, 53, 54, 55, 56, 57, 58, 59, 60, 61, 62, 63, 64, 65, 66, 67, 68, 69, 70, 71, 72, 73, 74, 75, 76, 77, 78, 79, 80, 81, 82, 83, 84, 85, 86, 87, 88, 89, 90, 91, 92, 93, 94, 95, 96, 97, 98, 99], \"xaxis\": \"x2\", \"y\": [-0.9273042673290656, \"\", -0.8979780842082659, -2.1575894954216777, \"\", -1.1541486485307926, -2.0461699067095926, -0.3584146019441145, -1.8888762544874995, \"\", \"\", -0.0502411592138271, -1.0380538122819356, -2.2405713196145425, \"\", -0.13915671439283195, -1.1169639836360243, \"\", \"\", -0.3259576985992718, \"\", -1.138910609427371, -2.2139030343447312, -3.1909336139959334, \"\", \"\", \"\", -0.8687094213384541, \"\", -0.7774653176787365, \"\", \"\", -0.3332533692397166, \"\", \"\", \"\", -0.5582342411634917, -0.37257483089233895, \"\", -1.889949975590207, -0.7760557844238998, \"\", -0.7424539809441068, -0.5640714015359023, -0.056085635685740653, \"\", \"\", \"\", \"\", -0.4619482410954282, -0.4718114676820464, -1.0618833839788875, -0.9523422408207693, \"\", -0.5722770001199152, \"\", \"\", -0.3366330063073194, \"\", \"\", \"\", -0.5142284712194215, -0.633050500460752, \"\", \"\", \"\", \"\", \"\", \"\", \"\", \"\", -1.4532359425307873, \"\", \"\", -0.2042947888840656, \"\", \"\", \"\", -0.5740949206764181, -1.4525324537673632, \"\", -0.12001425426504941, -1.2288686702969558, \"\", -0.15852630029047687, \"\", \"\", -0.14361843429474747, \"\", -0.9089731500969261, \"\", \"\", -0.8570657718637471, \"\", -0.35677994675753544, -1.4210324485214052, -0.16597454716980475, \"\", -0.700198561579682, \"\"], \"yaxis\": \"y2\"}],                        {\"hovermode\": \"x\", \"legend\": {\"bgcolor\": \"#F5F6F9\", \"font\": {\"color\": \"#4D5663\"}}, \"paper_bgcolor\": \"#F5F6F9\", \"plot_bgcolor\": \"#F5F6F9\", \"template\": {\"data\": {\"bar\": [{\"error_x\": {\"color\": \"#2a3f5f\"}, \"error_y\": {\"color\": \"#2a3f5f\"}, \"marker\": {\"line\": {\"color\": \"#E5ECF6\", \"width\": 0.5}}, \"type\": \"bar\"}], \"barpolar\": [{\"marker\": {\"line\": {\"color\": \"#E5ECF6\", \"width\": 0.5}}, \"type\": \"barpolar\"}], \"carpet\": [{\"aaxis\": {\"endlinecolor\": \"#2a3f5f\", \"gridcolor\": \"white\", \"linecolor\": \"white\", \"minorgridcolor\": \"white\", \"startlinecolor\": \"#2a3f5f\"}, \"baxis\": {\"endlinecolor\": \"#2a3f5f\", \"gridcolor\": \"white\", \"linecolor\": \"white\", \"minorgridcolor\": \"white\", \"startlinecolor\": \"#2a3f5f\"}, \"type\": \"carpet\"}], \"choropleth\": [{\"colorbar\": {\"outlinewidth\": 0, \"ticks\": \"\"}, \"type\": \"choropleth\"}], \"contour\": [{\"colorbar\": {\"outlinewidth\": 0, \"ticks\": \"\"}, \"colorscale\": [[0.0, \"#0d0887\"], [0.1111111111111111, \"#46039f\"], [0.2222222222222222, \"#7201a8\"], [0.3333333333333333, \"#9c179e\"], [0.4444444444444444, \"#bd3786\"], [0.5555555555555556, \"#d8576b\"], [0.6666666666666666, \"#ed7953\"], [0.7777777777777778, \"#fb9f3a\"], [0.8888888888888888, \"#fdca26\"], [1.0, \"#f0f921\"]], \"type\": \"contour\"}], \"contourcarpet\": [{\"colorbar\": {\"outlinewidth\": 0, \"ticks\": \"\"}, \"type\": \"contourcarpet\"}], \"heatmap\": [{\"colorbar\": {\"outlinewidth\": 0, \"ticks\": \"\"}, \"colorscale\": [[0.0, \"#0d0887\"], [0.1111111111111111, \"#46039f\"], [0.2222222222222222, \"#7201a8\"], [0.3333333333333333, \"#9c179e\"], [0.4444444444444444, \"#bd3786\"], [0.5555555555555556, \"#d8576b\"], [0.6666666666666666, \"#ed7953\"], [0.7777777777777778, \"#fb9f3a\"], [0.8888888888888888, \"#fdca26\"], [1.0, \"#f0f921\"]], \"type\": \"heatmap\"}], \"heatmapgl\": [{\"colorbar\": {\"outlinewidth\": 0, \"ticks\": \"\"}, \"colorscale\": [[0.0, \"#0d0887\"], [0.1111111111111111, \"#46039f\"], [0.2222222222222222, \"#7201a8\"], [0.3333333333333333, \"#9c179e\"], [0.4444444444444444, \"#bd3786\"], [0.5555555555555556, \"#d8576b\"], [0.6666666666666666, \"#ed7953\"], [0.7777777777777778, \"#fb9f3a\"], [0.8888888888888888, \"#fdca26\"], [1.0, \"#f0f921\"]], \"type\": \"heatmapgl\"}], \"histogram\": [{\"marker\": {\"colorbar\": {\"outlinewidth\": 0, \"ticks\": \"\"}}, \"type\": \"histogram\"}], \"histogram2d\": [{\"colorbar\": {\"outlinewidth\": 0, \"ticks\": \"\"}, \"colorscale\": [[0.0, \"#0d0887\"], [0.1111111111111111, \"#46039f\"], [0.2222222222222222, \"#7201a8\"], [0.3333333333333333, \"#9c179e\"], [0.4444444444444444, \"#bd3786\"], [0.5555555555555556, \"#d8576b\"], [0.6666666666666666, \"#ed7953\"], [0.7777777777777778, \"#fb9f3a\"], [0.8888888888888888, \"#fdca26\"], [1.0, \"#f0f921\"]], \"type\": \"histogram2d\"}], \"histogram2dcontour\": [{\"colorbar\": {\"outlinewidth\": 0, \"ticks\": \"\"}, \"colorscale\": [[0.0, \"#0d0887\"], [0.1111111111111111, \"#46039f\"], [0.2222222222222222, \"#7201a8\"], [0.3333333333333333, \"#9c179e\"], [0.4444444444444444, \"#bd3786\"], [0.5555555555555556, \"#d8576b\"], [0.6666666666666666, \"#ed7953\"], [0.7777777777777778, \"#fb9f3a\"], [0.8888888888888888, \"#fdca26\"], [1.0, \"#f0f921\"]], \"type\": \"histogram2dcontour\"}], \"mesh3d\": [{\"colorbar\": {\"outlinewidth\": 0, \"ticks\": \"\"}, \"type\": \"mesh3d\"}], \"parcoords\": [{\"line\": {\"colorbar\": {\"outlinewidth\": 0, \"ticks\": \"\"}}, \"type\": \"parcoords\"}], \"pie\": [{\"automargin\": true, \"type\": \"pie\"}], \"scatter\": [{\"marker\": {\"colorbar\": {\"outlinewidth\": 0, \"ticks\": \"\"}}, \"type\": \"scatter\"}], \"scatter3d\": [{\"line\": {\"colorbar\": {\"outlinewidth\": 0, \"ticks\": \"\"}}, \"marker\": {\"colorbar\": {\"outlinewidth\": 0, \"ticks\": \"\"}}, \"type\": \"scatter3d\"}], \"scattercarpet\": [{\"marker\": {\"colorbar\": {\"outlinewidth\": 0, \"ticks\": \"\"}}, \"type\": \"scattercarpet\"}], \"scattergeo\": [{\"marker\": {\"colorbar\": {\"outlinewidth\": 0, \"ticks\": \"\"}}, \"type\": \"scattergeo\"}], \"scattergl\": [{\"marker\": {\"colorbar\": {\"outlinewidth\": 0, \"ticks\": \"\"}}, \"type\": \"scattergl\"}], \"scattermapbox\": [{\"marker\": {\"colorbar\": {\"outlinewidth\": 0, \"ticks\": \"\"}}, \"type\": \"scattermapbox\"}], \"scatterpolar\": [{\"marker\": {\"colorbar\": {\"outlinewidth\": 0, \"ticks\": \"\"}}, \"type\": \"scatterpolar\"}], \"scatterpolargl\": [{\"marker\": {\"colorbar\": {\"outlinewidth\": 0, \"ticks\": \"\"}}, \"type\": \"scatterpolargl\"}], \"scatterternary\": [{\"marker\": {\"colorbar\": {\"outlinewidth\": 0, \"ticks\": \"\"}}, \"type\": \"scatterternary\"}], \"surface\": [{\"colorbar\": {\"outlinewidth\": 0, \"ticks\": \"\"}, \"colorscale\": [[0.0, \"#0d0887\"], [0.1111111111111111, \"#46039f\"], [0.2222222222222222, \"#7201a8\"], [0.3333333333333333, \"#9c179e\"], [0.4444444444444444, \"#bd3786\"], [0.5555555555555556, \"#d8576b\"], [0.6666666666666666, \"#ed7953\"], [0.7777777777777778, \"#fb9f3a\"], [0.8888888888888888, \"#fdca26\"], [1.0, \"#f0f921\"]], \"type\": \"surface\"}], \"table\": [{\"cells\": {\"fill\": {\"color\": \"#EBF0F8\"}, \"line\": {\"color\": \"white\"}}, \"header\": {\"fill\": {\"color\": \"#C8D4E3\"}, \"line\": {\"color\": \"white\"}}, \"type\": \"table\"}]}, \"layout\": {\"annotationdefaults\": {\"arrowcolor\": \"#2a3f5f\", \"arrowhead\": 0, \"arrowwidth\": 1}, \"autotypenumbers\": \"strict\", \"coloraxis\": {\"colorbar\": {\"outlinewidth\": 0, \"ticks\": \"\"}}, \"colorscale\": {\"diverging\": [[0, \"#8e0152\"], [0.1, \"#c51b7d\"], [0.2, \"#de77ae\"], [0.3, \"#f1b6da\"], [0.4, \"#fde0ef\"], [0.5, \"#f7f7f7\"], [0.6, \"#e6f5d0\"], [0.7, \"#b8e186\"], [0.8, \"#7fbc41\"], [0.9, \"#4d9221\"], [1, \"#276419\"]], \"sequential\": [[0.0, \"#0d0887\"], [0.1111111111111111, \"#46039f\"], [0.2222222222222222, \"#7201a8\"], [0.3333333333333333, \"#9c179e\"], [0.4444444444444444, \"#bd3786\"], [0.5555555555555556, \"#d8576b\"], [0.6666666666666666, \"#ed7953\"], [0.7777777777777778, \"#fb9f3a\"], [0.8888888888888888, \"#fdca26\"], [1.0, \"#f0f921\"]], \"sequentialminus\": [[0.0, \"#0d0887\"], [0.1111111111111111, \"#46039f\"], [0.2222222222222222, \"#7201a8\"], [0.3333333333333333, \"#9c179e\"], [0.4444444444444444, \"#bd3786\"], [0.5555555555555556, \"#d8576b\"], [0.6666666666666666, \"#ed7953\"], [0.7777777777777778, \"#fb9f3a\"], [0.8888888888888888, \"#fdca26\"], [1.0, \"#f0f921\"]]}, \"colorway\": [\"#636efa\", \"#EF553B\", \"#00cc96\", \"#ab63fa\", \"#FFA15A\", \"#19d3f3\", \"#FF6692\", \"#B6E880\", \"#FF97FF\", \"#FECB52\"], \"font\": {\"color\": \"#2a3f5f\"}, \"geo\": {\"bgcolor\": \"white\", \"lakecolor\": \"white\", \"landcolor\": \"#E5ECF6\", \"showlakes\": true, \"showland\": true, \"subunitcolor\": \"white\"}, \"hoverlabel\": {\"align\": \"left\"}, \"hovermode\": \"closest\", \"mapbox\": {\"style\": \"light\"}, \"paper_bgcolor\": \"white\", \"plot_bgcolor\": \"#E5ECF6\", \"polar\": {\"angularaxis\": {\"gridcolor\": \"white\", \"linecolor\": \"white\", \"ticks\": \"\"}, \"bgcolor\": \"#E5ECF6\", \"radialaxis\": {\"gridcolor\": \"white\", \"linecolor\": \"white\", \"ticks\": \"\"}}, \"scene\": {\"xaxis\": {\"backgroundcolor\": \"#E5ECF6\", \"gridcolor\": \"white\", \"gridwidth\": 2, \"linecolor\": \"white\", \"showbackground\": true, \"ticks\": \"\", \"zerolinecolor\": \"white\"}, \"yaxis\": {\"backgroundcolor\": \"#E5ECF6\", \"gridcolor\": \"white\", \"gridwidth\": 2, \"linecolor\": \"white\", \"showbackground\": true, \"ticks\": \"\", \"zerolinecolor\": \"white\"}, \"zaxis\": {\"backgroundcolor\": \"#E5ECF6\", \"gridcolor\": \"white\", \"gridwidth\": 2, \"linecolor\": \"white\", \"showbackground\": true, \"ticks\": \"\", \"zerolinecolor\": \"white\"}}, \"shapedefaults\": {\"line\": {\"color\": \"#2a3f5f\"}}, \"ternary\": {\"aaxis\": {\"gridcolor\": \"white\", \"linecolor\": \"white\", \"ticks\": \"\"}, \"baxis\": {\"gridcolor\": \"white\", \"linecolor\": \"white\", \"ticks\": \"\"}, \"bgcolor\": \"#E5ECF6\", \"caxis\": {\"gridcolor\": \"white\", \"linecolor\": \"white\", \"ticks\": \"\"}}, \"title\": {\"x\": 0.05}, \"xaxis\": {\"automargin\": true, \"gridcolor\": \"white\", \"linecolor\": \"white\", \"ticks\": \"\", \"title\": {\"standoff\": 15}, \"zerolinecolor\": \"white\", \"zerolinewidth\": 2}, \"yaxis\": {\"automargin\": true, \"gridcolor\": \"white\", \"linecolor\": \"white\", \"ticks\": \"\", \"title\": {\"standoff\": 15}, \"zerolinecolor\": \"white\", \"zerolinewidth\": 2}}}, \"title\": {\"font\": {\"color\": \"#4D5663\"}}, \"xaxis\": {\"gridcolor\": \"#E1E5ED\", \"showgrid\": true, \"tickfont\": {\"color\": \"#4D5663\"}, \"title\": {\"font\": {\"color\": \"#4D5663\"}, \"text\": \"\"}, \"zerolinecolor\": \"#E1E5ED\"}, \"xaxis2\": {\"anchor\": \"y2\", \"gridcolor\": \"#E1E5ED\", \"showgrid\": true, \"showticklabels\": false, \"tickfont\": {\"color\": \"#4D5663\"}, \"title\": {\"font\": {\"color\": \"#4D5663\"}, \"text\": \"\"}, \"zerolinecolor\": \"#E1E5ED\"}, \"yaxis\": {\"domain\": [0.3, 1], \"gridcolor\": \"#E1E5ED\", \"showgrid\": true, \"tickfont\": {\"color\": \"#4D5663\"}, \"title\": {\"font\": {\"color\": \"#4D5663\"}, \"text\": \"\"}, \"zerolinecolor\": \"#E1E5ED\"}, \"yaxis2\": {\"domain\": [0, 0.25], \"gridcolor\": \"#E1E5ED\", \"showgrid\": true, \"tickfont\": {\"color\": \"#4D5663\"}, \"title\": {\"font\": {\"color\": \"#4D5663\"}, \"text\": \"Spread\"}, \"zerolinecolor\": \"#E1E5ED\"}},                        {\"showLink\": true, \"linkText\": \"Export to plot.ly\", \"plotlyServerURL\": \"https://plot.ly\", \"responsive\": true}                    ).then(function(){\n",
       "                            \n",
       "var gd = document.getElementById('2996849f-8e00-4eb0-9d81-5cd731aec288');\n",
       "var x = new MutationObserver(function (mutations, observer) {{\n",
       "        var display = window.getComputedStyle(gd).display;\n",
       "        if (!display || display === 'none') {{\n",
       "            console.log([gd, 'removed!']);\n",
       "            Plotly.purge(gd);\n",
       "            observer.disconnect();\n",
       "        }}\n",
       "}});\n",
       "\n",
       "// Listen for the removal of the full notebook cells\n",
       "var notebookContainer = gd.closest('#notebook-container');\n",
       "if (notebookContainer) {{\n",
       "    x.observe(notebookContainer, {childList: true});\n",
       "}}\n",
       "\n",
       "// Listen for the clearing of the current output cell\n",
       "var outputEl = gd.closest('.output');\n",
       "if (outputEl) {{\n",
       "    x.observe(outputEl, {childList: true});\n",
       "}}\n",
       "\n",
       "                        })                };                });            </script>        </div>"
      ]
     },
     "metadata": {},
     "output_type": "display_data"
    }
   ],
   "source": [
    "df[['A','B']].iplot(kind='spread')"
   ]
  },
  {
   "cell_type": "markdown",
   "metadata": {},
   "source": [
    "## Histograma"
   ]
  },
  {
   "cell_type": "code",
   "execution_count": 18,
   "metadata": {},
   "outputs": [
    {
     "data": {
      "application/vnd.plotly.v1+json": {
       "config": {
        "linkText": "Export to plot.ly",
        "plotlyServerURL": "https://plot.ly",
        "showLink": true
       },
       "data": [
        {
         "histfunc": "count",
         "histnorm": "",
         "marker": {
          "color": "rgba(255, 153, 51, 1.0)",
          "line": {
           "color": "#4D5663",
           "width": 1.3
          }
         },
         "name": "A",
         "nbinsx": 25,
         "opacity": 0.8,
         "orientation": "v",
         "type": "histogram",
         "x": [
          -1.8453562462643196,
          -0.20040405303757655,
          -1.1637956456188199,
          0.6205025203423028,
          -0.8390568855527745,
          -1.2174976462691052,
          -0.5640138103328367,
          0.013620573399448279,
          0.40059182767551943,
          -0.5997626758413155,
          0.07726576350156705,
          0.928610877203632,
          0.426972018264773,
          -0.9990060932331011,
          1.078661270762736,
          -0.4513974079092731,
          -1.2643201140490237,
          2.5256077680999685,
          0.41086499908738955,
          -0.04475172187968378,
          0.8233287809051226,
          -0.7271645524645527,
          0.14030657831421076,
          -1.0988235896220555,
          0.7489175266400919,
          0.46582312686492033,
          -0.05288123591202588,
          -1.3670291716449292,
          0.7309050939934914,
          -0.6098667055895841,
          0.5041275128978567,
          2.040048937172921,
          -2.185274683047773,
          1.0196751415031662,
          0.9945470359624125,
          -1.025592479915559,
          -1.267140473022391,
          -0.8689838118146973,
          -0.2236579399824439,
          -1.3097944848343677,
          -0.8414647840651517,
          0.6071895041961782,
          -0.288065793118509,
          -0.0855433340132728,
          1.2362626011306976,
          -0.34103353649966367,
          1.2706087277806368,
          1.5483104445093612,
          0.18539608217150366,
          -0.7546004022350437,
          -0.8326852647100786,
          -1.1021601391805258,
          -1.1929778907431932,
          1.9549439684527512,
          -1.210342094834586,
          0.4060144585650524,
          1.691010701899478,
          -0.8750443198147615,
          1.160394755522703,
          2.275642804498575,
          -0.052481187252204894,
          0.764446349668718,
          0.7748214923293414,
          0.24170402743498778,
          0.28327289936704275,
          0.2467195735483266,
          0.914032725604146,
          -0.08601512694460697,
          0.9489571859474513,
          0.8142978876236726,
          0.7883298154110456,
          -0.32628991344569763,
          0.2301082679624488,
          1.6341593800247989,
          -1.6944753689322416,
          -0.758403852271044,
          0.9422713425820108,
          0.5407768447682212,
          -0.4172833249642221,
          -0.9133540169871017,
          1.2975516807100265,
          0.5348525441513422,
          -0.9491627313232666,
          -0.3285687661985525,
          0.7487839314169843,
          -0.3011044136198415,
          -0.6231469374589843,
          -0.46272480238509744,
          0.751870774961926,
          0.6842338081501783,
          0.1857636597163811,
          0.8977181310333129,
          -0.6380029150186659,
          -0.014892138107339364,
          -1.4264492976702383,
          -1.3625157787787476,
          -0.5037475787792652,
          -0.7209368299148544,
          -0.1853579105123794,
          0.8853425687953029
         ]
        }
       ],
       "layout": {
        "barmode": "overlay",
        "legend": {
         "bgcolor": "#F5F6F9",
         "font": {
          "color": "#4D5663"
         }
        },
        "paper_bgcolor": "#F5F6F9",
        "plot_bgcolor": "#F5F6F9",
        "template": {
         "data": {
          "bar": [
           {
            "error_x": {
             "color": "#2a3f5f"
            },
            "error_y": {
             "color": "#2a3f5f"
            },
            "marker": {
             "line": {
              "color": "#E5ECF6",
              "width": 0.5
             }
            },
            "type": "bar"
           }
          ],
          "barpolar": [
           {
            "marker": {
             "line": {
              "color": "#E5ECF6",
              "width": 0.5
             }
            },
            "type": "barpolar"
           }
          ],
          "carpet": [
           {
            "aaxis": {
             "endlinecolor": "#2a3f5f",
             "gridcolor": "white",
             "linecolor": "white",
             "minorgridcolor": "white",
             "startlinecolor": "#2a3f5f"
            },
            "baxis": {
             "endlinecolor": "#2a3f5f",
             "gridcolor": "white",
             "linecolor": "white",
             "minorgridcolor": "white",
             "startlinecolor": "#2a3f5f"
            },
            "type": "carpet"
           }
          ],
          "choropleth": [
           {
            "colorbar": {
             "outlinewidth": 0,
             "ticks": ""
            },
            "type": "choropleth"
           }
          ],
          "contour": [
           {
            "colorbar": {
             "outlinewidth": 0,
             "ticks": ""
            },
            "colorscale": [
             [
              0,
              "#0d0887"
             ],
             [
              0.1111111111111111,
              "#46039f"
             ],
             [
              0.2222222222222222,
              "#7201a8"
             ],
             [
              0.3333333333333333,
              "#9c179e"
             ],
             [
              0.4444444444444444,
              "#bd3786"
             ],
             [
              0.5555555555555556,
              "#d8576b"
             ],
             [
              0.6666666666666666,
              "#ed7953"
             ],
             [
              0.7777777777777778,
              "#fb9f3a"
             ],
             [
              0.8888888888888888,
              "#fdca26"
             ],
             [
              1,
              "#f0f921"
             ]
            ],
            "type": "contour"
           }
          ],
          "contourcarpet": [
           {
            "colorbar": {
             "outlinewidth": 0,
             "ticks": ""
            },
            "type": "contourcarpet"
           }
          ],
          "heatmap": [
           {
            "colorbar": {
             "outlinewidth": 0,
             "ticks": ""
            },
            "colorscale": [
             [
              0,
              "#0d0887"
             ],
             [
              0.1111111111111111,
              "#46039f"
             ],
             [
              0.2222222222222222,
              "#7201a8"
             ],
             [
              0.3333333333333333,
              "#9c179e"
             ],
             [
              0.4444444444444444,
              "#bd3786"
             ],
             [
              0.5555555555555556,
              "#d8576b"
             ],
             [
              0.6666666666666666,
              "#ed7953"
             ],
             [
              0.7777777777777778,
              "#fb9f3a"
             ],
             [
              0.8888888888888888,
              "#fdca26"
             ],
             [
              1,
              "#f0f921"
             ]
            ],
            "type": "heatmap"
           }
          ],
          "heatmapgl": [
           {
            "colorbar": {
             "outlinewidth": 0,
             "ticks": ""
            },
            "colorscale": [
             [
              0,
              "#0d0887"
             ],
             [
              0.1111111111111111,
              "#46039f"
             ],
             [
              0.2222222222222222,
              "#7201a8"
             ],
             [
              0.3333333333333333,
              "#9c179e"
             ],
             [
              0.4444444444444444,
              "#bd3786"
             ],
             [
              0.5555555555555556,
              "#d8576b"
             ],
             [
              0.6666666666666666,
              "#ed7953"
             ],
             [
              0.7777777777777778,
              "#fb9f3a"
             ],
             [
              0.8888888888888888,
              "#fdca26"
             ],
             [
              1,
              "#f0f921"
             ]
            ],
            "type": "heatmapgl"
           }
          ],
          "histogram": [
           {
            "marker": {
             "colorbar": {
              "outlinewidth": 0,
              "ticks": ""
             }
            },
            "type": "histogram"
           }
          ],
          "histogram2d": [
           {
            "colorbar": {
             "outlinewidth": 0,
             "ticks": ""
            },
            "colorscale": [
             [
              0,
              "#0d0887"
             ],
             [
              0.1111111111111111,
              "#46039f"
             ],
             [
              0.2222222222222222,
              "#7201a8"
             ],
             [
              0.3333333333333333,
              "#9c179e"
             ],
             [
              0.4444444444444444,
              "#bd3786"
             ],
             [
              0.5555555555555556,
              "#d8576b"
             ],
             [
              0.6666666666666666,
              "#ed7953"
             ],
             [
              0.7777777777777778,
              "#fb9f3a"
             ],
             [
              0.8888888888888888,
              "#fdca26"
             ],
             [
              1,
              "#f0f921"
             ]
            ],
            "type": "histogram2d"
           }
          ],
          "histogram2dcontour": [
           {
            "colorbar": {
             "outlinewidth": 0,
             "ticks": ""
            },
            "colorscale": [
             [
              0,
              "#0d0887"
             ],
             [
              0.1111111111111111,
              "#46039f"
             ],
             [
              0.2222222222222222,
              "#7201a8"
             ],
             [
              0.3333333333333333,
              "#9c179e"
             ],
             [
              0.4444444444444444,
              "#bd3786"
             ],
             [
              0.5555555555555556,
              "#d8576b"
             ],
             [
              0.6666666666666666,
              "#ed7953"
             ],
             [
              0.7777777777777778,
              "#fb9f3a"
             ],
             [
              0.8888888888888888,
              "#fdca26"
             ],
             [
              1,
              "#f0f921"
             ]
            ],
            "type": "histogram2dcontour"
           }
          ],
          "mesh3d": [
           {
            "colorbar": {
             "outlinewidth": 0,
             "ticks": ""
            },
            "type": "mesh3d"
           }
          ],
          "parcoords": [
           {
            "line": {
             "colorbar": {
              "outlinewidth": 0,
              "ticks": ""
             }
            },
            "type": "parcoords"
           }
          ],
          "pie": [
           {
            "automargin": true,
            "type": "pie"
           }
          ],
          "scatter": [
           {
            "marker": {
             "colorbar": {
              "outlinewidth": 0,
              "ticks": ""
             }
            },
            "type": "scatter"
           }
          ],
          "scatter3d": [
           {
            "line": {
             "colorbar": {
              "outlinewidth": 0,
              "ticks": ""
             }
            },
            "marker": {
             "colorbar": {
              "outlinewidth": 0,
              "ticks": ""
             }
            },
            "type": "scatter3d"
           }
          ],
          "scattercarpet": [
           {
            "marker": {
             "colorbar": {
              "outlinewidth": 0,
              "ticks": ""
             }
            },
            "type": "scattercarpet"
           }
          ],
          "scattergeo": [
           {
            "marker": {
             "colorbar": {
              "outlinewidth": 0,
              "ticks": ""
             }
            },
            "type": "scattergeo"
           }
          ],
          "scattergl": [
           {
            "marker": {
             "colorbar": {
              "outlinewidth": 0,
              "ticks": ""
             }
            },
            "type": "scattergl"
           }
          ],
          "scattermapbox": [
           {
            "marker": {
             "colorbar": {
              "outlinewidth": 0,
              "ticks": ""
             }
            },
            "type": "scattermapbox"
           }
          ],
          "scatterpolar": [
           {
            "marker": {
             "colorbar": {
              "outlinewidth": 0,
              "ticks": ""
             }
            },
            "type": "scatterpolar"
           }
          ],
          "scatterpolargl": [
           {
            "marker": {
             "colorbar": {
              "outlinewidth": 0,
              "ticks": ""
             }
            },
            "type": "scatterpolargl"
           }
          ],
          "scatterternary": [
           {
            "marker": {
             "colorbar": {
              "outlinewidth": 0,
              "ticks": ""
             }
            },
            "type": "scatterternary"
           }
          ],
          "surface": [
           {
            "colorbar": {
             "outlinewidth": 0,
             "ticks": ""
            },
            "colorscale": [
             [
              0,
              "#0d0887"
             ],
             [
              0.1111111111111111,
              "#46039f"
             ],
             [
              0.2222222222222222,
              "#7201a8"
             ],
             [
              0.3333333333333333,
              "#9c179e"
             ],
             [
              0.4444444444444444,
              "#bd3786"
             ],
             [
              0.5555555555555556,
              "#d8576b"
             ],
             [
              0.6666666666666666,
              "#ed7953"
             ],
             [
              0.7777777777777778,
              "#fb9f3a"
             ],
             [
              0.8888888888888888,
              "#fdca26"
             ],
             [
              1,
              "#f0f921"
             ]
            ],
            "type": "surface"
           }
          ],
          "table": [
           {
            "cells": {
             "fill": {
              "color": "#EBF0F8"
             },
             "line": {
              "color": "white"
             }
            },
            "header": {
             "fill": {
              "color": "#C8D4E3"
             },
             "line": {
              "color": "white"
             }
            },
            "type": "table"
           }
          ]
         },
         "layout": {
          "annotationdefaults": {
           "arrowcolor": "#2a3f5f",
           "arrowhead": 0,
           "arrowwidth": 1
          },
          "autotypenumbers": "strict",
          "coloraxis": {
           "colorbar": {
            "outlinewidth": 0,
            "ticks": ""
           }
          },
          "colorscale": {
           "diverging": [
            [
             0,
             "#8e0152"
            ],
            [
             0.1,
             "#c51b7d"
            ],
            [
             0.2,
             "#de77ae"
            ],
            [
             0.3,
             "#f1b6da"
            ],
            [
             0.4,
             "#fde0ef"
            ],
            [
             0.5,
             "#f7f7f7"
            ],
            [
             0.6,
             "#e6f5d0"
            ],
            [
             0.7,
             "#b8e186"
            ],
            [
             0.8,
             "#7fbc41"
            ],
            [
             0.9,
             "#4d9221"
            ],
            [
             1,
             "#276419"
            ]
           ],
           "sequential": [
            [
             0,
             "#0d0887"
            ],
            [
             0.1111111111111111,
             "#46039f"
            ],
            [
             0.2222222222222222,
             "#7201a8"
            ],
            [
             0.3333333333333333,
             "#9c179e"
            ],
            [
             0.4444444444444444,
             "#bd3786"
            ],
            [
             0.5555555555555556,
             "#d8576b"
            ],
            [
             0.6666666666666666,
             "#ed7953"
            ],
            [
             0.7777777777777778,
             "#fb9f3a"
            ],
            [
             0.8888888888888888,
             "#fdca26"
            ],
            [
             1,
             "#f0f921"
            ]
           ],
           "sequentialminus": [
            [
             0,
             "#0d0887"
            ],
            [
             0.1111111111111111,
             "#46039f"
            ],
            [
             0.2222222222222222,
             "#7201a8"
            ],
            [
             0.3333333333333333,
             "#9c179e"
            ],
            [
             0.4444444444444444,
             "#bd3786"
            ],
            [
             0.5555555555555556,
             "#d8576b"
            ],
            [
             0.6666666666666666,
             "#ed7953"
            ],
            [
             0.7777777777777778,
             "#fb9f3a"
            ],
            [
             0.8888888888888888,
             "#fdca26"
            ],
            [
             1,
             "#f0f921"
            ]
           ]
          },
          "colorway": [
           "#636efa",
           "#EF553B",
           "#00cc96",
           "#ab63fa",
           "#FFA15A",
           "#19d3f3",
           "#FF6692",
           "#B6E880",
           "#FF97FF",
           "#FECB52"
          ],
          "font": {
           "color": "#2a3f5f"
          },
          "geo": {
           "bgcolor": "white",
           "lakecolor": "white",
           "landcolor": "#E5ECF6",
           "showlakes": true,
           "showland": true,
           "subunitcolor": "white"
          },
          "hoverlabel": {
           "align": "left"
          },
          "hovermode": "closest",
          "mapbox": {
           "style": "light"
          },
          "paper_bgcolor": "white",
          "plot_bgcolor": "#E5ECF6",
          "polar": {
           "angularaxis": {
            "gridcolor": "white",
            "linecolor": "white",
            "ticks": ""
           },
           "bgcolor": "#E5ECF6",
           "radialaxis": {
            "gridcolor": "white",
            "linecolor": "white",
            "ticks": ""
           }
          },
          "scene": {
           "xaxis": {
            "backgroundcolor": "#E5ECF6",
            "gridcolor": "white",
            "gridwidth": 2,
            "linecolor": "white",
            "showbackground": true,
            "ticks": "",
            "zerolinecolor": "white"
           },
           "yaxis": {
            "backgroundcolor": "#E5ECF6",
            "gridcolor": "white",
            "gridwidth": 2,
            "linecolor": "white",
            "showbackground": true,
            "ticks": "",
            "zerolinecolor": "white"
           },
           "zaxis": {
            "backgroundcolor": "#E5ECF6",
            "gridcolor": "white",
            "gridwidth": 2,
            "linecolor": "white",
            "showbackground": true,
            "ticks": "",
            "zerolinecolor": "white"
           }
          },
          "shapedefaults": {
           "line": {
            "color": "#2a3f5f"
           }
          },
          "ternary": {
           "aaxis": {
            "gridcolor": "white",
            "linecolor": "white",
            "ticks": ""
           },
           "baxis": {
            "gridcolor": "white",
            "linecolor": "white",
            "ticks": ""
           },
           "bgcolor": "#E5ECF6",
           "caxis": {
            "gridcolor": "white",
            "linecolor": "white",
            "ticks": ""
           }
          },
          "title": {
           "x": 0.05
          },
          "xaxis": {
           "automargin": true,
           "gridcolor": "white",
           "linecolor": "white",
           "ticks": "",
           "title": {
            "standoff": 15
           },
           "zerolinecolor": "white",
           "zerolinewidth": 2
          },
          "yaxis": {
           "automargin": true,
           "gridcolor": "white",
           "linecolor": "white",
           "ticks": "",
           "title": {
            "standoff": 15
           },
           "zerolinecolor": "white",
           "zerolinewidth": 2
          }
         }
        },
        "title": {
         "font": {
          "color": "#4D5663"
         }
        },
        "xaxis": {
         "gridcolor": "#E1E5ED",
         "showgrid": true,
         "tickfont": {
          "color": "#4D5663"
         },
         "title": {
          "font": {
           "color": "#4D5663"
          },
          "text": ""
         },
         "zerolinecolor": "#E1E5ED"
        },
        "yaxis": {
         "gridcolor": "#E1E5ED",
         "showgrid": true,
         "tickfont": {
          "color": "#4D5663"
         },
         "title": {
          "font": {
           "color": "#4D5663"
          },
          "text": ""
         },
         "zerolinecolor": "#E1E5ED"
        }
       }
      },
      "text/html": [
       "<div>                            <div id=\"0bd9e873-206c-47f5-ab47-a9f3605ff031\" class=\"plotly-graph-div\" style=\"height:525px; width:100%;\"></div>            <script type=\"text/javascript\">                require([\"plotly\"], function(Plotly) {                    window.PLOTLYENV=window.PLOTLYENV || {};\n",
       "                    window.PLOTLYENV.BASE_URL='https://plot.ly';                                    if (document.getElementById(\"0bd9e873-206c-47f5-ab47-a9f3605ff031\")) {                    Plotly.newPlot(                        \"0bd9e873-206c-47f5-ab47-a9f3605ff031\",                        [{\"histfunc\": \"count\", \"histnorm\": \"\", \"marker\": {\"color\": \"rgba(255, 153, 51, 1.0)\", \"line\": {\"color\": \"#4D5663\", \"width\": 1.3}}, \"name\": \"A\", \"nbinsx\": 25, \"opacity\": 0.8, \"orientation\": \"v\", \"type\": \"histogram\", \"x\": [-1.8453562462643196, -0.20040405303757655, -1.1637956456188199, 0.6205025203423028, -0.8390568855527745, -1.2174976462691052, -0.5640138103328367, 0.013620573399448279, 0.40059182767551943, -0.5997626758413155, 0.07726576350156705, 0.928610877203632, 0.426972018264773, -0.9990060932331011, 1.078661270762736, -0.4513974079092731, -1.2643201140490237, 2.5256077680999685, 0.41086499908738955, -0.04475172187968378, 0.8233287809051226, -0.7271645524645527, 0.14030657831421076, -1.0988235896220555, 0.7489175266400919, 0.46582312686492033, -0.05288123591202588, -1.3670291716449292, 0.7309050939934914, -0.6098667055895841, 0.5041275128978567, 2.040048937172921, -2.185274683047773, 1.0196751415031662, 0.9945470359624125, -1.025592479915559, -1.267140473022391, -0.8689838118146973, -0.2236579399824439, -1.3097944848343677, -0.8414647840651517, 0.6071895041961782, -0.288065793118509, -0.0855433340132728, 1.2362626011306976, -0.34103353649966367, 1.2706087277806368, 1.5483104445093612, 0.18539608217150366, -0.7546004022350437, -0.8326852647100786, -1.1021601391805258, -1.1929778907431932, 1.9549439684527512, -1.210342094834586, 0.4060144585650524, 1.691010701899478, -0.8750443198147615, 1.160394755522703, 2.275642804498575, -0.052481187252204894, 0.764446349668718, 0.7748214923293414, 0.24170402743498778, 0.28327289936704275, 0.2467195735483266, 0.914032725604146, -0.08601512694460697, 0.9489571859474513, 0.8142978876236726, 0.7883298154110456, -0.32628991344569763, 0.2301082679624488, 1.6341593800247989, -1.6944753689322416, -0.758403852271044, 0.9422713425820108, 0.5407768447682212, -0.4172833249642221, -0.9133540169871017, 1.2975516807100265, 0.5348525441513422, -0.9491627313232666, -0.3285687661985525, 0.7487839314169843, -0.3011044136198415, -0.6231469374589843, -0.46272480238509744, 0.751870774961926, 0.6842338081501783, 0.1857636597163811, 0.8977181310333129, -0.6380029150186659, -0.014892138107339364, -1.4264492976702383, -1.3625157787787476, -0.5037475787792652, -0.7209368299148544, -0.1853579105123794, 0.8853425687953029]}],                        {\"barmode\": \"overlay\", \"legend\": {\"bgcolor\": \"#F5F6F9\", \"font\": {\"color\": \"#4D5663\"}}, \"paper_bgcolor\": \"#F5F6F9\", \"plot_bgcolor\": \"#F5F6F9\", \"template\": {\"data\": {\"bar\": [{\"error_x\": {\"color\": \"#2a3f5f\"}, \"error_y\": {\"color\": \"#2a3f5f\"}, \"marker\": {\"line\": {\"color\": \"#E5ECF6\", \"width\": 0.5}}, \"type\": \"bar\"}], \"barpolar\": [{\"marker\": {\"line\": {\"color\": \"#E5ECF6\", \"width\": 0.5}}, \"type\": \"barpolar\"}], \"carpet\": [{\"aaxis\": {\"endlinecolor\": \"#2a3f5f\", \"gridcolor\": \"white\", \"linecolor\": \"white\", \"minorgridcolor\": \"white\", \"startlinecolor\": \"#2a3f5f\"}, \"baxis\": {\"endlinecolor\": \"#2a3f5f\", \"gridcolor\": \"white\", \"linecolor\": \"white\", \"minorgridcolor\": \"white\", \"startlinecolor\": \"#2a3f5f\"}, \"type\": \"carpet\"}], \"choropleth\": [{\"colorbar\": {\"outlinewidth\": 0, \"ticks\": \"\"}, \"type\": \"choropleth\"}], \"contour\": [{\"colorbar\": {\"outlinewidth\": 0, \"ticks\": \"\"}, \"colorscale\": [[0.0, \"#0d0887\"], [0.1111111111111111, \"#46039f\"], [0.2222222222222222, \"#7201a8\"], [0.3333333333333333, \"#9c179e\"], [0.4444444444444444, \"#bd3786\"], [0.5555555555555556, \"#d8576b\"], [0.6666666666666666, \"#ed7953\"], [0.7777777777777778, \"#fb9f3a\"], [0.8888888888888888, \"#fdca26\"], [1.0, \"#f0f921\"]], \"type\": \"contour\"}], \"contourcarpet\": [{\"colorbar\": {\"outlinewidth\": 0, \"ticks\": \"\"}, \"type\": \"contourcarpet\"}], \"heatmap\": [{\"colorbar\": {\"outlinewidth\": 0, \"ticks\": \"\"}, \"colorscale\": [[0.0, \"#0d0887\"], [0.1111111111111111, \"#46039f\"], [0.2222222222222222, \"#7201a8\"], [0.3333333333333333, \"#9c179e\"], [0.4444444444444444, \"#bd3786\"], [0.5555555555555556, \"#d8576b\"], [0.6666666666666666, \"#ed7953\"], [0.7777777777777778, \"#fb9f3a\"], [0.8888888888888888, \"#fdca26\"], [1.0, \"#f0f921\"]], \"type\": \"heatmap\"}], \"heatmapgl\": [{\"colorbar\": {\"outlinewidth\": 0, \"ticks\": \"\"}, \"colorscale\": [[0.0, \"#0d0887\"], [0.1111111111111111, \"#46039f\"], [0.2222222222222222, \"#7201a8\"], [0.3333333333333333, \"#9c179e\"], [0.4444444444444444, \"#bd3786\"], [0.5555555555555556, \"#d8576b\"], [0.6666666666666666, \"#ed7953\"], [0.7777777777777778, \"#fb9f3a\"], [0.8888888888888888, \"#fdca26\"], [1.0, \"#f0f921\"]], \"type\": \"heatmapgl\"}], \"histogram\": [{\"marker\": {\"colorbar\": {\"outlinewidth\": 0, \"ticks\": \"\"}}, \"type\": \"histogram\"}], \"histogram2d\": [{\"colorbar\": {\"outlinewidth\": 0, \"ticks\": \"\"}, \"colorscale\": [[0.0, \"#0d0887\"], [0.1111111111111111, \"#46039f\"], [0.2222222222222222, \"#7201a8\"], [0.3333333333333333, \"#9c179e\"], [0.4444444444444444, \"#bd3786\"], [0.5555555555555556, \"#d8576b\"], [0.6666666666666666, \"#ed7953\"], [0.7777777777777778, \"#fb9f3a\"], [0.8888888888888888, \"#fdca26\"], [1.0, \"#f0f921\"]], \"type\": \"histogram2d\"}], \"histogram2dcontour\": [{\"colorbar\": {\"outlinewidth\": 0, \"ticks\": \"\"}, \"colorscale\": [[0.0, \"#0d0887\"], [0.1111111111111111, \"#46039f\"], [0.2222222222222222, \"#7201a8\"], [0.3333333333333333, \"#9c179e\"], [0.4444444444444444, \"#bd3786\"], [0.5555555555555556, \"#d8576b\"], [0.6666666666666666, \"#ed7953\"], [0.7777777777777778, \"#fb9f3a\"], [0.8888888888888888, \"#fdca26\"], [1.0, \"#f0f921\"]], \"type\": \"histogram2dcontour\"}], \"mesh3d\": [{\"colorbar\": {\"outlinewidth\": 0, \"ticks\": \"\"}, \"type\": \"mesh3d\"}], \"parcoords\": [{\"line\": {\"colorbar\": {\"outlinewidth\": 0, \"ticks\": \"\"}}, \"type\": \"parcoords\"}], \"pie\": [{\"automargin\": true, \"type\": \"pie\"}], \"scatter\": [{\"marker\": {\"colorbar\": {\"outlinewidth\": 0, \"ticks\": \"\"}}, \"type\": \"scatter\"}], \"scatter3d\": [{\"line\": {\"colorbar\": {\"outlinewidth\": 0, \"ticks\": \"\"}}, \"marker\": {\"colorbar\": {\"outlinewidth\": 0, \"ticks\": \"\"}}, \"type\": \"scatter3d\"}], \"scattercarpet\": [{\"marker\": {\"colorbar\": {\"outlinewidth\": 0, \"ticks\": \"\"}}, \"type\": \"scattercarpet\"}], \"scattergeo\": [{\"marker\": {\"colorbar\": {\"outlinewidth\": 0, \"ticks\": \"\"}}, \"type\": \"scattergeo\"}], \"scattergl\": [{\"marker\": {\"colorbar\": {\"outlinewidth\": 0, \"ticks\": \"\"}}, \"type\": \"scattergl\"}], \"scattermapbox\": [{\"marker\": {\"colorbar\": {\"outlinewidth\": 0, \"ticks\": \"\"}}, \"type\": \"scattermapbox\"}], \"scatterpolar\": [{\"marker\": {\"colorbar\": {\"outlinewidth\": 0, \"ticks\": \"\"}}, \"type\": \"scatterpolar\"}], \"scatterpolargl\": [{\"marker\": {\"colorbar\": {\"outlinewidth\": 0, \"ticks\": \"\"}}, \"type\": \"scatterpolargl\"}], \"scatterternary\": [{\"marker\": {\"colorbar\": {\"outlinewidth\": 0, \"ticks\": \"\"}}, \"type\": \"scatterternary\"}], \"surface\": [{\"colorbar\": {\"outlinewidth\": 0, \"ticks\": \"\"}, \"colorscale\": [[0.0, \"#0d0887\"], [0.1111111111111111, \"#46039f\"], [0.2222222222222222, \"#7201a8\"], [0.3333333333333333, \"#9c179e\"], [0.4444444444444444, \"#bd3786\"], [0.5555555555555556, \"#d8576b\"], [0.6666666666666666, \"#ed7953\"], [0.7777777777777778, \"#fb9f3a\"], [0.8888888888888888, \"#fdca26\"], [1.0, \"#f0f921\"]], \"type\": \"surface\"}], \"table\": [{\"cells\": {\"fill\": {\"color\": \"#EBF0F8\"}, \"line\": {\"color\": \"white\"}}, \"header\": {\"fill\": {\"color\": \"#C8D4E3\"}, \"line\": {\"color\": \"white\"}}, \"type\": \"table\"}]}, \"layout\": {\"annotationdefaults\": {\"arrowcolor\": \"#2a3f5f\", \"arrowhead\": 0, \"arrowwidth\": 1}, \"autotypenumbers\": \"strict\", \"coloraxis\": {\"colorbar\": {\"outlinewidth\": 0, \"ticks\": \"\"}}, \"colorscale\": {\"diverging\": [[0, \"#8e0152\"], [0.1, \"#c51b7d\"], [0.2, \"#de77ae\"], [0.3, \"#f1b6da\"], [0.4, \"#fde0ef\"], [0.5, \"#f7f7f7\"], [0.6, \"#e6f5d0\"], [0.7, \"#b8e186\"], [0.8, \"#7fbc41\"], [0.9, \"#4d9221\"], [1, \"#276419\"]], \"sequential\": [[0.0, \"#0d0887\"], [0.1111111111111111, \"#46039f\"], [0.2222222222222222, \"#7201a8\"], [0.3333333333333333, \"#9c179e\"], [0.4444444444444444, \"#bd3786\"], [0.5555555555555556, \"#d8576b\"], [0.6666666666666666, \"#ed7953\"], [0.7777777777777778, \"#fb9f3a\"], [0.8888888888888888, \"#fdca26\"], [1.0, \"#f0f921\"]], \"sequentialminus\": [[0.0, \"#0d0887\"], [0.1111111111111111, \"#46039f\"], [0.2222222222222222, \"#7201a8\"], [0.3333333333333333, \"#9c179e\"], [0.4444444444444444, \"#bd3786\"], [0.5555555555555556, \"#d8576b\"], [0.6666666666666666, \"#ed7953\"], [0.7777777777777778, \"#fb9f3a\"], [0.8888888888888888, \"#fdca26\"], [1.0, \"#f0f921\"]]}, \"colorway\": [\"#636efa\", \"#EF553B\", \"#00cc96\", \"#ab63fa\", \"#FFA15A\", \"#19d3f3\", \"#FF6692\", \"#B6E880\", \"#FF97FF\", \"#FECB52\"], \"font\": {\"color\": \"#2a3f5f\"}, \"geo\": {\"bgcolor\": \"white\", \"lakecolor\": \"white\", \"landcolor\": \"#E5ECF6\", \"showlakes\": true, \"showland\": true, \"subunitcolor\": \"white\"}, \"hoverlabel\": {\"align\": \"left\"}, \"hovermode\": \"closest\", \"mapbox\": {\"style\": \"light\"}, \"paper_bgcolor\": \"white\", \"plot_bgcolor\": \"#E5ECF6\", \"polar\": {\"angularaxis\": {\"gridcolor\": \"white\", \"linecolor\": \"white\", \"ticks\": \"\"}, \"bgcolor\": \"#E5ECF6\", \"radialaxis\": {\"gridcolor\": \"white\", \"linecolor\": \"white\", \"ticks\": \"\"}}, \"scene\": {\"xaxis\": {\"backgroundcolor\": \"#E5ECF6\", \"gridcolor\": \"white\", \"gridwidth\": 2, \"linecolor\": \"white\", \"showbackground\": true, \"ticks\": \"\", \"zerolinecolor\": \"white\"}, \"yaxis\": {\"backgroundcolor\": \"#E5ECF6\", \"gridcolor\": \"white\", \"gridwidth\": 2, \"linecolor\": \"white\", \"showbackground\": true, \"ticks\": \"\", \"zerolinecolor\": \"white\"}, \"zaxis\": {\"backgroundcolor\": \"#E5ECF6\", \"gridcolor\": \"white\", \"gridwidth\": 2, \"linecolor\": \"white\", \"showbackground\": true, \"ticks\": \"\", \"zerolinecolor\": \"white\"}}, \"shapedefaults\": {\"line\": {\"color\": \"#2a3f5f\"}}, \"ternary\": {\"aaxis\": {\"gridcolor\": \"white\", \"linecolor\": \"white\", \"ticks\": \"\"}, \"baxis\": {\"gridcolor\": \"white\", \"linecolor\": \"white\", \"ticks\": \"\"}, \"bgcolor\": \"#E5ECF6\", \"caxis\": {\"gridcolor\": \"white\", \"linecolor\": \"white\", \"ticks\": \"\"}}, \"title\": {\"x\": 0.05}, \"xaxis\": {\"automargin\": true, \"gridcolor\": \"white\", \"linecolor\": \"white\", \"ticks\": \"\", \"title\": {\"standoff\": 15}, \"zerolinecolor\": \"white\", \"zerolinewidth\": 2}, \"yaxis\": {\"automargin\": true, \"gridcolor\": \"white\", \"linecolor\": \"white\", \"ticks\": \"\", \"title\": {\"standoff\": 15}, \"zerolinecolor\": \"white\", \"zerolinewidth\": 2}}}, \"title\": {\"font\": {\"color\": \"#4D5663\"}}, \"xaxis\": {\"gridcolor\": \"#E1E5ED\", \"showgrid\": true, \"tickfont\": {\"color\": \"#4D5663\"}, \"title\": {\"font\": {\"color\": \"#4D5663\"}, \"text\": \"\"}, \"zerolinecolor\": \"#E1E5ED\"}, \"yaxis\": {\"gridcolor\": \"#E1E5ED\", \"showgrid\": true, \"tickfont\": {\"color\": \"#4D5663\"}, \"title\": {\"font\": {\"color\": \"#4D5663\"}, \"text\": \"\"}, \"zerolinecolor\": \"#E1E5ED\"}},                        {\"showLink\": true, \"linkText\": \"Export to plot.ly\", \"plotlyServerURL\": \"https://plot.ly\", \"responsive\": true}                    ).then(function(){\n",
       "                            \n",
       "var gd = document.getElementById('0bd9e873-206c-47f5-ab47-a9f3605ff031');\n",
       "var x = new MutationObserver(function (mutations, observer) {{\n",
       "        var display = window.getComputedStyle(gd).display;\n",
       "        if (!display || display === 'none') {{\n",
       "            console.log([gd, 'removed!']);\n",
       "            Plotly.purge(gd);\n",
       "            observer.disconnect();\n",
       "        }}\n",
       "}});\n",
       "\n",
       "// Listen for the removal of the full notebook cells\n",
       "var notebookContainer = gd.closest('#notebook-container');\n",
       "if (notebookContainer) {{\n",
       "    x.observe(notebookContainer, {childList: true});\n",
       "}}\n",
       "\n",
       "// Listen for the clearing of the current output cell\n",
       "var outputEl = gd.closest('.output');\n",
       "if (outputEl) {{\n",
       "    x.observe(outputEl, {childList: true});\n",
       "}}\n",
       "\n",
       "                        })                };                });            </script>        </div>"
      ]
     },
     "metadata": {},
     "output_type": "display_data"
    }
   ],
   "source": [
    "df['A'].iplot(kind='hist',bins=25)"
   ]
  },
  {
   "cell_type": "markdown",
   "metadata": {},
   "source": [
    "## Bolha"
   ]
  },
  {
   "cell_type": "code",
   "execution_count": 19,
   "metadata": {},
   "outputs": [
    {
     "data": {
      "application/vnd.plotly.v1+json": {
       "config": {
        "linkText": "Export to plot.ly",
        "plotlyServerURL": "https://plot.ly",
        "showLink": true
       },
       "data": [
        {
         "marker": {
          "color": [
           "rgb(255, 153, 51)",
           "rgb(55, 128, 191)",
           "rgb(50, 171, 96)",
           "rgb(128, 0, 128)",
           "rgb(219, 64, 82)",
           "rgb(0, 128, 128)",
           "rgb(255, 255, 51)",
           "rgb(128, 128, 0)",
           "rgb(251, 128, 114)",
           "rgb(128, 177, 211)"
          ],
          "line": {
           "width": 1.3
          },
          "size": [
           60,
           105,
           77,
           61,
           37,
           87,
           64,
           48,
           46,
           45,
           50,
           64,
           74,
           85,
           38,
           43,
           36,
           55,
           42,
           22,
           68,
           66,
           46,
           70,
           73,
           70,
           72,
           47,
           100,
           94,
           31,
           54,
           80,
           82,
           82,
           76,
           62,
           71,
           85,
           72,
           72,
           52,
           45,
           48,
           50,
           67,
           63,
           71,
           50,
           65,
           45,
           67,
           92,
           89,
           78,
           25,
           91,
           77,
           42,
           70,
           12,
           67,
           67,
           47,
           72,
           99,
           78,
           61,
           75,
           49,
           27,
           66,
           89,
           92,
           94,
           107,
           89,
           111,
           68,
           46,
           63,
           73,
           90,
           59,
           77,
           40,
           57,
           112,
           61,
           27,
           101,
           54,
           82,
           62,
           90,
           68,
           80,
           85,
           62,
           73
          ],
          "symbol": "circle"
         },
         "mode": "markers",
         "text": "",
         "type": "scatter",
         "x": [
          -1.8453562462643196,
          -0.20040405303757655,
          -1.1637956456188199,
          0.6205025203423028,
          -0.8390568855527745,
          -1.2174976462691052,
          -0.5640138103328367,
          0.013620573399448279,
          0.40059182767551943,
          -0.5997626758413155,
          0.07726576350156705,
          0.928610877203632,
          0.426972018264773,
          -0.9990060932331011,
          1.078661270762736,
          -0.4513974079092731,
          -1.2643201140490237,
          2.5256077680999685,
          0.41086499908738955,
          -0.04475172187968378,
          0.8233287809051226,
          -0.7271645524645527,
          0.14030657831421076,
          -1.0988235896220555,
          0.7489175266400919,
          0.46582312686492033,
          -0.05288123591202588,
          -1.3670291716449292,
          0.7309050939934914,
          -0.6098667055895841,
          0.5041275128978567,
          2.040048937172921,
          -2.185274683047773,
          1.0196751415031662,
          0.9945470359624125,
          -1.025592479915559,
          -1.267140473022391,
          -0.8689838118146973,
          -0.2236579399824439,
          -1.3097944848343677,
          -0.8414647840651517,
          0.6071895041961782,
          -0.288065793118509,
          -0.0855433340132728,
          1.2362626011306976,
          -0.34103353649966367,
          1.2706087277806368,
          1.5483104445093612,
          0.18539608217150366,
          -0.7546004022350437,
          -0.8326852647100786,
          -1.1021601391805258,
          -1.1929778907431932,
          1.9549439684527512,
          -1.210342094834586,
          0.4060144585650524,
          1.691010701899478,
          -0.8750443198147615,
          1.160394755522703,
          2.275642804498575,
          -0.052481187252204894,
          0.764446349668718,
          0.7748214923293414,
          0.24170402743498778,
          0.28327289936704275,
          0.2467195735483266,
          0.914032725604146,
          -0.08601512694460697,
          0.9489571859474513,
          0.8142978876236726,
          0.7883298154110456,
          -0.32628991344569763,
          0.2301082679624488,
          1.6341593800247989,
          -1.6944753689322416,
          -0.758403852271044,
          0.9422713425820108,
          0.5407768447682212,
          -0.4172833249642221,
          -0.9133540169871017,
          1.2975516807100265,
          0.5348525441513422,
          -0.9491627313232666,
          -0.3285687661985525,
          0.7487839314169843,
          -0.3011044136198415,
          -0.6231469374589843,
          -0.46272480238509744,
          0.751870774961926,
          0.6842338081501783,
          0.1857636597163811,
          0.8977181310333129,
          -0.6380029150186659,
          -0.014892138107339364,
          -1.4264492976702383,
          -1.3625157787787476,
          -0.5037475787792652,
          -0.7209368299148544,
          -0.1853579105123794,
          0.8853425687953029
         ],
         "y": [
          -0.918051978935254,
          -2.7056575029327217,
          -0.26581756141055396,
          2.7780920157639803,
          -0.8734279386889949,
          -0.06334899773831265,
          1.4821560963767562,
          0.3720351753435628,
          2.289468082163019,
          -0.8374384578030118,
          -2.108703088038587,
          0.9788520364174591,
          1.4650258305467085,
          1.2415652263814414,
          1.0310626547555006,
          -0.3122406935164411,
          -0.14735613041299925,
          0.33275767892759495,
          -0.1161274919960927,
          0.281205976719588,
          -0.14951869895483794,
          0.41174605696281846,
          2.354209612658942,
          2.092110024373878,
          -0.844565089723117,
          -1.5305136905849483,
          -0.4080953430172473,
          -0.49831975030647513,
          0.532663605513584,
          0.16759861208915242,
          0.46247832654774845,
          0.38741399084499084,
          -1.8520213138080566,
          -0.019018730510986254,
          -1.0113286481308315,
          -1.0929063112561626,
          -0.7089062318588992,
          -0.49640898092235836,
          -0.9734721463692066,
          0.5801554907558394,
          -0.06540899964125191,
          -0.6111002896985552,
          0.45438818782559776,
          0.4785280675226295,
          1.2923482368164383,
          -0.5748394916445265,
          0.43943437190379214,
          -1.4174040567585227,
          -0.7319800748374122,
          -0.29265216113961545,
          -0.36087379702803224,
          -0.04027675520163823,
          -0.24063564992242378,
          -1.2436397165116935,
          -0.6380650947146708,
          -1.194083286516507,
          0.1779335575301587,
          -0.5384113135074421,
          0.2915091190224508,
          0.466796616138699,
          -0.43114256548016455,
          1.2786748208881396,
          1.4078719927900933,
          0.14674226717423464,
          -0.029148341361593073,
          -1.0673227647170362,
          -0.6376233349993639,
          -0.17509268696626795,
          -0.4170870697877158,
          0.4159894756560567,
          -2.208839366952025,
          1.1269460290850897,
          -0.4095692566448082,
          0.7856726897159855,
          -1.490180580048176,
          -1.617147938156026,
          0.4365288533186661,
          -2.32656190655788,
          0.15681159571219597,
          0.5391784367802614,
          -0.5002333680231703,
          0.6548667984163916,
          0.27970593897368917,
          -0.7844703375909428,
          0.9073102317074612,
          -1.1835772548443797,
          -1.1252365576347547,
          -0.31910636809035,
          -0.7706391044036293,
          1.5932069582471045,
          -1.4300111814134815,
          0.09777836056991747,
          0.21906285684508117,
          -0.025607437932308883,
          -1.0696693509127029,
          0.058516669742657644,
          -0.3377730316094605,
          -0.7808950376846182,
          0.5148406510673026,
          -0.6532931427041353
         ]
        }
       ],
       "layout": {
        "legend": {
         "bgcolor": "#F5F6F9",
         "font": {
          "color": "#4D5663"
         }
        },
        "paper_bgcolor": "#F5F6F9",
        "plot_bgcolor": "#F5F6F9",
        "template": {
         "data": {
          "bar": [
           {
            "error_x": {
             "color": "#2a3f5f"
            },
            "error_y": {
             "color": "#2a3f5f"
            },
            "marker": {
             "line": {
              "color": "#E5ECF6",
              "width": 0.5
             }
            },
            "type": "bar"
           }
          ],
          "barpolar": [
           {
            "marker": {
             "line": {
              "color": "#E5ECF6",
              "width": 0.5
             }
            },
            "type": "barpolar"
           }
          ],
          "carpet": [
           {
            "aaxis": {
             "endlinecolor": "#2a3f5f",
             "gridcolor": "white",
             "linecolor": "white",
             "minorgridcolor": "white",
             "startlinecolor": "#2a3f5f"
            },
            "baxis": {
             "endlinecolor": "#2a3f5f",
             "gridcolor": "white",
             "linecolor": "white",
             "minorgridcolor": "white",
             "startlinecolor": "#2a3f5f"
            },
            "type": "carpet"
           }
          ],
          "choropleth": [
           {
            "colorbar": {
             "outlinewidth": 0,
             "ticks": ""
            },
            "type": "choropleth"
           }
          ],
          "contour": [
           {
            "colorbar": {
             "outlinewidth": 0,
             "ticks": ""
            },
            "colorscale": [
             [
              0,
              "#0d0887"
             ],
             [
              0.1111111111111111,
              "#46039f"
             ],
             [
              0.2222222222222222,
              "#7201a8"
             ],
             [
              0.3333333333333333,
              "#9c179e"
             ],
             [
              0.4444444444444444,
              "#bd3786"
             ],
             [
              0.5555555555555556,
              "#d8576b"
             ],
             [
              0.6666666666666666,
              "#ed7953"
             ],
             [
              0.7777777777777778,
              "#fb9f3a"
             ],
             [
              0.8888888888888888,
              "#fdca26"
             ],
             [
              1,
              "#f0f921"
             ]
            ],
            "type": "contour"
           }
          ],
          "contourcarpet": [
           {
            "colorbar": {
             "outlinewidth": 0,
             "ticks": ""
            },
            "type": "contourcarpet"
           }
          ],
          "heatmap": [
           {
            "colorbar": {
             "outlinewidth": 0,
             "ticks": ""
            },
            "colorscale": [
             [
              0,
              "#0d0887"
             ],
             [
              0.1111111111111111,
              "#46039f"
             ],
             [
              0.2222222222222222,
              "#7201a8"
             ],
             [
              0.3333333333333333,
              "#9c179e"
             ],
             [
              0.4444444444444444,
              "#bd3786"
             ],
             [
              0.5555555555555556,
              "#d8576b"
             ],
             [
              0.6666666666666666,
              "#ed7953"
             ],
             [
              0.7777777777777778,
              "#fb9f3a"
             ],
             [
              0.8888888888888888,
              "#fdca26"
             ],
             [
              1,
              "#f0f921"
             ]
            ],
            "type": "heatmap"
           }
          ],
          "heatmapgl": [
           {
            "colorbar": {
             "outlinewidth": 0,
             "ticks": ""
            },
            "colorscale": [
             [
              0,
              "#0d0887"
             ],
             [
              0.1111111111111111,
              "#46039f"
             ],
             [
              0.2222222222222222,
              "#7201a8"
             ],
             [
              0.3333333333333333,
              "#9c179e"
             ],
             [
              0.4444444444444444,
              "#bd3786"
             ],
             [
              0.5555555555555556,
              "#d8576b"
             ],
             [
              0.6666666666666666,
              "#ed7953"
             ],
             [
              0.7777777777777778,
              "#fb9f3a"
             ],
             [
              0.8888888888888888,
              "#fdca26"
             ],
             [
              1,
              "#f0f921"
             ]
            ],
            "type": "heatmapgl"
           }
          ],
          "histogram": [
           {
            "marker": {
             "colorbar": {
              "outlinewidth": 0,
              "ticks": ""
             }
            },
            "type": "histogram"
           }
          ],
          "histogram2d": [
           {
            "colorbar": {
             "outlinewidth": 0,
             "ticks": ""
            },
            "colorscale": [
             [
              0,
              "#0d0887"
             ],
             [
              0.1111111111111111,
              "#46039f"
             ],
             [
              0.2222222222222222,
              "#7201a8"
             ],
             [
              0.3333333333333333,
              "#9c179e"
             ],
             [
              0.4444444444444444,
              "#bd3786"
             ],
             [
              0.5555555555555556,
              "#d8576b"
             ],
             [
              0.6666666666666666,
              "#ed7953"
             ],
             [
              0.7777777777777778,
              "#fb9f3a"
             ],
             [
              0.8888888888888888,
              "#fdca26"
             ],
             [
              1,
              "#f0f921"
             ]
            ],
            "type": "histogram2d"
           }
          ],
          "histogram2dcontour": [
           {
            "colorbar": {
             "outlinewidth": 0,
             "ticks": ""
            },
            "colorscale": [
             [
              0,
              "#0d0887"
             ],
             [
              0.1111111111111111,
              "#46039f"
             ],
             [
              0.2222222222222222,
              "#7201a8"
             ],
             [
              0.3333333333333333,
              "#9c179e"
             ],
             [
              0.4444444444444444,
              "#bd3786"
             ],
             [
              0.5555555555555556,
              "#d8576b"
             ],
             [
              0.6666666666666666,
              "#ed7953"
             ],
             [
              0.7777777777777778,
              "#fb9f3a"
             ],
             [
              0.8888888888888888,
              "#fdca26"
             ],
             [
              1,
              "#f0f921"
             ]
            ],
            "type": "histogram2dcontour"
           }
          ],
          "mesh3d": [
           {
            "colorbar": {
             "outlinewidth": 0,
             "ticks": ""
            },
            "type": "mesh3d"
           }
          ],
          "parcoords": [
           {
            "line": {
             "colorbar": {
              "outlinewidth": 0,
              "ticks": ""
             }
            },
            "type": "parcoords"
           }
          ],
          "pie": [
           {
            "automargin": true,
            "type": "pie"
           }
          ],
          "scatter": [
           {
            "marker": {
             "colorbar": {
              "outlinewidth": 0,
              "ticks": ""
             }
            },
            "type": "scatter"
           }
          ],
          "scatter3d": [
           {
            "line": {
             "colorbar": {
              "outlinewidth": 0,
              "ticks": ""
             }
            },
            "marker": {
             "colorbar": {
              "outlinewidth": 0,
              "ticks": ""
             }
            },
            "type": "scatter3d"
           }
          ],
          "scattercarpet": [
           {
            "marker": {
             "colorbar": {
              "outlinewidth": 0,
              "ticks": ""
             }
            },
            "type": "scattercarpet"
           }
          ],
          "scattergeo": [
           {
            "marker": {
             "colorbar": {
              "outlinewidth": 0,
              "ticks": ""
             }
            },
            "type": "scattergeo"
           }
          ],
          "scattergl": [
           {
            "marker": {
             "colorbar": {
              "outlinewidth": 0,
              "ticks": ""
             }
            },
            "type": "scattergl"
           }
          ],
          "scattermapbox": [
           {
            "marker": {
             "colorbar": {
              "outlinewidth": 0,
              "ticks": ""
             }
            },
            "type": "scattermapbox"
           }
          ],
          "scatterpolar": [
           {
            "marker": {
             "colorbar": {
              "outlinewidth": 0,
              "ticks": ""
             }
            },
            "type": "scatterpolar"
           }
          ],
          "scatterpolargl": [
           {
            "marker": {
             "colorbar": {
              "outlinewidth": 0,
              "ticks": ""
             }
            },
            "type": "scatterpolargl"
           }
          ],
          "scatterternary": [
           {
            "marker": {
             "colorbar": {
              "outlinewidth": 0,
              "ticks": ""
             }
            },
            "type": "scatterternary"
           }
          ],
          "surface": [
           {
            "colorbar": {
             "outlinewidth": 0,
             "ticks": ""
            },
            "colorscale": [
             [
              0,
              "#0d0887"
             ],
             [
              0.1111111111111111,
              "#46039f"
             ],
             [
              0.2222222222222222,
              "#7201a8"
             ],
             [
              0.3333333333333333,
              "#9c179e"
             ],
             [
              0.4444444444444444,
              "#bd3786"
             ],
             [
              0.5555555555555556,
              "#d8576b"
             ],
             [
              0.6666666666666666,
              "#ed7953"
             ],
             [
              0.7777777777777778,
              "#fb9f3a"
             ],
             [
              0.8888888888888888,
              "#fdca26"
             ],
             [
              1,
              "#f0f921"
             ]
            ],
            "type": "surface"
           }
          ],
          "table": [
           {
            "cells": {
             "fill": {
              "color": "#EBF0F8"
             },
             "line": {
              "color": "white"
             }
            },
            "header": {
             "fill": {
              "color": "#C8D4E3"
             },
             "line": {
              "color": "white"
             }
            },
            "type": "table"
           }
          ]
         },
         "layout": {
          "annotationdefaults": {
           "arrowcolor": "#2a3f5f",
           "arrowhead": 0,
           "arrowwidth": 1
          },
          "autotypenumbers": "strict",
          "coloraxis": {
           "colorbar": {
            "outlinewidth": 0,
            "ticks": ""
           }
          },
          "colorscale": {
           "diverging": [
            [
             0,
             "#8e0152"
            ],
            [
             0.1,
             "#c51b7d"
            ],
            [
             0.2,
             "#de77ae"
            ],
            [
             0.3,
             "#f1b6da"
            ],
            [
             0.4,
             "#fde0ef"
            ],
            [
             0.5,
             "#f7f7f7"
            ],
            [
             0.6,
             "#e6f5d0"
            ],
            [
             0.7,
             "#b8e186"
            ],
            [
             0.8,
             "#7fbc41"
            ],
            [
             0.9,
             "#4d9221"
            ],
            [
             1,
             "#276419"
            ]
           ],
           "sequential": [
            [
             0,
             "#0d0887"
            ],
            [
             0.1111111111111111,
             "#46039f"
            ],
            [
             0.2222222222222222,
             "#7201a8"
            ],
            [
             0.3333333333333333,
             "#9c179e"
            ],
            [
             0.4444444444444444,
             "#bd3786"
            ],
            [
             0.5555555555555556,
             "#d8576b"
            ],
            [
             0.6666666666666666,
             "#ed7953"
            ],
            [
             0.7777777777777778,
             "#fb9f3a"
            ],
            [
             0.8888888888888888,
             "#fdca26"
            ],
            [
             1,
             "#f0f921"
            ]
           ],
           "sequentialminus": [
            [
             0,
             "#0d0887"
            ],
            [
             0.1111111111111111,
             "#46039f"
            ],
            [
             0.2222222222222222,
             "#7201a8"
            ],
            [
             0.3333333333333333,
             "#9c179e"
            ],
            [
             0.4444444444444444,
             "#bd3786"
            ],
            [
             0.5555555555555556,
             "#d8576b"
            ],
            [
             0.6666666666666666,
             "#ed7953"
            ],
            [
             0.7777777777777778,
             "#fb9f3a"
            ],
            [
             0.8888888888888888,
             "#fdca26"
            ],
            [
             1,
             "#f0f921"
            ]
           ]
          },
          "colorway": [
           "#636efa",
           "#EF553B",
           "#00cc96",
           "#ab63fa",
           "#FFA15A",
           "#19d3f3",
           "#FF6692",
           "#B6E880",
           "#FF97FF",
           "#FECB52"
          ],
          "font": {
           "color": "#2a3f5f"
          },
          "geo": {
           "bgcolor": "white",
           "lakecolor": "white",
           "landcolor": "#E5ECF6",
           "showlakes": true,
           "showland": true,
           "subunitcolor": "white"
          },
          "hoverlabel": {
           "align": "left"
          },
          "hovermode": "closest",
          "mapbox": {
           "style": "light"
          },
          "paper_bgcolor": "white",
          "plot_bgcolor": "#E5ECF6",
          "polar": {
           "angularaxis": {
            "gridcolor": "white",
            "linecolor": "white",
            "ticks": ""
           },
           "bgcolor": "#E5ECF6",
           "radialaxis": {
            "gridcolor": "white",
            "linecolor": "white",
            "ticks": ""
           }
          },
          "scene": {
           "xaxis": {
            "backgroundcolor": "#E5ECF6",
            "gridcolor": "white",
            "gridwidth": 2,
            "linecolor": "white",
            "showbackground": true,
            "ticks": "",
            "zerolinecolor": "white"
           },
           "yaxis": {
            "backgroundcolor": "#E5ECF6",
            "gridcolor": "white",
            "gridwidth": 2,
            "linecolor": "white",
            "showbackground": true,
            "ticks": "",
            "zerolinecolor": "white"
           },
           "zaxis": {
            "backgroundcolor": "#E5ECF6",
            "gridcolor": "white",
            "gridwidth": 2,
            "linecolor": "white",
            "showbackground": true,
            "ticks": "",
            "zerolinecolor": "white"
           }
          },
          "shapedefaults": {
           "line": {
            "color": "#2a3f5f"
           }
          },
          "ternary": {
           "aaxis": {
            "gridcolor": "white",
            "linecolor": "white",
            "ticks": ""
           },
           "baxis": {
            "gridcolor": "white",
            "linecolor": "white",
            "ticks": ""
           },
           "bgcolor": "#E5ECF6",
           "caxis": {
            "gridcolor": "white",
            "linecolor": "white",
            "ticks": ""
           }
          },
          "title": {
           "x": 0.05
          },
          "xaxis": {
           "automargin": true,
           "gridcolor": "white",
           "linecolor": "white",
           "ticks": "",
           "title": {
            "standoff": 15
           },
           "zerolinecolor": "white",
           "zerolinewidth": 2
          },
          "yaxis": {
           "automargin": true,
           "gridcolor": "white",
           "linecolor": "white",
           "ticks": "",
           "title": {
            "standoff": 15
           },
           "zerolinecolor": "white",
           "zerolinewidth": 2
          }
         }
        },
        "title": {
         "font": {
          "color": "#4D5663"
         }
        },
        "xaxis": {
         "gridcolor": "#E1E5ED",
         "showgrid": true,
         "tickfont": {
          "color": "#4D5663"
         },
         "title": {
          "font": {
           "color": "#4D5663"
          },
          "text": ""
         },
         "zerolinecolor": "#E1E5ED"
        },
        "yaxis": {
         "gridcolor": "#E1E5ED",
         "showgrid": true,
         "tickfont": {
          "color": "#4D5663"
         },
         "title": {
          "font": {
           "color": "#4D5663"
          },
          "text": ""
         },
         "zerolinecolor": "#E1E5ED"
        }
       }
      },
      "text/html": [
       "<div>                            <div id=\"50f59ce8-2939-4037-9b6e-ac22e1398db4\" class=\"plotly-graph-div\" style=\"height:525px; width:100%;\"></div>            <script type=\"text/javascript\">                require([\"plotly\"], function(Plotly) {                    window.PLOTLYENV=window.PLOTLYENV || {};\n",
       "                    window.PLOTLYENV.BASE_URL='https://plot.ly';                                    if (document.getElementById(\"50f59ce8-2939-4037-9b6e-ac22e1398db4\")) {                    Plotly.newPlot(                        \"50f59ce8-2939-4037-9b6e-ac22e1398db4\",                        [{\"marker\": {\"color\": [\"rgb(255, 153, 51)\", \"rgb(55, 128, 191)\", \"rgb(50, 171, 96)\", \"rgb(128, 0, 128)\", \"rgb(219, 64, 82)\", \"rgb(0, 128, 128)\", \"rgb(255, 255, 51)\", \"rgb(128, 128, 0)\", \"rgb(251, 128, 114)\", \"rgb(128, 177, 211)\"], \"line\": {\"width\": 1.3}, \"size\": [60, 105, 77, 61, 37, 87, 64, 48, 46, 45, 50, 64, 74, 85, 38, 43, 36, 55, 42, 22, 68, 66, 46, 70, 73, 70, 72, 47, 100, 94, 31, 54, 80, 82, 82, 76, 62, 71, 85, 72, 72, 52, 45, 48, 50, 67, 63, 71, 50, 65, 45, 67, 92, 89, 78, 25, 91, 77, 42, 70, 12, 67, 67, 47, 72, 99, 78, 61, 75, 49, 27, 66, 89, 92, 94, 107, 89, 111, 68, 46, 63, 73, 90, 59, 77, 40, 57, 112, 61, 27, 101, 54, 82, 62, 90, 68, 80, 85, 62, 73], \"symbol\": \"circle\"}, \"mode\": \"markers\", \"text\": \"\", \"type\": \"scatter\", \"x\": [-1.8453562462643196, -0.20040405303757655, -1.1637956456188199, 0.6205025203423028, -0.8390568855527745, -1.2174976462691052, -0.5640138103328367, 0.013620573399448279, 0.40059182767551943, -0.5997626758413155, 0.07726576350156705, 0.928610877203632, 0.426972018264773, -0.9990060932331011, 1.078661270762736, -0.4513974079092731, -1.2643201140490237, 2.5256077680999685, 0.41086499908738955, -0.04475172187968378, 0.8233287809051226, -0.7271645524645527, 0.14030657831421076, -1.0988235896220555, 0.7489175266400919, 0.46582312686492033, -0.05288123591202588, -1.3670291716449292, 0.7309050939934914, -0.6098667055895841, 0.5041275128978567, 2.040048937172921, -2.185274683047773, 1.0196751415031662, 0.9945470359624125, -1.025592479915559, -1.267140473022391, -0.8689838118146973, -0.2236579399824439, -1.3097944848343677, -0.8414647840651517, 0.6071895041961782, -0.288065793118509, -0.0855433340132728, 1.2362626011306976, -0.34103353649966367, 1.2706087277806368, 1.5483104445093612, 0.18539608217150366, -0.7546004022350437, -0.8326852647100786, -1.1021601391805258, -1.1929778907431932, 1.9549439684527512, -1.210342094834586, 0.4060144585650524, 1.691010701899478, -0.8750443198147615, 1.160394755522703, 2.275642804498575, -0.052481187252204894, 0.764446349668718, 0.7748214923293414, 0.24170402743498778, 0.28327289936704275, 0.2467195735483266, 0.914032725604146, -0.08601512694460697, 0.9489571859474513, 0.8142978876236726, 0.7883298154110456, -0.32628991344569763, 0.2301082679624488, 1.6341593800247989, -1.6944753689322416, -0.758403852271044, 0.9422713425820108, 0.5407768447682212, -0.4172833249642221, -0.9133540169871017, 1.2975516807100265, 0.5348525441513422, -0.9491627313232666, -0.3285687661985525, 0.7487839314169843, -0.3011044136198415, -0.6231469374589843, -0.46272480238509744, 0.751870774961926, 0.6842338081501783, 0.1857636597163811, 0.8977181310333129, -0.6380029150186659, -0.014892138107339364, -1.4264492976702383, -1.3625157787787476, -0.5037475787792652, -0.7209368299148544, -0.1853579105123794, 0.8853425687953029], \"y\": [-0.918051978935254, -2.7056575029327217, -0.26581756141055396, 2.7780920157639803, -0.8734279386889949, -0.06334899773831265, 1.4821560963767562, 0.3720351753435628, 2.289468082163019, -0.8374384578030118, -2.108703088038587, 0.9788520364174591, 1.4650258305467085, 1.2415652263814414, 1.0310626547555006, -0.3122406935164411, -0.14735613041299925, 0.33275767892759495, -0.1161274919960927, 0.281205976719588, -0.14951869895483794, 0.41174605696281846, 2.354209612658942, 2.092110024373878, -0.844565089723117, -1.5305136905849483, -0.4080953430172473, -0.49831975030647513, 0.532663605513584, 0.16759861208915242, 0.46247832654774845, 0.38741399084499084, -1.8520213138080566, -0.019018730510986254, -1.0113286481308315, -1.0929063112561626, -0.7089062318588992, -0.49640898092235836, -0.9734721463692066, 0.5801554907558394, -0.06540899964125191, -0.6111002896985552, 0.45438818782559776, 0.4785280675226295, 1.2923482368164383, -0.5748394916445265, 0.43943437190379214, -1.4174040567585227, -0.7319800748374122, -0.29265216113961545, -0.36087379702803224, -0.04027675520163823, -0.24063564992242378, -1.2436397165116935, -0.6380650947146708, -1.194083286516507, 0.1779335575301587, -0.5384113135074421, 0.2915091190224508, 0.466796616138699, -0.43114256548016455, 1.2786748208881396, 1.4078719927900933, 0.14674226717423464, -0.029148341361593073, -1.0673227647170362, -0.6376233349993639, -0.17509268696626795, -0.4170870697877158, 0.4159894756560567, -2.208839366952025, 1.1269460290850897, -0.4095692566448082, 0.7856726897159855, -1.490180580048176, -1.617147938156026, 0.4365288533186661, -2.32656190655788, 0.15681159571219597, 0.5391784367802614, -0.5002333680231703, 0.6548667984163916, 0.27970593897368917, -0.7844703375909428, 0.9073102317074612, -1.1835772548443797, -1.1252365576347547, -0.31910636809035, -0.7706391044036293, 1.5932069582471045, -1.4300111814134815, 0.09777836056991747, 0.21906285684508117, -0.025607437932308883, -1.0696693509127029, 0.058516669742657644, -0.3377730316094605, -0.7808950376846182, 0.5148406510673026, -0.6532931427041353]}],                        {\"legend\": {\"bgcolor\": \"#F5F6F9\", \"font\": {\"color\": \"#4D5663\"}}, \"paper_bgcolor\": \"#F5F6F9\", \"plot_bgcolor\": \"#F5F6F9\", \"template\": {\"data\": {\"bar\": [{\"error_x\": {\"color\": \"#2a3f5f\"}, \"error_y\": {\"color\": \"#2a3f5f\"}, \"marker\": {\"line\": {\"color\": \"#E5ECF6\", \"width\": 0.5}}, \"type\": \"bar\"}], \"barpolar\": [{\"marker\": {\"line\": {\"color\": \"#E5ECF6\", \"width\": 0.5}}, \"type\": \"barpolar\"}], \"carpet\": [{\"aaxis\": {\"endlinecolor\": \"#2a3f5f\", \"gridcolor\": \"white\", \"linecolor\": \"white\", \"minorgridcolor\": \"white\", \"startlinecolor\": \"#2a3f5f\"}, \"baxis\": {\"endlinecolor\": \"#2a3f5f\", \"gridcolor\": \"white\", \"linecolor\": \"white\", \"minorgridcolor\": \"white\", \"startlinecolor\": \"#2a3f5f\"}, \"type\": \"carpet\"}], \"choropleth\": [{\"colorbar\": {\"outlinewidth\": 0, \"ticks\": \"\"}, \"type\": \"choropleth\"}], \"contour\": [{\"colorbar\": {\"outlinewidth\": 0, \"ticks\": \"\"}, \"colorscale\": [[0.0, \"#0d0887\"], [0.1111111111111111, \"#46039f\"], [0.2222222222222222, \"#7201a8\"], [0.3333333333333333, \"#9c179e\"], [0.4444444444444444, \"#bd3786\"], [0.5555555555555556, \"#d8576b\"], [0.6666666666666666, \"#ed7953\"], [0.7777777777777778, \"#fb9f3a\"], [0.8888888888888888, \"#fdca26\"], [1.0, \"#f0f921\"]], \"type\": \"contour\"}], \"contourcarpet\": [{\"colorbar\": {\"outlinewidth\": 0, \"ticks\": \"\"}, \"type\": \"contourcarpet\"}], \"heatmap\": [{\"colorbar\": {\"outlinewidth\": 0, \"ticks\": \"\"}, \"colorscale\": [[0.0, \"#0d0887\"], [0.1111111111111111, \"#46039f\"], [0.2222222222222222, \"#7201a8\"], [0.3333333333333333, \"#9c179e\"], [0.4444444444444444, \"#bd3786\"], [0.5555555555555556, \"#d8576b\"], [0.6666666666666666, \"#ed7953\"], [0.7777777777777778, \"#fb9f3a\"], [0.8888888888888888, \"#fdca26\"], [1.0, \"#f0f921\"]], \"type\": \"heatmap\"}], \"heatmapgl\": [{\"colorbar\": {\"outlinewidth\": 0, \"ticks\": \"\"}, \"colorscale\": [[0.0, \"#0d0887\"], [0.1111111111111111, \"#46039f\"], [0.2222222222222222, \"#7201a8\"], [0.3333333333333333, \"#9c179e\"], [0.4444444444444444, \"#bd3786\"], [0.5555555555555556, \"#d8576b\"], [0.6666666666666666, \"#ed7953\"], [0.7777777777777778, \"#fb9f3a\"], [0.8888888888888888, \"#fdca26\"], [1.0, \"#f0f921\"]], \"type\": \"heatmapgl\"}], \"histogram\": [{\"marker\": {\"colorbar\": {\"outlinewidth\": 0, \"ticks\": \"\"}}, \"type\": \"histogram\"}], \"histogram2d\": [{\"colorbar\": {\"outlinewidth\": 0, \"ticks\": \"\"}, \"colorscale\": [[0.0, \"#0d0887\"], [0.1111111111111111, \"#46039f\"], [0.2222222222222222, \"#7201a8\"], [0.3333333333333333, \"#9c179e\"], [0.4444444444444444, \"#bd3786\"], [0.5555555555555556, \"#d8576b\"], [0.6666666666666666, \"#ed7953\"], [0.7777777777777778, \"#fb9f3a\"], [0.8888888888888888, \"#fdca26\"], [1.0, \"#f0f921\"]], \"type\": \"histogram2d\"}], \"histogram2dcontour\": [{\"colorbar\": {\"outlinewidth\": 0, \"ticks\": \"\"}, \"colorscale\": [[0.0, \"#0d0887\"], [0.1111111111111111, \"#46039f\"], [0.2222222222222222, \"#7201a8\"], [0.3333333333333333, \"#9c179e\"], [0.4444444444444444, \"#bd3786\"], [0.5555555555555556, \"#d8576b\"], [0.6666666666666666, \"#ed7953\"], [0.7777777777777778, \"#fb9f3a\"], [0.8888888888888888, \"#fdca26\"], [1.0, \"#f0f921\"]], \"type\": \"histogram2dcontour\"}], \"mesh3d\": [{\"colorbar\": {\"outlinewidth\": 0, \"ticks\": \"\"}, \"type\": \"mesh3d\"}], \"parcoords\": [{\"line\": {\"colorbar\": {\"outlinewidth\": 0, \"ticks\": \"\"}}, \"type\": \"parcoords\"}], \"pie\": [{\"automargin\": true, \"type\": \"pie\"}], \"scatter\": [{\"marker\": {\"colorbar\": {\"outlinewidth\": 0, \"ticks\": \"\"}}, \"type\": \"scatter\"}], \"scatter3d\": [{\"line\": {\"colorbar\": {\"outlinewidth\": 0, \"ticks\": \"\"}}, \"marker\": {\"colorbar\": {\"outlinewidth\": 0, \"ticks\": \"\"}}, \"type\": \"scatter3d\"}], \"scattercarpet\": [{\"marker\": {\"colorbar\": {\"outlinewidth\": 0, \"ticks\": \"\"}}, \"type\": \"scattercarpet\"}], \"scattergeo\": [{\"marker\": {\"colorbar\": {\"outlinewidth\": 0, \"ticks\": \"\"}}, \"type\": \"scattergeo\"}], \"scattergl\": [{\"marker\": {\"colorbar\": {\"outlinewidth\": 0, \"ticks\": \"\"}}, \"type\": \"scattergl\"}], \"scattermapbox\": [{\"marker\": {\"colorbar\": {\"outlinewidth\": 0, \"ticks\": \"\"}}, \"type\": \"scattermapbox\"}], \"scatterpolar\": [{\"marker\": {\"colorbar\": {\"outlinewidth\": 0, \"ticks\": \"\"}}, \"type\": \"scatterpolar\"}], \"scatterpolargl\": [{\"marker\": {\"colorbar\": {\"outlinewidth\": 0, \"ticks\": \"\"}}, \"type\": \"scatterpolargl\"}], \"scatterternary\": [{\"marker\": {\"colorbar\": {\"outlinewidth\": 0, \"ticks\": \"\"}}, \"type\": \"scatterternary\"}], \"surface\": [{\"colorbar\": {\"outlinewidth\": 0, \"ticks\": \"\"}, \"colorscale\": [[0.0, \"#0d0887\"], [0.1111111111111111, \"#46039f\"], [0.2222222222222222, \"#7201a8\"], [0.3333333333333333, \"#9c179e\"], [0.4444444444444444, \"#bd3786\"], [0.5555555555555556, \"#d8576b\"], [0.6666666666666666, \"#ed7953\"], [0.7777777777777778, \"#fb9f3a\"], [0.8888888888888888, \"#fdca26\"], [1.0, \"#f0f921\"]], \"type\": \"surface\"}], \"table\": [{\"cells\": {\"fill\": {\"color\": \"#EBF0F8\"}, \"line\": {\"color\": \"white\"}}, \"header\": {\"fill\": {\"color\": \"#C8D4E3\"}, \"line\": {\"color\": \"white\"}}, \"type\": \"table\"}]}, \"layout\": {\"annotationdefaults\": {\"arrowcolor\": \"#2a3f5f\", \"arrowhead\": 0, \"arrowwidth\": 1}, \"autotypenumbers\": \"strict\", \"coloraxis\": {\"colorbar\": {\"outlinewidth\": 0, \"ticks\": \"\"}}, \"colorscale\": {\"diverging\": [[0, \"#8e0152\"], [0.1, \"#c51b7d\"], [0.2, \"#de77ae\"], [0.3, \"#f1b6da\"], [0.4, \"#fde0ef\"], [0.5, \"#f7f7f7\"], [0.6, \"#e6f5d0\"], [0.7, \"#b8e186\"], [0.8, \"#7fbc41\"], [0.9, \"#4d9221\"], [1, \"#276419\"]], \"sequential\": [[0.0, \"#0d0887\"], [0.1111111111111111, \"#46039f\"], [0.2222222222222222, \"#7201a8\"], [0.3333333333333333, \"#9c179e\"], [0.4444444444444444, \"#bd3786\"], [0.5555555555555556, \"#d8576b\"], [0.6666666666666666, \"#ed7953\"], [0.7777777777777778, \"#fb9f3a\"], [0.8888888888888888, \"#fdca26\"], [1.0, \"#f0f921\"]], \"sequentialminus\": [[0.0, \"#0d0887\"], [0.1111111111111111, \"#46039f\"], [0.2222222222222222, \"#7201a8\"], [0.3333333333333333, \"#9c179e\"], [0.4444444444444444, \"#bd3786\"], [0.5555555555555556, \"#d8576b\"], [0.6666666666666666, \"#ed7953\"], [0.7777777777777778, \"#fb9f3a\"], [0.8888888888888888, \"#fdca26\"], [1.0, \"#f0f921\"]]}, \"colorway\": [\"#636efa\", \"#EF553B\", \"#00cc96\", \"#ab63fa\", \"#FFA15A\", \"#19d3f3\", \"#FF6692\", \"#B6E880\", \"#FF97FF\", \"#FECB52\"], \"font\": {\"color\": \"#2a3f5f\"}, \"geo\": {\"bgcolor\": \"white\", \"lakecolor\": \"white\", \"landcolor\": \"#E5ECF6\", \"showlakes\": true, \"showland\": true, \"subunitcolor\": \"white\"}, \"hoverlabel\": {\"align\": \"left\"}, \"hovermode\": \"closest\", \"mapbox\": {\"style\": \"light\"}, \"paper_bgcolor\": \"white\", \"plot_bgcolor\": \"#E5ECF6\", \"polar\": {\"angularaxis\": {\"gridcolor\": \"white\", \"linecolor\": \"white\", \"ticks\": \"\"}, \"bgcolor\": \"#E5ECF6\", \"radialaxis\": {\"gridcolor\": \"white\", \"linecolor\": \"white\", \"ticks\": \"\"}}, \"scene\": {\"xaxis\": {\"backgroundcolor\": \"#E5ECF6\", \"gridcolor\": \"white\", \"gridwidth\": 2, \"linecolor\": \"white\", \"showbackground\": true, \"ticks\": \"\", \"zerolinecolor\": \"white\"}, \"yaxis\": {\"backgroundcolor\": \"#E5ECF6\", \"gridcolor\": \"white\", \"gridwidth\": 2, \"linecolor\": \"white\", \"showbackground\": true, \"ticks\": \"\", \"zerolinecolor\": \"white\"}, \"zaxis\": {\"backgroundcolor\": \"#E5ECF6\", \"gridcolor\": \"white\", \"gridwidth\": 2, \"linecolor\": \"white\", \"showbackground\": true, \"ticks\": \"\", \"zerolinecolor\": \"white\"}}, \"shapedefaults\": {\"line\": {\"color\": \"#2a3f5f\"}}, \"ternary\": {\"aaxis\": {\"gridcolor\": \"white\", \"linecolor\": \"white\", \"ticks\": \"\"}, \"baxis\": {\"gridcolor\": \"white\", \"linecolor\": \"white\", \"ticks\": \"\"}, \"bgcolor\": \"#E5ECF6\", \"caxis\": {\"gridcolor\": \"white\", \"linecolor\": \"white\", \"ticks\": \"\"}}, \"title\": {\"x\": 0.05}, \"xaxis\": {\"automargin\": true, \"gridcolor\": \"white\", \"linecolor\": \"white\", \"ticks\": \"\", \"title\": {\"standoff\": 15}, \"zerolinecolor\": \"white\", \"zerolinewidth\": 2}, \"yaxis\": {\"automargin\": true, \"gridcolor\": \"white\", \"linecolor\": \"white\", \"ticks\": \"\", \"title\": {\"standoff\": 15}, \"zerolinecolor\": \"white\", \"zerolinewidth\": 2}}}, \"title\": {\"font\": {\"color\": \"#4D5663\"}}, \"xaxis\": {\"gridcolor\": \"#E1E5ED\", \"showgrid\": true, \"tickfont\": {\"color\": \"#4D5663\"}, \"title\": {\"font\": {\"color\": \"#4D5663\"}, \"text\": \"\"}, \"zerolinecolor\": \"#E1E5ED\"}, \"yaxis\": {\"gridcolor\": \"#E1E5ED\", \"showgrid\": true, \"tickfont\": {\"color\": \"#4D5663\"}, \"title\": {\"font\": {\"color\": \"#4D5663\"}, \"text\": \"\"}, \"zerolinecolor\": \"#E1E5ED\"}},                        {\"showLink\": true, \"linkText\": \"Export to plot.ly\", \"plotlyServerURL\": \"https://plot.ly\", \"responsive\": true}                    ).then(function(){\n",
       "                            \n",
       "var gd = document.getElementById('50f59ce8-2939-4037-9b6e-ac22e1398db4');\n",
       "var x = new MutationObserver(function (mutations, observer) {{\n",
       "        var display = window.getComputedStyle(gd).display;\n",
       "        if (!display || display === 'none') {{\n",
       "            console.log([gd, 'removed!']);\n",
       "            Plotly.purge(gd);\n",
       "            observer.disconnect();\n",
       "        }}\n",
       "}});\n",
       "\n",
       "// Listen for the removal of the full notebook cells\n",
       "var notebookContainer = gd.closest('#notebook-container');\n",
       "if (notebookContainer) {{\n",
       "    x.observe(notebookContainer, {childList: true});\n",
       "}}\n",
       "\n",
       "// Listen for the clearing of the current output cell\n",
       "var outputEl = gd.closest('.output');\n",
       "if (outputEl) {{\n",
       "    x.observe(outputEl, {childList: true});\n",
       "}}\n",
       "\n",
       "                        })                };                });            </script>        </div>"
      ]
     },
     "metadata": {},
     "output_type": "display_data"
    }
   ],
   "source": [
    "df.iplot(kind='bubble',x='A',y='B',size='C')  # size: tamanho das bolhas em função de uma variável "
   ]
  },
  {
   "cell_type": "markdown",
   "metadata": {},
   "source": [
    "## scatter_matrix()\n",
    "\n",
    "Similar à sns.pairplot()"
   ]
  },
  {
   "cell_type": "code",
   "execution_count": 20,
   "metadata": {},
   "outputs": [
    {
     "data": {
      "application/vnd.plotly.v1+json": {
       "config": {
        "linkText": "Export to plot.ly",
        "plotlyServerURL": "https://plot.ly",
        "showLink": true
       },
       "data": [
        {
         "histfunc": "count",
         "histnorm": "",
         "marker": {
          "color": "rgba(255, 153, 51, 1.0)",
          "line": {
           "color": "#4D5663",
           "width": 1.3
          }
         },
         "name": "A",
         "nbinsx": 10,
         "opacity": 0.8,
         "orientation": "v",
         "type": "histogram",
         "x": [
          -1.8453562462643196,
          -0.20040405303757655,
          -1.1637956456188199,
          0.6205025203423028,
          -0.8390568855527745,
          -1.2174976462691052,
          -0.5640138103328367,
          0.013620573399448279,
          0.40059182767551943,
          -0.5997626758413155,
          0.07726576350156705,
          0.928610877203632,
          0.426972018264773,
          -0.9990060932331011,
          1.078661270762736,
          -0.4513974079092731,
          -1.2643201140490237,
          2.5256077680999685,
          0.41086499908738955,
          -0.04475172187968378,
          0.8233287809051226,
          -0.7271645524645527,
          0.14030657831421076,
          -1.0988235896220555,
          0.7489175266400919,
          0.46582312686492033,
          -0.05288123591202588,
          -1.3670291716449292,
          0.7309050939934914,
          -0.6098667055895841,
          0.5041275128978567,
          2.040048937172921,
          -2.185274683047773,
          1.0196751415031662,
          0.9945470359624125,
          -1.025592479915559,
          -1.267140473022391,
          -0.8689838118146973,
          -0.2236579399824439,
          -1.3097944848343677,
          -0.8414647840651517,
          0.6071895041961782,
          -0.288065793118509,
          -0.0855433340132728,
          1.2362626011306976,
          -0.34103353649966367,
          1.2706087277806368,
          1.5483104445093612,
          0.18539608217150366,
          -0.7546004022350437,
          -0.8326852647100786,
          -1.1021601391805258,
          -1.1929778907431932,
          1.9549439684527512,
          -1.210342094834586,
          0.4060144585650524,
          1.691010701899478,
          -0.8750443198147615,
          1.160394755522703,
          2.275642804498575,
          -0.052481187252204894,
          0.764446349668718,
          0.7748214923293414,
          0.24170402743498778,
          0.28327289936704275,
          0.2467195735483266,
          0.914032725604146,
          -0.08601512694460697,
          0.9489571859474513,
          0.8142978876236726,
          0.7883298154110456,
          -0.32628991344569763,
          0.2301082679624488,
          1.6341593800247989,
          -1.6944753689322416,
          -0.758403852271044,
          0.9422713425820108,
          0.5407768447682212,
          -0.4172833249642221,
          -0.9133540169871017,
          1.2975516807100265,
          0.5348525441513422,
          -0.9491627313232666,
          -0.3285687661985525,
          0.7487839314169843,
          -0.3011044136198415,
          -0.6231469374589843,
          -0.46272480238509744,
          0.751870774961926,
          0.6842338081501783,
          0.1857636597163811,
          0.8977181310333129,
          -0.6380029150186659,
          -0.014892138107339364,
          -1.4264492976702383,
          -1.3625157787787476,
          -0.5037475787792652,
          -0.7209368299148544,
          -0.1853579105123794,
          0.8853425687953029
         ],
         "xaxis": "x",
         "yaxis": "y"
        },
        {
         "line": {
          "color": "rgba(128, 128, 128, 1.0)",
          "dash": "solid",
          "shape": "linear",
          "width": 1.3
         },
         "marker": {
          "size": 2,
          "symbol": "circle"
         },
         "mode": "markers",
         "name": "A",
         "text": "",
         "type": "scatter",
         "x": [
          -0.918051978935254,
          -2.7056575029327217,
          -0.26581756141055396,
          2.7780920157639803,
          -0.8734279386889949,
          -0.06334899773831265,
          1.4821560963767562,
          0.3720351753435628,
          2.289468082163019,
          -0.8374384578030118,
          -2.108703088038587,
          0.9788520364174591,
          1.4650258305467085,
          1.2415652263814414,
          1.0310626547555006,
          -0.3122406935164411,
          -0.14735613041299925,
          0.33275767892759495,
          -0.1161274919960927,
          0.281205976719588,
          -0.14951869895483794,
          0.41174605696281846,
          2.354209612658942,
          2.092110024373878,
          -0.844565089723117,
          -1.5305136905849483,
          -0.4080953430172473,
          -0.49831975030647513,
          0.532663605513584,
          0.16759861208915242,
          0.46247832654774845,
          0.38741399084499084,
          -1.8520213138080566,
          -0.019018730510986254,
          -1.0113286481308315,
          -1.0929063112561626,
          -0.7089062318588992,
          -0.49640898092235836,
          -0.9734721463692066,
          0.5801554907558394,
          -0.06540899964125191,
          -0.6111002896985552,
          0.45438818782559776,
          0.4785280675226295,
          1.2923482368164383,
          -0.5748394916445265,
          0.43943437190379214,
          -1.4174040567585227,
          -0.7319800748374122,
          -0.29265216113961545,
          -0.36087379702803224,
          -0.04027675520163823,
          -0.24063564992242378,
          -1.2436397165116935,
          -0.6380650947146708,
          -1.194083286516507,
          0.1779335575301587,
          -0.5384113135074421,
          0.2915091190224508,
          0.466796616138699,
          -0.43114256548016455,
          1.2786748208881396,
          1.4078719927900933,
          0.14674226717423464,
          -0.029148341361593073,
          -1.0673227647170362,
          -0.6376233349993639,
          -0.17509268696626795,
          -0.4170870697877158,
          0.4159894756560567,
          -2.208839366952025,
          1.1269460290850897,
          -0.4095692566448082,
          0.7856726897159855,
          -1.490180580048176,
          -1.617147938156026,
          0.4365288533186661,
          -2.32656190655788,
          0.15681159571219597,
          0.5391784367802614,
          -0.5002333680231703,
          0.6548667984163916,
          0.27970593897368917,
          -0.7844703375909428,
          0.9073102317074612,
          -1.1835772548443797,
          -1.1252365576347547,
          -0.31910636809035,
          -0.7706391044036293,
          1.5932069582471045,
          -1.4300111814134815,
          0.09777836056991747,
          0.21906285684508117,
          -0.025607437932308883,
          -1.0696693509127029,
          0.058516669742657644,
          -0.3377730316094605,
          -0.7808950376846182,
          0.5148406510673026,
          -0.6532931427041353
         ],
         "xaxis": "x2",
         "y": [
          -1.8453562462643196,
          -0.20040405303757655,
          -1.1637956456188199,
          0.6205025203423028,
          -0.8390568855527745,
          -1.2174976462691052,
          -0.5640138103328367,
          0.013620573399448279,
          0.40059182767551943,
          -0.5997626758413155,
          0.07726576350156705,
          0.928610877203632,
          0.426972018264773,
          -0.9990060932331011,
          1.078661270762736,
          -0.4513974079092731,
          -1.2643201140490237,
          2.5256077680999685,
          0.41086499908738955,
          -0.04475172187968378,
          0.8233287809051226,
          -0.7271645524645527,
          0.14030657831421076,
          -1.0988235896220555,
          0.7489175266400919,
          0.46582312686492033,
          -0.05288123591202588,
          -1.3670291716449292,
          0.7309050939934914,
          -0.6098667055895841,
          0.5041275128978567,
          2.040048937172921,
          -2.185274683047773,
          1.0196751415031662,
          0.9945470359624125,
          -1.025592479915559,
          -1.267140473022391,
          -0.8689838118146973,
          -0.2236579399824439,
          -1.3097944848343677,
          -0.8414647840651517,
          0.6071895041961782,
          -0.288065793118509,
          -0.0855433340132728,
          1.2362626011306976,
          -0.34103353649966367,
          1.2706087277806368,
          1.5483104445093612,
          0.18539608217150366,
          -0.7546004022350437,
          -0.8326852647100786,
          -1.1021601391805258,
          -1.1929778907431932,
          1.9549439684527512,
          -1.210342094834586,
          0.4060144585650524,
          1.691010701899478,
          -0.8750443198147615,
          1.160394755522703,
          2.275642804498575,
          -0.052481187252204894,
          0.764446349668718,
          0.7748214923293414,
          0.24170402743498778,
          0.28327289936704275,
          0.2467195735483266,
          0.914032725604146,
          -0.08601512694460697,
          0.9489571859474513,
          0.8142978876236726,
          0.7883298154110456,
          -0.32628991344569763,
          0.2301082679624488,
          1.6341593800247989,
          -1.6944753689322416,
          -0.758403852271044,
          0.9422713425820108,
          0.5407768447682212,
          -0.4172833249642221,
          -0.9133540169871017,
          1.2975516807100265,
          0.5348525441513422,
          -0.9491627313232666,
          -0.3285687661985525,
          0.7487839314169843,
          -0.3011044136198415,
          -0.6231469374589843,
          -0.46272480238509744,
          0.751870774961926,
          0.6842338081501783,
          0.1857636597163811,
          0.8977181310333129,
          -0.6380029150186659,
          -0.014892138107339364,
          -1.4264492976702383,
          -1.3625157787787476,
          -0.5037475787792652,
          -0.7209368299148544,
          -0.1853579105123794,
          0.8853425687953029
         ],
         "yaxis": "y2"
        },
        {
         "line": {
          "color": "rgba(128, 128, 128, 1.0)",
          "dash": "solid",
          "shape": "linear",
          "width": 1.3
         },
         "marker": {
          "size": 2,
          "symbol": "circle"
         },
         "mode": "markers",
         "name": "A",
         "text": "",
         "type": "scatter",
         "x": [
          -0.277526268880154,
          1.8806378896944345,
          0.5375396639187595,
          -0.23305474120718497,
          -1.3821896730588017,
          1.025259435993224,
          -0.09718663235788895,
          -0.8354318558470502,
          -0.9554132107877621,
          -0.9980120158071458,
          -0.7288446678912462,
          -0.09800589833805058,
          0.4142448507363215,
          0.8930469136911544,
          -1.3154328314067614,
          -1.0787057467905357,
          -1.4023916791873683,
          -0.5119184069337409,
          -1.1088443091663442,
          -2.0937764404176358,
          0.11965814021413287,
          0.014535947236977095,
          -0.9143356475413426,
          0.19868604209706775,
          0.3579958528661736,
          0.21904242410495528,
          0.31162477836671676,
          -0.8998869556253257,
          1.6066631635219826,
          1.3656132922140805,
          -1.6598489854498533,
          -0.5527174648713857,
          0.6951101679076586,
          0.7516151949165328,
          0.7786933724609784,
          0.4766867477108337,
          -0.17144337973890908,
          0.23451231613527032,
          0.8988743742269301,
          0.2911750095516407,
          0.29810426701672227,
          -0.6594490981096367,
          -0.9656491217788379,
          -0.8500173835479492,
          -0.75432673338305,
          0.0844725891951118,
          -0.14184019787176547,
          0.2660853672997226,
          -0.7610129991979636,
          -0.04117765919514578,
          -0.9985293461976696,
          0.06749302036218557,
          1.2554585501336368,
          1.1185878363246051,
          0.5860708559698183,
          -1.9131282637858404,
          1.2062112575773272,
          0.5387575022359602,
          -1.1381452377237462,
          0.1809719774956799,
          -2.5715021298407965,
          0.059962622748691505,
          0.07732076913620874,
          -0.8651373884301342,
          0.29346528328831206,
          1.5738460269574914,
          0.5710476800970452,
          -0.2281222832467052,
          0.4329254522143724,
          -0.8058356408865905,
          -1.8283622176542802,
          0.012648032752178408,
          1.087145802022887,
          1.2401656494506434,
          1.3606613435368604,
          1.9777769083614607,
          1.1204220324793175,
          2.15724221605289,
          0.12412886668282784,
          -0.912610229607422,
          -0.11798779858281276,
          0.3544154955218318,
          1.1336664687547644,
          -0.34016632606422975,
          0.5417409572516666,
          -1.2090432994150027,
          -0.42541552008403116,
          2.1722996121439175,
          -0.21381167123162242,
          -1.8180496867074007,
          1.6885450083464077,
          -0.5574374806984402,
          0.760069366299482,
          -0.18149211511086832,
          1.1721397473163495,
          0.12434777818730382,
          0.6675931694222231,
          0.922444871131447,
          -0.1631368335189949,
          0.3537426852288049
         ],
         "xaxis": "x3",
         "y": [
          -1.8453562462643196,
          -0.20040405303757655,
          -1.1637956456188199,
          0.6205025203423028,
          -0.8390568855527745,
          -1.2174976462691052,
          -0.5640138103328367,
          0.013620573399448279,
          0.40059182767551943,
          -0.5997626758413155,
          0.07726576350156705,
          0.928610877203632,
          0.426972018264773,
          -0.9990060932331011,
          1.078661270762736,
          -0.4513974079092731,
          -1.2643201140490237,
          2.5256077680999685,
          0.41086499908738955,
          -0.04475172187968378,
          0.8233287809051226,
          -0.7271645524645527,
          0.14030657831421076,
          -1.0988235896220555,
          0.7489175266400919,
          0.46582312686492033,
          -0.05288123591202588,
          -1.3670291716449292,
          0.7309050939934914,
          -0.6098667055895841,
          0.5041275128978567,
          2.040048937172921,
          -2.185274683047773,
          1.0196751415031662,
          0.9945470359624125,
          -1.025592479915559,
          -1.267140473022391,
          -0.8689838118146973,
          -0.2236579399824439,
          -1.3097944848343677,
          -0.8414647840651517,
          0.6071895041961782,
          -0.288065793118509,
          -0.0855433340132728,
          1.2362626011306976,
          -0.34103353649966367,
          1.2706087277806368,
          1.5483104445093612,
          0.18539608217150366,
          -0.7546004022350437,
          -0.8326852647100786,
          -1.1021601391805258,
          -1.1929778907431932,
          1.9549439684527512,
          -1.210342094834586,
          0.4060144585650524,
          1.691010701899478,
          -0.8750443198147615,
          1.160394755522703,
          2.275642804498575,
          -0.052481187252204894,
          0.764446349668718,
          0.7748214923293414,
          0.24170402743498778,
          0.28327289936704275,
          0.2467195735483266,
          0.914032725604146,
          -0.08601512694460697,
          0.9489571859474513,
          0.8142978876236726,
          0.7883298154110456,
          -0.32628991344569763,
          0.2301082679624488,
          1.6341593800247989,
          -1.6944753689322416,
          -0.758403852271044,
          0.9422713425820108,
          0.5407768447682212,
          -0.4172833249642221,
          -0.9133540169871017,
          1.2975516807100265,
          0.5348525441513422,
          -0.9491627313232666,
          -0.3285687661985525,
          0.7487839314169843,
          -0.3011044136198415,
          -0.6231469374589843,
          -0.46272480238509744,
          0.751870774961926,
          0.6842338081501783,
          0.1857636597163811,
          0.8977181310333129,
          -0.6380029150186659,
          -0.014892138107339364,
          -1.4264492976702383,
          -1.3625157787787476,
          -0.5037475787792652,
          -0.7209368299148544,
          -0.1853579105123794,
          0.8853425687953029
         ],
         "yaxis": "y3"
        },
        {
         "line": {
          "color": "rgba(128, 128, 128, 1.0)",
          "dash": "solid",
          "shape": "linear",
          "width": 1.3
         },
         "marker": {
          "size": 2,
          "symbol": "circle"
         },
         "mode": "markers",
         "name": "A",
         "text": "",
         "type": "scatter",
         "x": [
          -0.20288954987522298,
          0.47562781170015117,
          1.0954645050360055,
          0.05142270605075998,
          0.7773838232433251,
          0.007190802121658992,
          0.9330330366472316,
          0.25278957453202155,
          0.7912842769059294,
          -1.5080542550000453,
          -0.8544406084751497,
          -1.134729595263459,
          0.05825979368071219,
          0.2146463696921684,
          0.04662013326171583,
          0.5540938951604478,
          0.05337064123212655,
          0.4015398892594597,
          -0.537877282571492,
          -0.01356767963942102,
          1.12291981823085,
          -0.16991722703743997,
          -2.1649621368124365,
          0.646625372085061,
          -0.9436215511212397,
          -0.017092998021010358,
          -1.6929617303353777,
          -0.7472908580009684,
          -0.07448294099397612,
          -0.8229027954852032,
          1.8220565241827829,
          -0.4711541363054006,
          -0.3875045445647151,
          -0.6569686142157253,
          0.7332218380745128,
          -0.5570759097518201,
          1.0723471241184808,
          0.33430570074168875,
          -0.9243664465918211,
          0.1505965722469187,
          -1.056428401340786,
          -1.305043252718549,
          0.11578289000731946,
          0.4437189810986824,
          0.22954717368797098,
          0.029304543103711386,
          -0.39513029151026724,
          -0.8235530546317273,
          -1.9523295724970102,
          -1.177665128287269,
          -1.0095064617371476,
          0.7790840607890945,
          0.05894009941627537,
          -0.5433540023291886,
          1.085779479815206,
          0.7826441852428289,
          1.2150677355363977,
          -0.9204910295828099,
          -1.362688844712512,
          0.2770998736837296,
          -0.3225260542372228,
          -1.0748471038034475,
          -0.40758303493437886,
          0.8829258375427694,
          0.06564100695825047,
          -1.0880140266922238,
          0.05593835976329027,
          -1.1429599994130628,
          -1.7083542168907964,
          -0.48180739894069535,
          0.39476090460733554,
          -0.48966789895414564,
          0.7684063158809339,
          -0.5997280018599644,
          -0.29185382061886356,
          1.1365401579715937,
          0.6055377918111082,
          -0.3986381493243074,
          -0.9435626869936969,
          -0.7538986282295188,
          0.009796039565694662,
          -0.574232744454487,
          -0.04360582490458948,
          0.5821706968080934,
          0.3154086450269751,
          -1.2217113360268572,
          0.4656273186652484,
          1.2087959710178389,
          1.5239697315533887,
          -0.9937878298669706,
          0.9487735570869901,
          -0.4087578570843467,
          -0.16658630197250793,
          1.0960447241009474,
          -0.0028087670297548585,
          2.885884320062406,
          -0.45319803048317137,
          0.7145396301239757,
          -0.5574697507340491,
          1.2396881764991705
         ],
         "xaxis": "x4",
         "y": [
          -1.8453562462643196,
          -0.20040405303757655,
          -1.1637956456188199,
          0.6205025203423028,
          -0.8390568855527745,
          -1.2174976462691052,
          -0.5640138103328367,
          0.013620573399448279,
          0.40059182767551943,
          -0.5997626758413155,
          0.07726576350156705,
          0.928610877203632,
          0.426972018264773,
          -0.9990060932331011,
          1.078661270762736,
          -0.4513974079092731,
          -1.2643201140490237,
          2.5256077680999685,
          0.41086499908738955,
          -0.04475172187968378,
          0.8233287809051226,
          -0.7271645524645527,
          0.14030657831421076,
          -1.0988235896220555,
          0.7489175266400919,
          0.46582312686492033,
          -0.05288123591202588,
          -1.3670291716449292,
          0.7309050939934914,
          -0.6098667055895841,
          0.5041275128978567,
          2.040048937172921,
          -2.185274683047773,
          1.0196751415031662,
          0.9945470359624125,
          -1.025592479915559,
          -1.267140473022391,
          -0.8689838118146973,
          -0.2236579399824439,
          -1.3097944848343677,
          -0.8414647840651517,
          0.6071895041961782,
          -0.288065793118509,
          -0.0855433340132728,
          1.2362626011306976,
          -0.34103353649966367,
          1.2706087277806368,
          1.5483104445093612,
          0.18539608217150366,
          -0.7546004022350437,
          -0.8326852647100786,
          -1.1021601391805258,
          -1.1929778907431932,
          1.9549439684527512,
          -1.210342094834586,
          0.4060144585650524,
          1.691010701899478,
          -0.8750443198147615,
          1.160394755522703,
          2.275642804498575,
          -0.052481187252204894,
          0.764446349668718,
          0.7748214923293414,
          0.24170402743498778,
          0.28327289936704275,
          0.2467195735483266,
          0.914032725604146,
          -0.08601512694460697,
          0.9489571859474513,
          0.8142978876236726,
          0.7883298154110456,
          -0.32628991344569763,
          0.2301082679624488,
          1.6341593800247989,
          -1.6944753689322416,
          -0.758403852271044,
          0.9422713425820108,
          0.5407768447682212,
          -0.4172833249642221,
          -0.9133540169871017,
          1.2975516807100265,
          0.5348525441513422,
          -0.9491627313232666,
          -0.3285687661985525,
          0.7487839314169843,
          -0.3011044136198415,
          -0.6231469374589843,
          -0.46272480238509744,
          0.751870774961926,
          0.6842338081501783,
          0.1857636597163811,
          0.8977181310333129,
          -0.6380029150186659,
          -0.014892138107339364,
          -1.4264492976702383,
          -1.3625157787787476,
          -0.5037475787792652,
          -0.7209368299148544,
          -0.1853579105123794,
          0.8853425687953029
         ],
         "yaxis": "y4"
        },
        {
         "line": {
          "color": "rgba(128, 128, 128, 1.0)",
          "dash": "solid",
          "shape": "linear",
          "width": 1.3
         },
         "marker": {
          "size": 2,
          "symbol": "circle"
         },
         "mode": "markers",
         "name": "B",
         "text": "",
         "type": "scatter",
         "x": [
          -1.8453562462643196,
          -0.20040405303757655,
          -1.1637956456188199,
          0.6205025203423028,
          -0.8390568855527745,
          -1.2174976462691052,
          -0.5640138103328367,
          0.013620573399448279,
          0.40059182767551943,
          -0.5997626758413155,
          0.07726576350156705,
          0.928610877203632,
          0.426972018264773,
          -0.9990060932331011,
          1.078661270762736,
          -0.4513974079092731,
          -1.2643201140490237,
          2.5256077680999685,
          0.41086499908738955,
          -0.04475172187968378,
          0.8233287809051226,
          -0.7271645524645527,
          0.14030657831421076,
          -1.0988235896220555,
          0.7489175266400919,
          0.46582312686492033,
          -0.05288123591202588,
          -1.3670291716449292,
          0.7309050939934914,
          -0.6098667055895841,
          0.5041275128978567,
          2.040048937172921,
          -2.185274683047773,
          1.0196751415031662,
          0.9945470359624125,
          -1.025592479915559,
          -1.267140473022391,
          -0.8689838118146973,
          -0.2236579399824439,
          -1.3097944848343677,
          -0.8414647840651517,
          0.6071895041961782,
          -0.288065793118509,
          -0.0855433340132728,
          1.2362626011306976,
          -0.34103353649966367,
          1.2706087277806368,
          1.5483104445093612,
          0.18539608217150366,
          -0.7546004022350437,
          -0.8326852647100786,
          -1.1021601391805258,
          -1.1929778907431932,
          1.9549439684527512,
          -1.210342094834586,
          0.4060144585650524,
          1.691010701899478,
          -0.8750443198147615,
          1.160394755522703,
          2.275642804498575,
          -0.052481187252204894,
          0.764446349668718,
          0.7748214923293414,
          0.24170402743498778,
          0.28327289936704275,
          0.2467195735483266,
          0.914032725604146,
          -0.08601512694460697,
          0.9489571859474513,
          0.8142978876236726,
          0.7883298154110456,
          -0.32628991344569763,
          0.2301082679624488,
          1.6341593800247989,
          -1.6944753689322416,
          -0.758403852271044,
          0.9422713425820108,
          0.5407768447682212,
          -0.4172833249642221,
          -0.9133540169871017,
          1.2975516807100265,
          0.5348525441513422,
          -0.9491627313232666,
          -0.3285687661985525,
          0.7487839314169843,
          -0.3011044136198415,
          -0.6231469374589843,
          -0.46272480238509744,
          0.751870774961926,
          0.6842338081501783,
          0.1857636597163811,
          0.8977181310333129,
          -0.6380029150186659,
          -0.014892138107339364,
          -1.4264492976702383,
          -1.3625157787787476,
          -0.5037475787792652,
          -0.7209368299148544,
          -0.1853579105123794,
          0.8853425687953029
         ],
         "xaxis": "x5",
         "y": [
          -0.918051978935254,
          -2.7056575029327217,
          -0.26581756141055396,
          2.7780920157639803,
          -0.8734279386889949,
          -0.06334899773831265,
          1.4821560963767562,
          0.3720351753435628,
          2.289468082163019,
          -0.8374384578030118,
          -2.108703088038587,
          0.9788520364174591,
          1.4650258305467085,
          1.2415652263814414,
          1.0310626547555006,
          -0.3122406935164411,
          -0.14735613041299925,
          0.33275767892759495,
          -0.1161274919960927,
          0.281205976719588,
          -0.14951869895483794,
          0.41174605696281846,
          2.354209612658942,
          2.092110024373878,
          -0.844565089723117,
          -1.5305136905849483,
          -0.4080953430172473,
          -0.49831975030647513,
          0.532663605513584,
          0.16759861208915242,
          0.46247832654774845,
          0.38741399084499084,
          -1.8520213138080566,
          -0.019018730510986254,
          -1.0113286481308315,
          -1.0929063112561626,
          -0.7089062318588992,
          -0.49640898092235836,
          -0.9734721463692066,
          0.5801554907558394,
          -0.06540899964125191,
          -0.6111002896985552,
          0.45438818782559776,
          0.4785280675226295,
          1.2923482368164383,
          -0.5748394916445265,
          0.43943437190379214,
          -1.4174040567585227,
          -0.7319800748374122,
          -0.29265216113961545,
          -0.36087379702803224,
          -0.04027675520163823,
          -0.24063564992242378,
          -1.2436397165116935,
          -0.6380650947146708,
          -1.194083286516507,
          0.1779335575301587,
          -0.5384113135074421,
          0.2915091190224508,
          0.466796616138699,
          -0.43114256548016455,
          1.2786748208881396,
          1.4078719927900933,
          0.14674226717423464,
          -0.029148341361593073,
          -1.0673227647170362,
          -0.6376233349993639,
          -0.17509268696626795,
          -0.4170870697877158,
          0.4159894756560567,
          -2.208839366952025,
          1.1269460290850897,
          -0.4095692566448082,
          0.7856726897159855,
          -1.490180580048176,
          -1.617147938156026,
          0.4365288533186661,
          -2.32656190655788,
          0.15681159571219597,
          0.5391784367802614,
          -0.5002333680231703,
          0.6548667984163916,
          0.27970593897368917,
          -0.7844703375909428,
          0.9073102317074612,
          -1.1835772548443797,
          -1.1252365576347547,
          -0.31910636809035,
          -0.7706391044036293,
          1.5932069582471045,
          -1.4300111814134815,
          0.09777836056991747,
          0.21906285684508117,
          -0.025607437932308883,
          -1.0696693509127029,
          0.058516669742657644,
          -0.3377730316094605,
          -0.7808950376846182,
          0.5148406510673026,
          -0.6532931427041353
         ],
         "yaxis": "y5"
        },
        {
         "histfunc": "count",
         "histnorm": "",
         "marker": {
          "color": "rgba(55, 128, 191, 1.0)",
          "line": {
           "color": "#4D5663",
           "width": 1.3
          }
         },
         "name": "B",
         "nbinsx": 10,
         "opacity": 0.8,
         "orientation": "v",
         "type": "histogram",
         "x": [
          -0.918051978935254,
          -2.7056575029327217,
          -0.26581756141055396,
          2.7780920157639803,
          -0.8734279386889949,
          -0.06334899773831265,
          1.4821560963767562,
          0.3720351753435628,
          2.289468082163019,
          -0.8374384578030118,
          -2.108703088038587,
          0.9788520364174591,
          1.4650258305467085,
          1.2415652263814414,
          1.0310626547555006,
          -0.3122406935164411,
          -0.14735613041299925,
          0.33275767892759495,
          -0.1161274919960927,
          0.281205976719588,
          -0.14951869895483794,
          0.41174605696281846,
          2.354209612658942,
          2.092110024373878,
          -0.844565089723117,
          -1.5305136905849483,
          -0.4080953430172473,
          -0.49831975030647513,
          0.532663605513584,
          0.16759861208915242,
          0.46247832654774845,
          0.38741399084499084,
          -1.8520213138080566,
          -0.019018730510986254,
          -1.0113286481308315,
          -1.0929063112561626,
          -0.7089062318588992,
          -0.49640898092235836,
          -0.9734721463692066,
          0.5801554907558394,
          -0.06540899964125191,
          -0.6111002896985552,
          0.45438818782559776,
          0.4785280675226295,
          1.2923482368164383,
          -0.5748394916445265,
          0.43943437190379214,
          -1.4174040567585227,
          -0.7319800748374122,
          -0.29265216113961545,
          -0.36087379702803224,
          -0.04027675520163823,
          -0.24063564992242378,
          -1.2436397165116935,
          -0.6380650947146708,
          -1.194083286516507,
          0.1779335575301587,
          -0.5384113135074421,
          0.2915091190224508,
          0.466796616138699,
          -0.43114256548016455,
          1.2786748208881396,
          1.4078719927900933,
          0.14674226717423464,
          -0.029148341361593073,
          -1.0673227647170362,
          -0.6376233349993639,
          -0.17509268696626795,
          -0.4170870697877158,
          0.4159894756560567,
          -2.208839366952025,
          1.1269460290850897,
          -0.4095692566448082,
          0.7856726897159855,
          -1.490180580048176,
          -1.617147938156026,
          0.4365288533186661,
          -2.32656190655788,
          0.15681159571219597,
          0.5391784367802614,
          -0.5002333680231703,
          0.6548667984163916,
          0.27970593897368917,
          -0.7844703375909428,
          0.9073102317074612,
          -1.1835772548443797,
          -1.1252365576347547,
          -0.31910636809035,
          -0.7706391044036293,
          1.5932069582471045,
          -1.4300111814134815,
          0.09777836056991747,
          0.21906285684508117,
          -0.025607437932308883,
          -1.0696693509127029,
          0.058516669742657644,
          -0.3377730316094605,
          -0.7808950376846182,
          0.5148406510673026,
          -0.6532931427041353
         ],
         "xaxis": "x6",
         "yaxis": "y6"
        },
        {
         "line": {
          "color": "rgba(128, 128, 128, 1.0)",
          "dash": "solid",
          "shape": "linear",
          "width": 1.3
         },
         "marker": {
          "size": 2,
          "symbol": "circle"
         },
         "mode": "markers",
         "name": "B",
         "text": "",
         "type": "scatter",
         "x": [
          -0.277526268880154,
          1.8806378896944345,
          0.5375396639187595,
          -0.23305474120718497,
          -1.3821896730588017,
          1.025259435993224,
          -0.09718663235788895,
          -0.8354318558470502,
          -0.9554132107877621,
          -0.9980120158071458,
          -0.7288446678912462,
          -0.09800589833805058,
          0.4142448507363215,
          0.8930469136911544,
          -1.3154328314067614,
          -1.0787057467905357,
          -1.4023916791873683,
          -0.5119184069337409,
          -1.1088443091663442,
          -2.0937764404176358,
          0.11965814021413287,
          0.014535947236977095,
          -0.9143356475413426,
          0.19868604209706775,
          0.3579958528661736,
          0.21904242410495528,
          0.31162477836671676,
          -0.8998869556253257,
          1.6066631635219826,
          1.3656132922140805,
          -1.6598489854498533,
          -0.5527174648713857,
          0.6951101679076586,
          0.7516151949165328,
          0.7786933724609784,
          0.4766867477108337,
          -0.17144337973890908,
          0.23451231613527032,
          0.8988743742269301,
          0.2911750095516407,
          0.29810426701672227,
          -0.6594490981096367,
          -0.9656491217788379,
          -0.8500173835479492,
          -0.75432673338305,
          0.0844725891951118,
          -0.14184019787176547,
          0.2660853672997226,
          -0.7610129991979636,
          -0.04117765919514578,
          -0.9985293461976696,
          0.06749302036218557,
          1.2554585501336368,
          1.1185878363246051,
          0.5860708559698183,
          -1.9131282637858404,
          1.2062112575773272,
          0.5387575022359602,
          -1.1381452377237462,
          0.1809719774956799,
          -2.5715021298407965,
          0.059962622748691505,
          0.07732076913620874,
          -0.8651373884301342,
          0.29346528328831206,
          1.5738460269574914,
          0.5710476800970452,
          -0.2281222832467052,
          0.4329254522143724,
          -0.8058356408865905,
          -1.8283622176542802,
          0.012648032752178408,
          1.087145802022887,
          1.2401656494506434,
          1.3606613435368604,
          1.9777769083614607,
          1.1204220324793175,
          2.15724221605289,
          0.12412886668282784,
          -0.912610229607422,
          -0.11798779858281276,
          0.3544154955218318,
          1.1336664687547644,
          -0.34016632606422975,
          0.5417409572516666,
          -1.2090432994150027,
          -0.42541552008403116,
          2.1722996121439175,
          -0.21381167123162242,
          -1.8180496867074007,
          1.6885450083464077,
          -0.5574374806984402,
          0.760069366299482,
          -0.18149211511086832,
          1.1721397473163495,
          0.12434777818730382,
          0.6675931694222231,
          0.922444871131447,
          -0.1631368335189949,
          0.3537426852288049
         ],
         "xaxis": "x7",
         "y": [
          -0.918051978935254,
          -2.7056575029327217,
          -0.26581756141055396,
          2.7780920157639803,
          -0.8734279386889949,
          -0.06334899773831265,
          1.4821560963767562,
          0.3720351753435628,
          2.289468082163019,
          -0.8374384578030118,
          -2.108703088038587,
          0.9788520364174591,
          1.4650258305467085,
          1.2415652263814414,
          1.0310626547555006,
          -0.3122406935164411,
          -0.14735613041299925,
          0.33275767892759495,
          -0.1161274919960927,
          0.281205976719588,
          -0.14951869895483794,
          0.41174605696281846,
          2.354209612658942,
          2.092110024373878,
          -0.844565089723117,
          -1.5305136905849483,
          -0.4080953430172473,
          -0.49831975030647513,
          0.532663605513584,
          0.16759861208915242,
          0.46247832654774845,
          0.38741399084499084,
          -1.8520213138080566,
          -0.019018730510986254,
          -1.0113286481308315,
          -1.0929063112561626,
          -0.7089062318588992,
          -0.49640898092235836,
          -0.9734721463692066,
          0.5801554907558394,
          -0.06540899964125191,
          -0.6111002896985552,
          0.45438818782559776,
          0.4785280675226295,
          1.2923482368164383,
          -0.5748394916445265,
          0.43943437190379214,
          -1.4174040567585227,
          -0.7319800748374122,
          -0.29265216113961545,
          -0.36087379702803224,
          -0.04027675520163823,
          -0.24063564992242378,
          -1.2436397165116935,
          -0.6380650947146708,
          -1.194083286516507,
          0.1779335575301587,
          -0.5384113135074421,
          0.2915091190224508,
          0.466796616138699,
          -0.43114256548016455,
          1.2786748208881396,
          1.4078719927900933,
          0.14674226717423464,
          -0.029148341361593073,
          -1.0673227647170362,
          -0.6376233349993639,
          -0.17509268696626795,
          -0.4170870697877158,
          0.4159894756560567,
          -2.208839366952025,
          1.1269460290850897,
          -0.4095692566448082,
          0.7856726897159855,
          -1.490180580048176,
          -1.617147938156026,
          0.4365288533186661,
          -2.32656190655788,
          0.15681159571219597,
          0.5391784367802614,
          -0.5002333680231703,
          0.6548667984163916,
          0.27970593897368917,
          -0.7844703375909428,
          0.9073102317074612,
          -1.1835772548443797,
          -1.1252365576347547,
          -0.31910636809035,
          -0.7706391044036293,
          1.5932069582471045,
          -1.4300111814134815,
          0.09777836056991747,
          0.21906285684508117,
          -0.025607437932308883,
          -1.0696693509127029,
          0.058516669742657644,
          -0.3377730316094605,
          -0.7808950376846182,
          0.5148406510673026,
          -0.6532931427041353
         ],
         "yaxis": "y7"
        },
        {
         "line": {
          "color": "rgba(128, 128, 128, 1.0)",
          "dash": "solid",
          "shape": "linear",
          "width": 1.3
         },
         "marker": {
          "size": 2,
          "symbol": "circle"
         },
         "mode": "markers",
         "name": "B",
         "text": "",
         "type": "scatter",
         "x": [
          -0.20288954987522298,
          0.47562781170015117,
          1.0954645050360055,
          0.05142270605075998,
          0.7773838232433251,
          0.007190802121658992,
          0.9330330366472316,
          0.25278957453202155,
          0.7912842769059294,
          -1.5080542550000453,
          -0.8544406084751497,
          -1.134729595263459,
          0.05825979368071219,
          0.2146463696921684,
          0.04662013326171583,
          0.5540938951604478,
          0.05337064123212655,
          0.4015398892594597,
          -0.537877282571492,
          -0.01356767963942102,
          1.12291981823085,
          -0.16991722703743997,
          -2.1649621368124365,
          0.646625372085061,
          -0.9436215511212397,
          -0.017092998021010358,
          -1.6929617303353777,
          -0.7472908580009684,
          -0.07448294099397612,
          -0.8229027954852032,
          1.8220565241827829,
          -0.4711541363054006,
          -0.3875045445647151,
          -0.6569686142157253,
          0.7332218380745128,
          -0.5570759097518201,
          1.0723471241184808,
          0.33430570074168875,
          -0.9243664465918211,
          0.1505965722469187,
          -1.056428401340786,
          -1.305043252718549,
          0.11578289000731946,
          0.4437189810986824,
          0.22954717368797098,
          0.029304543103711386,
          -0.39513029151026724,
          -0.8235530546317273,
          -1.9523295724970102,
          -1.177665128287269,
          -1.0095064617371476,
          0.7790840607890945,
          0.05894009941627537,
          -0.5433540023291886,
          1.085779479815206,
          0.7826441852428289,
          1.2150677355363977,
          -0.9204910295828099,
          -1.362688844712512,
          0.2770998736837296,
          -0.3225260542372228,
          -1.0748471038034475,
          -0.40758303493437886,
          0.8829258375427694,
          0.06564100695825047,
          -1.0880140266922238,
          0.05593835976329027,
          -1.1429599994130628,
          -1.7083542168907964,
          -0.48180739894069535,
          0.39476090460733554,
          -0.48966789895414564,
          0.7684063158809339,
          -0.5997280018599644,
          -0.29185382061886356,
          1.1365401579715937,
          0.6055377918111082,
          -0.3986381493243074,
          -0.9435626869936969,
          -0.7538986282295188,
          0.009796039565694662,
          -0.574232744454487,
          -0.04360582490458948,
          0.5821706968080934,
          0.3154086450269751,
          -1.2217113360268572,
          0.4656273186652484,
          1.2087959710178389,
          1.5239697315533887,
          -0.9937878298669706,
          0.9487735570869901,
          -0.4087578570843467,
          -0.16658630197250793,
          1.0960447241009474,
          -0.0028087670297548585,
          2.885884320062406,
          -0.45319803048317137,
          0.7145396301239757,
          -0.5574697507340491,
          1.2396881764991705
         ],
         "xaxis": "x8",
         "y": [
          -0.918051978935254,
          -2.7056575029327217,
          -0.26581756141055396,
          2.7780920157639803,
          -0.8734279386889949,
          -0.06334899773831265,
          1.4821560963767562,
          0.3720351753435628,
          2.289468082163019,
          -0.8374384578030118,
          -2.108703088038587,
          0.9788520364174591,
          1.4650258305467085,
          1.2415652263814414,
          1.0310626547555006,
          -0.3122406935164411,
          -0.14735613041299925,
          0.33275767892759495,
          -0.1161274919960927,
          0.281205976719588,
          -0.14951869895483794,
          0.41174605696281846,
          2.354209612658942,
          2.092110024373878,
          -0.844565089723117,
          -1.5305136905849483,
          -0.4080953430172473,
          -0.49831975030647513,
          0.532663605513584,
          0.16759861208915242,
          0.46247832654774845,
          0.38741399084499084,
          -1.8520213138080566,
          -0.019018730510986254,
          -1.0113286481308315,
          -1.0929063112561626,
          -0.7089062318588992,
          -0.49640898092235836,
          -0.9734721463692066,
          0.5801554907558394,
          -0.06540899964125191,
          -0.6111002896985552,
          0.45438818782559776,
          0.4785280675226295,
          1.2923482368164383,
          -0.5748394916445265,
          0.43943437190379214,
          -1.4174040567585227,
          -0.7319800748374122,
          -0.29265216113961545,
          -0.36087379702803224,
          -0.04027675520163823,
          -0.24063564992242378,
          -1.2436397165116935,
          -0.6380650947146708,
          -1.194083286516507,
          0.1779335575301587,
          -0.5384113135074421,
          0.2915091190224508,
          0.466796616138699,
          -0.43114256548016455,
          1.2786748208881396,
          1.4078719927900933,
          0.14674226717423464,
          -0.029148341361593073,
          -1.0673227647170362,
          -0.6376233349993639,
          -0.17509268696626795,
          -0.4170870697877158,
          0.4159894756560567,
          -2.208839366952025,
          1.1269460290850897,
          -0.4095692566448082,
          0.7856726897159855,
          -1.490180580048176,
          -1.617147938156026,
          0.4365288533186661,
          -2.32656190655788,
          0.15681159571219597,
          0.5391784367802614,
          -0.5002333680231703,
          0.6548667984163916,
          0.27970593897368917,
          -0.7844703375909428,
          0.9073102317074612,
          -1.1835772548443797,
          -1.1252365576347547,
          -0.31910636809035,
          -0.7706391044036293,
          1.5932069582471045,
          -1.4300111814134815,
          0.09777836056991747,
          0.21906285684508117,
          -0.025607437932308883,
          -1.0696693509127029,
          0.058516669742657644,
          -0.3377730316094605,
          -0.7808950376846182,
          0.5148406510673026,
          -0.6532931427041353
         ],
         "yaxis": "y8"
        },
        {
         "line": {
          "color": "rgba(128, 128, 128, 1.0)",
          "dash": "solid",
          "shape": "linear",
          "width": 1.3
         },
         "marker": {
          "size": 2,
          "symbol": "circle"
         },
         "mode": "markers",
         "name": "C",
         "text": "",
         "type": "scatter",
         "x": [
          -1.8453562462643196,
          -0.20040405303757655,
          -1.1637956456188199,
          0.6205025203423028,
          -0.8390568855527745,
          -1.2174976462691052,
          -0.5640138103328367,
          0.013620573399448279,
          0.40059182767551943,
          -0.5997626758413155,
          0.07726576350156705,
          0.928610877203632,
          0.426972018264773,
          -0.9990060932331011,
          1.078661270762736,
          -0.4513974079092731,
          -1.2643201140490237,
          2.5256077680999685,
          0.41086499908738955,
          -0.04475172187968378,
          0.8233287809051226,
          -0.7271645524645527,
          0.14030657831421076,
          -1.0988235896220555,
          0.7489175266400919,
          0.46582312686492033,
          -0.05288123591202588,
          -1.3670291716449292,
          0.7309050939934914,
          -0.6098667055895841,
          0.5041275128978567,
          2.040048937172921,
          -2.185274683047773,
          1.0196751415031662,
          0.9945470359624125,
          -1.025592479915559,
          -1.267140473022391,
          -0.8689838118146973,
          -0.2236579399824439,
          -1.3097944848343677,
          -0.8414647840651517,
          0.6071895041961782,
          -0.288065793118509,
          -0.0855433340132728,
          1.2362626011306976,
          -0.34103353649966367,
          1.2706087277806368,
          1.5483104445093612,
          0.18539608217150366,
          -0.7546004022350437,
          -0.8326852647100786,
          -1.1021601391805258,
          -1.1929778907431932,
          1.9549439684527512,
          -1.210342094834586,
          0.4060144585650524,
          1.691010701899478,
          -0.8750443198147615,
          1.160394755522703,
          2.275642804498575,
          -0.052481187252204894,
          0.764446349668718,
          0.7748214923293414,
          0.24170402743498778,
          0.28327289936704275,
          0.2467195735483266,
          0.914032725604146,
          -0.08601512694460697,
          0.9489571859474513,
          0.8142978876236726,
          0.7883298154110456,
          -0.32628991344569763,
          0.2301082679624488,
          1.6341593800247989,
          -1.6944753689322416,
          -0.758403852271044,
          0.9422713425820108,
          0.5407768447682212,
          -0.4172833249642221,
          -0.9133540169871017,
          1.2975516807100265,
          0.5348525441513422,
          -0.9491627313232666,
          -0.3285687661985525,
          0.7487839314169843,
          -0.3011044136198415,
          -0.6231469374589843,
          -0.46272480238509744,
          0.751870774961926,
          0.6842338081501783,
          0.1857636597163811,
          0.8977181310333129,
          -0.6380029150186659,
          -0.014892138107339364,
          -1.4264492976702383,
          -1.3625157787787476,
          -0.5037475787792652,
          -0.7209368299148544,
          -0.1853579105123794,
          0.8853425687953029
         ],
         "xaxis": "x9",
         "y": [
          -0.277526268880154,
          1.8806378896944345,
          0.5375396639187595,
          -0.23305474120718497,
          -1.3821896730588017,
          1.025259435993224,
          -0.09718663235788895,
          -0.8354318558470502,
          -0.9554132107877621,
          -0.9980120158071458,
          -0.7288446678912462,
          -0.09800589833805058,
          0.4142448507363215,
          0.8930469136911544,
          -1.3154328314067614,
          -1.0787057467905357,
          -1.4023916791873683,
          -0.5119184069337409,
          -1.1088443091663442,
          -2.0937764404176358,
          0.11965814021413287,
          0.014535947236977095,
          -0.9143356475413426,
          0.19868604209706775,
          0.3579958528661736,
          0.21904242410495528,
          0.31162477836671676,
          -0.8998869556253257,
          1.6066631635219826,
          1.3656132922140805,
          -1.6598489854498533,
          -0.5527174648713857,
          0.6951101679076586,
          0.7516151949165328,
          0.7786933724609784,
          0.4766867477108337,
          -0.17144337973890908,
          0.23451231613527032,
          0.8988743742269301,
          0.2911750095516407,
          0.29810426701672227,
          -0.6594490981096367,
          -0.9656491217788379,
          -0.8500173835479492,
          -0.75432673338305,
          0.0844725891951118,
          -0.14184019787176547,
          0.2660853672997226,
          -0.7610129991979636,
          -0.04117765919514578,
          -0.9985293461976696,
          0.06749302036218557,
          1.2554585501336368,
          1.1185878363246051,
          0.5860708559698183,
          -1.9131282637858404,
          1.2062112575773272,
          0.5387575022359602,
          -1.1381452377237462,
          0.1809719774956799,
          -2.5715021298407965,
          0.059962622748691505,
          0.07732076913620874,
          -0.8651373884301342,
          0.29346528328831206,
          1.5738460269574914,
          0.5710476800970452,
          -0.2281222832467052,
          0.4329254522143724,
          -0.8058356408865905,
          -1.8283622176542802,
          0.012648032752178408,
          1.087145802022887,
          1.2401656494506434,
          1.3606613435368604,
          1.9777769083614607,
          1.1204220324793175,
          2.15724221605289,
          0.12412886668282784,
          -0.912610229607422,
          -0.11798779858281276,
          0.3544154955218318,
          1.1336664687547644,
          -0.34016632606422975,
          0.5417409572516666,
          -1.2090432994150027,
          -0.42541552008403116,
          2.1722996121439175,
          -0.21381167123162242,
          -1.8180496867074007,
          1.6885450083464077,
          -0.5574374806984402,
          0.760069366299482,
          -0.18149211511086832,
          1.1721397473163495,
          0.12434777818730382,
          0.6675931694222231,
          0.922444871131447,
          -0.1631368335189949,
          0.3537426852288049
         ],
         "yaxis": "y9"
        },
        {
         "line": {
          "color": "rgba(128, 128, 128, 1.0)",
          "dash": "solid",
          "shape": "linear",
          "width": 1.3
         },
         "marker": {
          "size": 2,
          "symbol": "circle"
         },
         "mode": "markers",
         "name": "C",
         "text": "",
         "type": "scatter",
         "x": [
          -0.918051978935254,
          -2.7056575029327217,
          -0.26581756141055396,
          2.7780920157639803,
          -0.8734279386889949,
          -0.06334899773831265,
          1.4821560963767562,
          0.3720351753435628,
          2.289468082163019,
          -0.8374384578030118,
          -2.108703088038587,
          0.9788520364174591,
          1.4650258305467085,
          1.2415652263814414,
          1.0310626547555006,
          -0.3122406935164411,
          -0.14735613041299925,
          0.33275767892759495,
          -0.1161274919960927,
          0.281205976719588,
          -0.14951869895483794,
          0.41174605696281846,
          2.354209612658942,
          2.092110024373878,
          -0.844565089723117,
          -1.5305136905849483,
          -0.4080953430172473,
          -0.49831975030647513,
          0.532663605513584,
          0.16759861208915242,
          0.46247832654774845,
          0.38741399084499084,
          -1.8520213138080566,
          -0.019018730510986254,
          -1.0113286481308315,
          -1.0929063112561626,
          -0.7089062318588992,
          -0.49640898092235836,
          -0.9734721463692066,
          0.5801554907558394,
          -0.06540899964125191,
          -0.6111002896985552,
          0.45438818782559776,
          0.4785280675226295,
          1.2923482368164383,
          -0.5748394916445265,
          0.43943437190379214,
          -1.4174040567585227,
          -0.7319800748374122,
          -0.29265216113961545,
          -0.36087379702803224,
          -0.04027675520163823,
          -0.24063564992242378,
          -1.2436397165116935,
          -0.6380650947146708,
          -1.194083286516507,
          0.1779335575301587,
          -0.5384113135074421,
          0.2915091190224508,
          0.466796616138699,
          -0.43114256548016455,
          1.2786748208881396,
          1.4078719927900933,
          0.14674226717423464,
          -0.029148341361593073,
          -1.0673227647170362,
          -0.6376233349993639,
          -0.17509268696626795,
          -0.4170870697877158,
          0.4159894756560567,
          -2.208839366952025,
          1.1269460290850897,
          -0.4095692566448082,
          0.7856726897159855,
          -1.490180580048176,
          -1.617147938156026,
          0.4365288533186661,
          -2.32656190655788,
          0.15681159571219597,
          0.5391784367802614,
          -0.5002333680231703,
          0.6548667984163916,
          0.27970593897368917,
          -0.7844703375909428,
          0.9073102317074612,
          -1.1835772548443797,
          -1.1252365576347547,
          -0.31910636809035,
          -0.7706391044036293,
          1.5932069582471045,
          -1.4300111814134815,
          0.09777836056991747,
          0.21906285684508117,
          -0.025607437932308883,
          -1.0696693509127029,
          0.058516669742657644,
          -0.3377730316094605,
          -0.7808950376846182,
          0.5148406510673026,
          -0.6532931427041353
         ],
         "xaxis": "x10",
         "y": [
          -0.277526268880154,
          1.8806378896944345,
          0.5375396639187595,
          -0.23305474120718497,
          -1.3821896730588017,
          1.025259435993224,
          -0.09718663235788895,
          -0.8354318558470502,
          -0.9554132107877621,
          -0.9980120158071458,
          -0.7288446678912462,
          -0.09800589833805058,
          0.4142448507363215,
          0.8930469136911544,
          -1.3154328314067614,
          -1.0787057467905357,
          -1.4023916791873683,
          -0.5119184069337409,
          -1.1088443091663442,
          -2.0937764404176358,
          0.11965814021413287,
          0.014535947236977095,
          -0.9143356475413426,
          0.19868604209706775,
          0.3579958528661736,
          0.21904242410495528,
          0.31162477836671676,
          -0.8998869556253257,
          1.6066631635219826,
          1.3656132922140805,
          -1.6598489854498533,
          -0.5527174648713857,
          0.6951101679076586,
          0.7516151949165328,
          0.7786933724609784,
          0.4766867477108337,
          -0.17144337973890908,
          0.23451231613527032,
          0.8988743742269301,
          0.2911750095516407,
          0.29810426701672227,
          -0.6594490981096367,
          -0.9656491217788379,
          -0.8500173835479492,
          -0.75432673338305,
          0.0844725891951118,
          -0.14184019787176547,
          0.2660853672997226,
          -0.7610129991979636,
          -0.04117765919514578,
          -0.9985293461976696,
          0.06749302036218557,
          1.2554585501336368,
          1.1185878363246051,
          0.5860708559698183,
          -1.9131282637858404,
          1.2062112575773272,
          0.5387575022359602,
          -1.1381452377237462,
          0.1809719774956799,
          -2.5715021298407965,
          0.059962622748691505,
          0.07732076913620874,
          -0.8651373884301342,
          0.29346528328831206,
          1.5738460269574914,
          0.5710476800970452,
          -0.2281222832467052,
          0.4329254522143724,
          -0.8058356408865905,
          -1.8283622176542802,
          0.012648032752178408,
          1.087145802022887,
          1.2401656494506434,
          1.3606613435368604,
          1.9777769083614607,
          1.1204220324793175,
          2.15724221605289,
          0.12412886668282784,
          -0.912610229607422,
          -0.11798779858281276,
          0.3544154955218318,
          1.1336664687547644,
          -0.34016632606422975,
          0.5417409572516666,
          -1.2090432994150027,
          -0.42541552008403116,
          2.1722996121439175,
          -0.21381167123162242,
          -1.8180496867074007,
          1.6885450083464077,
          -0.5574374806984402,
          0.760069366299482,
          -0.18149211511086832,
          1.1721397473163495,
          0.12434777818730382,
          0.6675931694222231,
          0.922444871131447,
          -0.1631368335189949,
          0.3537426852288049
         ],
         "yaxis": "y10"
        },
        {
         "histfunc": "count",
         "histnorm": "",
         "marker": {
          "color": "rgba(50, 171, 96, 1.0)",
          "line": {
           "color": "#4D5663",
           "width": 1.3
          }
         },
         "name": "C",
         "nbinsx": 10,
         "opacity": 0.8,
         "orientation": "v",
         "type": "histogram",
         "x": [
          -0.277526268880154,
          1.8806378896944345,
          0.5375396639187595,
          -0.23305474120718497,
          -1.3821896730588017,
          1.025259435993224,
          -0.09718663235788895,
          -0.8354318558470502,
          -0.9554132107877621,
          -0.9980120158071458,
          -0.7288446678912462,
          -0.09800589833805058,
          0.4142448507363215,
          0.8930469136911544,
          -1.3154328314067614,
          -1.0787057467905357,
          -1.4023916791873683,
          -0.5119184069337409,
          -1.1088443091663442,
          -2.0937764404176358,
          0.11965814021413287,
          0.014535947236977095,
          -0.9143356475413426,
          0.19868604209706775,
          0.3579958528661736,
          0.21904242410495528,
          0.31162477836671676,
          -0.8998869556253257,
          1.6066631635219826,
          1.3656132922140805,
          -1.6598489854498533,
          -0.5527174648713857,
          0.6951101679076586,
          0.7516151949165328,
          0.7786933724609784,
          0.4766867477108337,
          -0.17144337973890908,
          0.23451231613527032,
          0.8988743742269301,
          0.2911750095516407,
          0.29810426701672227,
          -0.6594490981096367,
          -0.9656491217788379,
          -0.8500173835479492,
          -0.75432673338305,
          0.0844725891951118,
          -0.14184019787176547,
          0.2660853672997226,
          -0.7610129991979636,
          -0.04117765919514578,
          -0.9985293461976696,
          0.06749302036218557,
          1.2554585501336368,
          1.1185878363246051,
          0.5860708559698183,
          -1.9131282637858404,
          1.2062112575773272,
          0.5387575022359602,
          -1.1381452377237462,
          0.1809719774956799,
          -2.5715021298407965,
          0.059962622748691505,
          0.07732076913620874,
          -0.8651373884301342,
          0.29346528328831206,
          1.5738460269574914,
          0.5710476800970452,
          -0.2281222832467052,
          0.4329254522143724,
          -0.8058356408865905,
          -1.8283622176542802,
          0.012648032752178408,
          1.087145802022887,
          1.2401656494506434,
          1.3606613435368604,
          1.9777769083614607,
          1.1204220324793175,
          2.15724221605289,
          0.12412886668282784,
          -0.912610229607422,
          -0.11798779858281276,
          0.3544154955218318,
          1.1336664687547644,
          -0.34016632606422975,
          0.5417409572516666,
          -1.2090432994150027,
          -0.42541552008403116,
          2.1722996121439175,
          -0.21381167123162242,
          -1.8180496867074007,
          1.6885450083464077,
          -0.5574374806984402,
          0.760069366299482,
          -0.18149211511086832,
          1.1721397473163495,
          0.12434777818730382,
          0.6675931694222231,
          0.922444871131447,
          -0.1631368335189949,
          0.3537426852288049
         ],
         "xaxis": "x11",
         "yaxis": "y11"
        },
        {
         "line": {
          "color": "rgba(128, 128, 128, 1.0)",
          "dash": "solid",
          "shape": "linear",
          "width": 1.3
         },
         "marker": {
          "size": 2,
          "symbol": "circle"
         },
         "mode": "markers",
         "name": "C",
         "text": "",
         "type": "scatter",
         "x": [
          -0.20288954987522298,
          0.47562781170015117,
          1.0954645050360055,
          0.05142270605075998,
          0.7773838232433251,
          0.007190802121658992,
          0.9330330366472316,
          0.25278957453202155,
          0.7912842769059294,
          -1.5080542550000453,
          -0.8544406084751497,
          -1.134729595263459,
          0.05825979368071219,
          0.2146463696921684,
          0.04662013326171583,
          0.5540938951604478,
          0.05337064123212655,
          0.4015398892594597,
          -0.537877282571492,
          -0.01356767963942102,
          1.12291981823085,
          -0.16991722703743997,
          -2.1649621368124365,
          0.646625372085061,
          -0.9436215511212397,
          -0.017092998021010358,
          -1.6929617303353777,
          -0.7472908580009684,
          -0.07448294099397612,
          -0.8229027954852032,
          1.8220565241827829,
          -0.4711541363054006,
          -0.3875045445647151,
          -0.6569686142157253,
          0.7332218380745128,
          -0.5570759097518201,
          1.0723471241184808,
          0.33430570074168875,
          -0.9243664465918211,
          0.1505965722469187,
          -1.056428401340786,
          -1.305043252718549,
          0.11578289000731946,
          0.4437189810986824,
          0.22954717368797098,
          0.029304543103711386,
          -0.39513029151026724,
          -0.8235530546317273,
          -1.9523295724970102,
          -1.177665128287269,
          -1.0095064617371476,
          0.7790840607890945,
          0.05894009941627537,
          -0.5433540023291886,
          1.085779479815206,
          0.7826441852428289,
          1.2150677355363977,
          -0.9204910295828099,
          -1.362688844712512,
          0.2770998736837296,
          -0.3225260542372228,
          -1.0748471038034475,
          -0.40758303493437886,
          0.8829258375427694,
          0.06564100695825047,
          -1.0880140266922238,
          0.05593835976329027,
          -1.1429599994130628,
          -1.7083542168907964,
          -0.48180739894069535,
          0.39476090460733554,
          -0.48966789895414564,
          0.7684063158809339,
          -0.5997280018599644,
          -0.29185382061886356,
          1.1365401579715937,
          0.6055377918111082,
          -0.3986381493243074,
          -0.9435626869936969,
          -0.7538986282295188,
          0.009796039565694662,
          -0.574232744454487,
          -0.04360582490458948,
          0.5821706968080934,
          0.3154086450269751,
          -1.2217113360268572,
          0.4656273186652484,
          1.2087959710178389,
          1.5239697315533887,
          -0.9937878298669706,
          0.9487735570869901,
          -0.4087578570843467,
          -0.16658630197250793,
          1.0960447241009474,
          -0.0028087670297548585,
          2.885884320062406,
          -0.45319803048317137,
          0.7145396301239757,
          -0.5574697507340491,
          1.2396881764991705
         ],
         "xaxis": "x12",
         "y": [
          -0.277526268880154,
          1.8806378896944345,
          0.5375396639187595,
          -0.23305474120718497,
          -1.3821896730588017,
          1.025259435993224,
          -0.09718663235788895,
          -0.8354318558470502,
          -0.9554132107877621,
          -0.9980120158071458,
          -0.7288446678912462,
          -0.09800589833805058,
          0.4142448507363215,
          0.8930469136911544,
          -1.3154328314067614,
          -1.0787057467905357,
          -1.4023916791873683,
          -0.5119184069337409,
          -1.1088443091663442,
          -2.0937764404176358,
          0.11965814021413287,
          0.014535947236977095,
          -0.9143356475413426,
          0.19868604209706775,
          0.3579958528661736,
          0.21904242410495528,
          0.31162477836671676,
          -0.8998869556253257,
          1.6066631635219826,
          1.3656132922140805,
          -1.6598489854498533,
          -0.5527174648713857,
          0.6951101679076586,
          0.7516151949165328,
          0.7786933724609784,
          0.4766867477108337,
          -0.17144337973890908,
          0.23451231613527032,
          0.8988743742269301,
          0.2911750095516407,
          0.29810426701672227,
          -0.6594490981096367,
          -0.9656491217788379,
          -0.8500173835479492,
          -0.75432673338305,
          0.0844725891951118,
          -0.14184019787176547,
          0.2660853672997226,
          -0.7610129991979636,
          -0.04117765919514578,
          -0.9985293461976696,
          0.06749302036218557,
          1.2554585501336368,
          1.1185878363246051,
          0.5860708559698183,
          -1.9131282637858404,
          1.2062112575773272,
          0.5387575022359602,
          -1.1381452377237462,
          0.1809719774956799,
          -2.5715021298407965,
          0.059962622748691505,
          0.07732076913620874,
          -0.8651373884301342,
          0.29346528328831206,
          1.5738460269574914,
          0.5710476800970452,
          -0.2281222832467052,
          0.4329254522143724,
          -0.8058356408865905,
          -1.8283622176542802,
          0.012648032752178408,
          1.087145802022887,
          1.2401656494506434,
          1.3606613435368604,
          1.9777769083614607,
          1.1204220324793175,
          2.15724221605289,
          0.12412886668282784,
          -0.912610229607422,
          -0.11798779858281276,
          0.3544154955218318,
          1.1336664687547644,
          -0.34016632606422975,
          0.5417409572516666,
          -1.2090432994150027,
          -0.42541552008403116,
          2.1722996121439175,
          -0.21381167123162242,
          -1.8180496867074007,
          1.6885450083464077,
          -0.5574374806984402,
          0.760069366299482,
          -0.18149211511086832,
          1.1721397473163495,
          0.12434777818730382,
          0.6675931694222231,
          0.922444871131447,
          -0.1631368335189949,
          0.3537426852288049
         ],
         "yaxis": "y12"
        },
        {
         "line": {
          "color": "rgba(128, 128, 128, 1.0)",
          "dash": "solid",
          "shape": "linear",
          "width": 1.3
         },
         "marker": {
          "size": 2,
          "symbol": "circle"
         },
         "mode": "markers",
         "name": "D",
         "text": "",
         "type": "scatter",
         "x": [
          -1.8453562462643196,
          -0.20040405303757655,
          -1.1637956456188199,
          0.6205025203423028,
          -0.8390568855527745,
          -1.2174976462691052,
          -0.5640138103328367,
          0.013620573399448279,
          0.40059182767551943,
          -0.5997626758413155,
          0.07726576350156705,
          0.928610877203632,
          0.426972018264773,
          -0.9990060932331011,
          1.078661270762736,
          -0.4513974079092731,
          -1.2643201140490237,
          2.5256077680999685,
          0.41086499908738955,
          -0.04475172187968378,
          0.8233287809051226,
          -0.7271645524645527,
          0.14030657831421076,
          -1.0988235896220555,
          0.7489175266400919,
          0.46582312686492033,
          -0.05288123591202588,
          -1.3670291716449292,
          0.7309050939934914,
          -0.6098667055895841,
          0.5041275128978567,
          2.040048937172921,
          -2.185274683047773,
          1.0196751415031662,
          0.9945470359624125,
          -1.025592479915559,
          -1.267140473022391,
          -0.8689838118146973,
          -0.2236579399824439,
          -1.3097944848343677,
          -0.8414647840651517,
          0.6071895041961782,
          -0.288065793118509,
          -0.0855433340132728,
          1.2362626011306976,
          -0.34103353649966367,
          1.2706087277806368,
          1.5483104445093612,
          0.18539608217150366,
          -0.7546004022350437,
          -0.8326852647100786,
          -1.1021601391805258,
          -1.1929778907431932,
          1.9549439684527512,
          -1.210342094834586,
          0.4060144585650524,
          1.691010701899478,
          -0.8750443198147615,
          1.160394755522703,
          2.275642804498575,
          -0.052481187252204894,
          0.764446349668718,
          0.7748214923293414,
          0.24170402743498778,
          0.28327289936704275,
          0.2467195735483266,
          0.914032725604146,
          -0.08601512694460697,
          0.9489571859474513,
          0.8142978876236726,
          0.7883298154110456,
          -0.32628991344569763,
          0.2301082679624488,
          1.6341593800247989,
          -1.6944753689322416,
          -0.758403852271044,
          0.9422713425820108,
          0.5407768447682212,
          -0.4172833249642221,
          -0.9133540169871017,
          1.2975516807100265,
          0.5348525441513422,
          -0.9491627313232666,
          -0.3285687661985525,
          0.7487839314169843,
          -0.3011044136198415,
          -0.6231469374589843,
          -0.46272480238509744,
          0.751870774961926,
          0.6842338081501783,
          0.1857636597163811,
          0.8977181310333129,
          -0.6380029150186659,
          -0.014892138107339364,
          -1.4264492976702383,
          -1.3625157787787476,
          -0.5037475787792652,
          -0.7209368299148544,
          -0.1853579105123794,
          0.8853425687953029
         ],
         "xaxis": "x13",
         "y": [
          -0.20288954987522298,
          0.47562781170015117,
          1.0954645050360055,
          0.05142270605075998,
          0.7773838232433251,
          0.007190802121658992,
          0.9330330366472316,
          0.25278957453202155,
          0.7912842769059294,
          -1.5080542550000453,
          -0.8544406084751497,
          -1.134729595263459,
          0.05825979368071219,
          0.2146463696921684,
          0.04662013326171583,
          0.5540938951604478,
          0.05337064123212655,
          0.4015398892594597,
          -0.537877282571492,
          -0.01356767963942102,
          1.12291981823085,
          -0.16991722703743997,
          -2.1649621368124365,
          0.646625372085061,
          -0.9436215511212397,
          -0.017092998021010358,
          -1.6929617303353777,
          -0.7472908580009684,
          -0.07448294099397612,
          -0.8229027954852032,
          1.8220565241827829,
          -0.4711541363054006,
          -0.3875045445647151,
          -0.6569686142157253,
          0.7332218380745128,
          -0.5570759097518201,
          1.0723471241184808,
          0.33430570074168875,
          -0.9243664465918211,
          0.1505965722469187,
          -1.056428401340786,
          -1.305043252718549,
          0.11578289000731946,
          0.4437189810986824,
          0.22954717368797098,
          0.029304543103711386,
          -0.39513029151026724,
          -0.8235530546317273,
          -1.9523295724970102,
          -1.177665128287269,
          -1.0095064617371476,
          0.7790840607890945,
          0.05894009941627537,
          -0.5433540023291886,
          1.085779479815206,
          0.7826441852428289,
          1.2150677355363977,
          -0.9204910295828099,
          -1.362688844712512,
          0.2770998736837296,
          -0.3225260542372228,
          -1.0748471038034475,
          -0.40758303493437886,
          0.8829258375427694,
          0.06564100695825047,
          -1.0880140266922238,
          0.05593835976329027,
          -1.1429599994130628,
          -1.7083542168907964,
          -0.48180739894069535,
          0.39476090460733554,
          -0.48966789895414564,
          0.7684063158809339,
          -0.5997280018599644,
          -0.29185382061886356,
          1.1365401579715937,
          0.6055377918111082,
          -0.3986381493243074,
          -0.9435626869936969,
          -0.7538986282295188,
          0.009796039565694662,
          -0.574232744454487,
          -0.04360582490458948,
          0.5821706968080934,
          0.3154086450269751,
          -1.2217113360268572,
          0.4656273186652484,
          1.2087959710178389,
          1.5239697315533887,
          -0.9937878298669706,
          0.9487735570869901,
          -0.4087578570843467,
          -0.16658630197250793,
          1.0960447241009474,
          -0.0028087670297548585,
          2.885884320062406,
          -0.45319803048317137,
          0.7145396301239757,
          -0.5574697507340491,
          1.2396881764991705
         ],
         "yaxis": "y13"
        },
        {
         "line": {
          "color": "rgba(128, 128, 128, 1.0)",
          "dash": "solid",
          "shape": "linear",
          "width": 1.3
         },
         "marker": {
          "size": 2,
          "symbol": "circle"
         },
         "mode": "markers",
         "name": "D",
         "text": "",
         "type": "scatter",
         "x": [
          -0.918051978935254,
          -2.7056575029327217,
          -0.26581756141055396,
          2.7780920157639803,
          -0.8734279386889949,
          -0.06334899773831265,
          1.4821560963767562,
          0.3720351753435628,
          2.289468082163019,
          -0.8374384578030118,
          -2.108703088038587,
          0.9788520364174591,
          1.4650258305467085,
          1.2415652263814414,
          1.0310626547555006,
          -0.3122406935164411,
          -0.14735613041299925,
          0.33275767892759495,
          -0.1161274919960927,
          0.281205976719588,
          -0.14951869895483794,
          0.41174605696281846,
          2.354209612658942,
          2.092110024373878,
          -0.844565089723117,
          -1.5305136905849483,
          -0.4080953430172473,
          -0.49831975030647513,
          0.532663605513584,
          0.16759861208915242,
          0.46247832654774845,
          0.38741399084499084,
          -1.8520213138080566,
          -0.019018730510986254,
          -1.0113286481308315,
          -1.0929063112561626,
          -0.7089062318588992,
          -0.49640898092235836,
          -0.9734721463692066,
          0.5801554907558394,
          -0.06540899964125191,
          -0.6111002896985552,
          0.45438818782559776,
          0.4785280675226295,
          1.2923482368164383,
          -0.5748394916445265,
          0.43943437190379214,
          -1.4174040567585227,
          -0.7319800748374122,
          -0.29265216113961545,
          -0.36087379702803224,
          -0.04027675520163823,
          -0.24063564992242378,
          -1.2436397165116935,
          -0.6380650947146708,
          -1.194083286516507,
          0.1779335575301587,
          -0.5384113135074421,
          0.2915091190224508,
          0.466796616138699,
          -0.43114256548016455,
          1.2786748208881396,
          1.4078719927900933,
          0.14674226717423464,
          -0.029148341361593073,
          -1.0673227647170362,
          -0.6376233349993639,
          -0.17509268696626795,
          -0.4170870697877158,
          0.4159894756560567,
          -2.208839366952025,
          1.1269460290850897,
          -0.4095692566448082,
          0.7856726897159855,
          -1.490180580048176,
          -1.617147938156026,
          0.4365288533186661,
          -2.32656190655788,
          0.15681159571219597,
          0.5391784367802614,
          -0.5002333680231703,
          0.6548667984163916,
          0.27970593897368917,
          -0.7844703375909428,
          0.9073102317074612,
          -1.1835772548443797,
          -1.1252365576347547,
          -0.31910636809035,
          -0.7706391044036293,
          1.5932069582471045,
          -1.4300111814134815,
          0.09777836056991747,
          0.21906285684508117,
          -0.025607437932308883,
          -1.0696693509127029,
          0.058516669742657644,
          -0.3377730316094605,
          -0.7808950376846182,
          0.5148406510673026,
          -0.6532931427041353
         ],
         "xaxis": "x14",
         "y": [
          -0.20288954987522298,
          0.47562781170015117,
          1.0954645050360055,
          0.05142270605075998,
          0.7773838232433251,
          0.007190802121658992,
          0.9330330366472316,
          0.25278957453202155,
          0.7912842769059294,
          -1.5080542550000453,
          -0.8544406084751497,
          -1.134729595263459,
          0.05825979368071219,
          0.2146463696921684,
          0.04662013326171583,
          0.5540938951604478,
          0.05337064123212655,
          0.4015398892594597,
          -0.537877282571492,
          -0.01356767963942102,
          1.12291981823085,
          -0.16991722703743997,
          -2.1649621368124365,
          0.646625372085061,
          -0.9436215511212397,
          -0.017092998021010358,
          -1.6929617303353777,
          -0.7472908580009684,
          -0.07448294099397612,
          -0.8229027954852032,
          1.8220565241827829,
          -0.4711541363054006,
          -0.3875045445647151,
          -0.6569686142157253,
          0.7332218380745128,
          -0.5570759097518201,
          1.0723471241184808,
          0.33430570074168875,
          -0.9243664465918211,
          0.1505965722469187,
          -1.056428401340786,
          -1.305043252718549,
          0.11578289000731946,
          0.4437189810986824,
          0.22954717368797098,
          0.029304543103711386,
          -0.39513029151026724,
          -0.8235530546317273,
          -1.9523295724970102,
          -1.177665128287269,
          -1.0095064617371476,
          0.7790840607890945,
          0.05894009941627537,
          -0.5433540023291886,
          1.085779479815206,
          0.7826441852428289,
          1.2150677355363977,
          -0.9204910295828099,
          -1.362688844712512,
          0.2770998736837296,
          -0.3225260542372228,
          -1.0748471038034475,
          -0.40758303493437886,
          0.8829258375427694,
          0.06564100695825047,
          -1.0880140266922238,
          0.05593835976329027,
          -1.1429599994130628,
          -1.7083542168907964,
          -0.48180739894069535,
          0.39476090460733554,
          -0.48966789895414564,
          0.7684063158809339,
          -0.5997280018599644,
          -0.29185382061886356,
          1.1365401579715937,
          0.6055377918111082,
          -0.3986381493243074,
          -0.9435626869936969,
          -0.7538986282295188,
          0.009796039565694662,
          -0.574232744454487,
          -0.04360582490458948,
          0.5821706968080934,
          0.3154086450269751,
          -1.2217113360268572,
          0.4656273186652484,
          1.2087959710178389,
          1.5239697315533887,
          -0.9937878298669706,
          0.9487735570869901,
          -0.4087578570843467,
          -0.16658630197250793,
          1.0960447241009474,
          -0.0028087670297548585,
          2.885884320062406,
          -0.45319803048317137,
          0.7145396301239757,
          -0.5574697507340491,
          1.2396881764991705
         ],
         "yaxis": "y14"
        },
        {
         "line": {
          "color": "rgba(128, 128, 128, 1.0)",
          "dash": "solid",
          "shape": "linear",
          "width": 1.3
         },
         "marker": {
          "size": 2,
          "symbol": "circle"
         },
         "mode": "markers",
         "name": "D",
         "text": "",
         "type": "scatter",
         "x": [
          -0.277526268880154,
          1.8806378896944345,
          0.5375396639187595,
          -0.23305474120718497,
          -1.3821896730588017,
          1.025259435993224,
          -0.09718663235788895,
          -0.8354318558470502,
          -0.9554132107877621,
          -0.9980120158071458,
          -0.7288446678912462,
          -0.09800589833805058,
          0.4142448507363215,
          0.8930469136911544,
          -1.3154328314067614,
          -1.0787057467905357,
          -1.4023916791873683,
          -0.5119184069337409,
          -1.1088443091663442,
          -2.0937764404176358,
          0.11965814021413287,
          0.014535947236977095,
          -0.9143356475413426,
          0.19868604209706775,
          0.3579958528661736,
          0.21904242410495528,
          0.31162477836671676,
          -0.8998869556253257,
          1.6066631635219826,
          1.3656132922140805,
          -1.6598489854498533,
          -0.5527174648713857,
          0.6951101679076586,
          0.7516151949165328,
          0.7786933724609784,
          0.4766867477108337,
          -0.17144337973890908,
          0.23451231613527032,
          0.8988743742269301,
          0.2911750095516407,
          0.29810426701672227,
          -0.6594490981096367,
          -0.9656491217788379,
          -0.8500173835479492,
          -0.75432673338305,
          0.0844725891951118,
          -0.14184019787176547,
          0.2660853672997226,
          -0.7610129991979636,
          -0.04117765919514578,
          -0.9985293461976696,
          0.06749302036218557,
          1.2554585501336368,
          1.1185878363246051,
          0.5860708559698183,
          -1.9131282637858404,
          1.2062112575773272,
          0.5387575022359602,
          -1.1381452377237462,
          0.1809719774956799,
          -2.5715021298407965,
          0.059962622748691505,
          0.07732076913620874,
          -0.8651373884301342,
          0.29346528328831206,
          1.5738460269574914,
          0.5710476800970452,
          -0.2281222832467052,
          0.4329254522143724,
          -0.8058356408865905,
          -1.8283622176542802,
          0.012648032752178408,
          1.087145802022887,
          1.2401656494506434,
          1.3606613435368604,
          1.9777769083614607,
          1.1204220324793175,
          2.15724221605289,
          0.12412886668282784,
          -0.912610229607422,
          -0.11798779858281276,
          0.3544154955218318,
          1.1336664687547644,
          -0.34016632606422975,
          0.5417409572516666,
          -1.2090432994150027,
          -0.42541552008403116,
          2.1722996121439175,
          -0.21381167123162242,
          -1.8180496867074007,
          1.6885450083464077,
          -0.5574374806984402,
          0.760069366299482,
          -0.18149211511086832,
          1.1721397473163495,
          0.12434777818730382,
          0.6675931694222231,
          0.922444871131447,
          -0.1631368335189949,
          0.3537426852288049
         ],
         "xaxis": "x15",
         "y": [
          -0.20288954987522298,
          0.47562781170015117,
          1.0954645050360055,
          0.05142270605075998,
          0.7773838232433251,
          0.007190802121658992,
          0.9330330366472316,
          0.25278957453202155,
          0.7912842769059294,
          -1.5080542550000453,
          -0.8544406084751497,
          -1.134729595263459,
          0.05825979368071219,
          0.2146463696921684,
          0.04662013326171583,
          0.5540938951604478,
          0.05337064123212655,
          0.4015398892594597,
          -0.537877282571492,
          -0.01356767963942102,
          1.12291981823085,
          -0.16991722703743997,
          -2.1649621368124365,
          0.646625372085061,
          -0.9436215511212397,
          -0.017092998021010358,
          -1.6929617303353777,
          -0.7472908580009684,
          -0.07448294099397612,
          -0.8229027954852032,
          1.8220565241827829,
          -0.4711541363054006,
          -0.3875045445647151,
          -0.6569686142157253,
          0.7332218380745128,
          -0.5570759097518201,
          1.0723471241184808,
          0.33430570074168875,
          -0.9243664465918211,
          0.1505965722469187,
          -1.056428401340786,
          -1.305043252718549,
          0.11578289000731946,
          0.4437189810986824,
          0.22954717368797098,
          0.029304543103711386,
          -0.39513029151026724,
          -0.8235530546317273,
          -1.9523295724970102,
          -1.177665128287269,
          -1.0095064617371476,
          0.7790840607890945,
          0.05894009941627537,
          -0.5433540023291886,
          1.085779479815206,
          0.7826441852428289,
          1.2150677355363977,
          -0.9204910295828099,
          -1.362688844712512,
          0.2770998736837296,
          -0.3225260542372228,
          -1.0748471038034475,
          -0.40758303493437886,
          0.8829258375427694,
          0.06564100695825047,
          -1.0880140266922238,
          0.05593835976329027,
          -1.1429599994130628,
          -1.7083542168907964,
          -0.48180739894069535,
          0.39476090460733554,
          -0.48966789895414564,
          0.7684063158809339,
          -0.5997280018599644,
          -0.29185382061886356,
          1.1365401579715937,
          0.6055377918111082,
          -0.3986381493243074,
          -0.9435626869936969,
          -0.7538986282295188,
          0.009796039565694662,
          -0.574232744454487,
          -0.04360582490458948,
          0.5821706968080934,
          0.3154086450269751,
          -1.2217113360268572,
          0.4656273186652484,
          1.2087959710178389,
          1.5239697315533887,
          -0.9937878298669706,
          0.9487735570869901,
          -0.4087578570843467,
          -0.16658630197250793,
          1.0960447241009474,
          -0.0028087670297548585,
          2.885884320062406,
          -0.45319803048317137,
          0.7145396301239757,
          -0.5574697507340491,
          1.2396881764991705
         ],
         "yaxis": "y15"
        },
        {
         "histfunc": "count",
         "histnorm": "",
         "marker": {
          "color": "rgba(128, 0, 128, 1.0)",
          "line": {
           "color": "#4D5663",
           "width": 1.3
          }
         },
         "name": "D",
         "nbinsx": 10,
         "opacity": 0.8,
         "orientation": "v",
         "type": "histogram",
         "x": [
          -0.20288954987522298,
          0.47562781170015117,
          1.0954645050360055,
          0.05142270605075998,
          0.7773838232433251,
          0.007190802121658992,
          0.9330330366472316,
          0.25278957453202155,
          0.7912842769059294,
          -1.5080542550000453,
          -0.8544406084751497,
          -1.134729595263459,
          0.05825979368071219,
          0.2146463696921684,
          0.04662013326171583,
          0.5540938951604478,
          0.05337064123212655,
          0.4015398892594597,
          -0.537877282571492,
          -0.01356767963942102,
          1.12291981823085,
          -0.16991722703743997,
          -2.1649621368124365,
          0.646625372085061,
          -0.9436215511212397,
          -0.017092998021010358,
          -1.6929617303353777,
          -0.7472908580009684,
          -0.07448294099397612,
          -0.8229027954852032,
          1.8220565241827829,
          -0.4711541363054006,
          -0.3875045445647151,
          -0.6569686142157253,
          0.7332218380745128,
          -0.5570759097518201,
          1.0723471241184808,
          0.33430570074168875,
          -0.9243664465918211,
          0.1505965722469187,
          -1.056428401340786,
          -1.305043252718549,
          0.11578289000731946,
          0.4437189810986824,
          0.22954717368797098,
          0.029304543103711386,
          -0.39513029151026724,
          -0.8235530546317273,
          -1.9523295724970102,
          -1.177665128287269,
          -1.0095064617371476,
          0.7790840607890945,
          0.05894009941627537,
          -0.5433540023291886,
          1.085779479815206,
          0.7826441852428289,
          1.2150677355363977,
          -0.9204910295828099,
          -1.362688844712512,
          0.2770998736837296,
          -0.3225260542372228,
          -1.0748471038034475,
          -0.40758303493437886,
          0.8829258375427694,
          0.06564100695825047,
          -1.0880140266922238,
          0.05593835976329027,
          -1.1429599994130628,
          -1.7083542168907964,
          -0.48180739894069535,
          0.39476090460733554,
          -0.48966789895414564,
          0.7684063158809339,
          -0.5997280018599644,
          -0.29185382061886356,
          1.1365401579715937,
          0.6055377918111082,
          -0.3986381493243074,
          -0.9435626869936969,
          -0.7538986282295188,
          0.009796039565694662,
          -0.574232744454487,
          -0.04360582490458948,
          0.5821706968080934,
          0.3154086450269751,
          -1.2217113360268572,
          0.4656273186652484,
          1.2087959710178389,
          1.5239697315533887,
          -0.9937878298669706,
          0.9487735570869901,
          -0.4087578570843467,
          -0.16658630197250793,
          1.0960447241009474,
          -0.0028087670297548585,
          2.885884320062406,
          -0.45319803048317137,
          0.7145396301239757,
          -0.5574697507340491,
          1.2396881764991705
         ],
         "xaxis": "x16",
         "yaxis": "y16"
        }
       ],
       "layout": {
        "bargap": 0.02,
        "legend": {
         "bgcolor": "#F5F6F9",
         "font": {
          "color": "#4D5663"
         }
        },
        "paper_bgcolor": "#F5F6F9",
        "plot_bgcolor": "#F5F6F9",
        "showlegend": false,
        "template": {
         "data": {
          "bar": [
           {
            "error_x": {
             "color": "#2a3f5f"
            },
            "error_y": {
             "color": "#2a3f5f"
            },
            "marker": {
             "line": {
              "color": "#E5ECF6",
              "width": 0.5
             }
            },
            "type": "bar"
           }
          ],
          "barpolar": [
           {
            "marker": {
             "line": {
              "color": "#E5ECF6",
              "width": 0.5
             }
            },
            "type": "barpolar"
           }
          ],
          "carpet": [
           {
            "aaxis": {
             "endlinecolor": "#2a3f5f",
             "gridcolor": "white",
             "linecolor": "white",
             "minorgridcolor": "white",
             "startlinecolor": "#2a3f5f"
            },
            "baxis": {
             "endlinecolor": "#2a3f5f",
             "gridcolor": "white",
             "linecolor": "white",
             "minorgridcolor": "white",
             "startlinecolor": "#2a3f5f"
            },
            "type": "carpet"
           }
          ],
          "choropleth": [
           {
            "colorbar": {
             "outlinewidth": 0,
             "ticks": ""
            },
            "type": "choropleth"
           }
          ],
          "contour": [
           {
            "colorbar": {
             "outlinewidth": 0,
             "ticks": ""
            },
            "colorscale": [
             [
              0,
              "#0d0887"
             ],
             [
              0.1111111111111111,
              "#46039f"
             ],
             [
              0.2222222222222222,
              "#7201a8"
             ],
             [
              0.3333333333333333,
              "#9c179e"
             ],
             [
              0.4444444444444444,
              "#bd3786"
             ],
             [
              0.5555555555555556,
              "#d8576b"
             ],
             [
              0.6666666666666666,
              "#ed7953"
             ],
             [
              0.7777777777777778,
              "#fb9f3a"
             ],
             [
              0.8888888888888888,
              "#fdca26"
             ],
             [
              1,
              "#f0f921"
             ]
            ],
            "type": "contour"
           }
          ],
          "contourcarpet": [
           {
            "colorbar": {
             "outlinewidth": 0,
             "ticks": ""
            },
            "type": "contourcarpet"
           }
          ],
          "heatmap": [
           {
            "colorbar": {
             "outlinewidth": 0,
             "ticks": ""
            },
            "colorscale": [
             [
              0,
              "#0d0887"
             ],
             [
              0.1111111111111111,
              "#46039f"
             ],
             [
              0.2222222222222222,
              "#7201a8"
             ],
             [
              0.3333333333333333,
              "#9c179e"
             ],
             [
              0.4444444444444444,
              "#bd3786"
             ],
             [
              0.5555555555555556,
              "#d8576b"
             ],
             [
              0.6666666666666666,
              "#ed7953"
             ],
             [
              0.7777777777777778,
              "#fb9f3a"
             ],
             [
              0.8888888888888888,
              "#fdca26"
             ],
             [
              1,
              "#f0f921"
             ]
            ],
            "type": "heatmap"
           }
          ],
          "heatmapgl": [
           {
            "colorbar": {
             "outlinewidth": 0,
             "ticks": ""
            },
            "colorscale": [
             [
              0,
              "#0d0887"
             ],
             [
              0.1111111111111111,
              "#46039f"
             ],
             [
              0.2222222222222222,
              "#7201a8"
             ],
             [
              0.3333333333333333,
              "#9c179e"
             ],
             [
              0.4444444444444444,
              "#bd3786"
             ],
             [
              0.5555555555555556,
              "#d8576b"
             ],
             [
              0.6666666666666666,
              "#ed7953"
             ],
             [
              0.7777777777777778,
              "#fb9f3a"
             ],
             [
              0.8888888888888888,
              "#fdca26"
             ],
             [
              1,
              "#f0f921"
             ]
            ],
            "type": "heatmapgl"
           }
          ],
          "histogram": [
           {
            "marker": {
             "colorbar": {
              "outlinewidth": 0,
              "ticks": ""
             }
            },
            "type": "histogram"
           }
          ],
          "histogram2d": [
           {
            "colorbar": {
             "outlinewidth": 0,
             "ticks": ""
            },
            "colorscale": [
             [
              0,
              "#0d0887"
             ],
             [
              0.1111111111111111,
              "#46039f"
             ],
             [
              0.2222222222222222,
              "#7201a8"
             ],
             [
              0.3333333333333333,
              "#9c179e"
             ],
             [
              0.4444444444444444,
              "#bd3786"
             ],
             [
              0.5555555555555556,
              "#d8576b"
             ],
             [
              0.6666666666666666,
              "#ed7953"
             ],
             [
              0.7777777777777778,
              "#fb9f3a"
             ],
             [
              0.8888888888888888,
              "#fdca26"
             ],
             [
              1,
              "#f0f921"
             ]
            ],
            "type": "histogram2d"
           }
          ],
          "histogram2dcontour": [
           {
            "colorbar": {
             "outlinewidth": 0,
             "ticks": ""
            },
            "colorscale": [
             [
              0,
              "#0d0887"
             ],
             [
              0.1111111111111111,
              "#46039f"
             ],
             [
              0.2222222222222222,
              "#7201a8"
             ],
             [
              0.3333333333333333,
              "#9c179e"
             ],
             [
              0.4444444444444444,
              "#bd3786"
             ],
             [
              0.5555555555555556,
              "#d8576b"
             ],
             [
              0.6666666666666666,
              "#ed7953"
             ],
             [
              0.7777777777777778,
              "#fb9f3a"
             ],
             [
              0.8888888888888888,
              "#fdca26"
             ],
             [
              1,
              "#f0f921"
             ]
            ],
            "type": "histogram2dcontour"
           }
          ],
          "mesh3d": [
           {
            "colorbar": {
             "outlinewidth": 0,
             "ticks": ""
            },
            "type": "mesh3d"
           }
          ],
          "parcoords": [
           {
            "line": {
             "colorbar": {
              "outlinewidth": 0,
              "ticks": ""
             }
            },
            "type": "parcoords"
           }
          ],
          "pie": [
           {
            "automargin": true,
            "type": "pie"
           }
          ],
          "scatter": [
           {
            "marker": {
             "colorbar": {
              "outlinewidth": 0,
              "ticks": ""
             }
            },
            "type": "scatter"
           }
          ],
          "scatter3d": [
           {
            "line": {
             "colorbar": {
              "outlinewidth": 0,
              "ticks": ""
             }
            },
            "marker": {
             "colorbar": {
              "outlinewidth": 0,
              "ticks": ""
             }
            },
            "type": "scatter3d"
           }
          ],
          "scattercarpet": [
           {
            "marker": {
             "colorbar": {
              "outlinewidth": 0,
              "ticks": ""
             }
            },
            "type": "scattercarpet"
           }
          ],
          "scattergeo": [
           {
            "marker": {
             "colorbar": {
              "outlinewidth": 0,
              "ticks": ""
             }
            },
            "type": "scattergeo"
           }
          ],
          "scattergl": [
           {
            "marker": {
             "colorbar": {
              "outlinewidth": 0,
              "ticks": ""
             }
            },
            "type": "scattergl"
           }
          ],
          "scattermapbox": [
           {
            "marker": {
             "colorbar": {
              "outlinewidth": 0,
              "ticks": ""
             }
            },
            "type": "scattermapbox"
           }
          ],
          "scatterpolar": [
           {
            "marker": {
             "colorbar": {
              "outlinewidth": 0,
              "ticks": ""
             }
            },
            "type": "scatterpolar"
           }
          ],
          "scatterpolargl": [
           {
            "marker": {
             "colorbar": {
              "outlinewidth": 0,
              "ticks": ""
             }
            },
            "type": "scatterpolargl"
           }
          ],
          "scatterternary": [
           {
            "marker": {
             "colorbar": {
              "outlinewidth": 0,
              "ticks": ""
             }
            },
            "type": "scatterternary"
           }
          ],
          "surface": [
           {
            "colorbar": {
             "outlinewidth": 0,
             "ticks": ""
            },
            "colorscale": [
             [
              0,
              "#0d0887"
             ],
             [
              0.1111111111111111,
              "#46039f"
             ],
             [
              0.2222222222222222,
              "#7201a8"
             ],
             [
              0.3333333333333333,
              "#9c179e"
             ],
             [
              0.4444444444444444,
              "#bd3786"
             ],
             [
              0.5555555555555556,
              "#d8576b"
             ],
             [
              0.6666666666666666,
              "#ed7953"
             ],
             [
              0.7777777777777778,
              "#fb9f3a"
             ],
             [
              0.8888888888888888,
              "#fdca26"
             ],
             [
              1,
              "#f0f921"
             ]
            ],
            "type": "surface"
           }
          ],
          "table": [
           {
            "cells": {
             "fill": {
              "color": "#EBF0F8"
             },
             "line": {
              "color": "white"
             }
            },
            "header": {
             "fill": {
              "color": "#C8D4E3"
             },
             "line": {
              "color": "white"
             }
            },
            "type": "table"
           }
          ]
         },
         "layout": {
          "annotationdefaults": {
           "arrowcolor": "#2a3f5f",
           "arrowhead": 0,
           "arrowwidth": 1
          },
          "autotypenumbers": "strict",
          "coloraxis": {
           "colorbar": {
            "outlinewidth": 0,
            "ticks": ""
           }
          },
          "colorscale": {
           "diverging": [
            [
             0,
             "#8e0152"
            ],
            [
             0.1,
             "#c51b7d"
            ],
            [
             0.2,
             "#de77ae"
            ],
            [
             0.3,
             "#f1b6da"
            ],
            [
             0.4,
             "#fde0ef"
            ],
            [
             0.5,
             "#f7f7f7"
            ],
            [
             0.6,
             "#e6f5d0"
            ],
            [
             0.7,
             "#b8e186"
            ],
            [
             0.8,
             "#7fbc41"
            ],
            [
             0.9,
             "#4d9221"
            ],
            [
             1,
             "#276419"
            ]
           ],
           "sequential": [
            [
             0,
             "#0d0887"
            ],
            [
             0.1111111111111111,
             "#46039f"
            ],
            [
             0.2222222222222222,
             "#7201a8"
            ],
            [
             0.3333333333333333,
             "#9c179e"
            ],
            [
             0.4444444444444444,
             "#bd3786"
            ],
            [
             0.5555555555555556,
             "#d8576b"
            ],
            [
             0.6666666666666666,
             "#ed7953"
            ],
            [
             0.7777777777777778,
             "#fb9f3a"
            ],
            [
             0.8888888888888888,
             "#fdca26"
            ],
            [
             1,
             "#f0f921"
            ]
           ],
           "sequentialminus": [
            [
             0,
             "#0d0887"
            ],
            [
             0.1111111111111111,
             "#46039f"
            ],
            [
             0.2222222222222222,
             "#7201a8"
            ],
            [
             0.3333333333333333,
             "#9c179e"
            ],
            [
             0.4444444444444444,
             "#bd3786"
            ],
            [
             0.5555555555555556,
             "#d8576b"
            ],
            [
             0.6666666666666666,
             "#ed7953"
            ],
            [
             0.7777777777777778,
             "#fb9f3a"
            ],
            [
             0.8888888888888888,
             "#fdca26"
            ],
            [
             1,
             "#f0f921"
            ]
           ]
          },
          "colorway": [
           "#636efa",
           "#EF553B",
           "#00cc96",
           "#ab63fa",
           "#FFA15A",
           "#19d3f3",
           "#FF6692",
           "#B6E880",
           "#FF97FF",
           "#FECB52"
          ],
          "font": {
           "color": "#2a3f5f"
          },
          "geo": {
           "bgcolor": "white",
           "lakecolor": "white",
           "landcolor": "#E5ECF6",
           "showlakes": true,
           "showland": true,
           "subunitcolor": "white"
          },
          "hoverlabel": {
           "align": "left"
          },
          "hovermode": "closest",
          "mapbox": {
           "style": "light"
          },
          "paper_bgcolor": "white",
          "plot_bgcolor": "#E5ECF6",
          "polar": {
           "angularaxis": {
            "gridcolor": "white",
            "linecolor": "white",
            "ticks": ""
           },
           "bgcolor": "#E5ECF6",
           "radialaxis": {
            "gridcolor": "white",
            "linecolor": "white",
            "ticks": ""
           }
          },
          "scene": {
           "xaxis": {
            "backgroundcolor": "#E5ECF6",
            "gridcolor": "white",
            "gridwidth": 2,
            "linecolor": "white",
            "showbackground": true,
            "ticks": "",
            "zerolinecolor": "white"
           },
           "yaxis": {
            "backgroundcolor": "#E5ECF6",
            "gridcolor": "white",
            "gridwidth": 2,
            "linecolor": "white",
            "showbackground": true,
            "ticks": "",
            "zerolinecolor": "white"
           },
           "zaxis": {
            "backgroundcolor": "#E5ECF6",
            "gridcolor": "white",
            "gridwidth": 2,
            "linecolor": "white",
            "showbackground": true,
            "ticks": "",
            "zerolinecolor": "white"
           }
          },
          "shapedefaults": {
           "line": {
            "color": "#2a3f5f"
           }
          },
          "ternary": {
           "aaxis": {
            "gridcolor": "white",
            "linecolor": "white",
            "ticks": ""
           },
           "baxis": {
            "gridcolor": "white",
            "linecolor": "white",
            "ticks": ""
           },
           "bgcolor": "#E5ECF6",
           "caxis": {
            "gridcolor": "white",
            "linecolor": "white",
            "ticks": ""
           }
          },
          "title": {
           "x": 0.05
          },
          "xaxis": {
           "automargin": true,
           "gridcolor": "white",
           "linecolor": "white",
           "ticks": "",
           "title": {
            "standoff": 15
           },
           "zerolinecolor": "white",
           "zerolinewidth": 2
          },
          "yaxis": {
           "automargin": true,
           "gridcolor": "white",
           "linecolor": "white",
           "ticks": "",
           "title": {
            "standoff": 15
           },
           "zerolinecolor": "white",
           "zerolinewidth": 2
          }
         }
        },
        "title": {
         "font": {
          "color": "#4D5663"
         }
        },
        "xaxis": {
         "anchor": "y",
         "domain": [
          0,
          0.2125
         ],
         "gridcolor": "#E1E5ED",
         "showgrid": false,
         "tickfont": {
          "color": "#4D5663"
         },
         "title": {
          "font": {
           "color": "#4D5663"
          },
          "text": ""
         },
         "zerolinecolor": "#E1E5ED"
        },
        "xaxis10": {
         "anchor": "y10",
         "domain": [
          0.2625,
          0.475
         ],
         "gridcolor": "#E1E5ED",
         "showgrid": false,
         "tickfont": {
          "color": "#4D5663"
         },
         "title": {
          "font": {
           "color": "#4D5663"
          },
          "text": ""
         },
         "zerolinecolor": "#E1E5ED"
        },
        "xaxis11": {
         "anchor": "y11",
         "domain": [
          0.525,
          0.7375
         ],
         "gridcolor": "#E1E5ED",
         "showgrid": false,
         "tickfont": {
          "color": "#4D5663"
         },
         "title": {
          "font": {
           "color": "#4D5663"
          },
          "text": ""
         },
         "zerolinecolor": "#E1E5ED"
        },
        "xaxis12": {
         "anchor": "y12",
         "domain": [
          0.7875,
          1
         ],
         "gridcolor": "#E1E5ED",
         "showgrid": false,
         "tickfont": {
          "color": "#4D5663"
         },
         "title": {
          "font": {
           "color": "#4D5663"
          },
          "text": ""
         },
         "zerolinecolor": "#E1E5ED"
        },
        "xaxis13": {
         "anchor": "y13",
         "domain": [
          0,
          0.2125
         ],
         "gridcolor": "#E1E5ED",
         "showgrid": false,
         "tickfont": {
          "color": "#4D5663"
         },
         "title": {
          "font": {
           "color": "#4D5663"
          },
          "text": ""
         },
         "zerolinecolor": "#E1E5ED"
        },
        "xaxis14": {
         "anchor": "y14",
         "domain": [
          0.2625,
          0.475
         ],
         "gridcolor": "#E1E5ED",
         "showgrid": false,
         "tickfont": {
          "color": "#4D5663"
         },
         "title": {
          "font": {
           "color": "#4D5663"
          },
          "text": ""
         },
         "zerolinecolor": "#E1E5ED"
        },
        "xaxis15": {
         "anchor": "y15",
         "domain": [
          0.525,
          0.7375
         ],
         "gridcolor": "#E1E5ED",
         "showgrid": false,
         "tickfont": {
          "color": "#4D5663"
         },
         "title": {
          "font": {
           "color": "#4D5663"
          },
          "text": ""
         },
         "zerolinecolor": "#E1E5ED"
        },
        "xaxis16": {
         "anchor": "y16",
         "domain": [
          0.7875,
          1
         ],
         "gridcolor": "#E1E5ED",
         "showgrid": false,
         "tickfont": {
          "color": "#4D5663"
         },
         "title": {
          "font": {
           "color": "#4D5663"
          },
          "text": ""
         },
         "zerolinecolor": "#E1E5ED"
        },
        "xaxis2": {
         "anchor": "y2",
         "domain": [
          0.2625,
          0.475
         ],
         "gridcolor": "#E1E5ED",
         "showgrid": false,
         "tickfont": {
          "color": "#4D5663"
         },
         "title": {
          "font": {
           "color": "#4D5663"
          },
          "text": ""
         },
         "zerolinecolor": "#E1E5ED"
        },
        "xaxis3": {
         "anchor": "y3",
         "domain": [
          0.525,
          0.7375
         ],
         "gridcolor": "#E1E5ED",
         "showgrid": false,
         "tickfont": {
          "color": "#4D5663"
         },
         "title": {
          "font": {
           "color": "#4D5663"
          },
          "text": ""
         },
         "zerolinecolor": "#E1E5ED"
        },
        "xaxis4": {
         "anchor": "y4",
         "domain": [
          0.7875,
          1
         ],
         "gridcolor": "#E1E5ED",
         "showgrid": false,
         "tickfont": {
          "color": "#4D5663"
         },
         "title": {
          "font": {
           "color": "#4D5663"
          },
          "text": ""
         },
         "zerolinecolor": "#E1E5ED"
        },
        "xaxis5": {
         "anchor": "y5",
         "domain": [
          0,
          0.2125
         ],
         "gridcolor": "#E1E5ED",
         "showgrid": false,
         "tickfont": {
          "color": "#4D5663"
         },
         "title": {
          "font": {
           "color": "#4D5663"
          },
          "text": ""
         },
         "zerolinecolor": "#E1E5ED"
        },
        "xaxis6": {
         "anchor": "y6",
         "domain": [
          0.2625,
          0.475
         ],
         "gridcolor": "#E1E5ED",
         "showgrid": false,
         "tickfont": {
          "color": "#4D5663"
         },
         "title": {
          "font": {
           "color": "#4D5663"
          },
          "text": ""
         },
         "zerolinecolor": "#E1E5ED"
        },
        "xaxis7": {
         "anchor": "y7",
         "domain": [
          0.525,
          0.7375
         ],
         "gridcolor": "#E1E5ED",
         "showgrid": false,
         "tickfont": {
          "color": "#4D5663"
         },
         "title": {
          "font": {
           "color": "#4D5663"
          },
          "text": ""
         },
         "zerolinecolor": "#E1E5ED"
        },
        "xaxis8": {
         "anchor": "y8",
         "domain": [
          0.7875,
          1
         ],
         "gridcolor": "#E1E5ED",
         "showgrid": false,
         "tickfont": {
          "color": "#4D5663"
         },
         "title": {
          "font": {
           "color": "#4D5663"
          },
          "text": ""
         },
         "zerolinecolor": "#E1E5ED"
        },
        "xaxis9": {
         "anchor": "y9",
         "domain": [
          0,
          0.2125
         ],
         "gridcolor": "#E1E5ED",
         "showgrid": false,
         "tickfont": {
          "color": "#4D5663"
         },
         "title": {
          "font": {
           "color": "#4D5663"
          },
          "text": ""
         },
         "zerolinecolor": "#E1E5ED"
        },
        "yaxis": {
         "anchor": "x",
         "domain": [
          0.8025,
          1
         ],
         "gridcolor": "#E1E5ED",
         "showgrid": false,
         "tickfont": {
          "color": "#4D5663"
         },
         "title": {
          "font": {
           "color": "#4D5663"
          },
          "text": ""
         },
         "zerolinecolor": "#E1E5ED"
        },
        "yaxis10": {
         "anchor": "x10",
         "domain": [
          0.2675,
          0.465
         ],
         "gridcolor": "#E1E5ED",
         "showgrid": false,
         "tickfont": {
          "color": "#4D5663"
         },
         "title": {
          "font": {
           "color": "#4D5663"
          },
          "text": ""
         },
         "zerolinecolor": "#E1E5ED"
        },
        "yaxis11": {
         "anchor": "x11",
         "domain": [
          0.2675,
          0.465
         ],
         "gridcolor": "#E1E5ED",
         "showgrid": false,
         "tickfont": {
          "color": "#4D5663"
         },
         "title": {
          "font": {
           "color": "#4D5663"
          },
          "text": ""
         },
         "zerolinecolor": "#E1E5ED"
        },
        "yaxis12": {
         "anchor": "x12",
         "domain": [
          0.2675,
          0.465
         ],
         "gridcolor": "#E1E5ED",
         "showgrid": false,
         "tickfont": {
          "color": "#4D5663"
         },
         "title": {
          "font": {
           "color": "#4D5663"
          },
          "text": ""
         },
         "zerolinecolor": "#E1E5ED"
        },
        "yaxis13": {
         "anchor": "x13",
         "domain": [
          0,
          0.1975
         ],
         "gridcolor": "#E1E5ED",
         "showgrid": false,
         "tickfont": {
          "color": "#4D5663"
         },
         "title": {
          "font": {
           "color": "#4D5663"
          },
          "text": ""
         },
         "zerolinecolor": "#E1E5ED"
        },
        "yaxis14": {
         "anchor": "x14",
         "domain": [
          0,
          0.1975
         ],
         "gridcolor": "#E1E5ED",
         "showgrid": false,
         "tickfont": {
          "color": "#4D5663"
         },
         "title": {
          "font": {
           "color": "#4D5663"
          },
          "text": ""
         },
         "zerolinecolor": "#E1E5ED"
        },
        "yaxis15": {
         "anchor": "x15",
         "domain": [
          0,
          0.1975
         ],
         "gridcolor": "#E1E5ED",
         "showgrid": false,
         "tickfont": {
          "color": "#4D5663"
         },
         "title": {
          "font": {
           "color": "#4D5663"
          },
          "text": ""
         },
         "zerolinecolor": "#E1E5ED"
        },
        "yaxis16": {
         "anchor": "x16",
         "domain": [
          0,
          0.1975
         ],
         "gridcolor": "#E1E5ED",
         "showgrid": false,
         "tickfont": {
          "color": "#4D5663"
         },
         "title": {
          "font": {
           "color": "#4D5663"
          },
          "text": ""
         },
         "zerolinecolor": "#E1E5ED"
        },
        "yaxis2": {
         "anchor": "x2",
         "domain": [
          0.8025,
          1
         ],
         "gridcolor": "#E1E5ED",
         "showgrid": false,
         "tickfont": {
          "color": "#4D5663"
         },
         "title": {
          "font": {
           "color": "#4D5663"
          },
          "text": ""
         },
         "zerolinecolor": "#E1E5ED"
        },
        "yaxis3": {
         "anchor": "x3",
         "domain": [
          0.8025,
          1
         ],
         "gridcolor": "#E1E5ED",
         "showgrid": false,
         "tickfont": {
          "color": "#4D5663"
         },
         "title": {
          "font": {
           "color": "#4D5663"
          },
          "text": ""
         },
         "zerolinecolor": "#E1E5ED"
        },
        "yaxis4": {
         "anchor": "x4",
         "domain": [
          0.8025,
          1
         ],
         "gridcolor": "#E1E5ED",
         "showgrid": false,
         "tickfont": {
          "color": "#4D5663"
         },
         "title": {
          "font": {
           "color": "#4D5663"
          },
          "text": ""
         },
         "zerolinecolor": "#E1E5ED"
        },
        "yaxis5": {
         "anchor": "x5",
         "domain": [
          0.535,
          0.7325
         ],
         "gridcolor": "#E1E5ED",
         "showgrid": false,
         "tickfont": {
          "color": "#4D5663"
         },
         "title": {
          "font": {
           "color": "#4D5663"
          },
          "text": ""
         },
         "zerolinecolor": "#E1E5ED"
        },
        "yaxis6": {
         "anchor": "x6",
         "domain": [
          0.535,
          0.7325
         ],
         "gridcolor": "#E1E5ED",
         "showgrid": false,
         "tickfont": {
          "color": "#4D5663"
         },
         "title": {
          "font": {
           "color": "#4D5663"
          },
          "text": ""
         },
         "zerolinecolor": "#E1E5ED"
        },
        "yaxis7": {
         "anchor": "x7",
         "domain": [
          0.535,
          0.7325
         ],
         "gridcolor": "#E1E5ED",
         "showgrid": false,
         "tickfont": {
          "color": "#4D5663"
         },
         "title": {
          "font": {
           "color": "#4D5663"
          },
          "text": ""
         },
         "zerolinecolor": "#E1E5ED"
        },
        "yaxis8": {
         "anchor": "x8",
         "domain": [
          0.535,
          0.7325
         ],
         "gridcolor": "#E1E5ED",
         "showgrid": false,
         "tickfont": {
          "color": "#4D5663"
         },
         "title": {
          "font": {
           "color": "#4D5663"
          },
          "text": ""
         },
         "zerolinecolor": "#E1E5ED"
        },
        "yaxis9": {
         "anchor": "x9",
         "domain": [
          0.2675,
          0.465
         ],
         "gridcolor": "#E1E5ED",
         "showgrid": false,
         "tickfont": {
          "color": "#4D5663"
         },
         "title": {
          "font": {
           "color": "#4D5663"
          },
          "text": ""
         },
         "zerolinecolor": "#E1E5ED"
        }
       }
      },
      "text/html": [
       "<div>                            <div id=\"7ee82f75-b30f-4786-8202-02e3cd941be7\" class=\"plotly-graph-div\" style=\"height:525px; width:100%;\"></div>            <script type=\"text/javascript\">                require([\"plotly\"], function(Plotly) {                    window.PLOTLYENV=window.PLOTLYENV || {};\n",
       "                    window.PLOTLYENV.BASE_URL='https://plot.ly';                                    if (document.getElementById(\"7ee82f75-b30f-4786-8202-02e3cd941be7\")) {                    Plotly.newPlot(                        \"7ee82f75-b30f-4786-8202-02e3cd941be7\",                        [{\"histfunc\": \"count\", \"histnorm\": \"\", \"marker\": {\"color\": \"rgba(255, 153, 51, 1.0)\", \"line\": {\"color\": \"#4D5663\", \"width\": 1.3}}, \"name\": \"A\", \"nbinsx\": 10, \"opacity\": 0.8, \"orientation\": \"v\", \"type\": \"histogram\", \"x\": [-1.8453562462643196, -0.20040405303757655, -1.1637956456188199, 0.6205025203423028, -0.8390568855527745, -1.2174976462691052, -0.5640138103328367, 0.013620573399448279, 0.40059182767551943, -0.5997626758413155, 0.07726576350156705, 0.928610877203632, 0.426972018264773, -0.9990060932331011, 1.078661270762736, -0.4513974079092731, -1.2643201140490237, 2.5256077680999685, 0.41086499908738955, -0.04475172187968378, 0.8233287809051226, -0.7271645524645527, 0.14030657831421076, -1.0988235896220555, 0.7489175266400919, 0.46582312686492033, -0.05288123591202588, -1.3670291716449292, 0.7309050939934914, -0.6098667055895841, 0.5041275128978567, 2.040048937172921, -2.185274683047773, 1.0196751415031662, 0.9945470359624125, -1.025592479915559, -1.267140473022391, -0.8689838118146973, -0.2236579399824439, -1.3097944848343677, -0.8414647840651517, 0.6071895041961782, -0.288065793118509, -0.0855433340132728, 1.2362626011306976, -0.34103353649966367, 1.2706087277806368, 1.5483104445093612, 0.18539608217150366, -0.7546004022350437, -0.8326852647100786, -1.1021601391805258, -1.1929778907431932, 1.9549439684527512, -1.210342094834586, 0.4060144585650524, 1.691010701899478, -0.8750443198147615, 1.160394755522703, 2.275642804498575, -0.052481187252204894, 0.764446349668718, 0.7748214923293414, 0.24170402743498778, 0.28327289936704275, 0.2467195735483266, 0.914032725604146, -0.08601512694460697, 0.9489571859474513, 0.8142978876236726, 0.7883298154110456, -0.32628991344569763, 0.2301082679624488, 1.6341593800247989, -1.6944753689322416, -0.758403852271044, 0.9422713425820108, 0.5407768447682212, -0.4172833249642221, -0.9133540169871017, 1.2975516807100265, 0.5348525441513422, -0.9491627313232666, -0.3285687661985525, 0.7487839314169843, -0.3011044136198415, -0.6231469374589843, -0.46272480238509744, 0.751870774961926, 0.6842338081501783, 0.1857636597163811, 0.8977181310333129, -0.6380029150186659, -0.014892138107339364, -1.4264492976702383, -1.3625157787787476, -0.5037475787792652, -0.7209368299148544, -0.1853579105123794, 0.8853425687953029], \"xaxis\": \"x\", \"yaxis\": \"y\"}, {\"line\": {\"color\": \"rgba(128, 128, 128, 1.0)\", \"dash\": \"solid\", \"shape\": \"linear\", \"width\": 1.3}, \"marker\": {\"size\": 2, \"symbol\": \"circle\"}, \"mode\": \"markers\", \"name\": \"A\", \"text\": \"\", \"type\": \"scatter\", \"x\": [-0.918051978935254, -2.7056575029327217, -0.26581756141055396, 2.7780920157639803, -0.8734279386889949, -0.06334899773831265, 1.4821560963767562, 0.3720351753435628, 2.289468082163019, -0.8374384578030118, -2.108703088038587, 0.9788520364174591, 1.4650258305467085, 1.2415652263814414, 1.0310626547555006, -0.3122406935164411, -0.14735613041299925, 0.33275767892759495, -0.1161274919960927, 0.281205976719588, -0.14951869895483794, 0.41174605696281846, 2.354209612658942, 2.092110024373878, -0.844565089723117, -1.5305136905849483, -0.4080953430172473, -0.49831975030647513, 0.532663605513584, 0.16759861208915242, 0.46247832654774845, 0.38741399084499084, -1.8520213138080566, -0.019018730510986254, -1.0113286481308315, -1.0929063112561626, -0.7089062318588992, -0.49640898092235836, -0.9734721463692066, 0.5801554907558394, -0.06540899964125191, -0.6111002896985552, 0.45438818782559776, 0.4785280675226295, 1.2923482368164383, -0.5748394916445265, 0.43943437190379214, -1.4174040567585227, -0.7319800748374122, -0.29265216113961545, -0.36087379702803224, -0.04027675520163823, -0.24063564992242378, -1.2436397165116935, -0.6380650947146708, -1.194083286516507, 0.1779335575301587, -0.5384113135074421, 0.2915091190224508, 0.466796616138699, -0.43114256548016455, 1.2786748208881396, 1.4078719927900933, 0.14674226717423464, -0.029148341361593073, -1.0673227647170362, -0.6376233349993639, -0.17509268696626795, -0.4170870697877158, 0.4159894756560567, -2.208839366952025, 1.1269460290850897, -0.4095692566448082, 0.7856726897159855, -1.490180580048176, -1.617147938156026, 0.4365288533186661, -2.32656190655788, 0.15681159571219597, 0.5391784367802614, -0.5002333680231703, 0.6548667984163916, 0.27970593897368917, -0.7844703375909428, 0.9073102317074612, -1.1835772548443797, -1.1252365576347547, -0.31910636809035, -0.7706391044036293, 1.5932069582471045, -1.4300111814134815, 0.09777836056991747, 0.21906285684508117, -0.025607437932308883, -1.0696693509127029, 0.058516669742657644, -0.3377730316094605, -0.7808950376846182, 0.5148406510673026, -0.6532931427041353], \"xaxis\": \"x2\", \"y\": [-1.8453562462643196, -0.20040405303757655, -1.1637956456188199, 0.6205025203423028, -0.8390568855527745, -1.2174976462691052, -0.5640138103328367, 0.013620573399448279, 0.40059182767551943, -0.5997626758413155, 0.07726576350156705, 0.928610877203632, 0.426972018264773, -0.9990060932331011, 1.078661270762736, -0.4513974079092731, -1.2643201140490237, 2.5256077680999685, 0.41086499908738955, -0.04475172187968378, 0.8233287809051226, -0.7271645524645527, 0.14030657831421076, -1.0988235896220555, 0.7489175266400919, 0.46582312686492033, -0.05288123591202588, -1.3670291716449292, 0.7309050939934914, -0.6098667055895841, 0.5041275128978567, 2.040048937172921, -2.185274683047773, 1.0196751415031662, 0.9945470359624125, -1.025592479915559, -1.267140473022391, -0.8689838118146973, -0.2236579399824439, -1.3097944848343677, -0.8414647840651517, 0.6071895041961782, -0.288065793118509, -0.0855433340132728, 1.2362626011306976, -0.34103353649966367, 1.2706087277806368, 1.5483104445093612, 0.18539608217150366, -0.7546004022350437, -0.8326852647100786, -1.1021601391805258, -1.1929778907431932, 1.9549439684527512, -1.210342094834586, 0.4060144585650524, 1.691010701899478, -0.8750443198147615, 1.160394755522703, 2.275642804498575, -0.052481187252204894, 0.764446349668718, 0.7748214923293414, 0.24170402743498778, 0.28327289936704275, 0.2467195735483266, 0.914032725604146, -0.08601512694460697, 0.9489571859474513, 0.8142978876236726, 0.7883298154110456, -0.32628991344569763, 0.2301082679624488, 1.6341593800247989, -1.6944753689322416, -0.758403852271044, 0.9422713425820108, 0.5407768447682212, -0.4172833249642221, -0.9133540169871017, 1.2975516807100265, 0.5348525441513422, -0.9491627313232666, -0.3285687661985525, 0.7487839314169843, -0.3011044136198415, -0.6231469374589843, -0.46272480238509744, 0.751870774961926, 0.6842338081501783, 0.1857636597163811, 0.8977181310333129, -0.6380029150186659, -0.014892138107339364, -1.4264492976702383, -1.3625157787787476, -0.5037475787792652, -0.7209368299148544, -0.1853579105123794, 0.8853425687953029], \"yaxis\": \"y2\"}, {\"line\": {\"color\": \"rgba(128, 128, 128, 1.0)\", \"dash\": \"solid\", \"shape\": \"linear\", \"width\": 1.3}, \"marker\": {\"size\": 2, \"symbol\": \"circle\"}, \"mode\": \"markers\", \"name\": \"A\", \"text\": \"\", \"type\": \"scatter\", \"x\": [-0.277526268880154, 1.8806378896944345, 0.5375396639187595, -0.23305474120718497, -1.3821896730588017, 1.025259435993224, -0.09718663235788895, -0.8354318558470502, -0.9554132107877621, -0.9980120158071458, -0.7288446678912462, -0.09800589833805058, 0.4142448507363215, 0.8930469136911544, -1.3154328314067614, -1.0787057467905357, -1.4023916791873683, -0.5119184069337409, -1.1088443091663442, -2.0937764404176358, 0.11965814021413287, 0.014535947236977095, -0.9143356475413426, 0.19868604209706775, 0.3579958528661736, 0.21904242410495528, 0.31162477836671676, -0.8998869556253257, 1.6066631635219826, 1.3656132922140805, -1.6598489854498533, -0.5527174648713857, 0.6951101679076586, 0.7516151949165328, 0.7786933724609784, 0.4766867477108337, -0.17144337973890908, 0.23451231613527032, 0.8988743742269301, 0.2911750095516407, 0.29810426701672227, -0.6594490981096367, -0.9656491217788379, -0.8500173835479492, -0.75432673338305, 0.0844725891951118, -0.14184019787176547, 0.2660853672997226, -0.7610129991979636, -0.04117765919514578, -0.9985293461976696, 0.06749302036218557, 1.2554585501336368, 1.1185878363246051, 0.5860708559698183, -1.9131282637858404, 1.2062112575773272, 0.5387575022359602, -1.1381452377237462, 0.1809719774956799, -2.5715021298407965, 0.059962622748691505, 0.07732076913620874, -0.8651373884301342, 0.29346528328831206, 1.5738460269574914, 0.5710476800970452, -0.2281222832467052, 0.4329254522143724, -0.8058356408865905, -1.8283622176542802, 0.012648032752178408, 1.087145802022887, 1.2401656494506434, 1.3606613435368604, 1.9777769083614607, 1.1204220324793175, 2.15724221605289, 0.12412886668282784, -0.912610229607422, -0.11798779858281276, 0.3544154955218318, 1.1336664687547644, -0.34016632606422975, 0.5417409572516666, -1.2090432994150027, -0.42541552008403116, 2.1722996121439175, -0.21381167123162242, -1.8180496867074007, 1.6885450083464077, -0.5574374806984402, 0.760069366299482, -0.18149211511086832, 1.1721397473163495, 0.12434777818730382, 0.6675931694222231, 0.922444871131447, -0.1631368335189949, 0.3537426852288049], \"xaxis\": \"x3\", \"y\": [-1.8453562462643196, -0.20040405303757655, -1.1637956456188199, 0.6205025203423028, -0.8390568855527745, -1.2174976462691052, -0.5640138103328367, 0.013620573399448279, 0.40059182767551943, -0.5997626758413155, 0.07726576350156705, 0.928610877203632, 0.426972018264773, -0.9990060932331011, 1.078661270762736, -0.4513974079092731, -1.2643201140490237, 2.5256077680999685, 0.41086499908738955, -0.04475172187968378, 0.8233287809051226, -0.7271645524645527, 0.14030657831421076, -1.0988235896220555, 0.7489175266400919, 0.46582312686492033, -0.05288123591202588, -1.3670291716449292, 0.7309050939934914, -0.6098667055895841, 0.5041275128978567, 2.040048937172921, -2.185274683047773, 1.0196751415031662, 0.9945470359624125, -1.025592479915559, -1.267140473022391, -0.8689838118146973, -0.2236579399824439, -1.3097944848343677, -0.8414647840651517, 0.6071895041961782, -0.288065793118509, -0.0855433340132728, 1.2362626011306976, -0.34103353649966367, 1.2706087277806368, 1.5483104445093612, 0.18539608217150366, -0.7546004022350437, -0.8326852647100786, -1.1021601391805258, -1.1929778907431932, 1.9549439684527512, -1.210342094834586, 0.4060144585650524, 1.691010701899478, -0.8750443198147615, 1.160394755522703, 2.275642804498575, -0.052481187252204894, 0.764446349668718, 0.7748214923293414, 0.24170402743498778, 0.28327289936704275, 0.2467195735483266, 0.914032725604146, -0.08601512694460697, 0.9489571859474513, 0.8142978876236726, 0.7883298154110456, -0.32628991344569763, 0.2301082679624488, 1.6341593800247989, -1.6944753689322416, -0.758403852271044, 0.9422713425820108, 0.5407768447682212, -0.4172833249642221, -0.9133540169871017, 1.2975516807100265, 0.5348525441513422, -0.9491627313232666, -0.3285687661985525, 0.7487839314169843, -0.3011044136198415, -0.6231469374589843, -0.46272480238509744, 0.751870774961926, 0.6842338081501783, 0.1857636597163811, 0.8977181310333129, -0.6380029150186659, -0.014892138107339364, -1.4264492976702383, -1.3625157787787476, -0.5037475787792652, -0.7209368299148544, -0.1853579105123794, 0.8853425687953029], \"yaxis\": \"y3\"}, {\"line\": {\"color\": \"rgba(128, 128, 128, 1.0)\", \"dash\": \"solid\", \"shape\": \"linear\", \"width\": 1.3}, \"marker\": {\"size\": 2, \"symbol\": \"circle\"}, \"mode\": \"markers\", \"name\": \"A\", \"text\": \"\", \"type\": \"scatter\", \"x\": [-0.20288954987522298, 0.47562781170015117, 1.0954645050360055, 0.05142270605075998, 0.7773838232433251, 0.007190802121658992, 0.9330330366472316, 0.25278957453202155, 0.7912842769059294, -1.5080542550000453, -0.8544406084751497, -1.134729595263459, 0.05825979368071219, 0.2146463696921684, 0.04662013326171583, 0.5540938951604478, 0.05337064123212655, 0.4015398892594597, -0.537877282571492, -0.01356767963942102, 1.12291981823085, -0.16991722703743997, -2.1649621368124365, 0.646625372085061, -0.9436215511212397, -0.017092998021010358, -1.6929617303353777, -0.7472908580009684, -0.07448294099397612, -0.8229027954852032, 1.8220565241827829, -0.4711541363054006, -0.3875045445647151, -0.6569686142157253, 0.7332218380745128, -0.5570759097518201, 1.0723471241184808, 0.33430570074168875, -0.9243664465918211, 0.1505965722469187, -1.056428401340786, -1.305043252718549, 0.11578289000731946, 0.4437189810986824, 0.22954717368797098, 0.029304543103711386, -0.39513029151026724, -0.8235530546317273, -1.9523295724970102, -1.177665128287269, -1.0095064617371476, 0.7790840607890945, 0.05894009941627537, -0.5433540023291886, 1.085779479815206, 0.7826441852428289, 1.2150677355363977, -0.9204910295828099, -1.362688844712512, 0.2770998736837296, -0.3225260542372228, -1.0748471038034475, -0.40758303493437886, 0.8829258375427694, 0.06564100695825047, -1.0880140266922238, 0.05593835976329027, -1.1429599994130628, -1.7083542168907964, -0.48180739894069535, 0.39476090460733554, -0.48966789895414564, 0.7684063158809339, -0.5997280018599644, -0.29185382061886356, 1.1365401579715937, 0.6055377918111082, -0.3986381493243074, -0.9435626869936969, -0.7538986282295188, 0.009796039565694662, -0.574232744454487, -0.04360582490458948, 0.5821706968080934, 0.3154086450269751, -1.2217113360268572, 0.4656273186652484, 1.2087959710178389, 1.5239697315533887, -0.9937878298669706, 0.9487735570869901, -0.4087578570843467, -0.16658630197250793, 1.0960447241009474, -0.0028087670297548585, 2.885884320062406, -0.45319803048317137, 0.7145396301239757, -0.5574697507340491, 1.2396881764991705], \"xaxis\": \"x4\", \"y\": [-1.8453562462643196, -0.20040405303757655, -1.1637956456188199, 0.6205025203423028, -0.8390568855527745, -1.2174976462691052, -0.5640138103328367, 0.013620573399448279, 0.40059182767551943, -0.5997626758413155, 0.07726576350156705, 0.928610877203632, 0.426972018264773, -0.9990060932331011, 1.078661270762736, -0.4513974079092731, -1.2643201140490237, 2.5256077680999685, 0.41086499908738955, -0.04475172187968378, 0.8233287809051226, -0.7271645524645527, 0.14030657831421076, -1.0988235896220555, 0.7489175266400919, 0.46582312686492033, -0.05288123591202588, -1.3670291716449292, 0.7309050939934914, -0.6098667055895841, 0.5041275128978567, 2.040048937172921, -2.185274683047773, 1.0196751415031662, 0.9945470359624125, -1.025592479915559, -1.267140473022391, -0.8689838118146973, -0.2236579399824439, -1.3097944848343677, -0.8414647840651517, 0.6071895041961782, -0.288065793118509, -0.0855433340132728, 1.2362626011306976, -0.34103353649966367, 1.2706087277806368, 1.5483104445093612, 0.18539608217150366, -0.7546004022350437, -0.8326852647100786, -1.1021601391805258, -1.1929778907431932, 1.9549439684527512, -1.210342094834586, 0.4060144585650524, 1.691010701899478, -0.8750443198147615, 1.160394755522703, 2.275642804498575, -0.052481187252204894, 0.764446349668718, 0.7748214923293414, 0.24170402743498778, 0.28327289936704275, 0.2467195735483266, 0.914032725604146, -0.08601512694460697, 0.9489571859474513, 0.8142978876236726, 0.7883298154110456, -0.32628991344569763, 0.2301082679624488, 1.6341593800247989, -1.6944753689322416, -0.758403852271044, 0.9422713425820108, 0.5407768447682212, -0.4172833249642221, -0.9133540169871017, 1.2975516807100265, 0.5348525441513422, -0.9491627313232666, -0.3285687661985525, 0.7487839314169843, -0.3011044136198415, -0.6231469374589843, -0.46272480238509744, 0.751870774961926, 0.6842338081501783, 0.1857636597163811, 0.8977181310333129, -0.6380029150186659, -0.014892138107339364, -1.4264492976702383, -1.3625157787787476, -0.5037475787792652, -0.7209368299148544, -0.1853579105123794, 0.8853425687953029], \"yaxis\": \"y4\"}, {\"line\": {\"color\": \"rgba(128, 128, 128, 1.0)\", \"dash\": \"solid\", \"shape\": \"linear\", \"width\": 1.3}, \"marker\": {\"size\": 2, \"symbol\": \"circle\"}, \"mode\": \"markers\", \"name\": \"B\", \"text\": \"\", \"type\": \"scatter\", \"x\": [-1.8453562462643196, -0.20040405303757655, -1.1637956456188199, 0.6205025203423028, -0.8390568855527745, -1.2174976462691052, -0.5640138103328367, 0.013620573399448279, 0.40059182767551943, -0.5997626758413155, 0.07726576350156705, 0.928610877203632, 0.426972018264773, -0.9990060932331011, 1.078661270762736, -0.4513974079092731, -1.2643201140490237, 2.5256077680999685, 0.41086499908738955, -0.04475172187968378, 0.8233287809051226, -0.7271645524645527, 0.14030657831421076, -1.0988235896220555, 0.7489175266400919, 0.46582312686492033, -0.05288123591202588, -1.3670291716449292, 0.7309050939934914, -0.6098667055895841, 0.5041275128978567, 2.040048937172921, -2.185274683047773, 1.0196751415031662, 0.9945470359624125, -1.025592479915559, -1.267140473022391, -0.8689838118146973, -0.2236579399824439, -1.3097944848343677, -0.8414647840651517, 0.6071895041961782, -0.288065793118509, -0.0855433340132728, 1.2362626011306976, -0.34103353649966367, 1.2706087277806368, 1.5483104445093612, 0.18539608217150366, -0.7546004022350437, -0.8326852647100786, -1.1021601391805258, -1.1929778907431932, 1.9549439684527512, -1.210342094834586, 0.4060144585650524, 1.691010701899478, -0.8750443198147615, 1.160394755522703, 2.275642804498575, -0.052481187252204894, 0.764446349668718, 0.7748214923293414, 0.24170402743498778, 0.28327289936704275, 0.2467195735483266, 0.914032725604146, -0.08601512694460697, 0.9489571859474513, 0.8142978876236726, 0.7883298154110456, -0.32628991344569763, 0.2301082679624488, 1.6341593800247989, -1.6944753689322416, -0.758403852271044, 0.9422713425820108, 0.5407768447682212, -0.4172833249642221, -0.9133540169871017, 1.2975516807100265, 0.5348525441513422, -0.9491627313232666, -0.3285687661985525, 0.7487839314169843, -0.3011044136198415, -0.6231469374589843, -0.46272480238509744, 0.751870774961926, 0.6842338081501783, 0.1857636597163811, 0.8977181310333129, -0.6380029150186659, -0.014892138107339364, -1.4264492976702383, -1.3625157787787476, -0.5037475787792652, -0.7209368299148544, -0.1853579105123794, 0.8853425687953029], \"xaxis\": \"x5\", \"y\": [-0.918051978935254, -2.7056575029327217, -0.26581756141055396, 2.7780920157639803, -0.8734279386889949, -0.06334899773831265, 1.4821560963767562, 0.3720351753435628, 2.289468082163019, -0.8374384578030118, -2.108703088038587, 0.9788520364174591, 1.4650258305467085, 1.2415652263814414, 1.0310626547555006, -0.3122406935164411, -0.14735613041299925, 0.33275767892759495, -0.1161274919960927, 0.281205976719588, -0.14951869895483794, 0.41174605696281846, 2.354209612658942, 2.092110024373878, -0.844565089723117, -1.5305136905849483, -0.4080953430172473, -0.49831975030647513, 0.532663605513584, 0.16759861208915242, 0.46247832654774845, 0.38741399084499084, -1.8520213138080566, -0.019018730510986254, -1.0113286481308315, -1.0929063112561626, -0.7089062318588992, -0.49640898092235836, -0.9734721463692066, 0.5801554907558394, -0.06540899964125191, -0.6111002896985552, 0.45438818782559776, 0.4785280675226295, 1.2923482368164383, -0.5748394916445265, 0.43943437190379214, -1.4174040567585227, -0.7319800748374122, -0.29265216113961545, -0.36087379702803224, -0.04027675520163823, -0.24063564992242378, -1.2436397165116935, -0.6380650947146708, -1.194083286516507, 0.1779335575301587, -0.5384113135074421, 0.2915091190224508, 0.466796616138699, -0.43114256548016455, 1.2786748208881396, 1.4078719927900933, 0.14674226717423464, -0.029148341361593073, -1.0673227647170362, -0.6376233349993639, -0.17509268696626795, -0.4170870697877158, 0.4159894756560567, -2.208839366952025, 1.1269460290850897, -0.4095692566448082, 0.7856726897159855, -1.490180580048176, -1.617147938156026, 0.4365288533186661, -2.32656190655788, 0.15681159571219597, 0.5391784367802614, -0.5002333680231703, 0.6548667984163916, 0.27970593897368917, -0.7844703375909428, 0.9073102317074612, -1.1835772548443797, -1.1252365576347547, -0.31910636809035, -0.7706391044036293, 1.5932069582471045, -1.4300111814134815, 0.09777836056991747, 0.21906285684508117, -0.025607437932308883, -1.0696693509127029, 0.058516669742657644, -0.3377730316094605, -0.7808950376846182, 0.5148406510673026, -0.6532931427041353], \"yaxis\": \"y5\"}, {\"histfunc\": \"count\", \"histnorm\": \"\", \"marker\": {\"color\": \"rgba(55, 128, 191, 1.0)\", \"line\": {\"color\": \"#4D5663\", \"width\": 1.3}}, \"name\": \"B\", \"nbinsx\": 10, \"opacity\": 0.8, \"orientation\": \"v\", \"type\": \"histogram\", \"x\": [-0.918051978935254, -2.7056575029327217, -0.26581756141055396, 2.7780920157639803, -0.8734279386889949, -0.06334899773831265, 1.4821560963767562, 0.3720351753435628, 2.289468082163019, -0.8374384578030118, -2.108703088038587, 0.9788520364174591, 1.4650258305467085, 1.2415652263814414, 1.0310626547555006, -0.3122406935164411, -0.14735613041299925, 0.33275767892759495, -0.1161274919960927, 0.281205976719588, -0.14951869895483794, 0.41174605696281846, 2.354209612658942, 2.092110024373878, -0.844565089723117, -1.5305136905849483, -0.4080953430172473, -0.49831975030647513, 0.532663605513584, 0.16759861208915242, 0.46247832654774845, 0.38741399084499084, -1.8520213138080566, -0.019018730510986254, -1.0113286481308315, -1.0929063112561626, -0.7089062318588992, -0.49640898092235836, -0.9734721463692066, 0.5801554907558394, -0.06540899964125191, -0.6111002896985552, 0.45438818782559776, 0.4785280675226295, 1.2923482368164383, -0.5748394916445265, 0.43943437190379214, -1.4174040567585227, -0.7319800748374122, -0.29265216113961545, -0.36087379702803224, -0.04027675520163823, -0.24063564992242378, -1.2436397165116935, -0.6380650947146708, -1.194083286516507, 0.1779335575301587, -0.5384113135074421, 0.2915091190224508, 0.466796616138699, -0.43114256548016455, 1.2786748208881396, 1.4078719927900933, 0.14674226717423464, -0.029148341361593073, -1.0673227647170362, -0.6376233349993639, -0.17509268696626795, -0.4170870697877158, 0.4159894756560567, -2.208839366952025, 1.1269460290850897, -0.4095692566448082, 0.7856726897159855, -1.490180580048176, -1.617147938156026, 0.4365288533186661, -2.32656190655788, 0.15681159571219597, 0.5391784367802614, -0.5002333680231703, 0.6548667984163916, 0.27970593897368917, -0.7844703375909428, 0.9073102317074612, -1.1835772548443797, -1.1252365576347547, -0.31910636809035, -0.7706391044036293, 1.5932069582471045, -1.4300111814134815, 0.09777836056991747, 0.21906285684508117, -0.025607437932308883, -1.0696693509127029, 0.058516669742657644, -0.3377730316094605, -0.7808950376846182, 0.5148406510673026, -0.6532931427041353], \"xaxis\": \"x6\", \"yaxis\": \"y6\"}, {\"line\": {\"color\": \"rgba(128, 128, 128, 1.0)\", \"dash\": \"solid\", \"shape\": \"linear\", \"width\": 1.3}, \"marker\": {\"size\": 2, \"symbol\": \"circle\"}, \"mode\": \"markers\", \"name\": \"B\", \"text\": \"\", \"type\": \"scatter\", \"x\": [-0.277526268880154, 1.8806378896944345, 0.5375396639187595, -0.23305474120718497, -1.3821896730588017, 1.025259435993224, -0.09718663235788895, -0.8354318558470502, -0.9554132107877621, -0.9980120158071458, -0.7288446678912462, -0.09800589833805058, 0.4142448507363215, 0.8930469136911544, -1.3154328314067614, -1.0787057467905357, -1.4023916791873683, -0.5119184069337409, -1.1088443091663442, -2.0937764404176358, 0.11965814021413287, 0.014535947236977095, -0.9143356475413426, 0.19868604209706775, 0.3579958528661736, 0.21904242410495528, 0.31162477836671676, -0.8998869556253257, 1.6066631635219826, 1.3656132922140805, -1.6598489854498533, -0.5527174648713857, 0.6951101679076586, 0.7516151949165328, 0.7786933724609784, 0.4766867477108337, -0.17144337973890908, 0.23451231613527032, 0.8988743742269301, 0.2911750095516407, 0.29810426701672227, -0.6594490981096367, -0.9656491217788379, -0.8500173835479492, -0.75432673338305, 0.0844725891951118, -0.14184019787176547, 0.2660853672997226, -0.7610129991979636, -0.04117765919514578, -0.9985293461976696, 0.06749302036218557, 1.2554585501336368, 1.1185878363246051, 0.5860708559698183, -1.9131282637858404, 1.2062112575773272, 0.5387575022359602, -1.1381452377237462, 0.1809719774956799, -2.5715021298407965, 0.059962622748691505, 0.07732076913620874, -0.8651373884301342, 0.29346528328831206, 1.5738460269574914, 0.5710476800970452, -0.2281222832467052, 0.4329254522143724, -0.8058356408865905, -1.8283622176542802, 0.012648032752178408, 1.087145802022887, 1.2401656494506434, 1.3606613435368604, 1.9777769083614607, 1.1204220324793175, 2.15724221605289, 0.12412886668282784, -0.912610229607422, -0.11798779858281276, 0.3544154955218318, 1.1336664687547644, -0.34016632606422975, 0.5417409572516666, -1.2090432994150027, -0.42541552008403116, 2.1722996121439175, -0.21381167123162242, -1.8180496867074007, 1.6885450083464077, -0.5574374806984402, 0.760069366299482, -0.18149211511086832, 1.1721397473163495, 0.12434777818730382, 0.6675931694222231, 0.922444871131447, -0.1631368335189949, 0.3537426852288049], \"xaxis\": \"x7\", \"y\": [-0.918051978935254, -2.7056575029327217, -0.26581756141055396, 2.7780920157639803, -0.8734279386889949, -0.06334899773831265, 1.4821560963767562, 0.3720351753435628, 2.289468082163019, -0.8374384578030118, -2.108703088038587, 0.9788520364174591, 1.4650258305467085, 1.2415652263814414, 1.0310626547555006, -0.3122406935164411, -0.14735613041299925, 0.33275767892759495, -0.1161274919960927, 0.281205976719588, -0.14951869895483794, 0.41174605696281846, 2.354209612658942, 2.092110024373878, -0.844565089723117, -1.5305136905849483, -0.4080953430172473, -0.49831975030647513, 0.532663605513584, 0.16759861208915242, 0.46247832654774845, 0.38741399084499084, -1.8520213138080566, -0.019018730510986254, -1.0113286481308315, -1.0929063112561626, -0.7089062318588992, -0.49640898092235836, -0.9734721463692066, 0.5801554907558394, -0.06540899964125191, -0.6111002896985552, 0.45438818782559776, 0.4785280675226295, 1.2923482368164383, -0.5748394916445265, 0.43943437190379214, -1.4174040567585227, -0.7319800748374122, -0.29265216113961545, -0.36087379702803224, -0.04027675520163823, -0.24063564992242378, -1.2436397165116935, -0.6380650947146708, -1.194083286516507, 0.1779335575301587, -0.5384113135074421, 0.2915091190224508, 0.466796616138699, -0.43114256548016455, 1.2786748208881396, 1.4078719927900933, 0.14674226717423464, -0.029148341361593073, -1.0673227647170362, -0.6376233349993639, -0.17509268696626795, -0.4170870697877158, 0.4159894756560567, -2.208839366952025, 1.1269460290850897, -0.4095692566448082, 0.7856726897159855, -1.490180580048176, -1.617147938156026, 0.4365288533186661, -2.32656190655788, 0.15681159571219597, 0.5391784367802614, -0.5002333680231703, 0.6548667984163916, 0.27970593897368917, -0.7844703375909428, 0.9073102317074612, -1.1835772548443797, -1.1252365576347547, -0.31910636809035, -0.7706391044036293, 1.5932069582471045, -1.4300111814134815, 0.09777836056991747, 0.21906285684508117, -0.025607437932308883, -1.0696693509127029, 0.058516669742657644, -0.3377730316094605, -0.7808950376846182, 0.5148406510673026, -0.6532931427041353], \"yaxis\": \"y7\"}, {\"line\": {\"color\": \"rgba(128, 128, 128, 1.0)\", \"dash\": \"solid\", \"shape\": \"linear\", \"width\": 1.3}, \"marker\": {\"size\": 2, \"symbol\": \"circle\"}, \"mode\": \"markers\", \"name\": \"B\", \"text\": \"\", \"type\": \"scatter\", \"x\": [-0.20288954987522298, 0.47562781170015117, 1.0954645050360055, 0.05142270605075998, 0.7773838232433251, 0.007190802121658992, 0.9330330366472316, 0.25278957453202155, 0.7912842769059294, -1.5080542550000453, -0.8544406084751497, -1.134729595263459, 0.05825979368071219, 0.2146463696921684, 0.04662013326171583, 0.5540938951604478, 0.05337064123212655, 0.4015398892594597, -0.537877282571492, -0.01356767963942102, 1.12291981823085, -0.16991722703743997, -2.1649621368124365, 0.646625372085061, -0.9436215511212397, -0.017092998021010358, -1.6929617303353777, -0.7472908580009684, -0.07448294099397612, -0.8229027954852032, 1.8220565241827829, -0.4711541363054006, -0.3875045445647151, -0.6569686142157253, 0.7332218380745128, -0.5570759097518201, 1.0723471241184808, 0.33430570074168875, -0.9243664465918211, 0.1505965722469187, -1.056428401340786, -1.305043252718549, 0.11578289000731946, 0.4437189810986824, 0.22954717368797098, 0.029304543103711386, -0.39513029151026724, -0.8235530546317273, -1.9523295724970102, -1.177665128287269, -1.0095064617371476, 0.7790840607890945, 0.05894009941627537, -0.5433540023291886, 1.085779479815206, 0.7826441852428289, 1.2150677355363977, -0.9204910295828099, -1.362688844712512, 0.2770998736837296, -0.3225260542372228, -1.0748471038034475, -0.40758303493437886, 0.8829258375427694, 0.06564100695825047, -1.0880140266922238, 0.05593835976329027, -1.1429599994130628, -1.7083542168907964, -0.48180739894069535, 0.39476090460733554, -0.48966789895414564, 0.7684063158809339, -0.5997280018599644, -0.29185382061886356, 1.1365401579715937, 0.6055377918111082, -0.3986381493243074, -0.9435626869936969, -0.7538986282295188, 0.009796039565694662, -0.574232744454487, -0.04360582490458948, 0.5821706968080934, 0.3154086450269751, -1.2217113360268572, 0.4656273186652484, 1.2087959710178389, 1.5239697315533887, -0.9937878298669706, 0.9487735570869901, -0.4087578570843467, -0.16658630197250793, 1.0960447241009474, -0.0028087670297548585, 2.885884320062406, -0.45319803048317137, 0.7145396301239757, -0.5574697507340491, 1.2396881764991705], \"xaxis\": \"x8\", \"y\": [-0.918051978935254, -2.7056575029327217, -0.26581756141055396, 2.7780920157639803, -0.8734279386889949, -0.06334899773831265, 1.4821560963767562, 0.3720351753435628, 2.289468082163019, -0.8374384578030118, -2.108703088038587, 0.9788520364174591, 1.4650258305467085, 1.2415652263814414, 1.0310626547555006, -0.3122406935164411, -0.14735613041299925, 0.33275767892759495, -0.1161274919960927, 0.281205976719588, -0.14951869895483794, 0.41174605696281846, 2.354209612658942, 2.092110024373878, -0.844565089723117, -1.5305136905849483, -0.4080953430172473, -0.49831975030647513, 0.532663605513584, 0.16759861208915242, 0.46247832654774845, 0.38741399084499084, -1.8520213138080566, -0.019018730510986254, -1.0113286481308315, -1.0929063112561626, -0.7089062318588992, -0.49640898092235836, -0.9734721463692066, 0.5801554907558394, -0.06540899964125191, -0.6111002896985552, 0.45438818782559776, 0.4785280675226295, 1.2923482368164383, -0.5748394916445265, 0.43943437190379214, -1.4174040567585227, -0.7319800748374122, -0.29265216113961545, -0.36087379702803224, -0.04027675520163823, -0.24063564992242378, -1.2436397165116935, -0.6380650947146708, -1.194083286516507, 0.1779335575301587, -0.5384113135074421, 0.2915091190224508, 0.466796616138699, -0.43114256548016455, 1.2786748208881396, 1.4078719927900933, 0.14674226717423464, -0.029148341361593073, -1.0673227647170362, -0.6376233349993639, -0.17509268696626795, -0.4170870697877158, 0.4159894756560567, -2.208839366952025, 1.1269460290850897, -0.4095692566448082, 0.7856726897159855, -1.490180580048176, -1.617147938156026, 0.4365288533186661, -2.32656190655788, 0.15681159571219597, 0.5391784367802614, -0.5002333680231703, 0.6548667984163916, 0.27970593897368917, -0.7844703375909428, 0.9073102317074612, -1.1835772548443797, -1.1252365576347547, -0.31910636809035, -0.7706391044036293, 1.5932069582471045, -1.4300111814134815, 0.09777836056991747, 0.21906285684508117, -0.025607437932308883, -1.0696693509127029, 0.058516669742657644, -0.3377730316094605, -0.7808950376846182, 0.5148406510673026, -0.6532931427041353], \"yaxis\": \"y8\"}, {\"line\": {\"color\": \"rgba(128, 128, 128, 1.0)\", \"dash\": \"solid\", \"shape\": \"linear\", \"width\": 1.3}, \"marker\": {\"size\": 2, \"symbol\": \"circle\"}, \"mode\": \"markers\", \"name\": \"C\", \"text\": \"\", \"type\": \"scatter\", \"x\": [-1.8453562462643196, -0.20040405303757655, -1.1637956456188199, 0.6205025203423028, -0.8390568855527745, -1.2174976462691052, -0.5640138103328367, 0.013620573399448279, 0.40059182767551943, -0.5997626758413155, 0.07726576350156705, 0.928610877203632, 0.426972018264773, -0.9990060932331011, 1.078661270762736, -0.4513974079092731, -1.2643201140490237, 2.5256077680999685, 0.41086499908738955, -0.04475172187968378, 0.8233287809051226, -0.7271645524645527, 0.14030657831421076, -1.0988235896220555, 0.7489175266400919, 0.46582312686492033, -0.05288123591202588, -1.3670291716449292, 0.7309050939934914, -0.6098667055895841, 0.5041275128978567, 2.040048937172921, -2.185274683047773, 1.0196751415031662, 0.9945470359624125, -1.025592479915559, -1.267140473022391, -0.8689838118146973, -0.2236579399824439, -1.3097944848343677, -0.8414647840651517, 0.6071895041961782, -0.288065793118509, -0.0855433340132728, 1.2362626011306976, -0.34103353649966367, 1.2706087277806368, 1.5483104445093612, 0.18539608217150366, -0.7546004022350437, -0.8326852647100786, -1.1021601391805258, -1.1929778907431932, 1.9549439684527512, -1.210342094834586, 0.4060144585650524, 1.691010701899478, -0.8750443198147615, 1.160394755522703, 2.275642804498575, -0.052481187252204894, 0.764446349668718, 0.7748214923293414, 0.24170402743498778, 0.28327289936704275, 0.2467195735483266, 0.914032725604146, -0.08601512694460697, 0.9489571859474513, 0.8142978876236726, 0.7883298154110456, -0.32628991344569763, 0.2301082679624488, 1.6341593800247989, -1.6944753689322416, -0.758403852271044, 0.9422713425820108, 0.5407768447682212, -0.4172833249642221, -0.9133540169871017, 1.2975516807100265, 0.5348525441513422, -0.9491627313232666, -0.3285687661985525, 0.7487839314169843, -0.3011044136198415, -0.6231469374589843, -0.46272480238509744, 0.751870774961926, 0.6842338081501783, 0.1857636597163811, 0.8977181310333129, -0.6380029150186659, -0.014892138107339364, -1.4264492976702383, -1.3625157787787476, -0.5037475787792652, -0.7209368299148544, -0.1853579105123794, 0.8853425687953029], \"xaxis\": \"x9\", \"y\": [-0.277526268880154, 1.8806378896944345, 0.5375396639187595, -0.23305474120718497, -1.3821896730588017, 1.025259435993224, -0.09718663235788895, -0.8354318558470502, -0.9554132107877621, -0.9980120158071458, -0.7288446678912462, -0.09800589833805058, 0.4142448507363215, 0.8930469136911544, -1.3154328314067614, -1.0787057467905357, -1.4023916791873683, -0.5119184069337409, -1.1088443091663442, -2.0937764404176358, 0.11965814021413287, 0.014535947236977095, -0.9143356475413426, 0.19868604209706775, 0.3579958528661736, 0.21904242410495528, 0.31162477836671676, -0.8998869556253257, 1.6066631635219826, 1.3656132922140805, -1.6598489854498533, -0.5527174648713857, 0.6951101679076586, 0.7516151949165328, 0.7786933724609784, 0.4766867477108337, -0.17144337973890908, 0.23451231613527032, 0.8988743742269301, 0.2911750095516407, 0.29810426701672227, -0.6594490981096367, -0.9656491217788379, -0.8500173835479492, -0.75432673338305, 0.0844725891951118, -0.14184019787176547, 0.2660853672997226, -0.7610129991979636, -0.04117765919514578, -0.9985293461976696, 0.06749302036218557, 1.2554585501336368, 1.1185878363246051, 0.5860708559698183, -1.9131282637858404, 1.2062112575773272, 0.5387575022359602, -1.1381452377237462, 0.1809719774956799, -2.5715021298407965, 0.059962622748691505, 0.07732076913620874, -0.8651373884301342, 0.29346528328831206, 1.5738460269574914, 0.5710476800970452, -0.2281222832467052, 0.4329254522143724, -0.8058356408865905, -1.8283622176542802, 0.012648032752178408, 1.087145802022887, 1.2401656494506434, 1.3606613435368604, 1.9777769083614607, 1.1204220324793175, 2.15724221605289, 0.12412886668282784, -0.912610229607422, -0.11798779858281276, 0.3544154955218318, 1.1336664687547644, -0.34016632606422975, 0.5417409572516666, -1.2090432994150027, -0.42541552008403116, 2.1722996121439175, -0.21381167123162242, -1.8180496867074007, 1.6885450083464077, -0.5574374806984402, 0.760069366299482, -0.18149211511086832, 1.1721397473163495, 0.12434777818730382, 0.6675931694222231, 0.922444871131447, -0.1631368335189949, 0.3537426852288049], \"yaxis\": \"y9\"}, {\"line\": {\"color\": \"rgba(128, 128, 128, 1.0)\", \"dash\": \"solid\", \"shape\": \"linear\", \"width\": 1.3}, \"marker\": {\"size\": 2, \"symbol\": \"circle\"}, \"mode\": \"markers\", \"name\": \"C\", \"text\": \"\", \"type\": \"scatter\", \"x\": [-0.918051978935254, -2.7056575029327217, -0.26581756141055396, 2.7780920157639803, -0.8734279386889949, -0.06334899773831265, 1.4821560963767562, 0.3720351753435628, 2.289468082163019, -0.8374384578030118, -2.108703088038587, 0.9788520364174591, 1.4650258305467085, 1.2415652263814414, 1.0310626547555006, -0.3122406935164411, -0.14735613041299925, 0.33275767892759495, -0.1161274919960927, 0.281205976719588, -0.14951869895483794, 0.41174605696281846, 2.354209612658942, 2.092110024373878, -0.844565089723117, -1.5305136905849483, -0.4080953430172473, -0.49831975030647513, 0.532663605513584, 0.16759861208915242, 0.46247832654774845, 0.38741399084499084, -1.8520213138080566, -0.019018730510986254, -1.0113286481308315, -1.0929063112561626, -0.7089062318588992, -0.49640898092235836, -0.9734721463692066, 0.5801554907558394, -0.06540899964125191, -0.6111002896985552, 0.45438818782559776, 0.4785280675226295, 1.2923482368164383, -0.5748394916445265, 0.43943437190379214, -1.4174040567585227, -0.7319800748374122, -0.29265216113961545, -0.36087379702803224, -0.04027675520163823, -0.24063564992242378, -1.2436397165116935, -0.6380650947146708, -1.194083286516507, 0.1779335575301587, -0.5384113135074421, 0.2915091190224508, 0.466796616138699, -0.43114256548016455, 1.2786748208881396, 1.4078719927900933, 0.14674226717423464, -0.029148341361593073, -1.0673227647170362, -0.6376233349993639, -0.17509268696626795, -0.4170870697877158, 0.4159894756560567, -2.208839366952025, 1.1269460290850897, -0.4095692566448082, 0.7856726897159855, -1.490180580048176, -1.617147938156026, 0.4365288533186661, -2.32656190655788, 0.15681159571219597, 0.5391784367802614, -0.5002333680231703, 0.6548667984163916, 0.27970593897368917, -0.7844703375909428, 0.9073102317074612, -1.1835772548443797, -1.1252365576347547, -0.31910636809035, -0.7706391044036293, 1.5932069582471045, -1.4300111814134815, 0.09777836056991747, 0.21906285684508117, -0.025607437932308883, -1.0696693509127029, 0.058516669742657644, -0.3377730316094605, -0.7808950376846182, 0.5148406510673026, -0.6532931427041353], \"xaxis\": \"x10\", \"y\": [-0.277526268880154, 1.8806378896944345, 0.5375396639187595, -0.23305474120718497, -1.3821896730588017, 1.025259435993224, -0.09718663235788895, -0.8354318558470502, -0.9554132107877621, -0.9980120158071458, -0.7288446678912462, -0.09800589833805058, 0.4142448507363215, 0.8930469136911544, -1.3154328314067614, -1.0787057467905357, -1.4023916791873683, -0.5119184069337409, -1.1088443091663442, -2.0937764404176358, 0.11965814021413287, 0.014535947236977095, -0.9143356475413426, 0.19868604209706775, 0.3579958528661736, 0.21904242410495528, 0.31162477836671676, -0.8998869556253257, 1.6066631635219826, 1.3656132922140805, -1.6598489854498533, -0.5527174648713857, 0.6951101679076586, 0.7516151949165328, 0.7786933724609784, 0.4766867477108337, -0.17144337973890908, 0.23451231613527032, 0.8988743742269301, 0.2911750095516407, 0.29810426701672227, -0.6594490981096367, -0.9656491217788379, -0.8500173835479492, -0.75432673338305, 0.0844725891951118, -0.14184019787176547, 0.2660853672997226, -0.7610129991979636, -0.04117765919514578, -0.9985293461976696, 0.06749302036218557, 1.2554585501336368, 1.1185878363246051, 0.5860708559698183, -1.9131282637858404, 1.2062112575773272, 0.5387575022359602, -1.1381452377237462, 0.1809719774956799, -2.5715021298407965, 0.059962622748691505, 0.07732076913620874, -0.8651373884301342, 0.29346528328831206, 1.5738460269574914, 0.5710476800970452, -0.2281222832467052, 0.4329254522143724, -0.8058356408865905, -1.8283622176542802, 0.012648032752178408, 1.087145802022887, 1.2401656494506434, 1.3606613435368604, 1.9777769083614607, 1.1204220324793175, 2.15724221605289, 0.12412886668282784, -0.912610229607422, -0.11798779858281276, 0.3544154955218318, 1.1336664687547644, -0.34016632606422975, 0.5417409572516666, -1.2090432994150027, -0.42541552008403116, 2.1722996121439175, -0.21381167123162242, -1.8180496867074007, 1.6885450083464077, -0.5574374806984402, 0.760069366299482, -0.18149211511086832, 1.1721397473163495, 0.12434777818730382, 0.6675931694222231, 0.922444871131447, -0.1631368335189949, 0.3537426852288049], \"yaxis\": \"y10\"}, {\"histfunc\": \"count\", \"histnorm\": \"\", \"marker\": {\"color\": \"rgba(50, 171, 96, 1.0)\", \"line\": {\"color\": \"#4D5663\", \"width\": 1.3}}, \"name\": \"C\", \"nbinsx\": 10, \"opacity\": 0.8, \"orientation\": \"v\", \"type\": \"histogram\", \"x\": [-0.277526268880154, 1.8806378896944345, 0.5375396639187595, -0.23305474120718497, -1.3821896730588017, 1.025259435993224, -0.09718663235788895, -0.8354318558470502, -0.9554132107877621, -0.9980120158071458, -0.7288446678912462, -0.09800589833805058, 0.4142448507363215, 0.8930469136911544, -1.3154328314067614, -1.0787057467905357, -1.4023916791873683, -0.5119184069337409, -1.1088443091663442, -2.0937764404176358, 0.11965814021413287, 0.014535947236977095, -0.9143356475413426, 0.19868604209706775, 0.3579958528661736, 0.21904242410495528, 0.31162477836671676, -0.8998869556253257, 1.6066631635219826, 1.3656132922140805, -1.6598489854498533, -0.5527174648713857, 0.6951101679076586, 0.7516151949165328, 0.7786933724609784, 0.4766867477108337, -0.17144337973890908, 0.23451231613527032, 0.8988743742269301, 0.2911750095516407, 0.29810426701672227, -0.6594490981096367, -0.9656491217788379, -0.8500173835479492, -0.75432673338305, 0.0844725891951118, -0.14184019787176547, 0.2660853672997226, -0.7610129991979636, -0.04117765919514578, -0.9985293461976696, 0.06749302036218557, 1.2554585501336368, 1.1185878363246051, 0.5860708559698183, -1.9131282637858404, 1.2062112575773272, 0.5387575022359602, -1.1381452377237462, 0.1809719774956799, -2.5715021298407965, 0.059962622748691505, 0.07732076913620874, -0.8651373884301342, 0.29346528328831206, 1.5738460269574914, 0.5710476800970452, -0.2281222832467052, 0.4329254522143724, -0.8058356408865905, -1.8283622176542802, 0.012648032752178408, 1.087145802022887, 1.2401656494506434, 1.3606613435368604, 1.9777769083614607, 1.1204220324793175, 2.15724221605289, 0.12412886668282784, -0.912610229607422, -0.11798779858281276, 0.3544154955218318, 1.1336664687547644, -0.34016632606422975, 0.5417409572516666, -1.2090432994150027, -0.42541552008403116, 2.1722996121439175, -0.21381167123162242, -1.8180496867074007, 1.6885450083464077, -0.5574374806984402, 0.760069366299482, -0.18149211511086832, 1.1721397473163495, 0.12434777818730382, 0.6675931694222231, 0.922444871131447, -0.1631368335189949, 0.3537426852288049], \"xaxis\": \"x11\", \"yaxis\": \"y11\"}, {\"line\": {\"color\": \"rgba(128, 128, 128, 1.0)\", \"dash\": \"solid\", \"shape\": \"linear\", \"width\": 1.3}, \"marker\": {\"size\": 2, \"symbol\": \"circle\"}, \"mode\": \"markers\", \"name\": \"C\", \"text\": \"\", \"type\": \"scatter\", \"x\": [-0.20288954987522298, 0.47562781170015117, 1.0954645050360055, 0.05142270605075998, 0.7773838232433251, 0.007190802121658992, 0.9330330366472316, 0.25278957453202155, 0.7912842769059294, -1.5080542550000453, -0.8544406084751497, -1.134729595263459, 0.05825979368071219, 0.2146463696921684, 0.04662013326171583, 0.5540938951604478, 0.05337064123212655, 0.4015398892594597, -0.537877282571492, -0.01356767963942102, 1.12291981823085, -0.16991722703743997, -2.1649621368124365, 0.646625372085061, -0.9436215511212397, -0.017092998021010358, -1.6929617303353777, -0.7472908580009684, -0.07448294099397612, -0.8229027954852032, 1.8220565241827829, -0.4711541363054006, -0.3875045445647151, -0.6569686142157253, 0.7332218380745128, -0.5570759097518201, 1.0723471241184808, 0.33430570074168875, -0.9243664465918211, 0.1505965722469187, -1.056428401340786, -1.305043252718549, 0.11578289000731946, 0.4437189810986824, 0.22954717368797098, 0.029304543103711386, -0.39513029151026724, -0.8235530546317273, -1.9523295724970102, -1.177665128287269, -1.0095064617371476, 0.7790840607890945, 0.05894009941627537, -0.5433540023291886, 1.085779479815206, 0.7826441852428289, 1.2150677355363977, -0.9204910295828099, -1.362688844712512, 0.2770998736837296, -0.3225260542372228, -1.0748471038034475, -0.40758303493437886, 0.8829258375427694, 0.06564100695825047, -1.0880140266922238, 0.05593835976329027, -1.1429599994130628, -1.7083542168907964, -0.48180739894069535, 0.39476090460733554, -0.48966789895414564, 0.7684063158809339, -0.5997280018599644, -0.29185382061886356, 1.1365401579715937, 0.6055377918111082, -0.3986381493243074, -0.9435626869936969, -0.7538986282295188, 0.009796039565694662, -0.574232744454487, -0.04360582490458948, 0.5821706968080934, 0.3154086450269751, -1.2217113360268572, 0.4656273186652484, 1.2087959710178389, 1.5239697315533887, -0.9937878298669706, 0.9487735570869901, -0.4087578570843467, -0.16658630197250793, 1.0960447241009474, -0.0028087670297548585, 2.885884320062406, -0.45319803048317137, 0.7145396301239757, -0.5574697507340491, 1.2396881764991705], \"xaxis\": \"x12\", \"y\": [-0.277526268880154, 1.8806378896944345, 0.5375396639187595, -0.23305474120718497, -1.3821896730588017, 1.025259435993224, -0.09718663235788895, -0.8354318558470502, -0.9554132107877621, -0.9980120158071458, -0.7288446678912462, -0.09800589833805058, 0.4142448507363215, 0.8930469136911544, -1.3154328314067614, -1.0787057467905357, -1.4023916791873683, -0.5119184069337409, -1.1088443091663442, -2.0937764404176358, 0.11965814021413287, 0.014535947236977095, -0.9143356475413426, 0.19868604209706775, 0.3579958528661736, 0.21904242410495528, 0.31162477836671676, -0.8998869556253257, 1.6066631635219826, 1.3656132922140805, -1.6598489854498533, -0.5527174648713857, 0.6951101679076586, 0.7516151949165328, 0.7786933724609784, 0.4766867477108337, -0.17144337973890908, 0.23451231613527032, 0.8988743742269301, 0.2911750095516407, 0.29810426701672227, -0.6594490981096367, -0.9656491217788379, -0.8500173835479492, -0.75432673338305, 0.0844725891951118, -0.14184019787176547, 0.2660853672997226, -0.7610129991979636, -0.04117765919514578, -0.9985293461976696, 0.06749302036218557, 1.2554585501336368, 1.1185878363246051, 0.5860708559698183, -1.9131282637858404, 1.2062112575773272, 0.5387575022359602, -1.1381452377237462, 0.1809719774956799, -2.5715021298407965, 0.059962622748691505, 0.07732076913620874, -0.8651373884301342, 0.29346528328831206, 1.5738460269574914, 0.5710476800970452, -0.2281222832467052, 0.4329254522143724, -0.8058356408865905, -1.8283622176542802, 0.012648032752178408, 1.087145802022887, 1.2401656494506434, 1.3606613435368604, 1.9777769083614607, 1.1204220324793175, 2.15724221605289, 0.12412886668282784, -0.912610229607422, -0.11798779858281276, 0.3544154955218318, 1.1336664687547644, -0.34016632606422975, 0.5417409572516666, -1.2090432994150027, -0.42541552008403116, 2.1722996121439175, -0.21381167123162242, -1.8180496867074007, 1.6885450083464077, -0.5574374806984402, 0.760069366299482, -0.18149211511086832, 1.1721397473163495, 0.12434777818730382, 0.6675931694222231, 0.922444871131447, -0.1631368335189949, 0.3537426852288049], \"yaxis\": \"y12\"}, {\"line\": {\"color\": \"rgba(128, 128, 128, 1.0)\", \"dash\": \"solid\", \"shape\": \"linear\", \"width\": 1.3}, \"marker\": {\"size\": 2, \"symbol\": \"circle\"}, \"mode\": \"markers\", \"name\": \"D\", \"text\": \"\", \"type\": \"scatter\", \"x\": [-1.8453562462643196, -0.20040405303757655, -1.1637956456188199, 0.6205025203423028, -0.8390568855527745, -1.2174976462691052, -0.5640138103328367, 0.013620573399448279, 0.40059182767551943, -0.5997626758413155, 0.07726576350156705, 0.928610877203632, 0.426972018264773, -0.9990060932331011, 1.078661270762736, -0.4513974079092731, -1.2643201140490237, 2.5256077680999685, 0.41086499908738955, -0.04475172187968378, 0.8233287809051226, -0.7271645524645527, 0.14030657831421076, -1.0988235896220555, 0.7489175266400919, 0.46582312686492033, -0.05288123591202588, -1.3670291716449292, 0.7309050939934914, -0.6098667055895841, 0.5041275128978567, 2.040048937172921, -2.185274683047773, 1.0196751415031662, 0.9945470359624125, -1.025592479915559, -1.267140473022391, -0.8689838118146973, -0.2236579399824439, -1.3097944848343677, -0.8414647840651517, 0.6071895041961782, -0.288065793118509, -0.0855433340132728, 1.2362626011306976, -0.34103353649966367, 1.2706087277806368, 1.5483104445093612, 0.18539608217150366, -0.7546004022350437, -0.8326852647100786, -1.1021601391805258, -1.1929778907431932, 1.9549439684527512, -1.210342094834586, 0.4060144585650524, 1.691010701899478, -0.8750443198147615, 1.160394755522703, 2.275642804498575, -0.052481187252204894, 0.764446349668718, 0.7748214923293414, 0.24170402743498778, 0.28327289936704275, 0.2467195735483266, 0.914032725604146, -0.08601512694460697, 0.9489571859474513, 0.8142978876236726, 0.7883298154110456, -0.32628991344569763, 0.2301082679624488, 1.6341593800247989, -1.6944753689322416, -0.758403852271044, 0.9422713425820108, 0.5407768447682212, -0.4172833249642221, -0.9133540169871017, 1.2975516807100265, 0.5348525441513422, -0.9491627313232666, -0.3285687661985525, 0.7487839314169843, -0.3011044136198415, -0.6231469374589843, -0.46272480238509744, 0.751870774961926, 0.6842338081501783, 0.1857636597163811, 0.8977181310333129, -0.6380029150186659, -0.014892138107339364, -1.4264492976702383, -1.3625157787787476, -0.5037475787792652, -0.7209368299148544, -0.1853579105123794, 0.8853425687953029], \"xaxis\": \"x13\", \"y\": [-0.20288954987522298, 0.47562781170015117, 1.0954645050360055, 0.05142270605075998, 0.7773838232433251, 0.007190802121658992, 0.9330330366472316, 0.25278957453202155, 0.7912842769059294, -1.5080542550000453, -0.8544406084751497, -1.134729595263459, 0.05825979368071219, 0.2146463696921684, 0.04662013326171583, 0.5540938951604478, 0.05337064123212655, 0.4015398892594597, -0.537877282571492, -0.01356767963942102, 1.12291981823085, -0.16991722703743997, -2.1649621368124365, 0.646625372085061, -0.9436215511212397, -0.017092998021010358, -1.6929617303353777, -0.7472908580009684, -0.07448294099397612, -0.8229027954852032, 1.8220565241827829, -0.4711541363054006, -0.3875045445647151, -0.6569686142157253, 0.7332218380745128, -0.5570759097518201, 1.0723471241184808, 0.33430570074168875, -0.9243664465918211, 0.1505965722469187, -1.056428401340786, -1.305043252718549, 0.11578289000731946, 0.4437189810986824, 0.22954717368797098, 0.029304543103711386, -0.39513029151026724, -0.8235530546317273, -1.9523295724970102, -1.177665128287269, -1.0095064617371476, 0.7790840607890945, 0.05894009941627537, -0.5433540023291886, 1.085779479815206, 0.7826441852428289, 1.2150677355363977, -0.9204910295828099, -1.362688844712512, 0.2770998736837296, -0.3225260542372228, -1.0748471038034475, -0.40758303493437886, 0.8829258375427694, 0.06564100695825047, -1.0880140266922238, 0.05593835976329027, -1.1429599994130628, -1.7083542168907964, -0.48180739894069535, 0.39476090460733554, -0.48966789895414564, 0.7684063158809339, -0.5997280018599644, -0.29185382061886356, 1.1365401579715937, 0.6055377918111082, -0.3986381493243074, -0.9435626869936969, -0.7538986282295188, 0.009796039565694662, -0.574232744454487, -0.04360582490458948, 0.5821706968080934, 0.3154086450269751, -1.2217113360268572, 0.4656273186652484, 1.2087959710178389, 1.5239697315533887, -0.9937878298669706, 0.9487735570869901, -0.4087578570843467, -0.16658630197250793, 1.0960447241009474, -0.0028087670297548585, 2.885884320062406, -0.45319803048317137, 0.7145396301239757, -0.5574697507340491, 1.2396881764991705], \"yaxis\": \"y13\"}, {\"line\": {\"color\": \"rgba(128, 128, 128, 1.0)\", \"dash\": \"solid\", \"shape\": \"linear\", \"width\": 1.3}, \"marker\": {\"size\": 2, \"symbol\": \"circle\"}, \"mode\": \"markers\", \"name\": \"D\", \"text\": \"\", \"type\": \"scatter\", \"x\": [-0.918051978935254, -2.7056575029327217, -0.26581756141055396, 2.7780920157639803, -0.8734279386889949, -0.06334899773831265, 1.4821560963767562, 0.3720351753435628, 2.289468082163019, -0.8374384578030118, -2.108703088038587, 0.9788520364174591, 1.4650258305467085, 1.2415652263814414, 1.0310626547555006, -0.3122406935164411, -0.14735613041299925, 0.33275767892759495, -0.1161274919960927, 0.281205976719588, -0.14951869895483794, 0.41174605696281846, 2.354209612658942, 2.092110024373878, -0.844565089723117, -1.5305136905849483, -0.4080953430172473, -0.49831975030647513, 0.532663605513584, 0.16759861208915242, 0.46247832654774845, 0.38741399084499084, -1.8520213138080566, -0.019018730510986254, -1.0113286481308315, -1.0929063112561626, -0.7089062318588992, -0.49640898092235836, -0.9734721463692066, 0.5801554907558394, -0.06540899964125191, -0.6111002896985552, 0.45438818782559776, 0.4785280675226295, 1.2923482368164383, -0.5748394916445265, 0.43943437190379214, -1.4174040567585227, -0.7319800748374122, -0.29265216113961545, -0.36087379702803224, -0.04027675520163823, -0.24063564992242378, -1.2436397165116935, -0.6380650947146708, -1.194083286516507, 0.1779335575301587, -0.5384113135074421, 0.2915091190224508, 0.466796616138699, -0.43114256548016455, 1.2786748208881396, 1.4078719927900933, 0.14674226717423464, -0.029148341361593073, -1.0673227647170362, -0.6376233349993639, -0.17509268696626795, -0.4170870697877158, 0.4159894756560567, -2.208839366952025, 1.1269460290850897, -0.4095692566448082, 0.7856726897159855, -1.490180580048176, -1.617147938156026, 0.4365288533186661, -2.32656190655788, 0.15681159571219597, 0.5391784367802614, -0.5002333680231703, 0.6548667984163916, 0.27970593897368917, -0.7844703375909428, 0.9073102317074612, -1.1835772548443797, -1.1252365576347547, -0.31910636809035, -0.7706391044036293, 1.5932069582471045, -1.4300111814134815, 0.09777836056991747, 0.21906285684508117, -0.025607437932308883, -1.0696693509127029, 0.058516669742657644, -0.3377730316094605, -0.7808950376846182, 0.5148406510673026, -0.6532931427041353], \"xaxis\": \"x14\", \"y\": [-0.20288954987522298, 0.47562781170015117, 1.0954645050360055, 0.05142270605075998, 0.7773838232433251, 0.007190802121658992, 0.9330330366472316, 0.25278957453202155, 0.7912842769059294, -1.5080542550000453, -0.8544406084751497, -1.134729595263459, 0.05825979368071219, 0.2146463696921684, 0.04662013326171583, 0.5540938951604478, 0.05337064123212655, 0.4015398892594597, -0.537877282571492, -0.01356767963942102, 1.12291981823085, -0.16991722703743997, -2.1649621368124365, 0.646625372085061, -0.9436215511212397, -0.017092998021010358, -1.6929617303353777, -0.7472908580009684, -0.07448294099397612, -0.8229027954852032, 1.8220565241827829, -0.4711541363054006, -0.3875045445647151, -0.6569686142157253, 0.7332218380745128, -0.5570759097518201, 1.0723471241184808, 0.33430570074168875, -0.9243664465918211, 0.1505965722469187, -1.056428401340786, -1.305043252718549, 0.11578289000731946, 0.4437189810986824, 0.22954717368797098, 0.029304543103711386, -0.39513029151026724, -0.8235530546317273, -1.9523295724970102, -1.177665128287269, -1.0095064617371476, 0.7790840607890945, 0.05894009941627537, -0.5433540023291886, 1.085779479815206, 0.7826441852428289, 1.2150677355363977, -0.9204910295828099, -1.362688844712512, 0.2770998736837296, -0.3225260542372228, -1.0748471038034475, -0.40758303493437886, 0.8829258375427694, 0.06564100695825047, -1.0880140266922238, 0.05593835976329027, -1.1429599994130628, -1.7083542168907964, -0.48180739894069535, 0.39476090460733554, -0.48966789895414564, 0.7684063158809339, -0.5997280018599644, -0.29185382061886356, 1.1365401579715937, 0.6055377918111082, -0.3986381493243074, -0.9435626869936969, -0.7538986282295188, 0.009796039565694662, -0.574232744454487, -0.04360582490458948, 0.5821706968080934, 0.3154086450269751, -1.2217113360268572, 0.4656273186652484, 1.2087959710178389, 1.5239697315533887, -0.9937878298669706, 0.9487735570869901, -0.4087578570843467, -0.16658630197250793, 1.0960447241009474, -0.0028087670297548585, 2.885884320062406, -0.45319803048317137, 0.7145396301239757, -0.5574697507340491, 1.2396881764991705], \"yaxis\": \"y14\"}, {\"line\": {\"color\": \"rgba(128, 128, 128, 1.0)\", \"dash\": \"solid\", \"shape\": \"linear\", \"width\": 1.3}, \"marker\": {\"size\": 2, \"symbol\": \"circle\"}, \"mode\": \"markers\", \"name\": \"D\", \"text\": \"\", \"type\": \"scatter\", \"x\": [-0.277526268880154, 1.8806378896944345, 0.5375396639187595, -0.23305474120718497, -1.3821896730588017, 1.025259435993224, -0.09718663235788895, -0.8354318558470502, -0.9554132107877621, -0.9980120158071458, -0.7288446678912462, -0.09800589833805058, 0.4142448507363215, 0.8930469136911544, -1.3154328314067614, -1.0787057467905357, -1.4023916791873683, -0.5119184069337409, -1.1088443091663442, -2.0937764404176358, 0.11965814021413287, 0.014535947236977095, -0.9143356475413426, 0.19868604209706775, 0.3579958528661736, 0.21904242410495528, 0.31162477836671676, -0.8998869556253257, 1.6066631635219826, 1.3656132922140805, -1.6598489854498533, -0.5527174648713857, 0.6951101679076586, 0.7516151949165328, 0.7786933724609784, 0.4766867477108337, -0.17144337973890908, 0.23451231613527032, 0.8988743742269301, 0.2911750095516407, 0.29810426701672227, -0.6594490981096367, -0.9656491217788379, -0.8500173835479492, -0.75432673338305, 0.0844725891951118, -0.14184019787176547, 0.2660853672997226, -0.7610129991979636, -0.04117765919514578, -0.9985293461976696, 0.06749302036218557, 1.2554585501336368, 1.1185878363246051, 0.5860708559698183, -1.9131282637858404, 1.2062112575773272, 0.5387575022359602, -1.1381452377237462, 0.1809719774956799, -2.5715021298407965, 0.059962622748691505, 0.07732076913620874, -0.8651373884301342, 0.29346528328831206, 1.5738460269574914, 0.5710476800970452, -0.2281222832467052, 0.4329254522143724, -0.8058356408865905, -1.8283622176542802, 0.012648032752178408, 1.087145802022887, 1.2401656494506434, 1.3606613435368604, 1.9777769083614607, 1.1204220324793175, 2.15724221605289, 0.12412886668282784, -0.912610229607422, -0.11798779858281276, 0.3544154955218318, 1.1336664687547644, -0.34016632606422975, 0.5417409572516666, -1.2090432994150027, -0.42541552008403116, 2.1722996121439175, -0.21381167123162242, -1.8180496867074007, 1.6885450083464077, -0.5574374806984402, 0.760069366299482, -0.18149211511086832, 1.1721397473163495, 0.12434777818730382, 0.6675931694222231, 0.922444871131447, -0.1631368335189949, 0.3537426852288049], \"xaxis\": \"x15\", \"y\": [-0.20288954987522298, 0.47562781170015117, 1.0954645050360055, 0.05142270605075998, 0.7773838232433251, 0.007190802121658992, 0.9330330366472316, 0.25278957453202155, 0.7912842769059294, -1.5080542550000453, -0.8544406084751497, -1.134729595263459, 0.05825979368071219, 0.2146463696921684, 0.04662013326171583, 0.5540938951604478, 0.05337064123212655, 0.4015398892594597, -0.537877282571492, -0.01356767963942102, 1.12291981823085, -0.16991722703743997, -2.1649621368124365, 0.646625372085061, -0.9436215511212397, -0.017092998021010358, -1.6929617303353777, -0.7472908580009684, -0.07448294099397612, -0.8229027954852032, 1.8220565241827829, -0.4711541363054006, -0.3875045445647151, -0.6569686142157253, 0.7332218380745128, -0.5570759097518201, 1.0723471241184808, 0.33430570074168875, -0.9243664465918211, 0.1505965722469187, -1.056428401340786, -1.305043252718549, 0.11578289000731946, 0.4437189810986824, 0.22954717368797098, 0.029304543103711386, -0.39513029151026724, -0.8235530546317273, -1.9523295724970102, -1.177665128287269, -1.0095064617371476, 0.7790840607890945, 0.05894009941627537, -0.5433540023291886, 1.085779479815206, 0.7826441852428289, 1.2150677355363977, -0.9204910295828099, -1.362688844712512, 0.2770998736837296, -0.3225260542372228, -1.0748471038034475, -0.40758303493437886, 0.8829258375427694, 0.06564100695825047, -1.0880140266922238, 0.05593835976329027, -1.1429599994130628, -1.7083542168907964, -0.48180739894069535, 0.39476090460733554, -0.48966789895414564, 0.7684063158809339, -0.5997280018599644, -0.29185382061886356, 1.1365401579715937, 0.6055377918111082, -0.3986381493243074, -0.9435626869936969, -0.7538986282295188, 0.009796039565694662, -0.574232744454487, -0.04360582490458948, 0.5821706968080934, 0.3154086450269751, -1.2217113360268572, 0.4656273186652484, 1.2087959710178389, 1.5239697315533887, -0.9937878298669706, 0.9487735570869901, -0.4087578570843467, -0.16658630197250793, 1.0960447241009474, -0.0028087670297548585, 2.885884320062406, -0.45319803048317137, 0.7145396301239757, -0.5574697507340491, 1.2396881764991705], \"yaxis\": \"y15\"}, {\"histfunc\": \"count\", \"histnorm\": \"\", \"marker\": {\"color\": \"rgba(128, 0, 128, 1.0)\", \"line\": {\"color\": \"#4D5663\", \"width\": 1.3}}, \"name\": \"D\", \"nbinsx\": 10, \"opacity\": 0.8, \"orientation\": \"v\", \"type\": \"histogram\", \"x\": [-0.20288954987522298, 0.47562781170015117, 1.0954645050360055, 0.05142270605075998, 0.7773838232433251, 0.007190802121658992, 0.9330330366472316, 0.25278957453202155, 0.7912842769059294, -1.5080542550000453, -0.8544406084751497, -1.134729595263459, 0.05825979368071219, 0.2146463696921684, 0.04662013326171583, 0.5540938951604478, 0.05337064123212655, 0.4015398892594597, -0.537877282571492, -0.01356767963942102, 1.12291981823085, -0.16991722703743997, -2.1649621368124365, 0.646625372085061, -0.9436215511212397, -0.017092998021010358, -1.6929617303353777, -0.7472908580009684, -0.07448294099397612, -0.8229027954852032, 1.8220565241827829, -0.4711541363054006, -0.3875045445647151, -0.6569686142157253, 0.7332218380745128, -0.5570759097518201, 1.0723471241184808, 0.33430570074168875, -0.9243664465918211, 0.1505965722469187, -1.056428401340786, -1.305043252718549, 0.11578289000731946, 0.4437189810986824, 0.22954717368797098, 0.029304543103711386, -0.39513029151026724, -0.8235530546317273, -1.9523295724970102, -1.177665128287269, -1.0095064617371476, 0.7790840607890945, 0.05894009941627537, -0.5433540023291886, 1.085779479815206, 0.7826441852428289, 1.2150677355363977, -0.9204910295828099, -1.362688844712512, 0.2770998736837296, -0.3225260542372228, -1.0748471038034475, -0.40758303493437886, 0.8829258375427694, 0.06564100695825047, -1.0880140266922238, 0.05593835976329027, -1.1429599994130628, -1.7083542168907964, -0.48180739894069535, 0.39476090460733554, -0.48966789895414564, 0.7684063158809339, -0.5997280018599644, -0.29185382061886356, 1.1365401579715937, 0.6055377918111082, -0.3986381493243074, -0.9435626869936969, -0.7538986282295188, 0.009796039565694662, -0.574232744454487, -0.04360582490458948, 0.5821706968080934, 0.3154086450269751, -1.2217113360268572, 0.4656273186652484, 1.2087959710178389, 1.5239697315533887, -0.9937878298669706, 0.9487735570869901, -0.4087578570843467, -0.16658630197250793, 1.0960447241009474, -0.0028087670297548585, 2.885884320062406, -0.45319803048317137, 0.7145396301239757, -0.5574697507340491, 1.2396881764991705], \"xaxis\": \"x16\", \"yaxis\": \"y16\"}],                        {\"bargap\": 0.02, \"legend\": {\"bgcolor\": \"#F5F6F9\", \"font\": {\"color\": \"#4D5663\"}}, \"paper_bgcolor\": \"#F5F6F9\", \"plot_bgcolor\": \"#F5F6F9\", \"showlegend\": false, \"template\": {\"data\": {\"bar\": [{\"error_x\": {\"color\": \"#2a3f5f\"}, \"error_y\": {\"color\": \"#2a3f5f\"}, \"marker\": {\"line\": {\"color\": \"#E5ECF6\", \"width\": 0.5}}, \"type\": \"bar\"}], \"barpolar\": [{\"marker\": {\"line\": {\"color\": \"#E5ECF6\", \"width\": 0.5}}, \"type\": \"barpolar\"}], \"carpet\": [{\"aaxis\": {\"endlinecolor\": \"#2a3f5f\", \"gridcolor\": \"white\", \"linecolor\": \"white\", \"minorgridcolor\": \"white\", \"startlinecolor\": \"#2a3f5f\"}, \"baxis\": {\"endlinecolor\": \"#2a3f5f\", \"gridcolor\": \"white\", \"linecolor\": \"white\", \"minorgridcolor\": \"white\", \"startlinecolor\": \"#2a3f5f\"}, \"type\": \"carpet\"}], \"choropleth\": [{\"colorbar\": {\"outlinewidth\": 0, \"ticks\": \"\"}, \"type\": \"choropleth\"}], \"contour\": [{\"colorbar\": {\"outlinewidth\": 0, \"ticks\": \"\"}, \"colorscale\": [[0.0, \"#0d0887\"], [0.1111111111111111, \"#46039f\"], [0.2222222222222222, \"#7201a8\"], [0.3333333333333333, \"#9c179e\"], [0.4444444444444444, \"#bd3786\"], [0.5555555555555556, \"#d8576b\"], [0.6666666666666666, \"#ed7953\"], [0.7777777777777778, \"#fb9f3a\"], [0.8888888888888888, \"#fdca26\"], [1.0, \"#f0f921\"]], \"type\": \"contour\"}], \"contourcarpet\": [{\"colorbar\": {\"outlinewidth\": 0, \"ticks\": \"\"}, \"type\": \"contourcarpet\"}], \"heatmap\": [{\"colorbar\": {\"outlinewidth\": 0, \"ticks\": \"\"}, \"colorscale\": [[0.0, \"#0d0887\"], [0.1111111111111111, \"#46039f\"], [0.2222222222222222, \"#7201a8\"], [0.3333333333333333, \"#9c179e\"], [0.4444444444444444, \"#bd3786\"], [0.5555555555555556, \"#d8576b\"], [0.6666666666666666, \"#ed7953\"], [0.7777777777777778, \"#fb9f3a\"], [0.8888888888888888, \"#fdca26\"], [1.0, \"#f0f921\"]], \"type\": \"heatmap\"}], \"heatmapgl\": [{\"colorbar\": {\"outlinewidth\": 0, \"ticks\": \"\"}, \"colorscale\": [[0.0, \"#0d0887\"], [0.1111111111111111, \"#46039f\"], [0.2222222222222222, \"#7201a8\"], [0.3333333333333333, \"#9c179e\"], [0.4444444444444444, \"#bd3786\"], [0.5555555555555556, \"#d8576b\"], [0.6666666666666666, \"#ed7953\"], [0.7777777777777778, \"#fb9f3a\"], [0.8888888888888888, \"#fdca26\"], [1.0, \"#f0f921\"]], \"type\": \"heatmapgl\"}], \"histogram\": [{\"marker\": {\"colorbar\": {\"outlinewidth\": 0, \"ticks\": \"\"}}, \"type\": \"histogram\"}], \"histogram2d\": [{\"colorbar\": {\"outlinewidth\": 0, \"ticks\": \"\"}, \"colorscale\": [[0.0, \"#0d0887\"], [0.1111111111111111, \"#46039f\"], [0.2222222222222222, \"#7201a8\"], [0.3333333333333333, \"#9c179e\"], [0.4444444444444444, \"#bd3786\"], [0.5555555555555556, \"#d8576b\"], [0.6666666666666666, \"#ed7953\"], [0.7777777777777778, \"#fb9f3a\"], [0.8888888888888888, \"#fdca26\"], [1.0, \"#f0f921\"]], \"type\": \"histogram2d\"}], \"histogram2dcontour\": [{\"colorbar\": {\"outlinewidth\": 0, \"ticks\": \"\"}, \"colorscale\": [[0.0, \"#0d0887\"], [0.1111111111111111, \"#46039f\"], [0.2222222222222222, \"#7201a8\"], [0.3333333333333333, \"#9c179e\"], [0.4444444444444444, \"#bd3786\"], [0.5555555555555556, \"#d8576b\"], [0.6666666666666666, \"#ed7953\"], [0.7777777777777778, \"#fb9f3a\"], [0.8888888888888888, \"#fdca26\"], [1.0, \"#f0f921\"]], \"type\": \"histogram2dcontour\"}], \"mesh3d\": [{\"colorbar\": {\"outlinewidth\": 0, \"ticks\": \"\"}, \"type\": \"mesh3d\"}], \"parcoords\": [{\"line\": {\"colorbar\": {\"outlinewidth\": 0, \"ticks\": \"\"}}, \"type\": \"parcoords\"}], \"pie\": [{\"automargin\": true, \"type\": \"pie\"}], \"scatter\": [{\"marker\": {\"colorbar\": {\"outlinewidth\": 0, \"ticks\": \"\"}}, \"type\": \"scatter\"}], \"scatter3d\": [{\"line\": {\"colorbar\": {\"outlinewidth\": 0, \"ticks\": \"\"}}, \"marker\": {\"colorbar\": {\"outlinewidth\": 0, \"ticks\": \"\"}}, \"type\": \"scatter3d\"}], \"scattercarpet\": [{\"marker\": {\"colorbar\": {\"outlinewidth\": 0, \"ticks\": \"\"}}, \"type\": \"scattercarpet\"}], \"scattergeo\": [{\"marker\": {\"colorbar\": {\"outlinewidth\": 0, \"ticks\": \"\"}}, \"type\": \"scattergeo\"}], \"scattergl\": [{\"marker\": {\"colorbar\": {\"outlinewidth\": 0, \"ticks\": \"\"}}, \"type\": \"scattergl\"}], \"scattermapbox\": [{\"marker\": {\"colorbar\": {\"outlinewidth\": 0, \"ticks\": \"\"}}, \"type\": \"scattermapbox\"}], \"scatterpolar\": [{\"marker\": {\"colorbar\": {\"outlinewidth\": 0, \"ticks\": \"\"}}, \"type\": \"scatterpolar\"}], \"scatterpolargl\": [{\"marker\": {\"colorbar\": {\"outlinewidth\": 0, \"ticks\": \"\"}}, \"type\": \"scatterpolargl\"}], \"scatterternary\": [{\"marker\": {\"colorbar\": {\"outlinewidth\": 0, \"ticks\": \"\"}}, \"type\": \"scatterternary\"}], \"surface\": [{\"colorbar\": {\"outlinewidth\": 0, \"ticks\": \"\"}, \"colorscale\": [[0.0, \"#0d0887\"], [0.1111111111111111, \"#46039f\"], [0.2222222222222222, \"#7201a8\"], [0.3333333333333333, \"#9c179e\"], [0.4444444444444444, \"#bd3786\"], [0.5555555555555556, \"#d8576b\"], [0.6666666666666666, \"#ed7953\"], [0.7777777777777778, \"#fb9f3a\"], [0.8888888888888888, \"#fdca26\"], [1.0, \"#f0f921\"]], \"type\": \"surface\"}], \"table\": [{\"cells\": {\"fill\": {\"color\": \"#EBF0F8\"}, \"line\": {\"color\": \"white\"}}, \"header\": {\"fill\": {\"color\": \"#C8D4E3\"}, \"line\": {\"color\": \"white\"}}, \"type\": \"table\"}]}, \"layout\": {\"annotationdefaults\": {\"arrowcolor\": \"#2a3f5f\", \"arrowhead\": 0, \"arrowwidth\": 1}, \"autotypenumbers\": \"strict\", \"coloraxis\": {\"colorbar\": {\"outlinewidth\": 0, \"ticks\": \"\"}}, \"colorscale\": {\"diverging\": [[0, \"#8e0152\"], [0.1, \"#c51b7d\"], [0.2, \"#de77ae\"], [0.3, \"#f1b6da\"], [0.4, \"#fde0ef\"], [0.5, \"#f7f7f7\"], [0.6, \"#e6f5d0\"], [0.7, \"#b8e186\"], [0.8, \"#7fbc41\"], [0.9, \"#4d9221\"], [1, \"#276419\"]], \"sequential\": [[0.0, \"#0d0887\"], [0.1111111111111111, \"#46039f\"], [0.2222222222222222, \"#7201a8\"], [0.3333333333333333, \"#9c179e\"], [0.4444444444444444, \"#bd3786\"], [0.5555555555555556, \"#d8576b\"], [0.6666666666666666, \"#ed7953\"], [0.7777777777777778, \"#fb9f3a\"], [0.8888888888888888, \"#fdca26\"], [1.0, \"#f0f921\"]], \"sequentialminus\": [[0.0, \"#0d0887\"], [0.1111111111111111, \"#46039f\"], [0.2222222222222222, \"#7201a8\"], [0.3333333333333333, \"#9c179e\"], [0.4444444444444444, \"#bd3786\"], [0.5555555555555556, \"#d8576b\"], [0.6666666666666666, \"#ed7953\"], [0.7777777777777778, \"#fb9f3a\"], [0.8888888888888888, \"#fdca26\"], [1.0, \"#f0f921\"]]}, \"colorway\": [\"#636efa\", \"#EF553B\", \"#00cc96\", \"#ab63fa\", \"#FFA15A\", \"#19d3f3\", \"#FF6692\", \"#B6E880\", \"#FF97FF\", \"#FECB52\"], \"font\": {\"color\": \"#2a3f5f\"}, \"geo\": {\"bgcolor\": \"white\", \"lakecolor\": \"white\", \"landcolor\": \"#E5ECF6\", \"showlakes\": true, \"showland\": true, \"subunitcolor\": \"white\"}, \"hoverlabel\": {\"align\": \"left\"}, \"hovermode\": \"closest\", \"mapbox\": {\"style\": \"light\"}, \"paper_bgcolor\": \"white\", \"plot_bgcolor\": \"#E5ECF6\", \"polar\": {\"angularaxis\": {\"gridcolor\": \"white\", \"linecolor\": \"white\", \"ticks\": \"\"}, \"bgcolor\": \"#E5ECF6\", \"radialaxis\": {\"gridcolor\": \"white\", \"linecolor\": \"white\", \"ticks\": \"\"}}, \"scene\": {\"xaxis\": {\"backgroundcolor\": \"#E5ECF6\", \"gridcolor\": \"white\", \"gridwidth\": 2, \"linecolor\": \"white\", \"showbackground\": true, \"ticks\": \"\", \"zerolinecolor\": \"white\"}, \"yaxis\": {\"backgroundcolor\": \"#E5ECF6\", \"gridcolor\": \"white\", \"gridwidth\": 2, \"linecolor\": \"white\", \"showbackground\": true, \"ticks\": \"\", \"zerolinecolor\": \"white\"}, \"zaxis\": {\"backgroundcolor\": \"#E5ECF6\", \"gridcolor\": \"white\", \"gridwidth\": 2, \"linecolor\": \"white\", \"showbackground\": true, \"ticks\": \"\", \"zerolinecolor\": \"white\"}}, \"shapedefaults\": {\"line\": {\"color\": \"#2a3f5f\"}}, \"ternary\": {\"aaxis\": {\"gridcolor\": \"white\", \"linecolor\": \"white\", \"ticks\": \"\"}, \"baxis\": {\"gridcolor\": \"white\", \"linecolor\": \"white\", \"ticks\": \"\"}, \"bgcolor\": \"#E5ECF6\", \"caxis\": {\"gridcolor\": \"white\", \"linecolor\": \"white\", \"ticks\": \"\"}}, \"title\": {\"x\": 0.05}, \"xaxis\": {\"automargin\": true, \"gridcolor\": \"white\", \"linecolor\": \"white\", \"ticks\": \"\", \"title\": {\"standoff\": 15}, \"zerolinecolor\": \"white\", \"zerolinewidth\": 2}, \"yaxis\": {\"automargin\": true, \"gridcolor\": \"white\", \"linecolor\": \"white\", \"ticks\": \"\", \"title\": {\"standoff\": 15}, \"zerolinecolor\": \"white\", \"zerolinewidth\": 2}}}, \"title\": {\"font\": {\"color\": \"#4D5663\"}}, \"xaxis\": {\"anchor\": \"y\", \"domain\": [0.0, 0.2125], \"gridcolor\": \"#E1E5ED\", \"showgrid\": false, \"tickfont\": {\"color\": \"#4D5663\"}, \"title\": {\"font\": {\"color\": \"#4D5663\"}, \"text\": \"\"}, \"zerolinecolor\": \"#E1E5ED\"}, \"xaxis10\": {\"anchor\": \"y10\", \"domain\": [0.2625, 0.475], \"gridcolor\": \"#E1E5ED\", \"showgrid\": false, \"tickfont\": {\"color\": \"#4D5663\"}, \"title\": {\"font\": {\"color\": \"#4D5663\"}, \"text\": \"\"}, \"zerolinecolor\": \"#E1E5ED\"}, \"xaxis11\": {\"anchor\": \"y11\", \"domain\": [0.525, 0.7375], \"gridcolor\": \"#E1E5ED\", \"showgrid\": false, \"tickfont\": {\"color\": \"#4D5663\"}, \"title\": {\"font\": {\"color\": \"#4D5663\"}, \"text\": \"\"}, \"zerolinecolor\": \"#E1E5ED\"}, \"xaxis12\": {\"anchor\": \"y12\", \"domain\": [0.7875, 1.0], \"gridcolor\": \"#E1E5ED\", \"showgrid\": false, \"tickfont\": {\"color\": \"#4D5663\"}, \"title\": {\"font\": {\"color\": \"#4D5663\"}, \"text\": \"\"}, \"zerolinecolor\": \"#E1E5ED\"}, \"xaxis13\": {\"anchor\": \"y13\", \"domain\": [0.0, 0.2125], \"gridcolor\": \"#E1E5ED\", \"showgrid\": false, \"tickfont\": {\"color\": \"#4D5663\"}, \"title\": {\"font\": {\"color\": \"#4D5663\"}, \"text\": \"\"}, \"zerolinecolor\": \"#E1E5ED\"}, \"xaxis14\": {\"anchor\": \"y14\", \"domain\": [0.2625, 0.475], \"gridcolor\": \"#E1E5ED\", \"showgrid\": false, \"tickfont\": {\"color\": \"#4D5663\"}, \"title\": {\"font\": {\"color\": \"#4D5663\"}, \"text\": \"\"}, \"zerolinecolor\": \"#E1E5ED\"}, \"xaxis15\": {\"anchor\": \"y15\", \"domain\": [0.525, 0.7375], \"gridcolor\": \"#E1E5ED\", \"showgrid\": false, \"tickfont\": {\"color\": \"#4D5663\"}, \"title\": {\"font\": {\"color\": \"#4D5663\"}, \"text\": \"\"}, \"zerolinecolor\": \"#E1E5ED\"}, \"xaxis16\": {\"anchor\": \"y16\", \"domain\": [0.7875, 1.0], \"gridcolor\": \"#E1E5ED\", \"showgrid\": false, \"tickfont\": {\"color\": \"#4D5663\"}, \"title\": {\"font\": {\"color\": \"#4D5663\"}, \"text\": \"\"}, \"zerolinecolor\": \"#E1E5ED\"}, \"xaxis2\": {\"anchor\": \"y2\", \"domain\": [0.2625, 0.475], \"gridcolor\": \"#E1E5ED\", \"showgrid\": false, \"tickfont\": {\"color\": \"#4D5663\"}, \"title\": {\"font\": {\"color\": \"#4D5663\"}, \"text\": \"\"}, \"zerolinecolor\": \"#E1E5ED\"}, \"xaxis3\": {\"anchor\": \"y3\", \"domain\": [0.525, 0.7375], \"gridcolor\": \"#E1E5ED\", \"showgrid\": false, \"tickfont\": {\"color\": \"#4D5663\"}, \"title\": {\"font\": {\"color\": \"#4D5663\"}, \"text\": \"\"}, \"zerolinecolor\": \"#E1E5ED\"}, \"xaxis4\": {\"anchor\": \"y4\", \"domain\": [0.7875, 1.0], \"gridcolor\": \"#E1E5ED\", \"showgrid\": false, \"tickfont\": {\"color\": \"#4D5663\"}, \"title\": {\"font\": {\"color\": \"#4D5663\"}, \"text\": \"\"}, \"zerolinecolor\": \"#E1E5ED\"}, \"xaxis5\": {\"anchor\": \"y5\", \"domain\": [0.0, 0.2125], \"gridcolor\": \"#E1E5ED\", \"showgrid\": false, \"tickfont\": {\"color\": \"#4D5663\"}, \"title\": {\"font\": {\"color\": \"#4D5663\"}, \"text\": \"\"}, \"zerolinecolor\": \"#E1E5ED\"}, \"xaxis6\": {\"anchor\": \"y6\", \"domain\": [0.2625, 0.475], \"gridcolor\": \"#E1E5ED\", \"showgrid\": false, \"tickfont\": {\"color\": \"#4D5663\"}, \"title\": {\"font\": {\"color\": \"#4D5663\"}, \"text\": \"\"}, \"zerolinecolor\": \"#E1E5ED\"}, \"xaxis7\": {\"anchor\": \"y7\", \"domain\": [0.525, 0.7375], \"gridcolor\": \"#E1E5ED\", \"showgrid\": false, \"tickfont\": {\"color\": \"#4D5663\"}, \"title\": {\"font\": {\"color\": \"#4D5663\"}, \"text\": \"\"}, \"zerolinecolor\": \"#E1E5ED\"}, \"xaxis8\": {\"anchor\": \"y8\", \"domain\": [0.7875, 1.0], \"gridcolor\": \"#E1E5ED\", \"showgrid\": false, \"tickfont\": {\"color\": \"#4D5663\"}, \"title\": {\"font\": {\"color\": \"#4D5663\"}, \"text\": \"\"}, \"zerolinecolor\": \"#E1E5ED\"}, \"xaxis9\": {\"anchor\": \"y9\", \"domain\": [0.0, 0.2125], \"gridcolor\": \"#E1E5ED\", \"showgrid\": false, \"tickfont\": {\"color\": \"#4D5663\"}, \"title\": {\"font\": {\"color\": \"#4D5663\"}, \"text\": \"\"}, \"zerolinecolor\": \"#E1E5ED\"}, \"yaxis\": {\"anchor\": \"x\", \"domain\": [0.8025, 1.0], \"gridcolor\": \"#E1E5ED\", \"showgrid\": false, \"tickfont\": {\"color\": \"#4D5663\"}, \"title\": {\"font\": {\"color\": \"#4D5663\"}, \"text\": \"\"}, \"zerolinecolor\": \"#E1E5ED\"}, \"yaxis10\": {\"anchor\": \"x10\", \"domain\": [0.2675, 0.465], \"gridcolor\": \"#E1E5ED\", \"showgrid\": false, \"tickfont\": {\"color\": \"#4D5663\"}, \"title\": {\"font\": {\"color\": \"#4D5663\"}, \"text\": \"\"}, \"zerolinecolor\": \"#E1E5ED\"}, \"yaxis11\": {\"anchor\": \"x11\", \"domain\": [0.2675, 0.465], \"gridcolor\": \"#E1E5ED\", \"showgrid\": false, \"tickfont\": {\"color\": \"#4D5663\"}, \"title\": {\"font\": {\"color\": \"#4D5663\"}, \"text\": \"\"}, \"zerolinecolor\": \"#E1E5ED\"}, \"yaxis12\": {\"anchor\": \"x12\", \"domain\": [0.2675, 0.465], \"gridcolor\": \"#E1E5ED\", \"showgrid\": false, \"tickfont\": {\"color\": \"#4D5663\"}, \"title\": {\"font\": {\"color\": \"#4D5663\"}, \"text\": \"\"}, \"zerolinecolor\": \"#E1E5ED\"}, \"yaxis13\": {\"anchor\": \"x13\", \"domain\": [0.0, 0.1975], \"gridcolor\": \"#E1E5ED\", \"showgrid\": false, \"tickfont\": {\"color\": \"#4D5663\"}, \"title\": {\"font\": {\"color\": \"#4D5663\"}, \"text\": \"\"}, \"zerolinecolor\": \"#E1E5ED\"}, \"yaxis14\": {\"anchor\": \"x14\", \"domain\": [0.0, 0.1975], \"gridcolor\": \"#E1E5ED\", \"showgrid\": false, \"tickfont\": {\"color\": \"#4D5663\"}, \"title\": {\"font\": {\"color\": \"#4D5663\"}, \"text\": \"\"}, \"zerolinecolor\": \"#E1E5ED\"}, \"yaxis15\": {\"anchor\": \"x15\", \"domain\": [0.0, 0.1975], \"gridcolor\": \"#E1E5ED\", \"showgrid\": false, \"tickfont\": {\"color\": \"#4D5663\"}, \"title\": {\"font\": {\"color\": \"#4D5663\"}, \"text\": \"\"}, \"zerolinecolor\": \"#E1E5ED\"}, \"yaxis16\": {\"anchor\": \"x16\", \"domain\": [0.0, 0.1975], \"gridcolor\": \"#E1E5ED\", \"showgrid\": false, \"tickfont\": {\"color\": \"#4D5663\"}, \"title\": {\"font\": {\"color\": \"#4D5663\"}, \"text\": \"\"}, \"zerolinecolor\": \"#E1E5ED\"}, \"yaxis2\": {\"anchor\": \"x2\", \"domain\": [0.8025, 1.0], \"gridcolor\": \"#E1E5ED\", \"showgrid\": false, \"tickfont\": {\"color\": \"#4D5663\"}, \"title\": {\"font\": {\"color\": \"#4D5663\"}, \"text\": \"\"}, \"zerolinecolor\": \"#E1E5ED\"}, \"yaxis3\": {\"anchor\": \"x3\", \"domain\": [0.8025, 1.0], \"gridcolor\": \"#E1E5ED\", \"showgrid\": false, \"tickfont\": {\"color\": \"#4D5663\"}, \"title\": {\"font\": {\"color\": \"#4D5663\"}, \"text\": \"\"}, \"zerolinecolor\": \"#E1E5ED\"}, \"yaxis4\": {\"anchor\": \"x4\", \"domain\": [0.8025, 1.0], \"gridcolor\": \"#E1E5ED\", \"showgrid\": false, \"tickfont\": {\"color\": \"#4D5663\"}, \"title\": {\"font\": {\"color\": \"#4D5663\"}, \"text\": \"\"}, \"zerolinecolor\": \"#E1E5ED\"}, \"yaxis5\": {\"anchor\": \"x5\", \"domain\": [0.535, 0.7325], \"gridcolor\": \"#E1E5ED\", \"showgrid\": false, \"tickfont\": {\"color\": \"#4D5663\"}, \"title\": {\"font\": {\"color\": \"#4D5663\"}, \"text\": \"\"}, \"zerolinecolor\": \"#E1E5ED\"}, \"yaxis6\": {\"anchor\": \"x6\", \"domain\": [0.535, 0.7325], \"gridcolor\": \"#E1E5ED\", \"showgrid\": false, \"tickfont\": {\"color\": \"#4D5663\"}, \"title\": {\"font\": {\"color\": \"#4D5663\"}, \"text\": \"\"}, \"zerolinecolor\": \"#E1E5ED\"}, \"yaxis7\": {\"anchor\": \"x7\", \"domain\": [0.535, 0.7325], \"gridcolor\": \"#E1E5ED\", \"showgrid\": false, \"tickfont\": {\"color\": \"#4D5663\"}, \"title\": {\"font\": {\"color\": \"#4D5663\"}, \"text\": \"\"}, \"zerolinecolor\": \"#E1E5ED\"}, \"yaxis8\": {\"anchor\": \"x8\", \"domain\": [0.535, 0.7325], \"gridcolor\": \"#E1E5ED\", \"showgrid\": false, \"tickfont\": {\"color\": \"#4D5663\"}, \"title\": {\"font\": {\"color\": \"#4D5663\"}, \"text\": \"\"}, \"zerolinecolor\": \"#E1E5ED\"}, \"yaxis9\": {\"anchor\": \"x9\", \"domain\": [0.2675, 0.465], \"gridcolor\": \"#E1E5ED\", \"showgrid\": false, \"tickfont\": {\"color\": \"#4D5663\"}, \"title\": {\"font\": {\"color\": \"#4D5663\"}, \"text\": \"\"}, \"zerolinecolor\": \"#E1E5ED\"}},                        {\"showLink\": true, \"linkText\": \"Export to plot.ly\", \"plotlyServerURL\": \"https://plot.ly\", \"responsive\": true}                    ).then(function(){\n",
       "                            \n",
       "var gd = document.getElementById('7ee82f75-b30f-4786-8202-02e3cd941be7');\n",
       "var x = new MutationObserver(function (mutations, observer) {{\n",
       "        var display = window.getComputedStyle(gd).display;\n",
       "        if (!display || display === 'none') {{\n",
       "            console.log([gd, 'removed!']);\n",
       "            Plotly.purge(gd);\n",
       "            observer.disconnect();\n",
       "        }}\n",
       "}});\n",
       "\n",
       "// Listen for the removal of the full notebook cells\n",
       "var notebookContainer = gd.closest('#notebook-container');\n",
       "if (notebookContainer) {{\n",
       "    x.observe(notebookContainer, {childList: true});\n",
       "}}\n",
       "\n",
       "// Listen for the clearing of the current output cell\n",
       "var outputEl = gd.closest('.output');\n",
       "if (outputEl) {{\n",
       "    x.observe(outputEl, {childList: true});\n",
       "}}\n",
       "\n",
       "                        })                };                });            </script>        </div>"
      ]
     },
     "metadata": {},
     "output_type": "display_data"
    }
   ],
   "source": [
    "df.scatter_matrix()"
   ]
  },
  {
   "cell_type": "code",
   "execution_count": null,
   "metadata": {},
   "outputs": [],
   "source": []
  }
 ],
 "metadata": {
  "kernelspec": {
   "display_name": "Python 3",
   "language": "python",
   "name": "python3"
  },
  "language_info": {
   "codemirror_mode": {
    "name": "ipython",
    "version": 3
   },
   "file_extension": ".py",
   "mimetype": "text/x-python",
   "name": "python",
   "nbconvert_exporter": "python",
   "pygments_lexer": "ipython3",
   "version": "3.7.9"
  }
 },
 "nbformat": 4,
 "nbformat_minor": 1
}
